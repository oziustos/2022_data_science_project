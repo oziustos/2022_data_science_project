{
 "cells": [
  {
   "cell_type": "markdown",
   "id": "e35a870f",
   "metadata": {},
   "source": [
    "# Python ile Veri Bİlimine Giriş Dersinin Projesi\n",
    "## Oğuzhan Demir"
   ]
  },
  {
   "cell_type": "code",
   "execution_count": 257,
   "id": "be51a700",
   "metadata": {},
   "outputs": [],
   "source": [
    "#Gerekli kütüphaneler ve veri seti projeye dahil ediliyor\n",
    "import numpy as np\n",
    "import pandas as pd\n",
    "import matplotlib.pyplot as plt\n",
    "import seaborn as sns\n",
    "import researchpy as rp\n",
    "df = pd.read_spss(\"1ResearchProjectData.sav\")"
   ]
  },
  {
   "cell_type": "markdown",
   "id": "58b40f55",
   "metadata": {},
   "source": [
    "## Veri Setini Tanıyalım\n",
    "* Veri setinin amacı orta okul çocuklarına matematik öğretirken hangi yaklaşımın daha iyi olduğnu ölçmek.\n",
    "* İki tane yaklaşım bulunmakta: Birisi geleneksel denebilecek Wesson'ın yaklaşımı; diğeri ise daha interaktif olan Ruger ve Smith'in yaklaşımı"
   ]
  },
  {
   "cell_type": "code",
   "execution_count": 258,
   "id": "e5fd0476",
   "metadata": {},
   "outputs": [
    {
     "name": "stdout",
     "output_type": "stream",
     "text": [
      "<class 'pandas.core.frame.DataFrame'>\n",
      "RangeIndex: 217 entries, 0 to 216\n",
      "Data columns (total 7 columns):\n",
      " #   Column    Non-Null Count  Dtype   \n",
      "---  ------    --------------  -----   \n",
      " 0   Student   216 non-null    float64 \n",
      " 1   Teacher   216 non-null    category\n",
      " 2   Gender    216 non-null    category\n",
      " 3   Ethnic    216 non-null    category\n",
      " 4   Freeredu  216 non-null    category\n",
      " 5   Score     216 non-null    float64 \n",
      " 6   wesson    217 non-null    category\n",
      "dtypes: category(5), float64(2)\n",
      "memory usage: 5.3 KB\n",
      "     Student Teacher  Gender            Ethnic    Freeredu  Score       wesson\n",
      "196    197.0  Wesson  Female  African-American  Free lunch   83.0       Wesson\n",
      "77      78.0   Smith    Male  African-American  Paid lunch   72.0  Ruger_Smith\n",
      "165    166.0  Wesson  Female          Hispanic  Free lunch   76.0       Wesson\n",
      "89      90.0   Smith    Male  African-American  Paid lunch   80.0  Ruger_Smith\n",
      "88      89.0   Smith  Female             Asian  Paid lunch   85.0  Ruger_Smith\n"
     ]
    }
   ],
   "source": [
    "df.info()# Veri seti hakkında bilgi alıyoruz\n",
    "print(df.sample(5)) # 5 tane random örneğe bakıyoruz"
   ]
  },
  {
   "cell_type": "markdown",
   "id": "1522811e",
   "metadata": {},
   "source": [
    "## Veri Setini Düzenleyelim"
   ]
  },
  {
   "cell_type": "code",
   "execution_count": 259,
   "id": "07a2bbb8",
   "metadata": {},
   "outputs": [
    {
     "data": {
      "text/plain": [
       "True"
      ]
     },
     "execution_count": 259,
     "metadata": {},
     "output_type": "execute_result"
    }
   ],
   "source": [
    "df.isnull().values.any()# Veri setinde null veri var mı diye bakıyoruz"
   ]
  },
  {
   "cell_type": "code",
   "execution_count": 260,
   "id": "636cbc1f",
   "metadata": {},
   "outputs": [
    {
     "data": {
      "text/plain": [
       "Student     1\n",
       "Teacher     1\n",
       "Gender      1\n",
       "Ethnic      1\n",
       "Freeredu    1\n",
       "Score       1\n",
       "wesson      0\n",
       "dtype: int64"
      ]
     },
     "execution_count": 260,
     "metadata": {},
     "output_type": "execute_result"
    }
   ],
   "source": [
    "df.isnull().sum()"
   ]
  },
  {
   "cell_type": "code",
   "execution_count": 261,
   "id": "dba339b6",
   "metadata": {},
   "outputs": [],
   "source": [
    "df.dropna(inplace = True)# Bir tane Null olduğu için başka bir işlem yapmadan direkt verisetinden çıkarıyoruz "
   ]
  },
  {
   "cell_type": "code",
   "execution_count": 262,
   "id": "3cdcf73e",
   "metadata": {},
   "outputs": [
    {
     "data": {
      "text/plain": [
       "False"
      ]
     },
     "execution_count": 262,
     "metadata": {},
     "output_type": "execute_result"
    }
   ],
   "source": [
    "df.isnull().values.any()"
   ]
  },
  {
   "cell_type": "code",
   "execution_count": 263,
   "id": "ea2d60e9",
   "metadata": {},
   "outputs": [
    {
     "data": {
      "text/plain": [
       "Student     0\n",
       "Teacher     0\n",
       "Gender      0\n",
       "Ethnic      0\n",
       "Freeredu    0\n",
       "Score       0\n",
       "wesson      0\n",
       "dtype: int64"
      ]
     },
     "execution_count": 263,
     "metadata": {},
     "output_type": "execute_result"
    }
   ],
   "source": [
    "df.isnull().sum()"
   ]
  },
  {
   "cell_type": "code",
   "execution_count": 264,
   "id": "a1dd79ea",
   "metadata": {},
   "outputs": [
    {
     "data": {
      "text/plain": [
       "0"
      ]
     },
     "execution_count": 264,
     "metadata": {},
     "output_type": "execute_result"
    }
   ],
   "source": [
    "df.duplicated().sum() # Kopyalanmış veri var mı diye bakıyoruz"
   ]
  },
  {
   "cell_type": "code",
   "execution_count": 265,
   "id": "ed619b54",
   "metadata": {},
   "outputs": [
    {
     "data": {
      "text/plain": [
       "dtype('int32')"
      ]
     },
     "execution_count": 265,
     "metadata": {},
     "output_type": "execute_result"
    }
   ],
   "source": [
    "df = df.astype({\"Student\": int}, errors='raise') # Student sütununu floatdan integera çeviriyoruz\n",
    "df.Student.dtype"
   ]
  },
  {
   "cell_type": "code",
   "execution_count": 266,
   "id": "ca73c529",
   "metadata": {},
   "outputs": [],
   "source": [
    "#Burada daha anlaşılır olması için wesson sütunu yerine Method adında kendi sütunumuzu ekliyoruz\n",
    "df['Method'] = df['wesson'].apply(lambda x: 'Standard' if 'Ruger_Smith' in x else 'Traditional')\n",
    "df.drop(['wesson'], axis=1, inplace = True)"
   ]
  },
  {
   "cell_type": "code",
   "execution_count": 267,
   "id": "fb763a71",
   "metadata": {},
   "outputs": [
    {
     "data": {
      "text/plain": [
       "Standard       140\n",
       "Traditional     76\n",
       "Name: Method, dtype: int64"
      ]
     },
     "execution_count": 267,
     "metadata": {},
     "output_type": "execute_result"
    }
   ],
   "source": [
    "df.Method.value_counts()"
   ]
  },
  {
   "cell_type": "code",
   "execution_count": 268,
   "id": "ce36cc23",
   "metadata": {},
   "outputs": [
    {
     "name": "stdout",
     "output_type": "stream",
     "text": [
      "<class 'pandas.core.frame.DataFrame'>\n",
      "Int64Index: 216 entries, 0 to 215\n",
      "Data columns (total 7 columns):\n",
      " #   Column    Non-Null Count  Dtype   \n",
      "---  ------    --------------  -----   \n",
      " 0   Student   216 non-null    int32   \n",
      " 1   Teacher   216 non-null    category\n",
      " 2   Gender    216 non-null    category\n",
      " 3   Ethnic    216 non-null    category\n",
      " 4   Freeredu  216 non-null    category\n",
      " 5   Score     216 non-null    float64 \n",
      " 6   Method    216 non-null    category\n",
      "dtypes: category(5), float64(1), int32(1)\n",
      "memory usage: 6.0 KB\n"
     ]
    }
   ],
   "source": [
    "#Ardından bir daha verisetine bakış atıyoruz\n",
    "df.info()"
   ]
  },
  {
   "cell_type": "code",
   "execution_count": 269,
   "id": "bb56f605",
   "metadata": {},
   "outputs": [
    {
     "data": {
      "text/html": [
       "<div>\n",
       "<style scoped>\n",
       "    .dataframe tbody tr th:only-of-type {\n",
       "        vertical-align: middle;\n",
       "    }\n",
       "\n",
       "    .dataframe tbody tr th {\n",
       "        vertical-align: top;\n",
       "    }\n",
       "\n",
       "    .dataframe thead th {\n",
       "        text-align: right;\n",
       "    }\n",
       "</style>\n",
       "<table border=\"1\" class=\"dataframe\">\n",
       "  <thead>\n",
       "    <tr style=\"text-align: right;\">\n",
       "      <th></th>\n",
       "      <th>Student</th>\n",
       "      <th>Teacher</th>\n",
       "      <th>Gender</th>\n",
       "      <th>Ethnic</th>\n",
       "      <th>Freeredu</th>\n",
       "      <th>Score</th>\n",
       "      <th>Method</th>\n",
       "    </tr>\n",
       "  </thead>\n",
       "  <tbody>\n",
       "    <tr>\n",
       "      <th>59</th>\n",
       "      <td>60</td>\n",
       "      <td>Ruger</td>\n",
       "      <td>Male</td>\n",
       "      <td>Hispanic</td>\n",
       "      <td>Paid lunch</td>\n",
       "      <td>54.0</td>\n",
       "      <td>Standard</td>\n",
       "    </tr>\n",
       "    <tr>\n",
       "      <th>110</th>\n",
       "      <td>111</td>\n",
       "      <td>Smith</td>\n",
       "      <td>Female</td>\n",
       "      <td>Asian</td>\n",
       "      <td>Paid lunch</td>\n",
       "      <td>48.0</td>\n",
       "      <td>Standard</td>\n",
       "    </tr>\n",
       "    <tr>\n",
       "      <th>13</th>\n",
       "      <td>14</td>\n",
       "      <td>Ruger</td>\n",
       "      <td>Male</td>\n",
       "      <td>Caucasian</td>\n",
       "      <td>Free lunch</td>\n",
       "      <td>48.0</td>\n",
       "      <td>Standard</td>\n",
       "    </tr>\n",
       "    <tr>\n",
       "      <th>138</th>\n",
       "      <td>139</td>\n",
       "      <td>Smith</td>\n",
       "      <td>Female</td>\n",
       "      <td>Asian</td>\n",
       "      <td>Paid lunch</td>\n",
       "      <td>71.0</td>\n",
       "      <td>Standard</td>\n",
       "    </tr>\n",
       "    <tr>\n",
       "      <th>134</th>\n",
       "      <td>135</td>\n",
       "      <td>Smith</td>\n",
       "      <td>Male</td>\n",
       "      <td>Hispanic</td>\n",
       "      <td>Paid lunch</td>\n",
       "      <td>82.0</td>\n",
       "      <td>Standard</td>\n",
       "    </tr>\n",
       "  </tbody>\n",
       "</table>\n",
       "</div>"
      ],
      "text/plain": [
       "     Student Teacher  Gender     Ethnic    Freeredu  Score    Method\n",
       "59        60   Ruger    Male   Hispanic  Paid lunch   54.0  Standard\n",
       "110      111   Smith  Female      Asian  Paid lunch   48.0  Standard\n",
       "13        14   Ruger    Male  Caucasian  Free lunch   48.0  Standard\n",
       "138      139   Smith  Female      Asian  Paid lunch   71.0  Standard\n",
       "134      135   Smith    Male   Hispanic  Paid lunch   82.0  Standard"
      ]
     },
     "execution_count": 269,
     "metadata": {},
     "output_type": "execute_result"
    }
   ],
   "source": [
    "df.sample(5)"
   ]
  },
  {
   "cell_type": "markdown",
   "id": "0ae26d69",
   "metadata": {},
   "source": [
    "## Bazı Detaylara Bakış"
   ]
  },
  {
   "cell_type": "code",
   "execution_count": 112,
   "id": "cf90f81d",
   "metadata": {},
   "outputs": [
    {
     "data": {
      "text/html": [
       "<div>\n",
       "<style scoped>\n",
       "    .dataframe tbody tr th:only-of-type {\n",
       "        vertical-align: middle;\n",
       "    }\n",
       "\n",
       "    .dataframe tbody tr th {\n",
       "        vertical-align: top;\n",
       "    }\n",
       "\n",
       "    .dataframe thead th {\n",
       "        text-align: right;\n",
       "    }\n",
       "</style>\n",
       "<table border=\"1\" class=\"dataframe\">\n",
       "  <thead>\n",
       "    <tr style=\"text-align: right;\">\n",
       "      <th></th>\n",
       "      <th>Student</th>\n",
       "      <th>Score</th>\n",
       "    </tr>\n",
       "  </thead>\n",
       "  <tbody>\n",
       "    <tr>\n",
       "      <th>count</th>\n",
       "      <td>216.000</td>\n",
       "      <td>216.000000</td>\n",
       "    </tr>\n",
       "    <tr>\n",
       "      <th>mean</th>\n",
       "      <td>108.500</td>\n",
       "      <td>65.273148</td>\n",
       "    </tr>\n",
       "    <tr>\n",
       "      <th>std</th>\n",
       "      <td>62.498</td>\n",
       "      <td>16.361453</td>\n",
       "    </tr>\n",
       "    <tr>\n",
       "      <th>min</th>\n",
       "      <td>1.000</td>\n",
       "      <td>30.000000</td>\n",
       "    </tr>\n",
       "    <tr>\n",
       "      <th>25%</th>\n",
       "      <td>54.750</td>\n",
       "      <td>53.000000</td>\n",
       "    </tr>\n",
       "    <tr>\n",
       "      <th>50%</th>\n",
       "      <td>108.500</td>\n",
       "      <td>65.000000</td>\n",
       "    </tr>\n",
       "    <tr>\n",
       "      <th>75%</th>\n",
       "      <td>162.250</td>\n",
       "      <td>79.000000</td>\n",
       "    </tr>\n",
       "    <tr>\n",
       "      <th>max</th>\n",
       "      <td>216.000</td>\n",
       "      <td>95.000000</td>\n",
       "    </tr>\n",
       "  </tbody>\n",
       "</table>\n",
       "</div>"
      ],
      "text/plain": [
       "       Student       Score\n",
       "count  216.000  216.000000\n",
       "mean   108.500   65.273148\n",
       "std     62.498   16.361453\n",
       "min      1.000   30.000000\n",
       "25%     54.750   53.000000\n",
       "50%    108.500   65.000000\n",
       "75%    162.250   79.000000\n",
       "max    216.000   95.000000"
      ]
     },
     "execution_count": 112,
     "metadata": {},
     "output_type": "execute_result"
    }
   ],
   "source": [
    "#Veri setini tanımlıyoruz\n",
    "df.describe()"
   ]
  },
  {
   "cell_type": "code",
   "execution_count": 15,
   "id": "ae9f5888",
   "metadata": {},
   "outputs": [
    {
     "data": {
      "text/html": [
       "<div>\n",
       "<style scoped>\n",
       "    .dataframe tbody tr th:only-of-type {\n",
       "        vertical-align: middle;\n",
       "    }\n",
       "\n",
       "    .dataframe tbody tr th {\n",
       "        vertical-align: top;\n",
       "    }\n",
       "\n",
       "    .dataframe thead th {\n",
       "        text-align: right;\n",
       "    }\n",
       "</style>\n",
       "<table border=\"1\" class=\"dataframe\">\n",
       "  <thead>\n",
       "    <tr style=\"text-align: right;\">\n",
       "      <th></th>\n",
       "      <th>Variable</th>\n",
       "      <th>Outcome</th>\n",
       "      <th>Count</th>\n",
       "      <th>Percent</th>\n",
       "    </tr>\n",
       "  </thead>\n",
       "  <tbody>\n",
       "    <tr>\n",
       "      <th>0</th>\n",
       "      <td>Teacher</td>\n",
       "      <td>Wesson</td>\n",
       "      <td>76</td>\n",
       "      <td>35.19</td>\n",
       "    </tr>\n",
       "    <tr>\n",
       "      <th>1</th>\n",
       "      <td></td>\n",
       "      <td>Ruger</td>\n",
       "      <td>71</td>\n",
       "      <td>32.87</td>\n",
       "    </tr>\n",
       "    <tr>\n",
       "      <th>2</th>\n",
       "      <td></td>\n",
       "      <td>Smith</td>\n",
       "      <td>69</td>\n",
       "      <td>31.94</td>\n",
       "    </tr>\n",
       "    <tr>\n",
       "      <th>3</th>\n",
       "      <td>Gender</td>\n",
       "      <td>Male</td>\n",
       "      <td>120</td>\n",
       "      <td>55.56</td>\n",
       "    </tr>\n",
       "    <tr>\n",
       "      <th>4</th>\n",
       "      <td></td>\n",
       "      <td>Female</td>\n",
       "      <td>96</td>\n",
       "      <td>44.44</td>\n",
       "    </tr>\n",
       "    <tr>\n",
       "      <th>5</th>\n",
       "      <td>Ethnic</td>\n",
       "      <td>Hispanic</td>\n",
       "      <td>66</td>\n",
       "      <td>30.56</td>\n",
       "    </tr>\n",
       "    <tr>\n",
       "      <th>6</th>\n",
       "      <td></td>\n",
       "      <td>Asian</td>\n",
       "      <td>53</td>\n",
       "      <td>24.54</td>\n",
       "    </tr>\n",
       "    <tr>\n",
       "      <th>7</th>\n",
       "      <td></td>\n",
       "      <td>African-American</td>\n",
       "      <td>52</td>\n",
       "      <td>24.07</td>\n",
       "    </tr>\n",
       "    <tr>\n",
       "      <th>8</th>\n",
       "      <td></td>\n",
       "      <td>Caucasian</td>\n",
       "      <td>45</td>\n",
       "      <td>20.83</td>\n",
       "    </tr>\n",
       "    <tr>\n",
       "      <th>9</th>\n",
       "      <td>Freeredu</td>\n",
       "      <td>Paid lunch</td>\n",
       "      <td>112</td>\n",
       "      <td>51.85</td>\n",
       "    </tr>\n",
       "    <tr>\n",
       "      <th>10</th>\n",
       "      <td></td>\n",
       "      <td>Free lunch</td>\n",
       "      <td>104</td>\n",
       "      <td>48.15</td>\n",
       "    </tr>\n",
       "  </tbody>\n",
       "</table>\n",
       "</div>"
      ],
      "text/plain": [
       "    Variable           Outcome  Count  Percent\n",
       "0    Teacher            Wesson     76    35.19\n",
       "1                        Ruger     71    32.87\n",
       "2                        Smith     69    31.94\n",
       "3     Gender              Male    120    55.56\n",
       "4                       Female     96    44.44\n",
       "5     Ethnic          Hispanic     66    30.56\n",
       "6                        Asian     53    24.54\n",
       "7             African-American     52    24.07\n",
       "8                    Caucasian     45    20.83\n",
       "9   Freeredu        Paid lunch    112    51.85\n",
       "10                  Free lunch    104    48.15"
      ]
     },
     "execution_count": 15,
     "metadata": {},
     "output_type": "execute_result"
    }
   ],
   "source": [
    "#Kategorik değişkenlerin dağılımına bakıyoruz\n",
    "#Genel olarak dengeli dağıldığı gözlemleniyor\n",
    "rp.summary_cat(df[[\"Teacher\",\"Gender\",\"Ethnic\",\"Freeredu\"]])"
   ]
  },
  {
   "cell_type": "code",
   "execution_count": 16,
   "id": "83e8b20a",
   "metadata": {},
   "outputs": [
    {
     "name": "stdout",
     "output_type": "stream",
     "text": [
      "\n",
      "\n"
     ]
    },
    {
     "data": {
      "text/html": [
       "<div>\n",
       "<style scoped>\n",
       "    .dataframe tbody tr th:only-of-type {\n",
       "        vertical-align: middle;\n",
       "    }\n",
       "\n",
       "    .dataframe tbody tr th {\n",
       "        vertical-align: top;\n",
       "    }\n",
       "\n",
       "    .dataframe thead th {\n",
       "        text-align: right;\n",
       "    }\n",
       "</style>\n",
       "<table border=\"1\" class=\"dataframe\">\n",
       "  <thead>\n",
       "    <tr style=\"text-align: right;\">\n",
       "      <th></th>\n",
       "      <th>Variable</th>\n",
       "      <th>N</th>\n",
       "      <th>Mean</th>\n",
       "      <th>SD</th>\n",
       "      <th>SE</th>\n",
       "      <th>95% Conf.</th>\n",
       "      <th>Interval</th>\n",
       "    </tr>\n",
       "  </thead>\n",
       "  <tbody>\n",
       "    <tr>\n",
       "      <th>0</th>\n",
       "      <td>Score</td>\n",
       "      <td>216.0</td>\n",
       "      <td>65.2731</td>\n",
       "      <td>16.3615</td>\n",
       "      <td>1.1133</td>\n",
       "      <td>63.0789</td>\n",
       "      <td>67.4674</td>\n",
       "    </tr>\n",
       "  </tbody>\n",
       "</table>\n",
       "</div>"
      ],
      "text/plain": [
       "  Variable      N     Mean       SD      SE  95% Conf.  Interval\n",
       "0    Score  216.0  65.2731  16.3615  1.1133    63.0789   67.4674"
      ]
     },
     "execution_count": 16,
     "metadata": {},
     "output_type": "execute_result"
    }
   ],
   "source": [
    "#eleman sayısı, ortalama ve standart sapma gibi verlere bakış\n",
    "rp.summary_cont(df[[\"Score\"]])"
   ]
  },
  {
   "cell_type": "code",
   "execution_count": 17,
   "id": "63369350",
   "metadata": {},
   "outputs": [
    {
     "data": {
      "text/plain": [
       "Gender\n",
       "Female    67.656250\n",
       "Male      63.366667\n",
       "Name: Score, dtype: float64"
      ]
     },
     "execution_count": 17,
     "metadata": {},
     "output_type": "execute_result"
    }
   ],
   "source": [
    "df.groupby('Gender')['Score'].mean() # Cinsiyete göre ortalamanın pek fazla değişmediği gözlemleniyor"
   ]
  },
  {
   "cell_type": "code",
   "execution_count": 18,
   "id": "60516852",
   "metadata": {},
   "outputs": [
    {
     "data": {
      "image/png": "[encoded data removed]",
      "text/plain": [
       "<Figure size 432x288 with 1 Axes>"
      ]
     },
     "metadata": {
      "needs_background": "light"
     },
     "output_type": "display_data"
    }
   ],
   "source": [
    "sns.barplot(data = df, x = 'Gender', y = 'Score', ci = None);"
   ]
  },
  {
   "cell_type": "code",
   "execution_count": 19,
   "id": "433ec1d3",
   "metadata": {},
   "outputs": [
    {
     "data": {
      "text/plain": [
       "Ethnic\n",
       "African-American    66.230769\n",
       "Asian               65.698113\n",
       "Caucasian           64.333333\n",
       "Hispanic            64.818182\n",
       "Name: Score, dtype: float64"
      ]
     },
     "execution_count": 19,
     "metadata": {},
     "output_type": "execute_result"
    }
   ],
   "source": [
    "df.groupby('Ethnic')['Score'].mean() #Etnik kökene göre ortalamanın pek fazla etkilenmdiği gözlemleniyor"
   ]
  },
  {
   "cell_type": "code",
   "execution_count": 20,
   "id": "a58fc228",
   "metadata": {},
   "outputs": [
    {
     "data": {
      "image/png": "[encoded data removed]",
      "text/plain": [
       "<Figure size 432x288 with 1 Axes>"
      ]
     },
     "metadata": {
      "needs_background": "light"
     },
     "output_type": "display_data"
    }
   ],
   "source": [
    "sns.barplot(data = df, x = 'Ethnic', y = 'Score', ci = None);"
   ]
  },
  {
   "cell_type": "code",
   "execution_count": 21,
   "id": "3c18e37a",
   "metadata": {},
   "outputs": [
    {
     "data": {
      "text/plain": [
       "Freeredu\n",
       "Free lunch    66.028846\n",
       "Paid lunch    64.571429\n",
       "Name: Score, dtype: float64"
      ]
     },
     "execution_count": 21,
     "metadata": {},
     "output_type": "execute_result"
    }
   ],
   "source": [
    "df.groupby('Freeredu')['Score'].mean() #Yemeklerin bedava olup olmamasına göre ortalamanın pek fazla etkilenmdiği gözlemleniyor"
   ]
  },
  {
   "cell_type": "code",
   "execution_count": 22,
   "id": "d0ed1da4",
   "metadata": {},
   "outputs": [
    {
     "data": {
      "image/png": "[encoded data removed]",
      "text/plain": [
       "<Figure size 432x288 with 1 Axes>"
      ]
     },
     "metadata": {
      "needs_background": "light"
     },
     "output_type": "display_data"
    }
   ],
   "source": [
    "sns.barplot(data = df, x = 'Freeredu', y = 'Score', ci = None);"
   ]
  },
  {
   "cell_type": "code",
   "execution_count": 23,
   "id": "2257082f",
   "metadata": {},
   "outputs": [
    {
     "data": {
      "text/plain": [
       "Method\n",
       "Standard       62.335714\n",
       "Traditional    70.684211\n",
       "Name: Score, dtype: float64"
      ]
     },
     "execution_count": 23,
     "metadata": {},
     "output_type": "execute_result"
    }
   ],
   "source": [
    "df.groupby('Method')['Score'].mean() #Metodun ortalamaya etkisinin olduğu gözlemleniyor"
   ]
  },
  {
   "cell_type": "code",
   "execution_count": 24,
   "id": "2c257a81",
   "metadata": {},
   "outputs": [
    {
     "data": {
      "image/png": "[encoded data removed]",
      "text/plain": [
       "<Figure size 432x288 with 1 Axes>"
      ]
     },
     "metadata": {
      "needs_background": "light"
     },
     "output_type": "display_data"
    }
   ],
   "source": [
    "sns.barplot(data = df, x = 'Method', y = 'Score', ci = None);"
   ]
  },
  {
   "cell_type": "code",
   "execution_count": 25,
   "id": "2f48325a",
   "metadata": {},
   "outputs": [
    {
     "data": {
      "image/png": "[encoded data removed]",
      "text/plain": [
       "<Figure size 360x360 with 1 Axes>"
      ]
     },
     "metadata": {
      "needs_background": "light"
     },
     "output_type": "display_data"
    }
   ],
   "source": [
    "sns.catplot(x = \"Teacher\", y = \"Score\", data= df); #Ortalamayı en çok etkileyen faktörün öğretmenler olduğu gözlemleniyor"
   ]
  },
  {
   "cell_type": "code",
   "execution_count": 26,
   "id": "0d2ab175",
   "metadata": {},
   "outputs": [
    {
     "data": {
      "image/png": "[encoded data removed]",
      "text/plain": [
       "<Figure size 432x288 with 1 Axes>"
      ]
     },
     "metadata": {
      "needs_background": "light"
     },
     "output_type": "display_data"
    }
   ],
   "source": [
    "sns.boxplot(x = \"Teacher\", y = \"Score\",hue = \"Gender\", data = df);"
   ]
  },
  {
   "cell_type": "code",
   "execution_count": 27,
   "id": "21461358",
   "metadata": {
    "scrolled": false
   },
   "outputs": [
    {
     "data": {
      "image/png": "[encoded data removed]",
      "text/plain": [
       "<Figure size 432x288 with 1 Axes>"
      ]
     },
     "metadata": {
      "needs_background": "light"
     },
     "output_type": "display_data"
    }
   ],
   "source": [
    "sns.barplot(data = df, x = 'Teacher', y = 'Score',hue = \"Ethnic\", ci = None);"
   ]
  },
  {
   "cell_type": "code",
   "execution_count": 28,
   "id": "97852383",
   "metadata": {
    "scrolled": true
   },
   "outputs": [
    {
     "data": {
      "image/png": "[encoded data removed]",
      "text/plain": [
       "<Figure size 432x288 with 1 Axes>"
      ]
     },
     "metadata": {
      "needs_background": "light"
     },
     "output_type": "display_data"
    }
   ],
   "source": [
    "#Histograma bakıyoruz\n",
    "# Alınan en yoğun notun 50-60 arası olduğu gözlemleniyor \n",
    "pd.DataFrame(df.Score).plot.hist();"
   ]
  },
  {
   "cell_type": "code",
   "execution_count": 29,
   "id": "6d0e111e",
   "metadata": {
    "scrolled": true
   },
   "outputs": [
    {
     "data": {
      "image/png": "[encoded data removed]",
      "text/plain": [
       "<Figure size 432x288 with 1 Axes>"
      ]
     },
     "metadata": {
      "needs_background": "light"
     },
     "output_type": "display_data"
    }
   ],
   "source": [
    "#Dağılımı inceliyoruz\n",
    "import pylab\n",
    "import scipy.stats as stats\n",
    "stats.probplot(df.Score, dist=\"norm\", plot=pylab)\n",
    "pylab.show()"
   ]
  },
  {
   "cell_type": "markdown",
   "id": "559abd2d",
   "metadata": {},
   "source": [
    "### Buradan çıkarlan sonuç\n",
    "Öğrencilerin ders notlarını etkileyen en önemli etmen metodlardan ziyade hocaları olmuş"
   ]
  },
  {
   "cell_type": "markdown",
   "id": "872dbceb",
   "metadata": {},
   "source": [
    "## Veri Ön İşleme"
   ]
  },
  {
   "cell_type": "markdown",
   "id": "1f562944",
   "metadata": {},
   "source": [
    "### Aykırılık Kontrolü"
   ]
  },
  {
   "cell_type": "code",
   "execution_count": 270,
   "id": "137b36f0",
   "metadata": {},
   "outputs": [
    {
     "data": {
      "image/png": "[encoded data removed]",
      "text/plain": [
       "<Figure size 432x288 with 1 Axes>"
      ]
     },
     "metadata": {
      "needs_background": "light"
     },
     "output_type": "display_data"
    }
   ],
   "source": [
    "#aykırı değer tespiti\n",
    "sns.boxplot(x = df.Score);"
   ]
  },
  {
   "cell_type": "code",
   "execution_count": 271,
   "id": "01436c45",
   "metadata": {},
   "outputs": [
    {
     "name": "stdout",
     "output_type": "stream",
     "text": [
      "53.0\n",
      "79.0\n",
      "26.0\n"
     ]
    }
   ],
   "source": [
    "#Üst alt baremler ve aralarındaki farkına bakıyoruz\n",
    "Q1 = df.Score.quantile(0.25)\n",
    "Q3 = df.Score.quantile(0.75)\n",
    "IQR = Q3-Q1\n",
    "print(Q1)\n",
    "print(Q3)\n",
    "print(IQR)"
   ]
  },
  {
   "cell_type": "code",
   "execution_count": 272,
   "id": "91ed9a6a",
   "metadata": {},
   "outputs": [
    {
     "name": "stdout",
     "output_type": "stream",
     "text": [
      "14.0\n",
      "118.0\n"
     ]
    }
   ],
   "source": [
    "#Aykırılık sınırını belirliyoruz\n",
    "alt_sinir = Q1- 1.5*IQR\n",
    "ust_sinir = Q3 + 1.5*IQR\n",
    "print(alt_sinir)\n",
    "print(ust_sinir)"
   ]
  },
  {
   "cell_type": "code",
   "execution_count": 273,
   "id": "43acba69",
   "metadata": {
    "scrolled": true
   },
   "outputs": [
    {
     "data": {
      "text/plain": [
       "Series([], Name: Score, dtype: float64)"
      ]
     },
     "execution_count": 273,
     "metadata": {},
     "output_type": "execute_result"
    }
   ],
   "source": [
    "#Bu sınırlar dışında veri var mı diye bakıyoruz\n",
    "aykiri_tf = (df.Score < alt_sinir) | (df.Score > ust_sinir)\n",
    "df.Score[aykiri_tf]\n",
    "#Ve olmadığını görüyoruz"
   ]
  },
  {
   "cell_type": "markdown",
   "id": "53e43dca",
   "metadata": {},
   "source": [
    "### Gereksiz sütunları çıkarma"
   ]
  },
  {
   "cell_type": "code",
   "execution_count": 274,
   "id": "9c9e0ad6",
   "metadata": {},
   "outputs": [
    {
     "data": {
      "text/html": [
       "<div>\n",
       "<style scoped>\n",
       "    .dataframe tbody tr th:only-of-type {\n",
       "        vertical-align: middle;\n",
       "    }\n",
       "\n",
       "    .dataframe tbody tr th {\n",
       "        vertical-align: top;\n",
       "    }\n",
       "\n",
       "    .dataframe thead th {\n",
       "        text-align: right;\n",
       "    }\n",
       "</style>\n",
       "<table border=\"1\" class=\"dataframe\">\n",
       "  <thead>\n",
       "    <tr style=\"text-align: right;\">\n",
       "      <th></th>\n",
       "      <th>Teacher</th>\n",
       "      <th>Gender</th>\n",
       "      <th>Ethnic</th>\n",
       "      <th>Freeredu</th>\n",
       "      <th>Score</th>\n",
       "      <th>Method</th>\n",
       "    </tr>\n",
       "    <tr>\n",
       "      <th>Student</th>\n",
       "      <th></th>\n",
       "      <th></th>\n",
       "      <th></th>\n",
       "      <th></th>\n",
       "      <th></th>\n",
       "      <th></th>\n",
       "    </tr>\n",
       "  </thead>\n",
       "  <tbody>\n",
       "    <tr>\n",
       "      <th>1</th>\n",
       "      <td>Ruger</td>\n",
       "      <td>Female</td>\n",
       "      <td>Asian</td>\n",
       "      <td>Free lunch</td>\n",
       "      <td>76.0</td>\n",
       "      <td>Standard</td>\n",
       "    </tr>\n",
       "    <tr>\n",
       "      <th>2</th>\n",
       "      <td>Ruger</td>\n",
       "      <td>Female</td>\n",
       "      <td>Hispanic</td>\n",
       "      <td>Paid lunch</td>\n",
       "      <td>56.0</td>\n",
       "      <td>Standard</td>\n",
       "    </tr>\n",
       "    <tr>\n",
       "      <th>3</th>\n",
       "      <td>Ruger</td>\n",
       "      <td>Female</td>\n",
       "      <td>African-American</td>\n",
       "      <td>Free lunch</td>\n",
       "      <td>34.0</td>\n",
       "      <td>Standard</td>\n",
       "    </tr>\n",
       "    <tr>\n",
       "      <th>4</th>\n",
       "      <td>Ruger</td>\n",
       "      <td>Female</td>\n",
       "      <td>Asian</td>\n",
       "      <td>Paid lunch</td>\n",
       "      <td>59.0</td>\n",
       "      <td>Standard</td>\n",
       "    </tr>\n",
       "    <tr>\n",
       "      <th>5</th>\n",
       "      <td>Ruger</td>\n",
       "      <td>Male</td>\n",
       "      <td>Hispanic</td>\n",
       "      <td>Free lunch</td>\n",
       "      <td>73.0</td>\n",
       "      <td>Standard</td>\n",
       "    </tr>\n",
       "    <tr>\n",
       "      <th>...</th>\n",
       "      <td>...</td>\n",
       "      <td>...</td>\n",
       "      <td>...</td>\n",
       "      <td>...</td>\n",
       "      <td>...</td>\n",
       "      <td>...</td>\n",
       "    </tr>\n",
       "    <tr>\n",
       "      <th>212</th>\n",
       "      <td>Wesson</td>\n",
       "      <td>Male</td>\n",
       "      <td>African-American</td>\n",
       "      <td>Paid lunch</td>\n",
       "      <td>56.0</td>\n",
       "      <td>Traditional</td>\n",
       "    </tr>\n",
       "    <tr>\n",
       "      <th>213</th>\n",
       "      <td>Wesson</td>\n",
       "      <td>Male</td>\n",
       "      <td>Hispanic</td>\n",
       "      <td>Free lunch</td>\n",
       "      <td>94.0</td>\n",
       "      <td>Traditional</td>\n",
       "    </tr>\n",
       "    <tr>\n",
       "      <th>214</th>\n",
       "      <td>Wesson</td>\n",
       "      <td>Male</td>\n",
       "      <td>Hispanic</td>\n",
       "      <td>Paid lunch</td>\n",
       "      <td>91.0</td>\n",
       "      <td>Traditional</td>\n",
       "    </tr>\n",
       "    <tr>\n",
       "      <th>215</th>\n",
       "      <td>Wesson</td>\n",
       "      <td>Female</td>\n",
       "      <td>African-American</td>\n",
       "      <td>Paid lunch</td>\n",
       "      <td>53.0</td>\n",
       "      <td>Traditional</td>\n",
       "    </tr>\n",
       "    <tr>\n",
       "      <th>216</th>\n",
       "      <td>Wesson</td>\n",
       "      <td>Male</td>\n",
       "      <td>Hispanic</td>\n",
       "      <td>Paid lunch</td>\n",
       "      <td>57.0</td>\n",
       "      <td>Traditional</td>\n",
       "    </tr>\n",
       "  </tbody>\n",
       "</table>\n",
       "<p>216 rows × 6 columns</p>\n",
       "</div>"
      ],
      "text/plain": [
       "        Teacher  Gender            Ethnic    Freeredu  Score       Method\n",
       "Student                                                                  \n",
       "1         Ruger  Female             Asian  Free lunch   76.0     Standard\n",
       "2         Ruger  Female          Hispanic  Paid lunch   56.0     Standard\n",
       "3         Ruger  Female  African-American  Free lunch   34.0     Standard\n",
       "4         Ruger  Female             Asian  Paid lunch   59.0     Standard\n",
       "5         Ruger    Male          Hispanic  Free lunch   73.0     Standard\n",
       "...         ...     ...               ...         ...    ...          ...\n",
       "212      Wesson    Male  African-American  Paid lunch   56.0  Traditional\n",
       "213      Wesson    Male          Hispanic  Free lunch   94.0  Traditional\n",
       "214      Wesson    Male          Hispanic  Paid lunch   91.0  Traditional\n",
       "215      Wesson  Female  African-American  Paid lunch   53.0  Traditional\n",
       "216      Wesson    Male          Hispanic  Paid lunch   57.0  Traditional\n",
       "\n",
       "[216 rows x 6 columns]"
      ]
     },
     "execution_count": 274,
     "metadata": {},
     "output_type": "execute_result"
    }
   ],
   "source": [
    "#İndex'i student'a eşitleyip student'ı kaldırıyoruz\n",
    "df.index=df[\"Student\"]\n",
    "df.drop(['Student'], axis=1, inplace = True)\n",
    "df"
   ]
  },
  {
   "cell_type": "code",
   "execution_count": 275,
   "id": "ff312b35",
   "metadata": {},
   "outputs": [],
   "source": [
    "# One hot olmadan veri setindeki kategorik verileri sayısallaştırıyoruz\n",
    "#not one hot\n",
    "df_not_one_hot = df.copy()\n",
    "from sklearn.preprocessing import LabelEncoder\n",
    "lbe = LabelEncoder()\n",
    "lbe.fit_transform(df_not_one_hot[\"Gender\"])\n",
    "df_not_one_hot[\"Gender\"] = lbe.fit_transform(df_not_one_hot[\"Gender\"])\n",
    "\n",
    "lbe.fit_transform(df_not_one_hot[\"Ethnic\"])\n",
    "df_not_one_hot[\"Ethnic\"] = lbe.fit_transform(df_not_one_hot[\"Ethnic\"])\n",
    "\n",
    "lbe.fit_transform(df_not_one_hot[\"Teacher\"])\n",
    "df_not_one_hot[\"Teacher\"] = lbe.fit_transform(df_not_one_hot[\"Teacher\"])\n",
    "\n",
    "\n",
    "lbe.fit_transform(df_not_one_hot[\"Freeredu\"])\n",
    "df_not_one_hot[\"Freeredu\"] = lbe.fit_transform(df_not_one_hot[\"Freeredu\"])\n",
    "\n",
    "lbe.fit_transform(df_not_one_hot[\"Method\"])\n",
    "df_not_one_hot[\"Method\"] = lbe.fit_transform(df_not_one_hot[\"Method\"])"
   ]
  },
  {
   "cell_type": "code",
   "execution_count": 276,
   "id": "b479e868",
   "metadata": {},
   "outputs": [
    {
     "data": {
      "text/html": [
       "<div>\n",
       "<style scoped>\n",
       "    .dataframe tbody tr th:only-of-type {\n",
       "        vertical-align: middle;\n",
       "    }\n",
       "\n",
       "    .dataframe tbody tr th {\n",
       "        vertical-align: top;\n",
       "    }\n",
       "\n",
       "    .dataframe thead th {\n",
       "        text-align: right;\n",
       "    }\n",
       "</style>\n",
       "<table border=\"1\" class=\"dataframe\">\n",
       "  <thead>\n",
       "    <tr style=\"text-align: right;\">\n",
       "      <th></th>\n",
       "      <th>Teacher</th>\n",
       "      <th>Gender</th>\n",
       "      <th>Ethnic</th>\n",
       "      <th>Freeredu</th>\n",
       "      <th>Score</th>\n",
       "      <th>Method</th>\n",
       "    </tr>\n",
       "    <tr>\n",
       "      <th>Student</th>\n",
       "      <th></th>\n",
       "      <th></th>\n",
       "      <th></th>\n",
       "      <th></th>\n",
       "      <th></th>\n",
       "      <th></th>\n",
       "    </tr>\n",
       "  </thead>\n",
       "  <tbody>\n",
       "    <tr>\n",
       "      <th>1</th>\n",
       "      <td>0</td>\n",
       "      <td>0</td>\n",
       "      <td>1</td>\n",
       "      <td>0</td>\n",
       "      <td>76.0</td>\n",
       "      <td>0</td>\n",
       "    </tr>\n",
       "    <tr>\n",
       "      <th>2</th>\n",
       "      <td>0</td>\n",
       "      <td>0</td>\n",
       "      <td>3</td>\n",
       "      <td>1</td>\n",
       "      <td>56.0</td>\n",
       "      <td>0</td>\n",
       "    </tr>\n",
       "    <tr>\n",
       "      <th>3</th>\n",
       "      <td>0</td>\n",
       "      <td>0</td>\n",
       "      <td>0</td>\n",
       "      <td>0</td>\n",
       "      <td>34.0</td>\n",
       "      <td>0</td>\n",
       "    </tr>\n",
       "    <tr>\n",
       "      <th>4</th>\n",
       "      <td>0</td>\n",
       "      <td>0</td>\n",
       "      <td>1</td>\n",
       "      <td>1</td>\n",
       "      <td>59.0</td>\n",
       "      <td>0</td>\n",
       "    </tr>\n",
       "    <tr>\n",
       "      <th>5</th>\n",
       "      <td>0</td>\n",
       "      <td>1</td>\n",
       "      <td>3</td>\n",
       "      <td>0</td>\n",
       "      <td>73.0</td>\n",
       "      <td>0</td>\n",
       "    </tr>\n",
       "    <tr>\n",
       "      <th>...</th>\n",
       "      <td>...</td>\n",
       "      <td>...</td>\n",
       "      <td>...</td>\n",
       "      <td>...</td>\n",
       "      <td>...</td>\n",
       "      <td>...</td>\n",
       "    </tr>\n",
       "    <tr>\n",
       "      <th>212</th>\n",
       "      <td>2</td>\n",
       "      <td>1</td>\n",
       "      <td>0</td>\n",
       "      <td>1</td>\n",
       "      <td>56.0</td>\n",
       "      <td>1</td>\n",
       "    </tr>\n",
       "    <tr>\n",
       "      <th>213</th>\n",
       "      <td>2</td>\n",
       "      <td>1</td>\n",
       "      <td>3</td>\n",
       "      <td>0</td>\n",
       "      <td>94.0</td>\n",
       "      <td>1</td>\n",
       "    </tr>\n",
       "    <tr>\n",
       "      <th>214</th>\n",
       "      <td>2</td>\n",
       "      <td>1</td>\n",
       "      <td>3</td>\n",
       "      <td>1</td>\n",
       "      <td>91.0</td>\n",
       "      <td>1</td>\n",
       "    </tr>\n",
       "    <tr>\n",
       "      <th>215</th>\n",
       "      <td>2</td>\n",
       "      <td>0</td>\n",
       "      <td>0</td>\n",
       "      <td>1</td>\n",
       "      <td>53.0</td>\n",
       "      <td>1</td>\n",
       "    </tr>\n",
       "    <tr>\n",
       "      <th>216</th>\n",
       "      <td>2</td>\n",
       "      <td>1</td>\n",
       "      <td>3</td>\n",
       "      <td>1</td>\n",
       "      <td>57.0</td>\n",
       "      <td>1</td>\n",
       "    </tr>\n",
       "  </tbody>\n",
       "</table>\n",
       "<p>216 rows × 6 columns</p>\n",
       "</div>"
      ],
      "text/plain": [
       "         Teacher  Gender  Ethnic  Freeredu  Score  Method\n",
       "Student                                                  \n",
       "1              0       0       1         0   76.0       0\n",
       "2              0       0       3         1   56.0       0\n",
       "3              0       0       0         0   34.0       0\n",
       "4              0       0       1         1   59.0       0\n",
       "5              0       1       3         0   73.0       0\n",
       "...          ...     ...     ...       ...    ...     ...\n",
       "212            2       1       0         1   56.0       1\n",
       "213            2       1       3         0   94.0       1\n",
       "214            2       1       3         1   91.0       1\n",
       "215            2       0       0         1   53.0       1\n",
       "216            2       1       3         1   57.0       1\n",
       "\n",
       "[216 rows x 6 columns]"
      ]
     },
     "execution_count": 276,
     "metadata": {},
     "output_type": "execute_result"
    }
   ],
   "source": [
    "df_not_one_hot"
   ]
  },
  {
   "cell_type": "markdown",
   "id": "73b39aa1",
   "metadata": {},
   "source": [
    "### One Hot İşlemi ve Dummy değişken tuzağını engelleme"
   ]
  },
  {
   "cell_type": "code",
   "execution_count": 277,
   "id": "0f46cdc4",
   "metadata": {},
   "outputs": [
    {
     "data": {
      "text/html": [
       "<div>\n",
       "<style scoped>\n",
       "    .dataframe tbody tr th:only-of-type {\n",
       "        vertical-align: middle;\n",
       "    }\n",
       "\n",
       "    .dataframe tbody tr th {\n",
       "        vertical-align: top;\n",
       "    }\n",
       "\n",
       "    .dataframe thead th {\n",
       "        text-align: right;\n",
       "    }\n",
       "</style>\n",
       "<table border=\"1\" class=\"dataframe\">\n",
       "  <thead>\n",
       "    <tr style=\"text-align: right;\">\n",
       "      <th></th>\n",
       "      <th>Score</th>\n",
       "      <th>Teacher_Smith</th>\n",
       "      <th>Teacher_Wesson</th>\n",
       "      <th>Gender_Male</th>\n",
       "      <th>Ethnic_Asian</th>\n",
       "      <th>Ethnic_Caucasian</th>\n",
       "      <th>Ethnic_Hispanic</th>\n",
       "      <th>Freeredu_Paid lunch</th>\n",
       "      <th>Method_Traditional</th>\n",
       "    </tr>\n",
       "    <tr>\n",
       "      <th>Student</th>\n",
       "      <th></th>\n",
       "      <th></th>\n",
       "      <th></th>\n",
       "      <th></th>\n",
       "      <th></th>\n",
       "      <th></th>\n",
       "      <th></th>\n",
       "      <th></th>\n",
       "      <th></th>\n",
       "    </tr>\n",
       "  </thead>\n",
       "  <tbody>\n",
       "    <tr>\n",
       "      <th>1</th>\n",
       "      <td>76.0</td>\n",
       "      <td>0</td>\n",
       "      <td>0</td>\n",
       "      <td>0</td>\n",
       "      <td>1</td>\n",
       "      <td>0</td>\n",
       "      <td>0</td>\n",
       "      <td>0</td>\n",
       "      <td>0</td>\n",
       "    </tr>\n",
       "    <tr>\n",
       "      <th>2</th>\n",
       "      <td>56.0</td>\n",
       "      <td>0</td>\n",
       "      <td>0</td>\n",
       "      <td>0</td>\n",
       "      <td>0</td>\n",
       "      <td>0</td>\n",
       "      <td>1</td>\n",
       "      <td>1</td>\n",
       "      <td>0</td>\n",
       "    </tr>\n",
       "    <tr>\n",
       "      <th>3</th>\n",
       "      <td>34.0</td>\n",
       "      <td>0</td>\n",
       "      <td>0</td>\n",
       "      <td>0</td>\n",
       "      <td>0</td>\n",
       "      <td>0</td>\n",
       "      <td>0</td>\n",
       "      <td>0</td>\n",
       "      <td>0</td>\n",
       "    </tr>\n",
       "    <tr>\n",
       "      <th>4</th>\n",
       "      <td>59.0</td>\n",
       "      <td>0</td>\n",
       "      <td>0</td>\n",
       "      <td>0</td>\n",
       "      <td>1</td>\n",
       "      <td>0</td>\n",
       "      <td>0</td>\n",
       "      <td>1</td>\n",
       "      <td>0</td>\n",
       "    </tr>\n",
       "    <tr>\n",
       "      <th>5</th>\n",
       "      <td>73.0</td>\n",
       "      <td>0</td>\n",
       "      <td>0</td>\n",
       "      <td>1</td>\n",
       "      <td>0</td>\n",
       "      <td>0</td>\n",
       "      <td>1</td>\n",
       "      <td>0</td>\n",
       "      <td>0</td>\n",
       "    </tr>\n",
       "    <tr>\n",
       "      <th>...</th>\n",
       "      <td>...</td>\n",
       "      <td>...</td>\n",
       "      <td>...</td>\n",
       "      <td>...</td>\n",
       "      <td>...</td>\n",
       "      <td>...</td>\n",
       "      <td>...</td>\n",
       "      <td>...</td>\n",
       "      <td>...</td>\n",
       "    </tr>\n",
       "    <tr>\n",
       "      <th>212</th>\n",
       "      <td>56.0</td>\n",
       "      <td>0</td>\n",
       "      <td>1</td>\n",
       "      <td>1</td>\n",
       "      <td>0</td>\n",
       "      <td>0</td>\n",
       "      <td>0</td>\n",
       "      <td>1</td>\n",
       "      <td>1</td>\n",
       "    </tr>\n",
       "    <tr>\n",
       "      <th>213</th>\n",
       "      <td>94.0</td>\n",
       "      <td>0</td>\n",
       "      <td>1</td>\n",
       "      <td>1</td>\n",
       "      <td>0</td>\n",
       "      <td>0</td>\n",
       "      <td>1</td>\n",
       "      <td>0</td>\n",
       "      <td>1</td>\n",
       "    </tr>\n",
       "    <tr>\n",
       "      <th>214</th>\n",
       "      <td>91.0</td>\n",
       "      <td>0</td>\n",
       "      <td>1</td>\n",
       "      <td>1</td>\n",
       "      <td>0</td>\n",
       "      <td>0</td>\n",
       "      <td>1</td>\n",
       "      <td>1</td>\n",
       "      <td>1</td>\n",
       "    </tr>\n",
       "    <tr>\n",
       "      <th>215</th>\n",
       "      <td>53.0</td>\n",
       "      <td>0</td>\n",
       "      <td>1</td>\n",
       "      <td>0</td>\n",
       "      <td>0</td>\n",
       "      <td>0</td>\n",
       "      <td>0</td>\n",
       "      <td>1</td>\n",
       "      <td>1</td>\n",
       "    </tr>\n",
       "    <tr>\n",
       "      <th>216</th>\n",
       "      <td>57.0</td>\n",
       "      <td>0</td>\n",
       "      <td>1</td>\n",
       "      <td>1</td>\n",
       "      <td>0</td>\n",
       "      <td>0</td>\n",
       "      <td>1</td>\n",
       "      <td>1</td>\n",
       "      <td>1</td>\n",
       "    </tr>\n",
       "  </tbody>\n",
       "</table>\n",
       "<p>216 rows × 9 columns</p>\n",
       "</div>"
      ],
      "text/plain": [
       "         Score  Teacher_Smith  Teacher_Wesson  Gender_Male  Ethnic_Asian  \\\n",
       "Student                                                                    \n",
       "1         76.0              0               0            0             1   \n",
       "2         56.0              0               0            0             0   \n",
       "3         34.0              0               0            0             0   \n",
       "4         59.0              0               0            0             1   \n",
       "5         73.0              0               0            1             0   \n",
       "...        ...            ...             ...          ...           ...   \n",
       "212       56.0              0               1            1             0   \n",
       "213       94.0              0               1            1             0   \n",
       "214       91.0              0               1            1             0   \n",
       "215       53.0              0               1            0             0   \n",
       "216       57.0              0               1            1             0   \n",
       "\n",
       "         Ethnic_Caucasian  Ethnic_Hispanic  Freeredu_Paid lunch  \\\n",
       "Student                                                           \n",
       "1                       0                0                    0   \n",
       "2                       0                1                    1   \n",
       "3                       0                0                    0   \n",
       "4                       0                0                    1   \n",
       "5                       0                1                    0   \n",
       "...                   ...              ...                  ...   \n",
       "212                     0                0                    1   \n",
       "213                     0                1                    0   \n",
       "214                     0                1                    1   \n",
       "215                     0                0                    1   \n",
       "216                     0                1                    1   \n",
       "\n",
       "         Method_Traditional  \n",
       "Student                      \n",
       "1                         0  \n",
       "2                         0  \n",
       "3                         0  \n",
       "4                         0  \n",
       "5                         0  \n",
       "...                     ...  \n",
       "212                       1  \n",
       "213                       1  \n",
       "214                       1  \n",
       "215                       1  \n",
       "216                       1  \n",
       "\n",
       "[216 rows x 9 columns]"
      ]
     },
     "execution_count": 277,
     "metadata": {},
     "output_type": "execute_result"
    }
   ],
   "source": [
    "# drop first komutu sayesinde dummy değişken tuzağını çözüyoruz\n",
    "#Get dummies fonksiyonu sayesinde de one hot işlemini yapıyoruz\n",
    "df_not_drop = pd.get_dummies(df, prefix=['Teacher', 'Gender', 'Ethnic','Freeredu','Method'])\n",
    "df_one_hot = pd.get_dummies(df, prefix=['Teacher', 'Gender', 'Ethnic','Freeredu','Method'], drop_first=True)\n",
    "df_one_hot"
   ]
  },
  {
   "cell_type": "markdown",
   "id": "428a60d7",
   "metadata": {},
   "source": [
    "## Makine Öğrenmesi"
   ]
  },
  {
   "cell_type": "markdown",
   "id": "f5801ac2",
   "metadata": {},
   "source": [
    "### Doğrusal Regresyon"
   ]
  },
  {
   "cell_type": "code",
   "execution_count": 443,
   "id": "bcf4eb09",
   "metadata": {},
   "outputs": [
    {
     "data": {
      "text/html": [
       "<div>\n",
       "<style scoped>\n",
       "    .dataframe tbody tr th:only-of-type {\n",
       "        vertical-align: middle;\n",
       "    }\n",
       "\n",
       "    .dataframe tbody tr th {\n",
       "        vertical-align: top;\n",
       "    }\n",
       "\n",
       "    .dataframe thead th {\n",
       "        text-align: right;\n",
       "    }\n",
       "</style>\n",
       "<table border=\"1\" class=\"dataframe\">\n",
       "  <thead>\n",
       "    <tr style=\"text-align: right;\">\n",
       "      <th></th>\n",
       "      <th>Teacher</th>\n",
       "      <th>Gender</th>\n",
       "      <th>Ethnic</th>\n",
       "      <th>Freeredu</th>\n",
       "      <th>Score</th>\n",
       "      <th>Method</th>\n",
       "    </tr>\n",
       "  </thead>\n",
       "  <tbody>\n",
       "    <tr>\n",
       "      <th>Teacher</th>\n",
       "      <td>1.000000</td>\n",
       "      <td>-0.020086</td>\n",
       "      <td>0.005374</td>\n",
       "      <td>-0.051603</td>\n",
       "      <td>0.385765</td>\n",
       "      <td>0.872792</td>\n",
       "    </tr>\n",
       "    <tr>\n",
       "      <th>Gender</th>\n",
       "      <td>-0.020086</td>\n",
       "      <td>1.000000</td>\n",
       "      <td>-0.043879</td>\n",
       "      <td>0.014503</td>\n",
       "      <td>-0.130579</td>\n",
       "      <td>-0.043355</td>\n",
       "    </tr>\n",
       "    <tr>\n",
       "      <th>Ethnic</th>\n",
       "      <td>0.005374</td>\n",
       "      <td>-0.043879</td>\n",
       "      <td>1.000000</td>\n",
       "      <td>0.065605</td>\n",
       "      <td>-0.037327</td>\n",
       "      <td>0.025314</td>\n",
       "    </tr>\n",
       "    <tr>\n",
       "      <th>Freeredu</th>\n",
       "      <td>-0.051603</td>\n",
       "      <td>0.014503</td>\n",
       "      <td>0.065605</td>\n",
       "      <td>1.000000</td>\n",
       "      <td>-0.044611</td>\n",
       "      <td>-0.104917</td>\n",
       "    </tr>\n",
       "    <tr>\n",
       "      <th>Score</th>\n",
       "      <td>0.385765</td>\n",
       "      <td>-0.130579</td>\n",
       "      <td>-0.037327</td>\n",
       "      <td>-0.044611</td>\n",
       "      <td>1.000000</td>\n",
       "      <td>0.244237</td>\n",
       "    </tr>\n",
       "    <tr>\n",
       "      <th>Method</th>\n",
       "      <td>0.872792</td>\n",
       "      <td>-0.043355</td>\n",
       "      <td>0.025314</td>\n",
       "      <td>-0.104917</td>\n",
       "      <td>0.244237</td>\n",
       "      <td>1.000000</td>\n",
       "    </tr>\n",
       "  </tbody>\n",
       "</table>\n",
       "</div>"
      ],
      "text/plain": [
       "           Teacher    Gender    Ethnic  Freeredu     Score    Method\n",
       "Teacher   1.000000 -0.020086  0.005374 -0.051603  0.385765  0.872792\n",
       "Gender   -0.020086  1.000000 -0.043879  0.014503 -0.130579 -0.043355\n",
       "Ethnic    0.005374 -0.043879  1.000000  0.065605 -0.037327  0.025314\n",
       "Freeredu -0.051603  0.014503  0.065605  1.000000 -0.044611 -0.104917\n",
       "Score     0.385765 -0.130579 -0.037327 -0.044611  1.000000  0.244237\n",
       "Method    0.872792 -0.043355  0.025314 -0.104917  0.244237  1.000000"
      ]
     },
     "execution_count": 443,
     "metadata": {},
     "output_type": "execute_result"
    }
   ],
   "source": [
    "#korelasyonlara bakıyoruz\n",
    "#Görüyoruz ki skora en çok etki eden şey öğretmen\n",
    "df_not_one_hot.corr()"
   ]
  },
  {
   "cell_type": "code",
   "execution_count": 444,
   "id": "96cc9b6f",
   "metadata": {},
   "outputs": [
    {
     "data": {
      "image/png": "[encoded data removed]",
      "text/plain": [
       "<Figure size 1080x1080 with 42 Axes>"
      ]
     },
     "metadata": {
      "needs_background": "light"
     },
     "output_type": "display_data"
    }
   ],
   "source": [
    "#Regresyonlara bakıyoruz \n",
    "#Görüyoruz ki skora en çok etki eden şey öğretmen\n",
    "import seaborn as sns\n",
    "sns.pairplot(df_not_one_hot, kind  =\"reg\");"
   ]
  },
  {
   "cell_type": "code",
   "execution_count": 445,
   "id": "a4789461",
   "metadata": {},
   "outputs": [
    {
     "data": {
      "text/plain": [
       "<seaborn.axisgrid.JointGrid at 0x1b22b623a00>"
      ]
     },
     "execution_count": 445,
     "metadata": {},
     "output_type": "execute_result"
    },
    {
     "data": {
      "image/png": "[encoded data removed]",
      "text/plain": [
       "<Figure size 432x432 with 3 Axes>"
      ]
     },
     "metadata": {
      "needs_background": "light"
     },
     "output_type": "display_data"
    }
   ],
   "source": [
    "#Burada öğretmen ve skora daha detaylı bakıyoruz\n",
    "sns.jointplot(x = \"Teacher\", y = \"Score\", data = df_not_one_hot, kind = \"reg\")"
   ]
  },
  {
   "cell_type": "markdown",
   "id": "c33b3d72",
   "metadata": {},
   "source": [
    "**Statsmodels ile modelleme**"
   ]
  },
  {
   "cell_type": "code",
   "execution_count": 446,
   "id": "95cc6075",
   "metadata": {},
   "outputs": [
    {
     "data": {
      "text/html": [
       "<div>\n",
       "<style scoped>\n",
       "    .dataframe tbody tr th:only-of-type {\n",
       "        vertical-align: middle;\n",
       "    }\n",
       "\n",
       "    .dataframe tbody tr th {\n",
       "        vertical-align: top;\n",
       "    }\n",
       "\n",
       "    .dataframe thead th {\n",
       "        text-align: right;\n",
       "    }\n",
       "</style>\n",
       "<table border=\"1\" class=\"dataframe\">\n",
       "  <thead>\n",
       "    <tr style=\"text-align: right;\">\n",
       "      <th></th>\n",
       "      <th>Teacher</th>\n",
       "    </tr>\n",
       "    <tr>\n",
       "      <th>Student</th>\n",
       "      <th></th>\n",
       "    </tr>\n",
       "  </thead>\n",
       "  <tbody>\n",
       "    <tr>\n",
       "      <th>1</th>\n",
       "      <td>0</td>\n",
       "    </tr>\n",
       "    <tr>\n",
       "      <th>2</th>\n",
       "      <td>0</td>\n",
       "    </tr>\n",
       "    <tr>\n",
       "      <th>3</th>\n",
       "      <td>0</td>\n",
       "    </tr>\n",
       "    <tr>\n",
       "      <th>4</th>\n",
       "      <td>0</td>\n",
       "    </tr>\n",
       "    <tr>\n",
       "      <th>5</th>\n",
       "      <td>0</td>\n",
       "    </tr>\n",
       "  </tbody>\n",
       "</table>\n",
       "</div>"
      ],
      "text/plain": [
       "         Teacher\n",
       "Student         \n",
       "1              0\n",
       "2              0\n",
       "3              0\n",
       "4              0\n",
       "5              0"
      ]
     },
     "execution_count": 446,
     "metadata": {},
     "output_type": "execute_result"
    }
   ],
   "source": [
    "#bir bağımlı değişken ile deniyoruz\n",
    "import statsmodels.api as sm\n",
    "X = df_not_one_hot[[\"Teacher\"]]\n",
    "X[0:5]"
   ]
  },
  {
   "cell_type": "code",
   "execution_count": 447,
   "id": "440c17f3",
   "metadata": {},
   "outputs": [],
   "source": [
    "from warnings import filterwarnings\n",
    "filterwarnings('ignore')\n",
    "#uyarıları kapatmak icin"
   ]
  },
  {
   "cell_type": "code",
   "execution_count": 448,
   "id": "97496b57",
   "metadata": {},
   "outputs": [
    {
     "data": {
      "text/html": [
       "<div>\n",
       "<style scoped>\n",
       "    .dataframe tbody tr th:only-of-type {\n",
       "        vertical-align: middle;\n",
       "    }\n",
       "\n",
       "    .dataframe tbody tr th {\n",
       "        vertical-align: top;\n",
       "    }\n",
       "\n",
       "    .dataframe thead th {\n",
       "        text-align: right;\n",
       "    }\n",
       "</style>\n",
       "<table border=\"1\" class=\"dataframe\">\n",
       "  <thead>\n",
       "    <tr style=\"text-align: right;\">\n",
       "      <th></th>\n",
       "      <th>const</th>\n",
       "      <th>Teacher</th>\n",
       "    </tr>\n",
       "    <tr>\n",
       "      <th>Student</th>\n",
       "      <th></th>\n",
       "      <th></th>\n",
       "    </tr>\n",
       "  </thead>\n",
       "  <tbody>\n",
       "    <tr>\n",
       "      <th>1</th>\n",
       "      <td>1.0</td>\n",
       "      <td>0</td>\n",
       "    </tr>\n",
       "    <tr>\n",
       "      <th>2</th>\n",
       "      <td>1.0</td>\n",
       "      <td>0</td>\n",
       "    </tr>\n",
       "    <tr>\n",
       "      <th>3</th>\n",
       "      <td>1.0</td>\n",
       "      <td>0</td>\n",
       "    </tr>\n",
       "    <tr>\n",
       "      <th>4</th>\n",
       "      <td>1.0</td>\n",
       "      <td>0</td>\n",
       "    </tr>\n",
       "    <tr>\n",
       "      <th>5</th>\n",
       "      <td>1.0</td>\n",
       "      <td>0</td>\n",
       "    </tr>\n",
       "  </tbody>\n",
       "</table>\n",
       "</div>"
      ],
      "text/plain": [
       "         const  Teacher\n",
       "Student                \n",
       "1          1.0        0\n",
       "2          1.0        0\n",
       "3          1.0        0\n",
       "4          1.0        0\n",
       "5          1.0        0"
      ]
     },
     "execution_count": 448,
     "metadata": {},
     "output_type": "execute_result"
    }
   ],
   "source": [
    "#elinizde tek degiskenli bir matris var ve regresyon problemini cozmek icin, matris islemlerinin yapilabilmesi icin\n",
    "#matrise sabit 1 ifadesi eklememiz gerekiyor (beta0 için kullanacagiz).\n",
    "X = sm.add_constant(data=X)\n",
    "X[0:5]"
   ]
  },
  {
   "cell_type": "code",
   "execution_count": 449,
   "id": "db1ddcdf",
   "metadata": {},
   "outputs": [
    {
     "data": {
      "text/plain": [
       "Student\n",
       "1    76.0\n",
       "2    56.0\n",
       "3    34.0\n",
       "4    59.0\n",
       "5    73.0\n",
       "Name: Score, dtype: float64"
      ]
     },
     "execution_count": 449,
     "metadata": {},
     "output_type": "execute_result"
    }
   ],
   "source": [
    "#bağımsız değişkenimizi de alıyoruz\n",
    "y = df_not_one_hot[\"Score\"]\n",
    "y[0:5]"
   ]
  },
  {
   "cell_type": "code",
   "execution_count": 450,
   "id": "1d42835f",
   "metadata": {},
   "outputs": [
    {
     "data": {
      "text/html": [
       "<table class=\"simpletable\">\n",
       "<caption>OLS Regression Results</caption>\n",
       "<tr>\n",
       "  <th>Dep. Variable:</th>          <td>Score</td>      <th>  R-squared:         </th> <td>   0.149</td>\n",
       "</tr>\n",
       "<tr>\n",
       "  <th>Model:</th>                   <td>OLS</td>       <th>  Adj. R-squared:    </th> <td>   0.145</td>\n",
       "</tr>\n",
       "<tr>\n",
       "  <th>Method:</th>             <td>Least Squares</td>  <th>  F-statistic:       </th> <td>   37.41</td>\n",
       "</tr>\n",
       "<tr>\n",
       "  <th>Date:</th>             <td>Mon, 06 Jun 2022</td> <th>  Prob (F-statistic):</th> <td>4.48e-09</td>\n",
       "</tr>\n",
       "<tr>\n",
       "  <th>Time:</th>                 <td>14:57:02</td>     <th>  Log-Likelihood:    </th> <td> -892.29</td>\n",
       "</tr>\n",
       "<tr>\n",
       "  <th>No. Observations:</th>      <td>   216</td>      <th>  AIC:               </th> <td>   1789.</td>\n",
       "</tr>\n",
       "<tr>\n",
       "  <th>Df Residuals:</th>          <td>   214</td>      <th>  BIC:               </th> <td>   1795.</td>\n",
       "</tr>\n",
       "<tr>\n",
       "  <th>Df Model:</th>              <td>     1</td>      <th>                     </th>     <td> </td>   \n",
       "</tr>\n",
       "<tr>\n",
       "  <th>Covariance Type:</th>      <td>nonrobust</td>    <th>                     </th>     <td> </td>   \n",
       "</tr>\n",
       "</table>\n",
       "<table class=\"simpletable\">\n",
       "<tr>\n",
       "     <td></td>        <th>coef</th>     <th>std err</th>      <th>t</th>      <th>P>|t|</th>  <th>[0.025</th>    <th>0.975]</th>  \n",
       "</tr>\n",
       "<tr>\n",
       "  <th>const</th>   <td>   57.4602</td> <td>    1.641</td> <td>   35.025</td> <td> 0.000</td> <td>   54.227</td> <td>   60.694</td>\n",
       "</tr>\n",
       "<tr>\n",
       "  <th>Teacher</th> <td>    7.6362</td> <td>    1.248</td> <td>    6.117</td> <td> 0.000</td> <td>    5.175</td> <td>   10.097</td>\n",
       "</tr>\n",
       "</table>\n",
       "<table class=\"simpletable\">\n",
       "<tr>\n",
       "  <th>Omnibus:</th>       <td>59.901</td> <th>  Durbin-Watson:     </th> <td>   1.873</td>\n",
       "</tr>\n",
       "<tr>\n",
       "  <th>Prob(Omnibus):</th> <td> 0.000</td> <th>  Jarque-Bera (JB):  </th> <td>  10.923</td>\n",
       "</tr>\n",
       "<tr>\n",
       "  <th>Skew:</th>          <td>-0.043</td> <th>  Prob(JB):          </th> <td> 0.00425</td>\n",
       "</tr>\n",
       "<tr>\n",
       "  <th>Kurtosis:</th>      <td> 1.902</td> <th>  Cond. No.          </th> <td>    2.97</td>\n",
       "</tr>\n",
       "</table><br/><br/>Notes:<br/>[1] Standard Errors assume that the covariance matrix of the errors is correctly specified."
      ],
      "text/plain": [
       "<class 'statsmodels.iolib.summary.Summary'>\n",
       "\"\"\"\n",
       "                            OLS Regression Results                            \n",
       "==============================================================================\n",
       "Dep. Variable:                  Score   R-squared:                       0.149\n",
       "Model:                            OLS   Adj. R-squared:                  0.145\n",
       "Method:                 Least Squares   F-statistic:                     37.41\n",
       "Date:                Mon, 06 Jun 2022   Prob (F-statistic):           4.48e-09\n",
       "Time:                        14:57:02   Log-Likelihood:                -892.29\n",
       "No. Observations:                 216   AIC:                             1789.\n",
       "Df Residuals:                     214   BIC:                             1795.\n",
       "Df Model:                           1                                         \n",
       "Covariance Type:            nonrobust                                         \n",
       "==============================================================================\n",
       "                 coef    std err          t      P>|t|      [0.025      0.975]\n",
       "------------------------------------------------------------------------------\n",
       "const         57.4602      1.641     35.025      0.000      54.227      60.694\n",
       "Teacher        7.6362      1.248      6.117      0.000       5.175      10.097\n",
       "==============================================================================\n",
       "Omnibus:                       59.901   Durbin-Watson:                   1.873\n",
       "Prob(Omnibus):                  0.000   Jarque-Bera (JB):               10.923\n",
       "Skew:                          -0.043   Prob(JB):                      0.00425\n",
       "Kurtosis:                       1.902   Cond. No.                         2.97\n",
       "==============================================================================\n",
       "\n",
       "Notes:\n",
       "[1] Standard Errors assume that the covariance matrix of the errors is correctly specified.\n",
       "\"\"\""
      ]
     },
     "execution_count": 450,
     "metadata": {},
     "output_type": "execute_result"
    }
   ],
   "source": [
    "#modelin kurulması\n",
    "lm = sm.OLS(y,X)\n",
    "#modelin fit edilmesi\n",
    "model = lm.fit()\n",
    "#model ciktilarinin alinmasi\n",
    "model.summary()"
   ]
  },
  {
   "cell_type": "code",
   "execution_count": 451,
   "id": "bb42f803",
   "metadata": {},
   "outputs": [
    {
     "data": {
      "text/plain": [
       "8564.998168547878"
      ]
     },
     "execution_count": 451,
     "metadata": {},
     "output_type": "execute_result"
    }
   ],
   "source": [
    "#modelin hata kareler ortalaması\n",
    "model.mse_model"
   ]
  },
  {
   "cell_type": "code",
   "execution_count": 452,
   "id": "d5816bfb",
   "metadata": {},
   "outputs": [
    {
     "data": {
      "text/plain": [
       "Student\n",
       "1    57.460207\n",
       "2    57.460207\n",
       "3    57.460207\n",
       "4    57.460207\n",
       "5    57.460207\n",
       "dtype: float64"
      ]
     },
     "execution_count": 452,
     "metadata": {},
     "output_type": "execute_result"
    }
   ],
   "source": [
    "#modelden tahmin edilen y değerleri\n",
    "model.fittedvalues[0:5]"
   ]
  },
  {
   "cell_type": "code",
   "execution_count": 453,
   "id": "5eeb33a9",
   "metadata": {},
   "outputs": [
    {
     "data": {
      "text/plain": [
       "Student\n",
       "1    76.0\n",
       "2    56.0\n",
       "3    34.0\n",
       "4    59.0\n",
       "5    73.0\n",
       "Name: Score, dtype: float64"
      ]
     },
     "execution_count": 453,
     "metadata": {},
     "output_type": "execute_result"
    }
   ],
   "source": [
    "#gercek y degerleri\n",
    "y[0:5]"
   ]
  },
  {
   "cell_type": "code",
   "execution_count": 454,
   "id": "5d2e9dd1",
   "metadata": {},
   "outputs": [
    {
     "name": "stdout",
     "output_type": "stream",
     "text": [
      "Score = 57.46 + Teacher*7.64\n"
     ]
    }
   ],
   "source": [
    "#model denklemi\n",
    "print(\"Score = \" +  str(\"%.2f\" % model.params[0]) + \" + Teacher\" + \"*\" + str(\"%.2f\" % model.params[1]))"
   ]
  },
  {
   "cell_type": "code",
   "execution_count": 455,
   "id": "3e806dcf",
   "metadata": {},
   "outputs": [
    {
     "data": {
      "image/png": "[encoded data removed]",
      "text/plain": [
       "<Figure size 432x288 with 1 Axes>"
      ]
     },
     "metadata": {
      "needs_background": "light"
     },
     "output_type": "display_data"
    }
   ],
   "source": [
    "#modelin görsel olarak ifade edilmesi\n",
    "g = sns.regplot(df_not_one_hot[\"Teacher\"], df_not_one_hot[\"Score\"], ci=None, scatter_kws={'color':'r', 's':9})\n",
    "g.set_title(\"Model Denklemi: Score = -0.25 + Teacher*0.02\")\n",
    "g.set_ylabel(\"Score\")\n",
    "g.set_xlabel(\"Teacher\")\n",
    "import matplotlib.pyplot as plt\n",
    "plt.xlim(-1,3)\n",
    "plt.ylim(bottom=0);\n"
   ]
  },
  {
   "cell_type": "markdown",
   "id": "312b737b",
   "metadata": {},
   "source": [
    "Tahmini ve gerçek skorların ortalamalarına bakıyoruz"
   ]
  },
  {
   "cell_type": "code",
   "execution_count": 456,
   "id": "f0e5665b",
   "metadata": {},
   "outputs": [
    {
     "data": {
      "text/plain": [
       "57.46"
      ]
     },
     "execution_count": 456,
     "metadata": {},
     "output_type": "execute_result"
    }
   ],
   "source": [
    "Score = 57.46 + 0*7.64\n",
    "Score"
   ]
  },
  {
   "cell_type": "code",
   "execution_count": 457,
   "id": "f6b04f4a",
   "metadata": {},
   "outputs": [
    {
     "data": {
      "text/plain": [
       "65.1"
      ]
     },
     "execution_count": 457,
     "metadata": {},
     "output_type": "execute_result"
    }
   ],
   "source": [
    "Score = 57.46 + 1*7.64\n",
    "Score"
   ]
  },
  {
   "cell_type": "code",
   "execution_count": 458,
   "id": "b55eaa40",
   "metadata": {},
   "outputs": [
    {
     "data": {
      "text/plain": [
       "72.74"
      ]
     },
     "execution_count": 458,
     "metadata": {},
     "output_type": "execute_result"
    }
   ],
   "source": [
    "Score = 57.46 + 2*7.64\n",
    "Score"
   ]
  },
  {
   "cell_type": "code",
   "execution_count": 459,
   "id": "762646c8",
   "metadata": {},
   "outputs": [
    {
     "data": {
      "text/plain": [
       "Teacher\n",
       "Ruger     55.267606\n",
       "Smith     69.608696\n",
       "Wesson    70.684211\n",
       "Name: Score, dtype: float64"
      ]
     },
     "execution_count": 459,
     "metadata": {},
     "output_type": "execute_result"
    }
   ],
   "source": [
    "df.groupby('Teacher')['Score'].mean()"
   ]
  },
  {
   "cell_type": "markdown",
   "id": "65803bac",
   "metadata": {},
   "source": [
    "Bir de method değişkeni kullanarak bakıyoruz"
   ]
  },
  {
   "cell_type": "code",
   "execution_count": 460,
   "id": "32ee704e",
   "metadata": {},
   "outputs": [
    {
     "name": "stdout",
     "output_type": "stream",
     "text": [
      "Score = 62.34 + Method*8.35\n"
     ]
    }
   ],
   "source": [
    "X = df_not_one_hot[[\"Method\"]]\n",
    "X = sm.add_constant(data=X)\n",
    "y = df_not_one_hot[\"Score\"]\n",
    "lm = sm.OLS(y,X)\n",
    "model = lm.fit()\n",
    "print(\"Score = \" +  str(\"%.2f\" % model.params[0]) + \" + Method\" + \"*\" + str(\"%.2f\" % model.params[1]))"
   ]
  },
  {
   "cell_type": "code",
   "execution_count": 461,
   "id": "896f9484",
   "metadata": {},
   "outputs": [
    {
     "data": {
      "text/plain": [
       "62.34"
      ]
     },
     "execution_count": 461,
     "metadata": {},
     "output_type": "execute_result"
    }
   ],
   "source": [
    "Score = 62.34 + 0*8.35\n",
    "Score"
   ]
  },
  {
   "cell_type": "code",
   "execution_count": 462,
   "id": "1468088a",
   "metadata": {},
   "outputs": [
    {
     "data": {
      "text/plain": [
       "70.69"
      ]
     },
     "execution_count": 462,
     "metadata": {},
     "output_type": "execute_result"
    }
   ],
   "source": [
    "Score = 62.34 + 1*8.35\n",
    "Score"
   ]
  },
  {
   "cell_type": "code",
   "execution_count": 463,
   "id": "5e482d6f",
   "metadata": {},
   "outputs": [
    {
     "data": {
      "text/plain": [
       "Method\n",
       "Standard       62.335714\n",
       "Traditional    70.684211\n",
       "Name: Score, dtype: float64"
      ]
     },
     "execution_count": 463,
     "metadata": {},
     "output_type": "execute_result"
    }
   ],
   "source": [
    "df.groupby('Method')['Score'].mean()"
   ]
  },
  {
   "cell_type": "markdown",
   "id": "ab8c4323",
   "metadata": {},
   "source": [
    "Method değişkeni ile modelin ortalamaları neredeyse aynı tahmin ettiğini gözlemliyoruz. Bu analiz yöntemi için en uygun değişkenin Method olduğunu gözlemliyoruz"
   ]
  },
  {
   "cell_type": "markdown",
   "id": "979a09ec",
   "metadata": {},
   "source": [
    "**Artıklar ve Makine Öğrenmesindeki Önemi**\n"
   ]
  },
  {
   "cell_type": "code",
   "execution_count": 464,
   "id": "8a3450e9",
   "metadata": {},
   "outputs": [],
   "source": [
    "from sklearn.metrics import mean_squared_error, r2_score\n",
    "\n",
    "import statsmodels.formula.api as smf\n",
    "X = df_not_one_hot[[\"Method\"]]\n",
    "X = sm.add_constant(data=X)\n",
    "y = df_not_one_hot[\"Score\"]\n",
    "lm = sm.OLS(y,X)\n",
    "model = lm.fit()"
   ]
  },
  {
   "cell_type": "code",
   "execution_count": 465,
   "id": "f7b7a5a3",
   "metadata": {},
   "outputs": [
    {
     "name": "stdout",
     "output_type": "stream",
     "text": [
      "MSE:  250.56315963519907\n"
     ]
    }
   ],
   "source": [
    "mse = mean_squared_error(y, model.fittedvalues)\n",
    "#gerçek değerler ile tahmin edilen değerler arasındaki farkların karelerinin ortalaması\n",
    "print(\"MSE: \",mse)"
   ]
  },
  {
   "cell_type": "code",
   "execution_count": 466,
   "id": "85cfc968",
   "metadata": {},
   "outputs": [
    {
     "name": "stdout",
     "output_type": "stream",
     "text": [
      "RMSE:  15.829186954332148\n"
     ]
    }
   ],
   "source": [
    "import numpy as np\n",
    "#mse'nin karekökünün alınması ile meydana gelen rmse\n",
    "rmse = np.sqrt(mse)\n",
    "print(\"RMSE: \",rmse)"
   ]
  },
  {
   "cell_type": "code",
   "execution_count": 467,
   "id": "e70a790f",
   "metadata": {},
   "outputs": [
    {
     "data": {
      "text/html": [
       "<div>\n",
       "<style scoped>\n",
       "    .dataframe tbody tr th:only-of-type {\n",
       "        vertical-align: middle;\n",
       "    }\n",
       "\n",
       "    .dataframe tbody tr th {\n",
       "        vertical-align: top;\n",
       "    }\n",
       "\n",
       "    .dataframe thead th {\n",
       "        text-align: right;\n",
       "    }\n",
       "</style>\n",
       "<table border=\"1\" class=\"dataframe\">\n",
       "  <thead>\n",
       "    <tr style=\"text-align: right;\">\n",
       "      <th></th>\n",
       "      <th>gercek_y</th>\n",
       "      <th>tahmin_y</th>\n",
       "      <th>hata</th>\n",
       "      <th>hata_kare</th>\n",
       "    </tr>\n",
       "    <tr>\n",
       "      <th>Student</th>\n",
       "      <th></th>\n",
       "      <th></th>\n",
       "      <th></th>\n",
       "      <th></th>\n",
       "    </tr>\n",
       "  </thead>\n",
       "  <tbody>\n",
       "    <tr>\n",
       "      <th>1</th>\n",
       "      <td>76.0</td>\n",
       "      <td>62.335714</td>\n",
       "      <td>13.664286</td>\n",
       "      <td>186.712704</td>\n",
       "    </tr>\n",
       "    <tr>\n",
       "      <th>2</th>\n",
       "      <td>56.0</td>\n",
       "      <td>62.335714</td>\n",
       "      <td>-6.335714</td>\n",
       "      <td>40.141276</td>\n",
       "    </tr>\n",
       "    <tr>\n",
       "      <th>3</th>\n",
       "      <td>34.0</td>\n",
       "      <td>62.335714</td>\n",
       "      <td>-28.335714</td>\n",
       "      <td>802.912704</td>\n",
       "    </tr>\n",
       "    <tr>\n",
       "      <th>4</th>\n",
       "      <td>59.0</td>\n",
       "      <td>62.335714</td>\n",
       "      <td>-3.335714</td>\n",
       "      <td>11.126990</td>\n",
       "    </tr>\n",
       "    <tr>\n",
       "      <th>5</th>\n",
       "      <td>73.0</td>\n",
       "      <td>62.335714</td>\n",
       "      <td>10.664286</td>\n",
       "      <td>113.726990</td>\n",
       "    </tr>\n",
       "    <tr>\n",
       "      <th>6</th>\n",
       "      <td>58.0</td>\n",
       "      <td>62.335714</td>\n",
       "      <td>-4.335714</td>\n",
       "      <td>18.798418</td>\n",
       "    </tr>\n",
       "    <tr>\n",
       "      <th>7</th>\n",
       "      <td>62.0</td>\n",
       "      <td>62.335714</td>\n",
       "      <td>-0.335714</td>\n",
       "      <td>0.112704</td>\n",
       "    </tr>\n",
       "    <tr>\n",
       "      <th>8</th>\n",
       "      <td>40.0</td>\n",
       "      <td>62.335714</td>\n",
       "      <td>-22.335714</td>\n",
       "      <td>498.884133</td>\n",
       "    </tr>\n",
       "    <tr>\n",
       "      <th>9</th>\n",
       "      <td>82.0</td>\n",
       "      <td>62.335714</td>\n",
       "      <td>19.664286</td>\n",
       "      <td>386.684133</td>\n",
       "    </tr>\n",
       "    <tr>\n",
       "      <th>10</th>\n",
       "      <td>78.0</td>\n",
       "      <td>62.335714</td>\n",
       "      <td>15.664286</td>\n",
       "      <td>245.369847</td>\n",
       "    </tr>\n",
       "  </tbody>\n",
       "</table>\n",
       "</div>"
      ],
      "text/plain": [
       "         gercek_y   tahmin_y       hata   hata_kare\n",
       "Student                                            \n",
       "1            76.0  62.335714  13.664286  186.712704\n",
       "2            56.0  62.335714  -6.335714   40.141276\n",
       "3            34.0  62.335714 -28.335714  802.912704\n",
       "4            59.0  62.335714  -3.335714   11.126990\n",
       "5            73.0  62.335714  10.664286  113.726990\n",
       "6            58.0  62.335714  -4.335714   18.798418\n",
       "7            62.0  62.335714  -0.335714    0.112704\n",
       "8            40.0  62.335714 -22.335714  498.884133\n",
       "9            82.0  62.335714  19.664286  386.684133\n",
       "10           78.0  62.335714  15.664286  245.369847"
      ]
     },
     "execution_count": 467,
     "metadata": {},
     "output_type": "execute_result"
    }
   ],
   "source": [
    "k_t[\"hata\"] = k_t[\"gercek_y\"] - k_t[\"tahmin_y\"]\n",
    "k_t"
   ]
  },
  {
   "cell_type": "code",
   "execution_count": 468,
   "id": "e6256756",
   "metadata": {},
   "outputs": [
    {
     "data": {
      "text/html": [
       "<div>\n",
       "<style scoped>\n",
       "    .dataframe tbody tr th:only-of-type {\n",
       "        vertical-align: middle;\n",
       "    }\n",
       "\n",
       "    .dataframe tbody tr th {\n",
       "        vertical-align: top;\n",
       "    }\n",
       "\n",
       "    .dataframe thead th {\n",
       "        text-align: right;\n",
       "    }\n",
       "</style>\n",
       "<table border=\"1\" class=\"dataframe\">\n",
       "  <thead>\n",
       "    <tr style=\"text-align: right;\">\n",
       "      <th></th>\n",
       "      <th>gercek_y</th>\n",
       "      <th>tahmin_y</th>\n",
       "      <th>hata</th>\n",
       "      <th>hata_kare</th>\n",
       "    </tr>\n",
       "    <tr>\n",
       "      <th>Student</th>\n",
       "      <th></th>\n",
       "      <th></th>\n",
       "      <th></th>\n",
       "      <th></th>\n",
       "    </tr>\n",
       "  </thead>\n",
       "  <tbody>\n",
       "    <tr>\n",
       "      <th>1</th>\n",
       "      <td>76.0</td>\n",
       "      <td>62.335714</td>\n",
       "      <td>13.664286</td>\n",
       "      <td>186.712704</td>\n",
       "    </tr>\n",
       "    <tr>\n",
       "      <th>2</th>\n",
       "      <td>56.0</td>\n",
       "      <td>62.335714</td>\n",
       "      <td>-6.335714</td>\n",
       "      <td>40.141276</td>\n",
       "    </tr>\n",
       "    <tr>\n",
       "      <th>3</th>\n",
       "      <td>34.0</td>\n",
       "      <td>62.335714</td>\n",
       "      <td>-28.335714</td>\n",
       "      <td>802.912704</td>\n",
       "    </tr>\n",
       "    <tr>\n",
       "      <th>4</th>\n",
       "      <td>59.0</td>\n",
       "      <td>62.335714</td>\n",
       "      <td>-3.335714</td>\n",
       "      <td>11.126990</td>\n",
       "    </tr>\n",
       "    <tr>\n",
       "      <th>5</th>\n",
       "      <td>73.0</td>\n",
       "      <td>62.335714</td>\n",
       "      <td>10.664286</td>\n",
       "      <td>113.726990</td>\n",
       "    </tr>\n",
       "    <tr>\n",
       "      <th>6</th>\n",
       "      <td>58.0</td>\n",
       "      <td>62.335714</td>\n",
       "      <td>-4.335714</td>\n",
       "      <td>18.798418</td>\n",
       "    </tr>\n",
       "    <tr>\n",
       "      <th>7</th>\n",
       "      <td>62.0</td>\n",
       "      <td>62.335714</td>\n",
       "      <td>-0.335714</td>\n",
       "      <td>0.112704</td>\n",
       "    </tr>\n",
       "    <tr>\n",
       "      <th>8</th>\n",
       "      <td>40.0</td>\n",
       "      <td>62.335714</td>\n",
       "      <td>-22.335714</td>\n",
       "      <td>498.884133</td>\n",
       "    </tr>\n",
       "    <tr>\n",
       "      <th>9</th>\n",
       "      <td>82.0</td>\n",
       "      <td>62.335714</td>\n",
       "      <td>19.664286</td>\n",
       "      <td>386.684133</td>\n",
       "    </tr>\n",
       "    <tr>\n",
       "      <th>10</th>\n",
       "      <td>78.0</td>\n",
       "      <td>62.335714</td>\n",
       "      <td>15.664286</td>\n",
       "      <td>245.369847</td>\n",
       "    </tr>\n",
       "  </tbody>\n",
       "</table>\n",
       "</div>"
      ],
      "text/plain": [
       "         gercek_y   tahmin_y       hata   hata_kare\n",
       "Student                                            \n",
       "1            76.0  62.335714  13.664286  186.712704\n",
       "2            56.0  62.335714  -6.335714   40.141276\n",
       "3            34.0  62.335714 -28.335714  802.912704\n",
       "4            59.0  62.335714  -3.335714   11.126990\n",
       "5            73.0  62.335714  10.664286  113.726990\n",
       "6            58.0  62.335714  -4.335714   18.798418\n",
       "7            62.0  62.335714  -0.335714    0.112704\n",
       "8            40.0  62.335714 -22.335714  498.884133\n",
       "9            82.0  62.335714  19.664286  386.684133\n",
       "10           78.0  62.335714  15.664286  245.369847"
      ]
     },
     "execution_count": 468,
     "metadata": {},
     "output_type": "execute_result"
    }
   ],
   "source": [
    "k_t[\"hata_kare\"] = k_t[\"hata\"]**2\n",
    "k_t"
   ]
  },
  {
   "cell_type": "code",
   "execution_count": 469,
   "id": "467bf1c7",
   "metadata": {},
   "outputs": [
    {
     "data": {
      "text/plain": [
       "2304.4698979591835"
      ]
     },
     "execution_count": 469,
     "metadata": {},
     "output_type": "execute_result"
    }
   ],
   "source": [
    "#toplam hata\n",
    "np.sum(k_t[\"hata_kare\"])"
   ]
  },
  {
   "cell_type": "code",
   "execution_count": 470,
   "id": "ce996483",
   "metadata": {},
   "outputs": [
    {
     "data": {
      "text/plain": [
       "230.44698979591834"
      ]
     },
     "execution_count": 470,
     "metadata": {},
     "output_type": "execute_result"
    }
   ],
   "source": [
    "#hata kareler ortalaması\n",
    "np.mean(k_t[\"hata_kare\"])"
   ]
  },
  {
   "cell_type": "code",
   "execution_count": 471,
   "id": "7c4917cf",
   "metadata": {},
   "outputs": [
    {
     "data": {
      "text/plain": [
       "15.180480552206452"
      ]
     },
     "execution_count": 471,
     "metadata": {},
     "output_type": "execute_result"
    }
   ],
   "source": [
    "#hata kareler ortalamasının karekoku\n",
    "np.sqrt(np.mean(k_t[\"hata_kare\"]))"
   ]
  },
  {
   "cell_type": "code",
   "execution_count": 472,
   "id": "379ded4e",
   "metadata": {},
   "outputs": [
    {
     "data": {
      "text/plain": [
       "Student\n",
       "1     13.664286\n",
       "2     -6.335714\n",
       "3    -28.335714\n",
       "4     -3.335714\n",
       "5     10.664286\n",
       "6     -4.335714\n",
       "7     -0.335714\n",
       "8    -22.335714\n",
       "9     19.664286\n",
       "10    15.664286\n",
       "dtype: float64"
      ]
     },
     "execution_count": 472,
     "metadata": {},
     "output_type": "execute_result"
    }
   ],
   "source": [
    "#her bir tahmin için artıklar (hatalar)\n",
    "model.resid[0:10]"
   ]
  },
  {
   "cell_type": "code",
   "execution_count": 473,
   "id": "10712ec4",
   "metadata": {},
   "outputs": [
    {
     "data": {
      "text/plain": [
       "[<matplotlib.lines.Line2D at 0x1b22cd28580>]"
      ]
     },
     "execution_count": 473,
     "metadata": {},
     "output_type": "execute_result"
    },
    {
     "data": {
      "image/png": "[encoded data removed]",
      "text/plain": [
       "<Figure size 432x288 with 1 Axes>"
      ]
     },
     "metadata": {
      "needs_background": "light"
     },
     "output_type": "display_data"
    }
   ],
   "source": [
    "#artıkların görselleştirilmesi\n",
    "#bu hatalar verisetindeki aykırı değerlerden mi kaynaklanıyor gibi soruların sorulabileceği \n",
    "#ve bu sorulara yanıt aramaya bizi sevk edecek gözlemler\n",
    "plt.plot(model.resid)"
   ]
  },
  {
   "cell_type": "markdown",
   "id": "a18c9d9a",
   "metadata": {},
   "source": [
    "### Çoklu Doğrusal Regresyon"
   ]
  },
  {
   "cell_type": "code",
   "execution_count": 474,
   "id": "d262a0c4",
   "metadata": {},
   "outputs": [
    {
     "name": "stdout",
     "output_type": "stream",
     "text": [
      "(172, 5)\n",
      "(172,)\n",
      "(44, 5)\n",
      "(44,)\n"
     ]
    }
   ],
   "source": [
    "from sklearn.model_selection import train_test_split, cross_val_score, cross_val_predict\n",
    "X = df_not_one_hot.drop(\"Score\", axis = 1)\n",
    "y = df_not_one_hot[\"Score\"]\n",
    "#randomstate her üretme işleminde farklı değerler çıkmasını istemedigimizden rastgele bir değer veriyoruz\n",
    "X_train, X_test, y_train, y_test = train_test_split(X, y, test_size = 0.20, random_state= 42)\n",
    "print(X_train.shape)\n",
    "print(y_train.shape)\n",
    "print(X_test.shape)\n",
    "print(y_test.shape)"
   ]
  },
  {
   "cell_type": "code",
   "execution_count": 475,
   "id": "f9fa5590",
   "metadata": {},
   "outputs": [
    {
     "data": {
      "text/plain": [
       "(216, 6)"
      ]
     },
     "execution_count": 475,
     "metadata": {},
     "output_type": "execute_result"
    }
   ],
   "source": [
    "#verisetinin bütününün kopyası\n",
    "training = df.copy()\n",
    "training.shape"
   ]
  },
  {
   "cell_type": "code",
   "execution_count": 476,
   "id": "9046c0d5",
   "metadata": {},
   "outputs": [
    {
     "data": {
      "text/html": [
       "<table class=\"simpletable\">\n",
       "<caption>OLS Regression Results</caption>\n",
       "<tr>\n",
       "  <th>Dep. Variable:</th>          <td>Score</td>      <th>  R-squared (uncentered):</th>      <td>   0.839</td>\n",
       "</tr>\n",
       "<tr>\n",
       "  <th>Model:</th>                   <td>OLS</td>       <th>  Adj. R-squared (uncentered):</th> <td>   0.834</td>\n",
       "</tr>\n",
       "<tr>\n",
       "  <th>Method:</th>             <td>Least Squares</td>  <th>  F-statistic:       </th>          <td>   173.7</td>\n",
       "</tr>\n",
       "<tr>\n",
       "  <th>Date:</th>             <td>Mon, 06 Jun 2022</td> <th>  Prob (F-statistic):</th>          <td>3.13e-64</td>\n",
       "</tr>\n",
       "<tr>\n",
       "  <th>Time:</th>                 <td>14:58:48</td>     <th>  Log-Likelihood:    </th>          <td> -810.05</td>\n",
       "</tr>\n",
       "<tr>\n",
       "  <th>No. Observations:</th>      <td>   172</td>      <th>  AIC:               </th>          <td>   1630.</td>\n",
       "</tr>\n",
       "<tr>\n",
       "  <th>Df Residuals:</th>          <td>   167</td>      <th>  BIC:               </th>          <td>   1646.</td>\n",
       "</tr>\n",
       "<tr>\n",
       "  <th>Df Model:</th>              <td>     5</td>      <th>                     </th>              <td> </td>   \n",
       "</tr>\n",
       "<tr>\n",
       "  <th>Covariance Type:</th>      <td>nonrobust</td>    <th>                     </th>              <td> </td>   \n",
       "</tr>\n",
       "</table>\n",
       "<table class=\"simpletable\">\n",
       "<tr>\n",
       "      <td></td>        <th>coef</th>     <th>std err</th>      <th>t</th>      <th>P>|t|</th>  <th>[0.025</th>    <th>0.975]</th>  \n",
       "</tr>\n",
       "<tr>\n",
       "  <th>Teacher</th>  <td>   37.3694</td> <td>    4.807</td> <td>    7.775</td> <td> 0.000</td> <td>   27.880</td> <td>   46.859</td>\n",
       "</tr>\n",
       "<tr>\n",
       "  <th>Gender</th>   <td>   11.7505</td> <td>    3.869</td> <td>    3.037</td> <td> 0.003</td> <td>    4.112</td> <td>   19.389</td>\n",
       "</tr>\n",
       "<tr>\n",
       "  <th>Ethnic</th>   <td>   10.2165</td> <td>    1.525</td> <td>    6.701</td> <td> 0.000</td> <td>    7.206</td> <td>   13.227</td>\n",
       "</tr>\n",
       "<tr>\n",
       "  <th>Freeredu</th> <td>   14.9487</td> <td>    3.971</td> <td>    3.764</td> <td> 0.000</td> <td>    7.109</td> <td>   22.788</td>\n",
       "</tr>\n",
       "<tr>\n",
       "  <th>Method</th>   <td>  -32.7170</td> <td>    9.089</td> <td>   -3.600</td> <td> 0.000</td> <td>  -50.661</td> <td>  -14.773</td>\n",
       "</tr>\n",
       "</table>\n",
       "<table class=\"simpletable\">\n",
       "<tr>\n",
       "  <th>Omnibus:</th>       <td> 2.291</td> <th>  Durbin-Watson:     </th> <td>   1.804</td>\n",
       "</tr>\n",
       "<tr>\n",
       "  <th>Prob(Omnibus):</th> <td> 0.318</td> <th>  Jarque-Bera (JB):  </th> <td>   2.132</td>\n",
       "</tr>\n",
       "<tr>\n",
       "  <th>Skew:</th>          <td> 0.188</td> <th>  Prob(JB):          </th> <td>   0.344</td>\n",
       "</tr>\n",
       "<tr>\n",
       "  <th>Kurtosis:</th>      <td> 2.605</td> <th>  Cond. No.          </th> <td>    11.1</td>\n",
       "</tr>\n",
       "</table><br/><br/>Notes:<br/>[1] R² is computed without centering (uncentered) since the model does not contain a constant.<br/>[2] Standard Errors assume that the covariance matrix of the errors is correctly specified."
      ],
      "text/plain": [
       "<class 'statsmodels.iolib.summary.Summary'>\n",
       "\"\"\"\n",
       "                                 OLS Regression Results                                \n",
       "=======================================================================================\n",
       "Dep. Variable:                  Score   R-squared (uncentered):                   0.839\n",
       "Model:                            OLS   Adj. R-squared (uncentered):              0.834\n",
       "Method:                 Least Squares   F-statistic:                              173.7\n",
       "Date:                Mon, 06 Jun 2022   Prob (F-statistic):                    3.13e-64\n",
       "Time:                        14:58:48   Log-Likelihood:                         -810.05\n",
       "No. Observations:                 172   AIC:                                      1630.\n",
       "Df Residuals:                     167   BIC:                                      1646.\n",
       "Df Model:                           5                                                  \n",
       "Covariance Type:            nonrobust                                                  \n",
       "==============================================================================\n",
       "                 coef    std err          t      P>|t|      [0.025      0.975]\n",
       "------------------------------------------------------------------------------\n",
       "Teacher       37.3694      4.807      7.775      0.000      27.880      46.859\n",
       "Gender        11.7505      3.869      3.037      0.003       4.112      19.389\n",
       "Ethnic        10.2165      1.525      6.701      0.000       7.206      13.227\n",
       "Freeredu      14.9487      3.971      3.764      0.000       7.109      22.788\n",
       "Method       -32.7170      9.089     -3.600      0.000     -50.661     -14.773\n",
       "==============================================================================\n",
       "Omnibus:                        2.291   Durbin-Watson:                   1.804\n",
       "Prob(Omnibus):                  0.318   Jarque-Bera (JB):                2.132\n",
       "Skew:                           0.188   Prob(JB):                        0.344\n",
       "Kurtosis:                       2.605   Cond. No.                         11.1\n",
       "==============================================================================\n",
       "\n",
       "Notes:\n",
       "[1] R² is computed without centering (uncentered) since the model does not contain a constant.\n",
       "[2] Standard Errors assume that the covariance matrix of the errors is correctly specified.\n",
       "\"\"\""
      ]
     },
     "execution_count": 476,
     "metadata": {},
     "output_type": "execute_result"
    }
   ],
   "source": [
    "#modeli oluşturma\n",
    "import statsmodels.api as sm\n",
    "lm = sm.OLS(y_train, X_train)\n",
    "model = lm.fit()\n",
    "model.summary()"
   ]
  },
  {
   "cell_type": "markdown",
   "id": "a9a840e4",
   "metadata": {},
   "source": [
    "Bakıldığında R karenin 0.149'dan 0.834'e arttığı gözlemleniyor. P-valuenun da 4.48e-09'dan 3.13e-64'e düştüğü gözlemleniyor"
   ]
  },
  {
   "cell_type": "code",
   "execution_count": 477,
   "id": "e342d8b9",
   "metadata": {},
   "outputs": [
    {
     "name": "stdout",
     "output_type": "stream",
     "text": [
      "Teacher     37.369359\n",
      "Gender      11.750520\n",
      "Ethnic      10.216538\n",
      "Freeredu    14.948691\n",
      "Method     -32.717016\n",
      "dtype: float64\n"
     ]
    }
   ],
   "source": [
    "#parametreleri bastırma\n",
    "print(model.params)"
   ]
  },
  {
   "cell_type": "code",
   "execution_count": 478,
   "id": "75e336db",
   "metadata": {
    "scrolled": true
   },
   "outputs": [
    {
     "name": "stdout",
     "output_type": "stream",
     "text": [
      "59.65865070006626\n",
      "[ 15.53742849  -5.6904678   -0.43853797  -1.44881654 -16.33223054]\n"
     ]
    }
   ],
   "source": [
    "#Sklearn ile yeniden yapıyoruz\n",
    "from sklearn.linear_model import LinearRegression\n",
    "lm = LinearRegression()\n",
    "model = lm.fit(X_train, y_train)\n",
    "#sabit katsayı\n",
    "print(model.intercept_)\n",
    "#bağımsız deşişken katsayıları \n",
    "print(model.coef_)"
   ]
  },
  {
   "cell_type": "markdown",
   "id": "ef054aa7",
   "metadata": {},
   "source": [
    "Tahmin yapıyoruz"
   ]
  },
  {
   "cell_type": "code",
   "execution_count": 479,
   "id": "44a080dd",
   "metadata": {},
   "outputs": [
    {
     "data": {
      "text/html": [
       "<div>\n",
       "<style scoped>\n",
       "    .dataframe tbody tr th:only-of-type {\n",
       "        vertical-align: middle;\n",
       "    }\n",
       "\n",
       "    .dataframe tbody tr th {\n",
       "        vertical-align: top;\n",
       "    }\n",
       "\n",
       "    .dataframe thead th {\n",
       "        text-align: right;\n",
       "    }\n",
       "</style>\n",
       "<table border=\"1\" class=\"dataframe\">\n",
       "  <thead>\n",
       "    <tr style=\"text-align: right;\">\n",
       "      <th></th>\n",
       "      <th>0</th>\n",
       "      <th>1</th>\n",
       "      <th>2</th>\n",
       "      <th>3</th>\n",
       "      <th>4</th>\n",
       "    </tr>\n",
       "  </thead>\n",
       "  <tbody>\n",
       "    <tr>\n",
       "      <th>0</th>\n",
       "      <td>0</td>\n",
       "      <td>0</td>\n",
       "      <td>0</td>\n",
       "      <td>0</td>\n",
       "      <td>0</td>\n",
       "    </tr>\n",
       "  </tbody>\n",
       "</table>\n",
       "</div>"
      ],
      "text/plain": [
       "   0  1  2  3  4\n",
       "0  0  0  0  0  0"
      ]
     },
     "execution_count": 479,
     "metadata": {},
     "output_type": "execute_result"
    }
   ],
   "source": [
    "#böyle bir veri setinde sonucun ne olduğunu tahmin ediyoruz\n",
    "yeni_veri = [[0], [0],[0],[0],[0]]\n",
    "yeni_veri = pd.DataFrame(yeni_veri).T\n",
    "yeni_veri"
   ]
  },
  {
   "cell_type": "code",
   "execution_count": 480,
   "id": "8700ecf0",
   "metadata": {},
   "outputs": [
    {
     "data": {
      "text/plain": [
       "array([59.6586507])"
      ]
     },
     "execution_count": 480,
     "metadata": {},
     "output_type": "execute_result"
    }
   ],
   "source": [
    "model.predict(yeni_veri) #Tahmin sonucu"
   ]
  },
  {
   "cell_type": "code",
   "execution_count": 481,
   "id": "1f2cc149",
   "metadata": {},
   "outputs": [
    {
     "name": "stdout",
     "output_type": "stream",
     "text": [
      "RMSE:  14.485226578783642\n"
     ]
    }
   ],
   "source": [
    "from sklearn.metrics import mean_squared_error\n",
    "#eğitim hatası\n",
    "rmse = np.sqrt(mean_squared_error(y_train, model.predict(X_train)))\n",
    "print(\"RMSE Train: \",rmse)"
   ]
  },
  {
   "cell_type": "code",
   "execution_count": 482,
   "id": "5ffdf04c",
   "metadata": {},
   "outputs": [
    {
     "name": "stdout",
     "output_type": "stream",
     "text": [
      "RMSE Test:  14.90302267441275\n"
     ]
    }
   ],
   "source": [
    "#test hatası\n",
    "rmse = np.sqrt(mean_squared_error(y_test, model.predict(X_test)))\n",
    "print(\"RMSE Test: \",rmse)"
   ]
  },
  {
   "cell_type": "markdown",
   "id": "4de22ed8",
   "metadata": {},
   "source": [
    "Diğer yöntemlere göre daha iyi bir sonuç aldık"
   ]
  },
  {
   "cell_type": "markdown",
   "id": "cd0718cd",
   "metadata": {},
   "source": [
    "***Model doğrulama***"
   ]
  },
  {
   "cell_type": "code",
   "execution_count": 402,
   "id": "7a0d707c",
   "metadata": {},
   "outputs": [],
   "source": [
    "\n",
    "X = df_not_one_hot.drop('Score', axis=1)\n",
    "y = df_not_one_hot[\"Score\"]\n",
    "X_train, X_test, y_train, y_test = train_test_split(X, y, test_size=0.20, random_state=90)\n",
    "lm = LinearRegression() \n",
    "model = lm.fit(X_train, y_train)"
   ]
  },
  {
   "cell_type": "code",
   "execution_count": 483,
   "id": "3516ccf4",
   "metadata": {},
   "outputs": [
    {
     "name": "stdout",
     "output_type": "stream",
     "text": [
      "RMSE Train:  14.485226578783642\n",
      "RMSE Train:  14.90302267441275\n"
     ]
    },
    {
     "data": {
      "text/plain": [
       "0.22228122998314692"
      ]
     },
     "execution_count": 483,
     "metadata": {},
     "output_type": "execute_result"
    }
   ],
   "source": [
    "rmseTrain=np.sqrt(mean_squared_error(y_train, model.predict(X_train)))\n",
    "print(\"RMSE Train: \",rmseTrain)\n",
    "rmseTest=np.sqrt(mean_squared_error(y_test, model.predict(X_test)))\n",
    "print(\"RMSE Test: \", rmseTest)\n",
    "model.score(X_train, y_train)"
   ]
  },
  {
   "cell_type": "code",
   "execution_count": 485,
   "id": "0d17e3b7",
   "metadata": {},
   "outputs": [
    {
     "data": {
      "text/plain": [
       "0.11453312253896604"
      ]
     },
     "execution_count": 485,
     "metadata": {},
     "output_type": "execute_result"
    }
   ],
   "source": [
    "#eğitim verileri için çapraz doğrulama ile elde edilmiş ortalama r2 skoru\n",
    "cross_val_score(model, X_train, y_train, cv = 10, scoring = \"r2\").mean()"
   ]
  },
  {
   "cell_type": "code",
   "execution_count": 487,
   "id": "6f83e6d1",
   "metadata": {},
   "outputs": [
    {
     "name": "stdout",
     "output_type": "stream",
     "text": [
      "RMSE Train:  14.870461926857008\n",
      "RMSE Test:  17.05247918162859\n"
     ]
    }
   ],
   "source": [
    "#neg_mean_squared_error'da sonuc negatif olacağı için üstte (-) ile çarpıyoruz \n",
    "rmseTrain=np.sqrt(-cross_val_score(model, \n",
    "                X_train, \n",
    "                y_train, \n",
    "                cv = 10, \n",
    "                scoring = \"neg_mean_squared_error\")).mean()\n",
    "print(\"RMSE Train: \",rmseTrain)\n",
    "rmseTest=np.sqrt(-cross_val_score(model, \n",
    "                X_test, \n",
    "                y_test, \n",
    "                cv = 10, \n",
    "                scoring = \"neg_mean_squared_error\")).mean()\n",
    "print(\"RMSE Test: \",rmseTest)"
   ]
  },
  {
   "cell_type": "markdown",
   "id": "cbdb1772",
   "metadata": {},
   "source": [
    "Cros validation ile hatanın biraz daha fazla çıkıyor"
   ]
  },
  {
   "cell_type": "markdown",
   "id": "0743df02",
   "metadata": {},
   "source": [
    "### PCR (Temel Bileşen Regresyonu - Principal Component Regression)\n"
   ]
  },
  {
   "cell_type": "markdown",
   "id": "85b12b39",
   "metadata": {},
   "source": [
    "***Model***"
   ]
  },
  {
   "cell_type": "code",
   "execution_count": 561,
   "id": "85656e44",
   "metadata": {},
   "outputs": [],
   "source": [
    "y = df_one_hot[\"Score\"]"
   ]
  },
  {
   "cell_type": "code",
   "execution_count": 564,
   "id": "8edaa9ea",
   "metadata": {},
   "outputs": [
    {
     "data": {
      "text/html": [
       "<div>\n",
       "<style scoped>\n",
       "    .dataframe tbody tr th:only-of-type {\n",
       "        vertical-align: middle;\n",
       "    }\n",
       "\n",
       "    .dataframe tbody tr th {\n",
       "        vertical-align: top;\n",
       "    }\n",
       "\n",
       "    .dataframe thead th {\n",
       "        text-align: right;\n",
       "    }\n",
       "</style>\n",
       "<table border=\"1\" class=\"dataframe\">\n",
       "  <thead>\n",
       "    <tr style=\"text-align: right;\">\n",
       "      <th></th>\n",
       "      <th>Teacher_Smith</th>\n",
       "      <th>Teacher_Wesson</th>\n",
       "      <th>Gender_Male</th>\n",
       "      <th>Ethnic_Asian</th>\n",
       "      <th>Ethnic_Caucasian</th>\n",
       "      <th>Ethnic_Hispanic</th>\n",
       "      <th>Freeredu_Paid lunch</th>\n",
       "      <th>Method_Traditional</th>\n",
       "    </tr>\n",
       "    <tr>\n",
       "      <th>Student</th>\n",
       "      <th></th>\n",
       "      <th></th>\n",
       "      <th></th>\n",
       "      <th></th>\n",
       "      <th></th>\n",
       "      <th></th>\n",
       "      <th></th>\n",
       "      <th></th>\n",
       "    </tr>\n",
       "  </thead>\n",
       "  <tbody>\n",
       "    <tr>\n",
       "      <th>1</th>\n",
       "      <td>0</td>\n",
       "      <td>0</td>\n",
       "      <td>0</td>\n",
       "      <td>1</td>\n",
       "      <td>0</td>\n",
       "      <td>0</td>\n",
       "      <td>0</td>\n",
       "      <td>0</td>\n",
       "    </tr>\n",
       "    <tr>\n",
       "      <th>2</th>\n",
       "      <td>0</td>\n",
       "      <td>0</td>\n",
       "      <td>0</td>\n",
       "      <td>0</td>\n",
       "      <td>0</td>\n",
       "      <td>1</td>\n",
       "      <td>1</td>\n",
       "      <td>0</td>\n",
       "    </tr>\n",
       "    <tr>\n",
       "      <th>3</th>\n",
       "      <td>0</td>\n",
       "      <td>0</td>\n",
       "      <td>0</td>\n",
       "      <td>0</td>\n",
       "      <td>0</td>\n",
       "      <td>0</td>\n",
       "      <td>0</td>\n",
       "      <td>0</td>\n",
       "    </tr>\n",
       "    <tr>\n",
       "      <th>4</th>\n",
       "      <td>0</td>\n",
       "      <td>0</td>\n",
       "      <td>0</td>\n",
       "      <td>1</td>\n",
       "      <td>0</td>\n",
       "      <td>0</td>\n",
       "      <td>1</td>\n",
       "      <td>0</td>\n",
       "    </tr>\n",
       "    <tr>\n",
       "      <th>5</th>\n",
       "      <td>0</td>\n",
       "      <td>0</td>\n",
       "      <td>1</td>\n",
       "      <td>0</td>\n",
       "      <td>0</td>\n",
       "      <td>1</td>\n",
       "      <td>0</td>\n",
       "      <td>0</td>\n",
       "    </tr>\n",
       "  </tbody>\n",
       "</table>\n",
       "</div>"
      ],
      "text/plain": [
       "         Teacher_Smith  Teacher_Wesson  Gender_Male  Ethnic_Asian  \\\n",
       "Student                                                             \n",
       "1                    0               0            0             1   \n",
       "2                    0               0            0             0   \n",
       "3                    0               0            0             0   \n",
       "4                    0               0            0             1   \n",
       "5                    0               0            1             0   \n",
       "\n",
       "         Ethnic_Caucasian  Ethnic_Hispanic  Freeredu_Paid lunch  \\\n",
       "Student                                                           \n",
       "1                       0                0                    0   \n",
       "2                       0                1                    1   \n",
       "3                       0                0                    0   \n",
       "4                       0                0                    1   \n",
       "5                       0                1                    0   \n",
       "\n",
       "         Method_Traditional  \n",
       "Student                      \n",
       "1                         0  \n",
       "2                         0  \n",
       "3                         0  \n",
       "4                         0  \n",
       "5                         0  "
      ]
     },
     "execution_count": 564,
     "metadata": {},
     "output_type": "execute_result"
    }
   ],
   "source": [
    "X = df_one_hot.drop(\"Score\", axis = 1)\n",
    "X.head()"
   ]
  },
  {
   "cell_type": "code",
   "execution_count": 565,
   "id": "622dcc3c",
   "metadata": {},
   "outputs": [
    {
     "name": "stdout",
     "output_type": "stream",
     "text": [
      "X_train (162, 8)\n",
      "y_train (162,)\n",
      "X_test (54, 8)\n",
      "y_test (54,)\n",
      "training (216, 6)\n"
     ]
    }
   ],
   "source": [
    "X_train, X_test, y_train, y_test = train_test_split(X, \n",
    "                                                    y, \n",
    "                                                    test_size=0.25, \n",
    "                                                    random_state=42)\n",
    "\n",
    "print(\"X_train\", X_train.shape)\n",
    "print(\"y_train\",y_train.shape)\n",
    "print(\"X_test\",X_test.shape)\n",
    "print(\"y_test\",y_test.shape)\n",
    "training = df.copy()\n",
    "print(\"training\", training.shape)"
   ]
  },
  {
   "cell_type": "code",
   "execution_count": 566,
   "id": "0dfcd037",
   "metadata": {},
   "outputs": [
    {
     "data": {
      "text/plain": [
       "array([[-1.99196149e+00,  1.09083626e+00,  3.99899676e-01,\n",
       "        -9.42582957e-01, -8.79803415e-01,  9.73400133e-01,\n",
       "        -2.14582218e-01,  3.51790034e-16]])"
      ]
     },
     "execution_count": 566,
     "metadata": {},
     "output_type": "execute_result"
    }
   ],
   "source": [
    "from sklearn.decomposition import PCA\n",
    "from sklearn.preprocessing import scale \n",
    "pca = PCA()\n",
    "#indirgenmiş veriseti (transform indirgeme islemi)(scale islemi veri standardizasyonu yapmayi saglar)\n",
    "\n",
    "X_reduced_train = pca.fit_transform(scale(X_train))\n",
    "#ilk gözlemin tüm bileşenlerde incelenmesi\n",
    "X_reduced_train[0:1,:]\n",
    "#Normalde PCA n_components yani bileşen sayısı parametresini alır. Eğer parametreyi vermezsek bütün bileşenleri kullanır."
   ]
  },
  {
   "cell_type": "code",
   "execution_count": 567,
   "id": "37e0ee30",
   "metadata": {},
   "outputs": [
    {
     "data": {
      "text/plain": [
       "array([ 30.14,  47.73,  64.17,  76.31,  87.92,  95.99, 100.01, 100.01])"
      ]
     },
     "execution_count": 567,
     "metadata": {},
     "output_type": "execute_result"
    }
   ],
   "source": [
    "#açıklanan varyans oranı\n",
    "np.cumsum(np.round(pca.explained_variance_ratio_, decimals = 4)*100)\n",
    "#1. bilesen verisetindeki varyansın %38ini ifade ettiğini belirtir.\n",
    "#2. bileşenin kendinden önceki bileşenle birlikte verisetindeki varyansın %59unu ifade ettiğini belirtir.\n",
    "#3. bileşenin kendinden önceki bileşenlerle birlikte verisetindeki varyansın %70unu ifade ettiğini belirtir.\n",
    "#...\n",
    "\n",
    "#burada 10 bileşenle verisetindeki varyansın %97'sini ifade edebiliyoruz."
   ]
  },
  {
   "cell_type": "code",
   "execution_count": 568,
   "id": "7ef081f3",
   "metadata": {},
   "outputs": [
    {
     "name": "stdout",
     "output_type": "stream",
     "text": [
      "65.15432098765432\n",
      "[ 1.81477250e+00 -4.81128735e-01 -6.02240823e-01  1.48089889e+00\n",
      " -1.00623836e+00  8.85402172e+00  2.16313616e+00 -5.30508959e-29]\n"
     ]
    }
   ],
   "source": [
    "lm = LinearRegression()\n",
    "pcr_model = lm.fit(X_reduced_train, y_train)\n",
    "#modelin formülü\n",
    "print(pcr_model.intercept_)\n",
    "print(pcr_model.coef_)"
   ]
  },
  {
   "cell_type": "markdown",
   "id": "1f37ff97",
   "metadata": {},
   "source": [
    "***Tahmin***"
   ]
  },
  {
   "cell_type": "code",
   "execution_count": 569,
   "id": "d5351729",
   "metadata": {},
   "outputs": [
    {
     "data": {
      "text/plain": [
       "array([68.41745273, 50.42006092, 51.44724388, 51.44724388, 67.02482451])"
      ]
     },
     "execution_count": 569,
     "metadata": {},
     "output_type": "execute_result"
    }
   ],
   "source": [
    "y_pred = pcr_model.predict(X_reduced_train)\n",
    "#beklenen değerler\n",
    "y_pred[0:5]"
   ]
  },
  {
   "cell_type": "code",
   "execution_count": 570,
   "id": "d597ff54",
   "metadata": {},
   "outputs": [
    {
     "data": {
      "text/plain": [
       "14.328214406266419"
      ]
     },
     "execution_count": 570,
     "metadata": {},
     "output_type": "execute_result"
    }
   ],
   "source": [
    "from sklearn.metrics import mean_squared_error, r2_score\n",
    "np.sqrt(mean_squared_error(y_train, y_pred))#RMSE\n"
   ]
  },
  {
   "cell_type": "code",
   "execution_count": 571,
   "id": "f292d7d8",
   "metadata": {},
   "outputs": [
    {
     "data": {
      "text/plain": [
       "65.27314814814815"
      ]
     },
     "execution_count": 571,
     "metadata": {},
     "output_type": "execute_result"
    }
   ],
   "source": [
    "df[\"Score\"].mean()"
   ]
  },
  {
   "cell_type": "code",
   "execution_count": 572,
   "id": "00bcbe4a",
   "metadata": {},
   "outputs": [
    {
     "data": {
      "text/plain": [
       "0.23746133931003865"
      ]
     },
     "execution_count": 572,
     "metadata": {},
     "output_type": "execute_result"
    }
   ],
   "source": [
    "r2_score(y_train, y_pred)"
   ]
  },
  {
   "cell_type": "code",
   "execution_count": 573,
   "id": "13ecca85",
   "metadata": {},
   "outputs": [
    {
     "name": "stdout",
     "output_type": "stream",
     "text": [
      "RMSE Test:  18.985800397820526\n"
     ]
    }
   ],
   "source": [
    "pca2 = PCA()\n",
    "X_reduced_test = pca2.fit_transform(scale(X_test))\n",
    "y_pred = pcr_model.predict(X_reduced_test)\n",
    "rmse = np.sqrt(mean_squared_error(y_test, y_pred))#RMSE\n",
    "print(\"RMSE Test: \", rmse)"
   ]
  },
  {
   "cell_type": "markdown",
   "id": "15b16385",
   "metadata": {},
   "source": [
    "Diğer yöntemlerden çok daha kötü bir sonuç aldık"
   ]
  },
  {
   "cell_type": "markdown",
   "id": "064cddf8",
   "metadata": {},
   "source": [
    "***Model Tuning***"
   ]
  },
  {
   "cell_type": "code",
   "execution_count": 574,
   "id": "b3039739",
   "metadata": {},
   "outputs": [
    {
     "name": "stdout",
     "output_type": "stream",
     "text": [
      "RMSE Test:  18.985800397820526\n"
     ]
    }
   ],
   "source": [
    "lm = LinearRegression()\n",
    "#tüm bileşenlerle ile deneyelim\n",
    "pcr_model = lm.fit(X_reduced_train, y_train)\n",
    "y_pred = pcr_model.predict(X_reduced_test)\n",
    "print(\"RMSE Test: \", np.sqrt(mean_squared_error(y_test, y_pred)))#RMSE"
   ]
  },
  {
   "cell_type": "code",
   "execution_count": 575,
   "id": "91167a1c",
   "metadata": {},
   "outputs": [
    {
     "name": "stdout",
     "output_type": "stream",
     "text": [
      "RMSE Test:  18.985800397820526\n"
     ]
    }
   ],
   "source": [
    "lm = LinearRegression()\n",
    "#15 bileşenle ile bir deneyelim\n",
    "pcr_model = lm.fit(X_reduced_train[:,0:15], y_train)\n",
    "y_pred = pcr_model.predict(X_reduced_test[:,0:15])\n",
    "print(\"RMSE Test: \",np.sqrt(mean_squared_error(y_test, y_pred)))#RMS\n",
    "# Bir değişim olmadı"
   ]
  },
  {
   "cell_type": "code",
   "execution_count": 576,
   "id": "2dc92a90",
   "metadata": {},
   "outputs": [],
   "source": [
    "#cross validation sayesinde olası bileşen sayılarıni gonderip optimum bileşen sayısını belirleyebiliriz \n",
    "from sklearn import model_selection\n",
    "cv_10 = model_selection.KFold(n_splits = 10,\n",
    "                             shuffle = True,\n",
    "                             random_state = 1)\n",
    "lm = LinearRegression()\n",
    "RMSE = []\n",
    "\n",
    "\n",
    "for i in np.arange(1, X_reduced_train.shape[1] + 1):\n",
    "    \n",
    "    score = np.sqrt(-1*model_selection.cross_val_score(lm, \n",
    "                                                       X_reduced_train[:,:i], \n",
    "                                                       y_train.ravel(), \n",
    "                                                       cv=cv_10, \n",
    "                                                       scoring='neg_mean_squared_error').mean())\n",
    "    RMSE.append(score)"
   ]
  },
  {
   "cell_type": "code",
   "execution_count": 577,
   "id": "b18af257",
   "metadata": {},
   "outputs": [
    {
     "data": {
      "image/png": "[encoded data removed]",
      "text/plain": [
       "<Figure size 432x288 with 1 Axes>"
      ]
     },
     "metadata": {
      "needs_background": "light"
     },
     "output_type": "display_data"
    }
   ],
   "source": [
    "import matplotlib.pyplot as plt\n",
    "plt.plot(RMSE, '-v')\n",
    "plt.xlabel('Bileşen Sayısı')\n",
    "plt.ylabel('RMSE')\n",
    "plt.title('Skor Tahmin Modeli İçin PCR Model Tuning');"
   ]
  },
  {
   "cell_type": "markdown",
   "id": "62b72d75",
   "metadata": {},
   "source": [
    "En iyi sonucun 5 bileşende olduğunu görüyoruz"
   ]
  },
  {
   "cell_type": "code",
   "execution_count": 578,
   "id": "09c2876d",
   "metadata": {},
   "outputs": [
    {
     "name": "stdout",
     "output_type": "stream",
     "text": [
      "RMSE Train:  16.04420764190927\n",
      "RMSE Test:  16.064782759159666\n"
     ]
    }
   ],
   "source": [
    "lm = LinearRegression()\n",
    "pcr_model = lm.fit(X_reduced_train[:,0:5], y_train)\n",
    "y_pred = pcr_model.predict(X_reduced_train[:,0:5])\n",
    "print(\"RMSE Train: \",np.sqrt(mean_squared_error(y_train, y_pred)))#RMSE\n",
    "y_pred = pcr_model.predict(X_reduced_test[:,0:5])\n",
    "print(\"RMSE Test: \", np.sqrt(mean_squared_error(y_test, y_pred)))#RMSE"
   ]
  },
  {
   "cell_type": "markdown",
   "id": "f05add36",
   "metadata": {},
   "source": [
    "Tuning yaparak rmseyi 16'ya kadar indiriyoruz"
   ]
  },
  {
   "cell_type": "markdown",
   "id": "1e5df452",
   "metadata": {},
   "source": [
    "###  PLS (Kısmi En Küçük Kareler Regresyonu)\n"
   ]
  },
  {
   "cell_type": "markdown",
   "id": "aeafaf39",
   "metadata": {},
   "source": [
    "***Model***"
   ]
  },
  {
   "cell_type": "code",
   "execution_count": 1040,
   "id": "2ab1ca10",
   "metadata": {},
   "outputs": [],
   "source": [
    "X = df_one_hot.drop(\"Score\", axis = 1)\n",
    "y = df[\"Score\"]\n",
    "X_train, X_test, y_train, y_test = train_test_split(X, y, test_size=0.25, random_state=42)"
   ]
  },
  {
   "cell_type": "code",
   "execution_count": 1041,
   "id": "f0004b4a",
   "metadata": {},
   "outputs": [
    {
     "data": {
      "text/plain": [
       "array([[ 7.03167671],\n",
       "       [ 3.75140577],\n",
       "       [-2.56457984],\n",
       "       [-0.5971045 ],\n",
       "       [-1.29015167],\n",
       "       [-0.44867747],\n",
       "       [-0.54527071],\n",
       "       [ 3.75140577]])"
      ]
     },
     "execution_count": 1041,
     "metadata": {},
     "output_type": "execute_result"
    }
   ],
   "source": [
    "from sklearn.cross_decomposition import PLSRegression, PLSSVD\n",
    "#tum bilesenler alindi\n",
    "pls_model = PLSRegression().fit(X_train, y_train)\n",
    "#3 bilesene indirgeyebiliriz ancak bu ara katmandaki PLS factor sayisini belirler, degisken sayisi gene aynidir.\n",
    "pls_model.coef_"
   ]
  },
  {
   "cell_type": "markdown",
   "id": "eaf67274",
   "metadata": {},
   "source": [
    "***Tahmin***"
   ]
  },
  {
   "cell_type": "code",
   "execution_count": 1042,
   "id": "f3236d01",
   "metadata": {},
   "outputs": [
    {
     "data": {
      "text/html": [
       "<div>\n",
       "<style scoped>\n",
       "    .dataframe tbody tr th:only-of-type {\n",
       "        vertical-align: middle;\n",
       "    }\n",
       "\n",
       "    .dataframe tbody tr th {\n",
       "        vertical-align: top;\n",
       "    }\n",
       "\n",
       "    .dataframe thead th {\n",
       "        text-align: right;\n",
       "    }\n",
       "</style>\n",
       "<table border=\"1\" class=\"dataframe\">\n",
       "  <thead>\n",
       "    <tr style=\"text-align: right;\">\n",
       "      <th></th>\n",
       "      <th>Teacher_Smith</th>\n",
       "      <th>Teacher_Wesson</th>\n",
       "      <th>Gender_Male</th>\n",
       "      <th>Ethnic_Asian</th>\n",
       "      <th>Ethnic_Caucasian</th>\n",
       "      <th>Ethnic_Hispanic</th>\n",
       "      <th>Freeredu_Paid lunch</th>\n",
       "      <th>Method_Traditional</th>\n",
       "    </tr>\n",
       "    <tr>\n",
       "      <th>Student</th>\n",
       "      <th></th>\n",
       "      <th></th>\n",
       "      <th></th>\n",
       "      <th></th>\n",
       "      <th></th>\n",
       "      <th></th>\n",
       "      <th></th>\n",
       "      <th></th>\n",
       "    </tr>\n",
       "  </thead>\n",
       "  <tbody>\n",
       "    <tr>\n",
       "      <th>121</th>\n",
       "      <td>1</td>\n",
       "      <td>0</td>\n",
       "      <td>1</td>\n",
       "      <td>0</td>\n",
       "      <td>0</td>\n",
       "      <td>1</td>\n",
       "      <td>1</td>\n",
       "      <td>0</td>\n",
       "    </tr>\n",
       "    <tr>\n",
       "      <th>30</th>\n",
       "      <td>0</td>\n",
       "      <td>0</td>\n",
       "      <td>1</td>\n",
       "      <td>0</td>\n",
       "      <td>1</td>\n",
       "      <td>0</td>\n",
       "      <td>1</td>\n",
       "      <td>0</td>\n",
       "    </tr>\n",
       "    <tr>\n",
       "      <th>20</th>\n",
       "      <td>0</td>\n",
       "      <td>0</td>\n",
       "      <td>1</td>\n",
       "      <td>1</td>\n",
       "      <td>0</td>\n",
       "      <td>0</td>\n",
       "      <td>1</td>\n",
       "      <td>0</td>\n",
       "    </tr>\n",
       "    <tr>\n",
       "      <th>70</th>\n",
       "      <td>0</td>\n",
       "      <td>0</td>\n",
       "      <td>1</td>\n",
       "      <td>1</td>\n",
       "      <td>0</td>\n",
       "      <td>0</td>\n",
       "      <td>1</td>\n",
       "      <td>0</td>\n",
       "    </tr>\n",
       "    <tr>\n",
       "      <th>98</th>\n",
       "      <td>1</td>\n",
       "      <td>0</td>\n",
       "      <td>1</td>\n",
       "      <td>1</td>\n",
       "      <td>0</td>\n",
       "      <td>0</td>\n",
       "      <td>1</td>\n",
       "      <td>0</td>\n",
       "    </tr>\n",
       "  </tbody>\n",
       "</table>\n",
       "</div>"
      ],
      "text/plain": [
       "         Teacher_Smith  Teacher_Wesson  Gender_Male  Ethnic_Asian  \\\n",
       "Student                                                             \n",
       "121                  1               0            1             0   \n",
       "30                   0               0            1             0   \n",
       "20                   0               0            1             1   \n",
       "70                   0               0            1             1   \n",
       "98                   1               0            1             1   \n",
       "\n",
       "         Ethnic_Caucasian  Ethnic_Hispanic  Freeredu_Paid lunch  \\\n",
       "Student                                                           \n",
       "121                     0                1                    1   \n",
       "30                      1                0                    1   \n",
       "20                      0                0                    1   \n",
       "70                      0                0                    1   \n",
       "98                      0                0                    1   \n",
       "\n",
       "         Method_Traditional  \n",
       "Student                      \n",
       "121                       0  \n",
       "30                        0  \n",
       "20                        0  \n",
       "70                        0  \n",
       "98                        0  "
      ]
     },
     "execution_count": 1042,
     "metadata": {},
     "output_type": "execute_result"
    }
   ],
   "source": [
    "X_train.head()"
   ]
  },
  {
   "cell_type": "code",
   "execution_count": 1043,
   "id": "64911b17",
   "metadata": {},
   "outputs": [
    {
     "data": {
      "text/plain": [
       "array([[68.00189509],\n",
       "       [50.38804176],\n",
       "       [52.24939995],\n",
       "       [52.24939995],\n",
       "       [67.60109364],\n",
       "       [59.83174263],\n",
       "       [57.37247417],\n",
       "       [50.38804176],\n",
       "       [73.12496931],\n",
       "       [53.33956525],\n",
       "       [72.72416785],\n",
       "       [72.39634017],\n",
       "       [74.2151346 ],\n",
       "       [52.65020141],\n",
       "       [75.18343631],\n",
       "       [69.13462415],\n",
       "       [53.7403667 ],\n",
       "       [53.7403667 ],\n",
       "       [50.38804176],\n",
       "       [52.65020141],\n",
       "       [52.65020141],\n",
       "       [75.62680152],\n",
       "       [70.86280966],\n",
       "       [69.13462415],\n",
       "       [50.38804176],\n",
       "       [66.18310066],\n",
       "       [74.65849982],\n",
       "       [69.09206039],\n",
       "       [52.65020141],\n",
       "       [70.86280966],\n",
       "       [70.06036209],\n",
       "       [67.60109364],\n",
       "       [57.77327562],\n",
       "       [73.16753307],\n",
       "       [74.09327101],\n",
       "       [73.12496931],\n",
       "       [59.83174263],\n",
       "       [68.9701968 ],\n",
       "       [52.65020141],\n",
       "       [68.44526031],\n",
       "       [68.00189509],\n",
       "       [71.95297495],\n",
       "       [75.18343631],\n",
       "       [71.30617487],\n",
       "       [58.86344092],\n",
       "       [68.69125893],\n",
       "       [52.65020141],\n",
       "       [57.77327562],\n",
       "       [69.5354256 ],\n",
       "       [67.60109364],\n",
       "       [51.47820705],\n",
       "       [57.37247417],\n",
       "       [66.18310066],\n",
       "       [69.13462415],\n",
       "       [58.74157733],\n",
       "       [51.47820705],\n",
       "       [70.50372731],\n",
       "       [66.18310066],\n",
       "       [70.50372731],\n",
       "       [53.7403667 ],\n",
       "       [52.24939995],\n",
       "       [73.16753307],\n",
       "       [67.27326595],\n",
       "       [74.25769836],\n",
       "       [74.25769836],\n",
       "       [71.95297495],\n",
       "       [53.61850311],\n",
       "       [58.46263947],\n",
       "       [66.82990074],\n",
       "       [74.65849982],\n",
       "       [71.30617487],\n",
       "       [58.46263947],\n",
       "       [71.30617487],\n",
       "       [71.30617487],\n",
       "       [58.74157733],\n",
       "       [69.41356201],\n",
       "       [53.61850311],\n",
       "       [57.77327562],\n",
       "       [66.18310066],\n",
       "       [58.46263947],\n",
       "       [70.06036209],\n",
       "       [54.70866841],\n",
       "       [69.13462415],\n",
       "       [70.50372731],\n",
       "       [69.09206039],\n",
       "       [58.74157733],\n",
       "       [74.25769836],\n",
       "       [58.46263947],\n",
       "       [68.00189509],\n",
       "       [74.65849982],\n",
       "       [54.70866841],\n",
       "       [69.13462415],\n",
       "       [73.16753307],\n",
       "       [57.37247417],\n",
       "       [65.73973544],\n",
       "       [58.46263947],\n",
       "       [72.72416785],\n",
       "       [73.56833452],\n",
       "       [74.65849982],\n",
       "       [74.25769836],\n",
       "       [58.86344092],\n",
       "       [74.09327101],\n",
       "       [58.74157733],\n",
       "       [53.7403667 ],\n",
       "       [72.72416785],\n",
       "       [69.09206039],\n",
       "       [67.60109364],\n",
       "       [73.16753307],\n",
       "       [75.62680152],\n",
       "       [68.9701968 ],\n",
       "       [59.83174263],\n",
       "       [51.47820705],\n",
       "       [52.65020141],\n",
       "       [75.62680152],\n",
       "       [68.9701968 ],\n",
       "       [59.83174263],\n",
       "       [67.27326595],\n",
       "       [73.12496931],\n",
       "       [70.50372731],\n",
       "       [68.00189509],\n",
       "       [74.53663623],\n",
       "       [66.18310066],\n",
       "       [58.86344092],\n",
       "       [59.83174263],\n",
       "       [74.2151346 ],\n",
       "       [57.77327562],\n",
       "       [74.65849982],\n",
       "       [69.5354256 ],\n",
       "       [69.41356201],\n",
       "       [53.7403667 ],\n",
       "       [58.86344092],\n",
       "       [72.72416785],\n",
       "       [53.33956525],\n",
       "       [54.70866841],\n",
       "       [74.65849982],\n",
       "       [72.39634017],\n",
       "       [68.44526031],\n",
       "       [68.69125893],\n",
       "       [50.38804176],\n",
       "       [73.56833452],\n",
       "       [69.41356201],\n",
       "       [57.77327562],\n",
       "       [52.65020141],\n",
       "       [69.41356201],\n",
       "       [67.60109364],\n",
       "       [67.27326595],\n",
       "       [70.06036209],\n",
       "       [67.60109364],\n",
       "       [67.60109364],\n",
       "       [68.9701968 ],\n",
       "       [69.13462415],\n",
       "       [65.73973544],\n",
       "       [73.12496931],\n",
       "       [68.44526031],\n",
       "       [57.77327562],\n",
       "       [74.53663623],\n",
       "       [67.60109364],\n",
       "       [69.09206039],\n",
       "       [56.60128127],\n",
       "       [70.86280966],\n",
       "       [75.62680152],\n",
       "       [70.86280966]])"
      ]
     },
     "execution_count": 1043,
     "metadata": {},
     "output_type": "execute_result"
    }
   ],
   "source": [
    "#modelin beklediği x  değerleri\n",
    "pls_model.predict(X_train)"
   ]
  },
  {
   "cell_type": "code",
   "execution_count": 1044,
   "id": "c2ed8649",
   "metadata": {},
   "outputs": [
    {
     "name": "stdout",
     "output_type": "stream",
     "text": [
      "RMSE Train:  14.352705677627425\n"
     ]
    }
   ],
   "source": [
    "from sklearn.metrics import mean_squared_error, r2_score\n",
    "#RMSE\n",
    "y_pred = pls_model.predict(X_train)\n",
    "print(\"RMSE Train: \", np.sqrt(mean_squared_error(y_train, y_pred)))"
   ]
  },
  {
   "cell_type": "code",
   "execution_count": 1045,
   "id": "67e04f23",
   "metadata": {},
   "outputs": [
    {
     "data": {
      "text/plain": [
       "0.23485229092214122"
      ]
     },
     "execution_count": 1045,
     "metadata": {},
     "output_type": "execute_result"
    }
   ],
   "source": [
    "r2_score(y_train, y_pred)"
   ]
  },
  {
   "cell_type": "code",
   "execution_count": 1046,
   "id": "c86a4d72",
   "metadata": {},
   "outputs": [
    {
     "name": "stdout",
     "output_type": "stream",
     "text": [
      "RMSE Test:  15.019672703968041\n"
     ]
    }
   ],
   "source": [
    "#RMSE test setindeki sonuçları\n",
    "y_pred = pls_model.predict(X_test)\n",
    "print(\"RMSE Test: \",np.sqrt(mean_squared_error(y_test, y_pred)))"
   ]
  },
  {
   "cell_type": "markdown",
   "id": "181a5337",
   "metadata": {},
   "source": [
    "Burada diğer yöntemlere göre çok daha iyi bir sonuç aldık"
   ]
  },
  {
   "cell_type": "markdown",
   "id": "d5f9acf7",
   "metadata": {},
   "source": [
    "***Model Tuning***"
   ]
  },
  {
   "cell_type": "code",
   "execution_count": 1047,
   "id": "f3f9c190",
   "metadata": {},
   "outputs": [
    {
     "data": {
      "image/png": "[encoded data removed]",
      "text/plain": [
       "<Figure size 432x288 with 1 Axes>"
      ]
     },
     "metadata": {
      "needs_background": "light"
     },
     "output_type": "display_data"
    }
   ],
   "source": [
    "#CV\n",
    "cv_10 = model_selection.KFold(n_splits=10, shuffle=True, random_state=1)\n",
    "\n",
    "\n",
    "#Hata hesaplamak için döngü\n",
    "RMSE = []\n",
    "\n",
    "for i in np.arange(1, X_train.shape[1] + 1):\n",
    "    pls = PLSRegression(n_components=i)\n",
    "    score = np.sqrt(-1*cross_val_score(pls, X_train, y_train, cv=cv_10, scoring='neg_mean_squared_error').mean())\n",
    "    RMSE.append(score)\n",
    "\n",
    "#Sonuçların Görselleştirilmesi\n",
    "import matplotlib.pyplot as plt\n",
    "plt.plot(np.arange(1, X_train.shape[1] + 1), np.array(RMSE), '-v', c = \"r\")\n",
    "plt.xlabel('Bileşen Sayısı')\n",
    "plt.ylabel('RMSE')\n",
    "plt.title('Score');"
   ]
  },
  {
   "cell_type": "code",
   "execution_count": 1063,
   "id": "6a7aba79",
   "metadata": {},
   "outputs": [],
   "source": [
    "#en optimum bileşen sayısını 1-ila 7 arasında buluyoruz buluyoruz\n",
    "pls_model = PLSRegression(n_components = 7).fit(X_train, y_train)"
   ]
  },
  {
   "cell_type": "code",
   "execution_count": 1064,
   "id": "bd7ee05e",
   "metadata": {},
   "outputs": [],
   "source": [
    "y_pred = pls_model.predict(X_test)"
   ]
  },
  {
   "cell_type": "code",
   "execution_count": 1065,
   "id": "7d91fdc2",
   "metadata": {},
   "outputs": [
    {
     "name": "stdout",
     "output_type": "stream",
     "text": [
      "RMSE Test:  15.14541141744588\n"
     ]
    }
   ],
   "source": [
    "#RMSE\n",
    "print(\"RMSE Test: \",np.sqrt(mean_squared_error(y_test, y_pred)))\n",
    "#Yukarıda default değeri olan 2 ile de denemiştik ve onda daha iyi bir sonuç almıştık. Demekki en optimum değer 2 olduğunda"
   ]
  },
  {
   "cell_type": "markdown",
   "id": "383a0cbf",
   "metadata": {},
   "source": [
    "Hata daha da düştü"
   ]
  },
  {
   "cell_type": "markdown",
   "id": "11ba8e3b",
   "metadata": {},
   "source": [
    "### Ridge Regresyon\n"
   ]
  },
  {
   "cell_type": "markdown",
   "id": "6486304b",
   "metadata": {},
   "source": [
    "***Model***"
   ]
  },
  {
   "cell_type": "code",
   "execution_count": 590,
   "id": "c00ab82c",
   "metadata": {},
   "outputs": [
    {
     "data": {
      "text/html": [
       "<style>#sk-container-id-7 {color: black;background-color: white;}#sk-container-id-7 pre{padding: 0;}#sk-container-id-7 div.sk-toggleable {background-color: white;}#sk-container-id-7 label.sk-toggleable__label {cursor: pointer;display: block;width: 100%;margin-bottom: 0;padding: 0.3em;box-sizing: border-box;text-align: center;}#sk-container-id-7 label.sk-toggleable__label-arrow:before {content: \"▸\";float: left;margin-right: 0.25em;color: #696969;}#sk-container-id-7 label.sk-toggleable__label-arrow:hover:before {color: black;}#sk-container-id-7 div.sk-estimator:hover label.sk-toggleable__label-arrow:before {color: black;}#sk-container-id-7 div.sk-toggleable__content {max-height: 0;max-width: 0;overflow: hidden;text-align: left;background-color: #f0f8ff;}#sk-container-id-7 div.sk-toggleable__content pre {margin: 0.2em;color: black;border-radius: 0.25em;background-color: #f0f8ff;}#sk-container-id-7 input.sk-toggleable__control:checked~div.sk-toggleable__content {max-height: 200px;max-width: 100%;overflow: auto;}#sk-container-id-7 input.sk-toggleable__control:checked~label.sk-toggleable__label-arrow:before {content: \"▾\";}#sk-container-id-7 div.sk-estimator input.sk-toggleable__control:checked~label.sk-toggleable__label {background-color: #d4ebff;}#sk-container-id-7 div.sk-label input.sk-toggleable__control:checked~label.sk-toggleable__label {background-color: #d4ebff;}#sk-container-id-7 input.sk-hidden--visually {border: 0;clip: rect(1px 1px 1px 1px);clip: rect(1px, 1px, 1px, 1px);height: 1px;margin: -1px;overflow: hidden;padding: 0;position: absolute;width: 1px;}#sk-container-id-7 div.sk-estimator {font-family: monospace;background-color: #f0f8ff;border: 1px dotted black;border-radius: 0.25em;box-sizing: border-box;margin-bottom: 0.5em;}#sk-container-id-7 div.sk-estimator:hover {background-color: #d4ebff;}#sk-container-id-7 div.sk-parallel-item::after {content: \"\";width: 100%;border-bottom: 1px solid gray;flex-grow: 1;}#sk-container-id-7 div.sk-label:hover label.sk-toggleable__label {background-color: #d4ebff;}#sk-container-id-7 div.sk-serial::before {content: \"\";position: absolute;border-left: 1px solid gray;box-sizing: border-box;top: 0;bottom: 0;left: 50%;z-index: 0;}#sk-container-id-7 div.sk-serial {display: flex;flex-direction: column;align-items: center;background-color: white;padding-right: 0.2em;padding-left: 0.2em;position: relative;}#sk-container-id-7 div.sk-item {position: relative;z-index: 1;}#sk-container-id-7 div.sk-parallel {display: flex;align-items: stretch;justify-content: center;background-color: white;position: relative;}#sk-container-id-7 div.sk-item::before, #sk-container-id-7 div.sk-parallel-item::before {content: \"\";position: absolute;border-left: 1px solid gray;box-sizing: border-box;top: 0;bottom: 0;left: 50%;z-index: -1;}#sk-container-id-7 div.sk-parallel-item {display: flex;flex-direction: column;z-index: 1;position: relative;background-color: white;}#sk-container-id-7 div.sk-parallel-item:first-child::after {align-self: flex-end;width: 50%;}#sk-container-id-7 div.sk-parallel-item:last-child::after {align-self: flex-start;width: 50%;}#sk-container-id-7 div.sk-parallel-item:only-child::after {width: 0;}#sk-container-id-7 div.sk-dashed-wrapped {border: 1px dashed gray;margin: 0 0.4em 0.5em 0.4em;box-sizing: border-box;padding-bottom: 0.4em;background-color: white;}#sk-container-id-7 div.sk-label label {font-family: monospace;font-weight: bold;display: inline-block;line-height: 1.2em;}#sk-container-id-7 div.sk-label-container {text-align: center;}#sk-container-id-7 div.sk-container {/* jupyter's `normalize.less` sets `[hidden] { display: none; }` but bootstrap.min.css set `[hidden] { display: none !important; }` so we also need the `!important` here to be able to override the default hidden behavior on the sphinx rendered scikit-learn.org. See: https://github.com/scikit-learn/scikit-learn/issues/21755 */display: inline-block !important;position: relative;}#sk-container-id-7 div.sk-text-repr-fallback {display: none;}</style><div id=\"sk-container-id-7\" class=\"sk-top-container\"><div class=\"sk-text-repr-fallback\"><pre>Ridge(alpha=0.1)</pre><b>In a Jupyter environment, please rerun this cell to show the HTML representation or trust the notebook. <br />On GitHub, the HTML representation is unable to render, please try loading this page with nbviewer.org.</b></div><div class=\"sk-container\" hidden><div class=\"sk-item\"><div class=\"sk-estimator sk-toggleable\"><input class=\"sk-toggleable__control sk-hidden--visually\" id=\"sk-estimator-id-7\" type=\"checkbox\" checked><label for=\"sk-estimator-id-7\" class=\"sk-toggleable__label sk-toggleable__label-arrow\">Ridge</label><div class=\"sk-toggleable__content\"><pre>Ridge(alpha=0.1)</pre></div></div></div></div></div>"
      ],
      "text/plain": [
       "Ridge(alpha=0.1)"
      ]
     },
     "execution_count": 590,
     "metadata": {},
     "output_type": "execute_result"
    }
   ],
   "source": [
    "from sklearn.linear_model import Ridge\n",
    "y = df[\"Score\"]\n",
    "X = df_one_hot.drop(['Score'], axis=1)\n",
    "X_train, X_test, y_train, y_test = train_test_split(X, y, \n",
    "                                                    test_size=0.25, \n",
    "                                                    random_state=42)\n",
    "#alpha=lambda\n",
    "ridge_model = Ridge(alpha = 0.1).fit(X_train, y_train)\n",
    "ridge_model"
   ]
  },
  {
   "cell_type": "code",
   "execution_count": 591,
   "id": "e23c346c",
   "metadata": {},
   "outputs": [
    {
     "data": {
      "text/plain": [
       "array([15.50246027,  8.0053598 , -4.19092114, -3.24758105, -4.26976484,\n",
       "       -1.86838408, -1.3966279 ,  8.0053598 ])"
      ]
     },
     "execution_count": 591,
     "metadata": {},
     "output_type": "execute_result"
    }
   ],
   "source": [
    "ridge_model.coef_"
   ]
  },
  {
   "cell_type": "code",
   "execution_count": 592,
   "id": "f8805a34",
   "metadata": {},
   "outputs": [
    {
     "data": {
      "image/png": "[encoded data removed]",
      "text/plain": [
       "<Figure size 432x288 with 1 Axes>"
      ]
     },
     "metadata": {
      "needs_background": "light"
     },
     "output_type": "display_data"
    }
   ],
   "source": [
    "#belirlenen aralıkta lambda değerleri oluşturuyoruz\n",
    "lambdalar = 10**np.linspace(10,-2,100)*0.5 \n",
    "\n",
    "ridge_model = Ridge()\n",
    "katsayilar = []\n",
    "\n",
    "for i in lambdalar:\n",
    "    ridge_model.set_params(alpha = i)\n",
    "    ridge_model.fit(X_train, y_train) \n",
    "    katsayilar.append(ridge_model.coef_) \n",
    "    \n",
    "\n",
    "import matplotlib.pyplot as plt    \n",
    "ax = plt.gca()\n",
    "ax.plot(lambdalar, katsayilar) \n",
    "ax.set_xscale('log') \n",
    "\n",
    "plt.xlabel('Lambda(Alpha) Değerleri')\n",
    "plt.ylabel('Katsayılar/Ağırlıklar')\n",
    "plt.title('Düzenlileştirmenin Bir Fonksiyonu Olarak Ridge Katsayıları');"
   ]
  },
  {
   "cell_type": "markdown",
   "id": "250bac52",
   "metadata": {},
   "source": [
    "***Tahmin***"
   ]
  },
  {
   "cell_type": "code",
   "execution_count": 593,
   "id": "d73a305b",
   "metadata": {},
   "outputs": [],
   "source": [
    "y_pred = ridge_model.predict(X_test)"
   ]
  },
  {
   "cell_type": "code",
   "execution_count": 594,
   "id": "13647a8f",
   "metadata": {},
   "outputs": [
    {
     "data": {
      "text/plain": [
       "15.145184937705444"
      ]
     },
     "execution_count": 594,
     "metadata": {},
     "output_type": "execute_result"
    }
   ],
   "source": [
    "from sklearn.metrics import mean_squared_error, r2_score\n",
    "np.sqrt(mean_squared_error(y_test, y_pred))"
   ]
  },
  {
   "cell_type": "markdown",
   "id": "f992b135",
   "metadata": {},
   "source": [
    "***Model Tuning***"
   ]
  },
  {
   "cell_type": "code",
   "execution_count": 595,
   "id": "ad959cc7",
   "metadata": {},
   "outputs": [],
   "source": [
    "lambdalar = 10**np.linspace(10,-2,100)*0.5 "
   ]
  },
  {
   "cell_type": "code",
   "execution_count": 596,
   "id": "a9786af0",
   "metadata": {},
   "outputs": [
    {
     "data": {
      "text/plain": [
       "array([5.00000000e+09, 3.78231664e+09, 2.86118383e+09, 2.16438064e+09,\n",
       "       1.63727458e+09])"
      ]
     },
     "execution_count": 596,
     "metadata": {},
     "output_type": "execute_result"
    }
   ],
   "source": [
    "lambdalar[0:5]"
   ]
  },
  {
   "cell_type": "code",
   "execution_count": 597,
   "id": "eb3bbf67",
   "metadata": {},
   "outputs": [],
   "source": [
    "from sklearn.linear_model import RidgeCV\n",
    "ridge_cv = RidgeCV(alphas = lambdalar, \n",
    "                   scoring = \"neg_mean_squared_error\",\n",
    "                   normalize = True)"
   ]
  },
  {
   "cell_type": "code",
   "execution_count": 598,
   "id": "33b35f24",
   "metadata": {},
   "outputs": [
    {
     "data": {
      "text/html": [
       "<style>#sk-container-id-8 {color: black;background-color: white;}#sk-container-id-8 pre{padding: 0;}#sk-container-id-8 div.sk-toggleable {background-color: white;}#sk-container-id-8 label.sk-toggleable__label {cursor: pointer;display: block;width: 100%;margin-bottom: 0;padding: 0.3em;box-sizing: border-box;text-align: center;}#sk-container-id-8 label.sk-toggleable__label-arrow:before {content: \"▸\";float: left;margin-right: 0.25em;color: #696969;}#sk-container-id-8 label.sk-toggleable__label-arrow:hover:before {color: black;}#sk-container-id-8 div.sk-estimator:hover label.sk-toggleable__label-arrow:before {color: black;}#sk-container-id-8 div.sk-toggleable__content {max-height: 0;max-width: 0;overflow: hidden;text-align: left;background-color: #f0f8ff;}#sk-container-id-8 div.sk-toggleable__content pre {margin: 0.2em;color: black;border-radius: 0.25em;background-color: #f0f8ff;}#sk-container-id-8 input.sk-toggleable__control:checked~div.sk-toggleable__content {max-height: 200px;max-width: 100%;overflow: auto;}#sk-container-id-8 input.sk-toggleable__control:checked~label.sk-toggleable__label-arrow:before {content: \"▾\";}#sk-container-id-8 div.sk-estimator input.sk-toggleable__control:checked~label.sk-toggleable__label {background-color: #d4ebff;}#sk-container-id-8 div.sk-label input.sk-toggleable__control:checked~label.sk-toggleable__label {background-color: #d4ebff;}#sk-container-id-8 input.sk-hidden--visually {border: 0;clip: rect(1px 1px 1px 1px);clip: rect(1px, 1px, 1px, 1px);height: 1px;margin: -1px;overflow: hidden;padding: 0;position: absolute;width: 1px;}#sk-container-id-8 div.sk-estimator {font-family: monospace;background-color: #f0f8ff;border: 1px dotted black;border-radius: 0.25em;box-sizing: border-box;margin-bottom: 0.5em;}#sk-container-id-8 div.sk-estimator:hover {background-color: #d4ebff;}#sk-container-id-8 div.sk-parallel-item::after {content: \"\";width: 100%;border-bottom: 1px solid gray;flex-grow: 1;}#sk-container-id-8 div.sk-label:hover label.sk-toggleable__label {background-color: #d4ebff;}#sk-container-id-8 div.sk-serial::before {content: \"\";position: absolute;border-left: 1px solid gray;box-sizing: border-box;top: 0;bottom: 0;left: 50%;z-index: 0;}#sk-container-id-8 div.sk-serial {display: flex;flex-direction: column;align-items: center;background-color: white;padding-right: 0.2em;padding-left: 0.2em;position: relative;}#sk-container-id-8 div.sk-item {position: relative;z-index: 1;}#sk-container-id-8 div.sk-parallel {display: flex;align-items: stretch;justify-content: center;background-color: white;position: relative;}#sk-container-id-8 div.sk-item::before, #sk-container-id-8 div.sk-parallel-item::before {content: \"\";position: absolute;border-left: 1px solid gray;box-sizing: border-box;top: 0;bottom: 0;left: 50%;z-index: -1;}#sk-container-id-8 div.sk-parallel-item {display: flex;flex-direction: column;z-index: 1;position: relative;background-color: white;}#sk-container-id-8 div.sk-parallel-item:first-child::after {align-self: flex-end;width: 50%;}#sk-container-id-8 div.sk-parallel-item:last-child::after {align-self: flex-start;width: 50%;}#sk-container-id-8 div.sk-parallel-item:only-child::after {width: 0;}#sk-container-id-8 div.sk-dashed-wrapped {border: 1px dashed gray;margin: 0 0.4em 0.5em 0.4em;box-sizing: border-box;padding-bottom: 0.4em;background-color: white;}#sk-container-id-8 div.sk-label label {font-family: monospace;font-weight: bold;display: inline-block;line-height: 1.2em;}#sk-container-id-8 div.sk-label-container {text-align: center;}#sk-container-id-8 div.sk-container {/* jupyter's `normalize.less` sets `[hidden] { display: none; }` but bootstrap.min.css set `[hidden] { display: none !important; }` so we also need the `!important` here to be able to override the default hidden behavior on the sphinx rendered scikit-learn.org. See: https://github.com/scikit-learn/scikit-learn/issues/21755 */display: inline-block !important;position: relative;}#sk-container-id-8 div.sk-text-repr-fallback {display: none;}</style><div id=\"sk-container-id-8\" class=\"sk-top-container\"><div class=\"sk-text-repr-fallback\"><pre>RidgeCV(alphas=array([5.00000000e+09, 3.78231664e+09, 2.86118383e+09, 2.16438064e+09,\n",
       "       1.63727458e+09, 1.23853818e+09, 9.36908711e+08, 7.08737081e+08,\n",
       "       5.36133611e+08, 4.05565415e+08, 3.06795364e+08, 2.32079442e+08,\n",
       "       1.75559587e+08, 1.32804389e+08, 1.00461650e+08, 7.59955541e+07,\n",
       "       5.74878498e+07, 4.34874501e+07, 3.28966612e+07, 2.48851178e+07,\n",
       "       1.88246790e+07, 1.42401793e+0...\n",
       "       1.00461650e+00, 7.59955541e-01, 5.74878498e-01, 4.34874501e-01,\n",
       "       3.28966612e-01, 2.48851178e-01, 1.88246790e-01, 1.42401793e-01,\n",
       "       1.07721735e-01, 8.14875417e-02, 6.16423370e-02, 4.66301673e-02,\n",
       "       3.52740116e-02, 2.66834962e-02, 2.01850863e-02, 1.52692775e-02,\n",
       "       1.15506485e-02, 8.73764200e-03, 6.60970574e-03, 5.00000000e-03]),\n",
       "        normalize=True, scoring=&#x27;neg_mean_squared_error&#x27;)</pre><b>In a Jupyter environment, please rerun this cell to show the HTML representation or trust the notebook. <br />On GitHub, the HTML representation is unable to render, please try loading this page with nbviewer.org.</b></div><div class=\"sk-container\" hidden><div class=\"sk-item\"><div class=\"sk-estimator sk-toggleable\"><input class=\"sk-toggleable__control sk-hidden--visually\" id=\"sk-estimator-id-8\" type=\"checkbox\" checked><label for=\"sk-estimator-id-8\" class=\"sk-toggleable__label sk-toggleable__label-arrow\">RidgeCV</label><div class=\"sk-toggleable__content\"><pre>RidgeCV(alphas=array([5.00000000e+09, 3.78231664e+09, 2.86118383e+09, 2.16438064e+09,\n",
       "       1.63727458e+09, 1.23853818e+09, 9.36908711e+08, 7.08737081e+08,\n",
       "       5.36133611e+08, 4.05565415e+08, 3.06795364e+08, 2.32079442e+08,\n",
       "       1.75559587e+08, 1.32804389e+08, 1.00461650e+08, 7.59955541e+07,\n",
       "       5.74878498e+07, 4.34874501e+07, 3.28966612e+07, 2.48851178e+07,\n",
       "       1.88246790e+07, 1.42401793e+0...\n",
       "       1.00461650e+00, 7.59955541e-01, 5.74878498e-01, 4.34874501e-01,\n",
       "       3.28966612e-01, 2.48851178e-01, 1.88246790e-01, 1.42401793e-01,\n",
       "       1.07721735e-01, 8.14875417e-02, 6.16423370e-02, 4.66301673e-02,\n",
       "       3.52740116e-02, 2.66834962e-02, 2.01850863e-02, 1.52692775e-02,\n",
       "       1.15506485e-02, 8.73764200e-03, 6.60970574e-03, 5.00000000e-03]),\n",
       "        normalize=True, scoring=&#x27;neg_mean_squared_error&#x27;)</pre></div></div></div></div></div>"
      ],
      "text/plain": [
       "RidgeCV(alphas=array([5.00000000e+09, 3.78231664e+09, 2.86118383e+09, 2.16438064e+09,\n",
       "       1.63727458e+09, 1.23853818e+09, 9.36908711e+08, 7.08737081e+08,\n",
       "       5.36133611e+08, 4.05565415e+08, 3.06795364e+08, 2.32079442e+08,\n",
       "       1.75559587e+08, 1.32804389e+08, 1.00461650e+08, 7.59955541e+07,\n",
       "       5.74878498e+07, 4.34874501e+07, 3.28966612e+07, 2.48851178e+07,\n",
       "       1.88246790e+07, 1.42401793e+0...\n",
       "       1.00461650e+00, 7.59955541e-01, 5.74878498e-01, 4.34874501e-01,\n",
       "       3.28966612e-01, 2.48851178e-01, 1.88246790e-01, 1.42401793e-01,\n",
       "       1.07721735e-01, 8.14875417e-02, 6.16423370e-02, 4.66301673e-02,\n",
       "       3.52740116e-02, 2.66834962e-02, 2.01850863e-02, 1.52692775e-02,\n",
       "       1.15506485e-02, 8.73764200e-03, 6.60970574e-03, 5.00000000e-03]),\n",
       "        normalize=True, scoring='neg_mean_squared_error')"
      ]
     },
     "execution_count": 598,
     "metadata": {},
     "output_type": "execute_result"
    }
   ],
   "source": [
    "ridge_cv.fit(X_train, y_train)"
   ]
  },
  {
   "cell_type": "code",
   "execution_count": 599,
   "id": "66b73d20",
   "metadata": {},
   "outputs": [
    {
     "data": {
      "text/plain": [
       "0.08148754173103201"
      ]
     },
     "execution_count": 599,
     "metadata": {},
     "output_type": "execute_result"
    }
   ],
   "source": [
    "#optimum lambda değerini bulduk\n",
    "ridge_cv.alpha_"
   ]
  },
  {
   "cell_type": "code",
   "execution_count": 600,
   "id": "2b1e144c",
   "metadata": {},
   "outputs": [],
   "source": [
    "ridge_tuned = Ridge(alpha = ridge_cv.alpha_, \n",
    "                   normalize = True).fit(X_train,y_train)"
   ]
  },
  {
   "cell_type": "code",
   "execution_count": 601,
   "id": "fb6aa75d",
   "metadata": {},
   "outputs": [
    {
     "name": "stdout",
     "output_type": "stream",
     "text": [
      "RMSE:  15.063861535914585\n"
     ]
    }
   ],
   "source": [
    "print(\"RMSE: \",np.sqrt(mean_squared_error(y_test, ridge_tuned.predict(X_test))))"
   ]
  },
  {
   "cell_type": "markdown",
   "id": "640a4bcd",
   "metadata": {},
   "source": [
    "### Lasso Regresyon\n"
   ]
  },
  {
   "cell_type": "markdown",
   "id": "3f40dd40",
   "metadata": {},
   "source": [
    "***Model***"
   ]
  },
  {
   "cell_type": "code",
   "execution_count": 603,
   "id": "a2d9a1a4",
   "metadata": {},
   "outputs": [],
   "source": [
    "y = df[\"Score\"]\n",
    "X = df_one_hot.drop(['Score'], axis=1)\n",
    "X_train, X_test, y_train, y_test = train_test_split(X, y, \n",
    "                                                    test_size=0.25, \n",
    "                                                    random_state=42)"
   ]
  },
  {
   "cell_type": "code",
   "execution_count": 604,
   "id": "2c988ab1",
   "metadata": {},
   "outputs": [
    {
     "data": {
      "text/html": [
       "<style>#sk-container-id-9 {color: black;background-color: white;}#sk-container-id-9 pre{padding: 0;}#sk-container-id-9 div.sk-toggleable {background-color: white;}#sk-container-id-9 label.sk-toggleable__label {cursor: pointer;display: block;width: 100%;margin-bottom: 0;padding: 0.3em;box-sizing: border-box;text-align: center;}#sk-container-id-9 label.sk-toggleable__label-arrow:before {content: \"▸\";float: left;margin-right: 0.25em;color: #696969;}#sk-container-id-9 label.sk-toggleable__label-arrow:hover:before {color: black;}#sk-container-id-9 div.sk-estimator:hover label.sk-toggleable__label-arrow:before {color: black;}#sk-container-id-9 div.sk-toggleable__content {max-height: 0;max-width: 0;overflow: hidden;text-align: left;background-color: #f0f8ff;}#sk-container-id-9 div.sk-toggleable__content pre {margin: 0.2em;color: black;border-radius: 0.25em;background-color: #f0f8ff;}#sk-container-id-9 input.sk-toggleable__control:checked~div.sk-toggleable__content {max-height: 200px;max-width: 100%;overflow: auto;}#sk-container-id-9 input.sk-toggleable__control:checked~label.sk-toggleable__label-arrow:before {content: \"▾\";}#sk-container-id-9 div.sk-estimator input.sk-toggleable__control:checked~label.sk-toggleable__label {background-color: #d4ebff;}#sk-container-id-9 div.sk-label input.sk-toggleable__control:checked~label.sk-toggleable__label {background-color: #d4ebff;}#sk-container-id-9 input.sk-hidden--visually {border: 0;clip: rect(1px 1px 1px 1px);clip: rect(1px, 1px, 1px, 1px);height: 1px;margin: -1px;overflow: hidden;padding: 0;position: absolute;width: 1px;}#sk-container-id-9 div.sk-estimator {font-family: monospace;background-color: #f0f8ff;border: 1px dotted black;border-radius: 0.25em;box-sizing: border-box;margin-bottom: 0.5em;}#sk-container-id-9 div.sk-estimator:hover {background-color: #d4ebff;}#sk-container-id-9 div.sk-parallel-item::after {content: \"\";width: 100%;border-bottom: 1px solid gray;flex-grow: 1;}#sk-container-id-9 div.sk-label:hover label.sk-toggleable__label {background-color: #d4ebff;}#sk-container-id-9 div.sk-serial::before {content: \"\";position: absolute;border-left: 1px solid gray;box-sizing: border-box;top: 0;bottom: 0;left: 50%;z-index: 0;}#sk-container-id-9 div.sk-serial {display: flex;flex-direction: column;align-items: center;background-color: white;padding-right: 0.2em;padding-left: 0.2em;position: relative;}#sk-container-id-9 div.sk-item {position: relative;z-index: 1;}#sk-container-id-9 div.sk-parallel {display: flex;align-items: stretch;justify-content: center;background-color: white;position: relative;}#sk-container-id-9 div.sk-item::before, #sk-container-id-9 div.sk-parallel-item::before {content: \"\";position: absolute;border-left: 1px solid gray;box-sizing: border-box;top: 0;bottom: 0;left: 50%;z-index: -1;}#sk-container-id-9 div.sk-parallel-item {display: flex;flex-direction: column;z-index: 1;position: relative;background-color: white;}#sk-container-id-9 div.sk-parallel-item:first-child::after {align-self: flex-end;width: 50%;}#sk-container-id-9 div.sk-parallel-item:last-child::after {align-self: flex-start;width: 50%;}#sk-container-id-9 div.sk-parallel-item:only-child::after {width: 0;}#sk-container-id-9 div.sk-dashed-wrapped {border: 1px dashed gray;margin: 0 0.4em 0.5em 0.4em;box-sizing: border-box;padding-bottom: 0.4em;background-color: white;}#sk-container-id-9 div.sk-label label {font-family: monospace;font-weight: bold;display: inline-block;line-height: 1.2em;}#sk-container-id-9 div.sk-label-container {text-align: center;}#sk-container-id-9 div.sk-container {/* jupyter's `normalize.less` sets `[hidden] { display: none; }` but bootstrap.min.css set `[hidden] { display: none !important; }` so we also need the `!important` here to be able to override the default hidden behavior on the sphinx rendered scikit-learn.org. See: https://github.com/scikit-learn/scikit-learn/issues/21755 */display: inline-block !important;position: relative;}#sk-container-id-9 div.sk-text-repr-fallback {display: none;}</style><div id=\"sk-container-id-9\" class=\"sk-top-container\"><div class=\"sk-text-repr-fallback\"><pre>Lasso(alpha=0.1)</pre><b>In a Jupyter environment, please rerun this cell to show the HTML representation or trust the notebook. <br />On GitHub, the HTML representation is unable to render, please try loading this page with nbviewer.org.</b></div><div class=\"sk-container\" hidden><div class=\"sk-item\"><div class=\"sk-estimator sk-toggleable\"><input class=\"sk-toggleable__control sk-hidden--visually\" id=\"sk-estimator-id-9\" type=\"checkbox\" checked><label for=\"sk-estimator-id-9\" class=\"sk-toggleable__label sk-toggleable__label-arrow\">Lasso</label><div class=\"sk-toggleable__content\"><pre>Lasso(alpha=0.1)</pre></div></div></div></div></div>"
      ],
      "text/plain": [
       "Lasso(alpha=0.1)"
      ]
     },
     "execution_count": 604,
     "metadata": {},
     "output_type": "execute_result"
    }
   ],
   "source": [
    "from sklearn.linear_model import Lasso\n",
    "lasso_model = Lasso(alpha = 0.1).fit(X_train, y_train)\n",
    "lasso_model"
   ]
  },
  {
   "cell_type": "code",
   "execution_count": 605,
   "id": "1d9d93bb",
   "metadata": {},
   "outputs": [
    {
     "data": {
      "text/plain": [
       "array([14.59101446, 15.25228964, -3.83185059, -1.61933865, -2.57334058,\n",
       "       -0.42873038, -1.10062833,  0.        ])"
      ]
     },
     "execution_count": 605,
     "metadata": {},
     "output_type": "execute_result"
    }
   ],
   "source": [
    "lasso_model.coef_"
   ]
  },
  {
   "cell_type": "code",
   "execution_count": 606,
   "id": "68e3d0dd",
   "metadata": {},
   "outputs": [
    {
     "data": {
      "text/plain": [
       "Text(0, 0.5, 'weights')"
      ]
     },
     "execution_count": 606,
     "metadata": {},
     "output_type": "execute_result"
    },
    {
     "data": {
      "image/png": "[encoded data removed]",
      "text/plain": [
       "<Figure size 432x288 with 1 Axes>"
      ]
     },
     "metadata": {
      "needs_background": "light"
     },
     "output_type": "display_data"
    }
   ],
   "source": [
    "lasso = Lasso()\n",
    "lambdalar = 10**np.linspace(10,-2,100)*0.5 \n",
    "katsayilar = []\n",
    "\n",
    "for i in lambdalar:\n",
    "    lasso.set_params(alpha=i)\n",
    "    lasso.fit(X_train, y_train)\n",
    "    katsayilar.append(lasso.coef_)\n",
    "  \n",
    "import matplotlib.pyplot as plt  \n",
    "ax = plt.gca()\n",
    "ax.plot(lambdalar*2, katsayilar)\n",
    "ax.set_xscale('log')\n",
    "plt.axis('tight')\n",
    "plt.xlabel('alpha')\n",
    "plt.ylabel('weights')"
   ]
  },
  {
   "cell_type": "markdown",
   "id": "006a7f4c",
   "metadata": {},
   "source": [
    "***Tahmin***"
   ]
  },
  {
   "cell_type": "code",
   "execution_count": 607,
   "id": "03b52c49",
   "metadata": {},
   "outputs": [
    {
     "data": {
      "text/plain": [
       "array([67.07502257, 69.21963277, 71.1995999 , 72.96150342, 53.87736319,\n",
       "       70.24559798, 74.58084207, 70.0877163 , 73.05148336, 69.65898592,\n",
       "       72.96150342, 57.70921377, 70.90687316, 54.39607351, 54.39607351,\n",
       "       69.21963277, 73.05148336, 52.92336126, 74.15211169, 57.70921377,\n",
       "       68.17565091, 70.74899148, 68.46837765, 55.49670184, 70.0877163 ,\n",
       "       70.3202611 , 68.17565091, 57.79919371, 54.39607351, 74.15211169,\n",
       "       73.49083651, 53.96734313, 72.30022824, 67.07502257, 67.51437573,\n",
       "       70.24559798, 72.39020818, 70.0877163 , 70.0877163 , 67.36774932,\n",
       "       68.98708797, 70.3202611 , 70.24559798, 69.65898592, 67.51437573,\n",
       "       67.36774932, 67.36774932, 69.64836315, 70.24559798, 69.21963277,\n",
       "       69.64836315, 56.75521185, 53.87736319, 70.3202611 ])"
      ]
     },
     "execution_count": 607,
     "metadata": {},
     "output_type": "execute_result"
    }
   ],
   "source": [
    "lasso_model.predict(X_test)"
   ]
  },
  {
   "cell_type": "code",
   "execution_count": 608,
   "id": "f658548a",
   "metadata": {},
   "outputs": [],
   "source": [
    "y_pred = lasso_model.predict(X_test)"
   ]
  },
  {
   "cell_type": "code",
   "execution_count": 609,
   "id": "6df6e2b3",
   "metadata": {},
   "outputs": [
    {
     "name": "stdout",
     "output_type": "stream",
     "text": [
      "RMSE:  15.039280253338662\n"
     ]
    }
   ],
   "source": [
    "print(\"RMSE: \",np.sqrt(mean_squared_error(y_test, y_pred)))"
   ]
  },
  {
   "cell_type": "markdown",
   "id": "8232104d",
   "metadata": {},
   "source": [
    "***Model Tuning***"
   ]
  },
  {
   "cell_type": "code",
   "execution_count": 610,
   "id": "748636fb",
   "metadata": {},
   "outputs": [],
   "source": [
    "from sklearn.linear_model import LassoCV"
   ]
  },
  {
   "cell_type": "code",
   "execution_count": 611,
   "id": "8767b9f6",
   "metadata": {},
   "outputs": [],
   "source": [
    "lasso_cv_model = LassoCV(alphas = None, \n",
    "                         cv = 10, \n",
    "                         max_iter = 10000, \n",
    "                         normalize = True)"
   ]
  },
  {
   "cell_type": "code",
   "execution_count": 612,
   "id": "7164d391",
   "metadata": {},
   "outputs": [
    {
     "data": {
      "text/html": [
       "<style>#sk-container-id-10 {color: black;background-color: white;}#sk-container-id-10 pre{padding: 0;}#sk-container-id-10 div.sk-toggleable {background-color: white;}#sk-container-id-10 label.sk-toggleable__label {cursor: pointer;display: block;width: 100%;margin-bottom: 0;padding: 0.3em;box-sizing: border-box;text-align: center;}#sk-container-id-10 label.sk-toggleable__label-arrow:before {content: \"▸\";float: left;margin-right: 0.25em;color: #696969;}#sk-container-id-10 label.sk-toggleable__label-arrow:hover:before {color: black;}#sk-container-id-10 div.sk-estimator:hover label.sk-toggleable__label-arrow:before {color: black;}#sk-container-id-10 div.sk-toggleable__content {max-height: 0;max-width: 0;overflow: hidden;text-align: left;background-color: #f0f8ff;}#sk-container-id-10 div.sk-toggleable__content pre {margin: 0.2em;color: black;border-radius: 0.25em;background-color: #f0f8ff;}#sk-container-id-10 input.sk-toggleable__control:checked~div.sk-toggleable__content {max-height: 200px;max-width: 100%;overflow: auto;}#sk-container-id-10 input.sk-toggleable__control:checked~label.sk-toggleable__label-arrow:before {content: \"▾\";}#sk-container-id-10 div.sk-estimator input.sk-toggleable__control:checked~label.sk-toggleable__label {background-color: #d4ebff;}#sk-container-id-10 div.sk-label input.sk-toggleable__control:checked~label.sk-toggleable__label {background-color: #d4ebff;}#sk-container-id-10 input.sk-hidden--visually {border: 0;clip: rect(1px 1px 1px 1px);clip: rect(1px, 1px, 1px, 1px);height: 1px;margin: -1px;overflow: hidden;padding: 0;position: absolute;width: 1px;}#sk-container-id-10 div.sk-estimator {font-family: monospace;background-color: #f0f8ff;border: 1px dotted black;border-radius: 0.25em;box-sizing: border-box;margin-bottom: 0.5em;}#sk-container-id-10 div.sk-estimator:hover {background-color: #d4ebff;}#sk-container-id-10 div.sk-parallel-item::after {content: \"\";width: 100%;border-bottom: 1px solid gray;flex-grow: 1;}#sk-container-id-10 div.sk-label:hover label.sk-toggleable__label {background-color: #d4ebff;}#sk-container-id-10 div.sk-serial::before {content: \"\";position: absolute;border-left: 1px solid gray;box-sizing: border-box;top: 0;bottom: 0;left: 50%;z-index: 0;}#sk-container-id-10 div.sk-serial {display: flex;flex-direction: column;align-items: center;background-color: white;padding-right: 0.2em;padding-left: 0.2em;position: relative;}#sk-container-id-10 div.sk-item {position: relative;z-index: 1;}#sk-container-id-10 div.sk-parallel {display: flex;align-items: stretch;justify-content: center;background-color: white;position: relative;}#sk-container-id-10 div.sk-item::before, #sk-container-id-10 div.sk-parallel-item::before {content: \"\";position: absolute;border-left: 1px solid gray;box-sizing: border-box;top: 0;bottom: 0;left: 50%;z-index: -1;}#sk-container-id-10 div.sk-parallel-item {display: flex;flex-direction: column;z-index: 1;position: relative;background-color: white;}#sk-container-id-10 div.sk-parallel-item:first-child::after {align-self: flex-end;width: 50%;}#sk-container-id-10 div.sk-parallel-item:last-child::after {align-self: flex-start;width: 50%;}#sk-container-id-10 div.sk-parallel-item:only-child::after {width: 0;}#sk-container-id-10 div.sk-dashed-wrapped {border: 1px dashed gray;margin: 0 0.4em 0.5em 0.4em;box-sizing: border-box;padding-bottom: 0.4em;background-color: white;}#sk-container-id-10 div.sk-label label {font-family: monospace;font-weight: bold;display: inline-block;line-height: 1.2em;}#sk-container-id-10 div.sk-label-container {text-align: center;}#sk-container-id-10 div.sk-container {/* jupyter's `normalize.less` sets `[hidden] { display: none; }` but bootstrap.min.css set `[hidden] { display: none !important; }` so we also need the `!important` here to be able to override the default hidden behavior on the sphinx rendered scikit-learn.org. See: https://github.com/scikit-learn/scikit-learn/issues/21755 */display: inline-block !important;position: relative;}#sk-container-id-10 div.sk-text-repr-fallback {display: none;}</style><div id=\"sk-container-id-10\" class=\"sk-top-container\"><div class=\"sk-text-repr-fallback\"><pre>LassoCV(cv=10, max_iter=10000, normalize=True)</pre><b>In a Jupyter environment, please rerun this cell to show the HTML representation or trust the notebook. <br />On GitHub, the HTML representation is unable to render, please try loading this page with nbviewer.org.</b></div><div class=\"sk-container\" hidden><div class=\"sk-item\"><div class=\"sk-estimator sk-toggleable\"><input class=\"sk-toggleable__control sk-hidden--visually\" id=\"sk-estimator-id-10\" type=\"checkbox\" checked><label for=\"sk-estimator-id-10\" class=\"sk-toggleable__label sk-toggleable__label-arrow\">LassoCV</label><div class=\"sk-toggleable__content\"><pre>LassoCV(cv=10, max_iter=10000, normalize=True)</pre></div></div></div></div></div>"
      ],
      "text/plain": [
       "LassoCV(cv=10, max_iter=10000, normalize=True)"
      ]
     },
     "execution_count": 612,
     "metadata": {},
     "output_type": "execute_result"
    }
   ],
   "source": [
    "lasso_cv_model.fit(X_train,y_train)"
   ]
  },
  {
   "cell_type": "code",
   "execution_count": 613,
   "id": "4d557622",
   "metadata": {},
   "outputs": [
    {
     "data": {
      "text/plain": [
       "0.05683597749977237"
      ]
     },
     "execution_count": 613,
     "metadata": {},
     "output_type": "execute_result"
    }
   ],
   "source": [
    "lasso_cv_model.alpha_"
   ]
  },
  {
   "cell_type": "code",
   "execution_count": 614,
   "id": "365f36b0",
   "metadata": {},
   "outputs": [],
   "source": [
    "lasso_tuned = Lasso(alpha = lasso_cv_model.alpha_)"
   ]
  },
  {
   "cell_type": "code",
   "execution_count": 619,
   "id": "b2fc0a8e",
   "metadata": {
    "scrolled": true
   },
   "outputs": [
    {
     "data": {
      "text/html": [
       "<style>#sk-container-id-12 {color: black;background-color: white;}#sk-container-id-12 pre{padding: 0;}#sk-container-id-12 div.sk-toggleable {background-color: white;}#sk-container-id-12 label.sk-toggleable__label {cursor: pointer;display: block;width: 100%;margin-bottom: 0;padding: 0.3em;box-sizing: border-box;text-align: center;}#sk-container-id-12 label.sk-toggleable__label-arrow:before {content: \"▸\";float: left;margin-right: 0.25em;color: #696969;}#sk-container-id-12 label.sk-toggleable__label-arrow:hover:before {color: black;}#sk-container-id-12 div.sk-estimator:hover label.sk-toggleable__label-arrow:before {color: black;}#sk-container-id-12 div.sk-toggleable__content {max-height: 0;max-width: 0;overflow: hidden;text-align: left;background-color: #f0f8ff;}#sk-container-id-12 div.sk-toggleable__content pre {margin: 0.2em;color: black;border-radius: 0.25em;background-color: #f0f8ff;}#sk-container-id-12 input.sk-toggleable__control:checked~div.sk-toggleable__content {max-height: 200px;max-width: 100%;overflow: auto;}#sk-container-id-12 input.sk-toggleable__control:checked~label.sk-toggleable__label-arrow:before {content: \"▾\";}#sk-container-id-12 div.sk-estimator input.sk-toggleable__control:checked~label.sk-toggleable__label {background-color: #d4ebff;}#sk-container-id-12 div.sk-label input.sk-toggleable__control:checked~label.sk-toggleable__label {background-color: #d4ebff;}#sk-container-id-12 input.sk-hidden--visually {border: 0;clip: rect(1px 1px 1px 1px);clip: rect(1px, 1px, 1px, 1px);height: 1px;margin: -1px;overflow: hidden;padding: 0;position: absolute;width: 1px;}#sk-container-id-12 div.sk-estimator {font-family: monospace;background-color: #f0f8ff;border: 1px dotted black;border-radius: 0.25em;box-sizing: border-box;margin-bottom: 0.5em;}#sk-container-id-12 div.sk-estimator:hover {background-color: #d4ebff;}#sk-container-id-12 div.sk-parallel-item::after {content: \"\";width: 100%;border-bottom: 1px solid gray;flex-grow: 1;}#sk-container-id-12 div.sk-label:hover label.sk-toggleable__label {background-color: #d4ebff;}#sk-container-id-12 div.sk-serial::before {content: \"\";position: absolute;border-left: 1px solid gray;box-sizing: border-box;top: 0;bottom: 0;left: 50%;z-index: 0;}#sk-container-id-12 div.sk-serial {display: flex;flex-direction: column;align-items: center;background-color: white;padding-right: 0.2em;padding-left: 0.2em;position: relative;}#sk-container-id-12 div.sk-item {position: relative;z-index: 1;}#sk-container-id-12 div.sk-parallel {display: flex;align-items: stretch;justify-content: center;background-color: white;position: relative;}#sk-container-id-12 div.sk-item::before, #sk-container-id-12 div.sk-parallel-item::before {content: \"\";position: absolute;border-left: 1px solid gray;box-sizing: border-box;top: 0;bottom: 0;left: 50%;z-index: -1;}#sk-container-id-12 div.sk-parallel-item {display: flex;flex-direction: column;z-index: 1;position: relative;background-color: white;}#sk-container-id-12 div.sk-parallel-item:first-child::after {align-self: flex-end;width: 50%;}#sk-container-id-12 div.sk-parallel-item:last-child::after {align-self: flex-start;width: 50%;}#sk-container-id-12 div.sk-parallel-item:only-child::after {width: 0;}#sk-container-id-12 div.sk-dashed-wrapped {border: 1px dashed gray;margin: 0 0.4em 0.5em 0.4em;box-sizing: border-box;padding-bottom: 0.4em;background-color: white;}#sk-container-id-12 div.sk-label label {font-family: monospace;font-weight: bold;display: inline-block;line-height: 1.2em;}#sk-container-id-12 div.sk-label-container {text-align: center;}#sk-container-id-12 div.sk-container {/* jupyter's `normalize.less` sets `[hidden] { display: none; }` but bootstrap.min.css set `[hidden] { display: none !important; }` so we also need the `!important` here to be able to override the default hidden behavior on the sphinx rendered scikit-learn.org. See: https://github.com/scikit-learn/scikit-learn/issues/21755 */display: inline-block !important;position: relative;}#sk-container-id-12 div.sk-text-repr-fallback {display: none;}</style><div id=\"sk-container-id-12\" class=\"sk-top-container\"><div class=\"sk-text-repr-fallback\"><pre>Lasso(alpha=0.05683597749977237)</pre><b>In a Jupyter environment, please rerun this cell to show the HTML representation or trust the notebook. <br />On GitHub, the HTML representation is unable to render, please try loading this page with nbviewer.org.</b></div><div class=\"sk-container\" hidden><div class=\"sk-item\"><div class=\"sk-estimator sk-toggleable\"><input class=\"sk-toggleable__control sk-hidden--visually\" id=\"sk-estimator-id-12\" type=\"checkbox\" checked><label for=\"sk-estimator-id-12\" class=\"sk-toggleable__label sk-toggleable__label-arrow\">Lasso</label><div class=\"sk-toggleable__content\"><pre>Lasso(alpha=0.05683597749977237)</pre></div></div></div></div></div>"
      ],
      "text/plain": [
       "Lasso(alpha=0.05683597749977237)"
      ]
     },
     "execution_count": 619,
     "metadata": {},
     "output_type": "execute_result"
    }
   ],
   "source": [
    "lasso_tuned.fit(X_train, y_train)"
   ]
  },
  {
   "cell_type": "code",
   "execution_count": 620,
   "id": "8d182e54",
   "metadata": {},
   "outputs": [],
   "source": [
    "y_pred = lasso_tuned.predict(X_test)"
   ]
  },
  {
   "cell_type": "code",
   "execution_count": 621,
   "id": "0d03b0a1",
   "metadata": {},
   "outputs": [
    {
     "name": "stdout",
     "output_type": "stream",
     "text": [
      "RMSE:  15.080610615769983\n"
     ]
    }
   ],
   "source": [
    "print(\"RMSE: \",np.sqrt(mean_squared_error(y_test, y_pred)))"
   ]
  },
  {
   "cell_type": "markdown",
   "id": "84c7e1ec",
   "metadata": {},
   "source": [
    "### ElasticNet (eNet) Regresyonu\n"
   ]
  },
  {
   "cell_type": "markdown",
   "id": "5911bcd4",
   "metadata": {},
   "source": [
    "***Model***"
   ]
  },
  {
   "cell_type": "code",
   "execution_count": 622,
   "id": "7d6e96ae",
   "metadata": {},
   "outputs": [],
   "source": [
    "y = df[\"Score\"]\n",
    "X = df_one_hot.drop(['Score'], axis=1)\n",
    "X_train, X_test, y_train, y_test = train_test_split(X, y, \n",
    "                                                    test_size=0.25, \n",
    "                                                    random_state=42)"
   ]
  },
  {
   "cell_type": "code",
   "execution_count": 623,
   "id": "e141557b",
   "metadata": {},
   "outputs": [
    {
     "data": {
      "text/plain": [
       "array([ 1.95958901,  1.88628549, -0.73275383, -0.        , -0.        ,\n",
       "       -0.        , -0.        ,  1.8862874 ])"
      ]
     },
     "execution_count": 623,
     "metadata": {},
     "output_type": "execute_result"
    }
   ],
   "source": [
    "from sklearn.linear_model import ElasticNet\n",
    "enet_model = ElasticNet().fit(X_train, y_train)\n",
    "enet_model.coef_"
   ]
  },
  {
   "cell_type": "code",
   "execution_count": 624,
   "id": "372dab26",
   "metadata": {},
   "outputs": [
    {
     "data": {
      "text/plain": [
       "63.68188301776208"
      ]
     },
     "execution_count": 624,
     "metadata": {},
     "output_type": "execute_result"
    }
   ],
   "source": [
    "enet_model.intercept_"
   ]
  },
  {
   "cell_type": "markdown",
   "id": "264f4a31",
   "metadata": {},
   "source": [
    "***Tahmin***"
   ]
  },
  {
   "cell_type": "code",
   "execution_count": 625,
   "id": "100b8ea7",
   "metadata": {},
   "outputs": [
    {
     "data": {
      "text/html": [
       "<style>#sk-container-id-13 {color: black;background-color: white;}#sk-container-id-13 pre{padding: 0;}#sk-container-id-13 div.sk-toggleable {background-color: white;}#sk-container-id-13 label.sk-toggleable__label {cursor: pointer;display: block;width: 100%;margin-bottom: 0;padding: 0.3em;box-sizing: border-box;text-align: center;}#sk-container-id-13 label.sk-toggleable__label-arrow:before {content: \"▸\";float: left;margin-right: 0.25em;color: #696969;}#sk-container-id-13 label.sk-toggleable__label-arrow:hover:before {color: black;}#sk-container-id-13 div.sk-estimator:hover label.sk-toggleable__label-arrow:before {color: black;}#sk-container-id-13 div.sk-toggleable__content {max-height: 0;max-width: 0;overflow: hidden;text-align: left;background-color: #f0f8ff;}#sk-container-id-13 div.sk-toggleable__content pre {margin: 0.2em;color: black;border-radius: 0.25em;background-color: #f0f8ff;}#sk-container-id-13 input.sk-toggleable__control:checked~div.sk-toggleable__content {max-height: 200px;max-width: 100%;overflow: auto;}#sk-container-id-13 input.sk-toggleable__control:checked~label.sk-toggleable__label-arrow:before {content: \"▾\";}#sk-container-id-13 div.sk-estimator input.sk-toggleable__control:checked~label.sk-toggleable__label {background-color: #d4ebff;}#sk-container-id-13 div.sk-label input.sk-toggleable__control:checked~label.sk-toggleable__label {background-color: #d4ebff;}#sk-container-id-13 input.sk-hidden--visually {border: 0;clip: rect(1px 1px 1px 1px);clip: rect(1px, 1px, 1px, 1px);height: 1px;margin: -1px;overflow: hidden;padding: 0;position: absolute;width: 1px;}#sk-container-id-13 div.sk-estimator {font-family: monospace;background-color: #f0f8ff;border: 1px dotted black;border-radius: 0.25em;box-sizing: border-box;margin-bottom: 0.5em;}#sk-container-id-13 div.sk-estimator:hover {background-color: #d4ebff;}#sk-container-id-13 div.sk-parallel-item::after {content: \"\";width: 100%;border-bottom: 1px solid gray;flex-grow: 1;}#sk-container-id-13 div.sk-label:hover label.sk-toggleable__label {background-color: #d4ebff;}#sk-container-id-13 div.sk-serial::before {content: \"\";position: absolute;border-left: 1px solid gray;box-sizing: border-box;top: 0;bottom: 0;left: 50%;z-index: 0;}#sk-container-id-13 div.sk-serial {display: flex;flex-direction: column;align-items: center;background-color: white;padding-right: 0.2em;padding-left: 0.2em;position: relative;}#sk-container-id-13 div.sk-item {position: relative;z-index: 1;}#sk-container-id-13 div.sk-parallel {display: flex;align-items: stretch;justify-content: center;background-color: white;position: relative;}#sk-container-id-13 div.sk-item::before, #sk-container-id-13 div.sk-parallel-item::before {content: \"\";position: absolute;border-left: 1px solid gray;box-sizing: border-box;top: 0;bottom: 0;left: 50%;z-index: -1;}#sk-container-id-13 div.sk-parallel-item {display: flex;flex-direction: column;z-index: 1;position: relative;background-color: white;}#sk-container-id-13 div.sk-parallel-item:first-child::after {align-self: flex-end;width: 50%;}#sk-container-id-13 div.sk-parallel-item:last-child::after {align-self: flex-start;width: 50%;}#sk-container-id-13 div.sk-parallel-item:only-child::after {width: 0;}#sk-container-id-13 div.sk-dashed-wrapped {border: 1px dashed gray;margin: 0 0.4em 0.5em 0.4em;box-sizing: border-box;padding-bottom: 0.4em;background-color: white;}#sk-container-id-13 div.sk-label label {font-family: monospace;font-weight: bold;display: inline-block;line-height: 1.2em;}#sk-container-id-13 div.sk-label-container {text-align: center;}#sk-container-id-13 div.sk-container {/* jupyter's `normalize.less` sets `[hidden] { display: none; }` but bootstrap.min.css set `[hidden] { display: none !important; }` so we also need the `!important` here to be able to override the default hidden behavior on the sphinx rendered scikit-learn.org. See: https://github.com/scikit-learn/scikit-learn/issues/21755 */display: inline-block !important;position: relative;}#sk-container-id-13 div.sk-text-repr-fallback {display: none;}</style><div id=\"sk-container-id-13\" class=\"sk-top-container\"><div class=\"sk-text-repr-fallback\"><pre>ElasticNet()</pre><b>In a Jupyter environment, please rerun this cell to show the HTML representation or trust the notebook. <br />On GitHub, the HTML representation is unable to render, please try loading this page with nbviewer.org.</b></div><div class=\"sk-container\" hidden><div class=\"sk-item\"><div class=\"sk-estimator sk-toggleable\"><input class=\"sk-toggleable__control sk-hidden--visually\" id=\"sk-estimator-id-13\" type=\"checkbox\" checked><label for=\"sk-estimator-id-13\" class=\"sk-toggleable__label sk-toggleable__label-arrow\">ElasticNet</label><div class=\"sk-toggleable__content\"><pre>ElasticNet()</pre></div></div></div></div></div>"
      ],
      "text/plain": [
       "ElasticNet()"
      ]
     },
     "execution_count": 625,
     "metadata": {},
     "output_type": "execute_result"
    }
   ],
   "source": [
    "enet_model"
   ]
  },
  {
   "cell_type": "code",
   "execution_count": 626,
   "id": "b41153ee",
   "metadata": {},
   "outputs": [
    {
     "data": {
      "text/plain": [
       "array([66.72170207, 66.72170207, 65.64147203, 67.4544559 , 62.94912918,\n",
       "       65.64147203, 67.4544559 , 64.90871819, 67.4544559 , 64.90871819,\n",
       "       67.4544559 , 63.68188302, 67.4544559 , 62.94912918, 62.94912918,\n",
       "       66.72170207, 67.4544559 , 62.94912918, 67.4544559 , 63.68188302,\n",
       "       66.72170207, 66.72170207, 64.90871819, 62.94912918, 64.90871819,\n",
       "       66.72170207, 66.72170207, 63.68188302, 62.94912918, 67.4544559 ,\n",
       "       65.64147203, 62.94912918, 65.64147203, 66.72170207, 64.90871819,\n",
       "       65.64147203, 65.64147203, 64.90871819, 64.90871819, 64.90871819,\n",
       "       64.90871819, 66.72170207, 65.64147203, 64.90871819, 64.90871819,\n",
       "       64.90871819, 64.90871819, 66.72170207, 65.64147203, 66.72170207,\n",
       "       66.72170207, 63.68188302, 62.94912918, 66.72170207])"
      ]
     },
     "execution_count": 626,
     "metadata": {},
     "output_type": "execute_result"
    }
   ],
   "source": [
    "enet_model.predict(X_test)"
   ]
  },
  {
   "cell_type": "code",
   "execution_count": 627,
   "id": "0dd1ed5f",
   "metadata": {},
   "outputs": [],
   "source": [
    "y_pred = enet_model.predict(X_test)"
   ]
  },
  {
   "cell_type": "code",
   "execution_count": 628,
   "id": "b3716522",
   "metadata": {},
   "outputs": [
    {
     "name": "stdout",
     "output_type": "stream",
     "text": [
      "RMSE:  15.650613033431043\n"
     ]
    }
   ],
   "source": [
    "print(\"RMSE: \",np.sqrt(mean_squared_error(y_test, y_pred)))"
   ]
  },
  {
   "cell_type": "code",
   "execution_count": 629,
   "id": "fd0bbbbe",
   "metadata": {},
   "outputs": [
    {
     "name": "stdout",
     "output_type": "stream",
     "text": [
      "r2 score:  0.05051769467207812\n"
     ]
    }
   ],
   "source": [
    "print(\"r2 score: \",r2_score(y_test, y_pred))"
   ]
  },
  {
   "cell_type": "markdown",
   "id": "fb3f8b71",
   "metadata": {},
   "source": [
    "***Model Tuning***"
   ]
  },
  {
   "cell_type": "code",
   "execution_count": 630,
   "id": "d747904b",
   "metadata": {},
   "outputs": [],
   "source": [
    "from sklearn.linear_model import ElasticNetCV"
   ]
  },
  {
   "cell_type": "code",
   "execution_count": 631,
   "id": "9f7b55b6",
   "metadata": {},
   "outputs": [],
   "source": [
    "enet_cv_model = ElasticNetCV(cv = 10, random_state = 0).fit(X_train, y_train)"
   ]
  },
  {
   "cell_type": "code",
   "execution_count": 632,
   "id": "e14b414b",
   "metadata": {},
   "outputs": [
    {
     "data": {
      "text/plain": [
       "0.045076571229809084"
      ]
     },
     "execution_count": 632,
     "metadata": {},
     "output_type": "execute_result"
    }
   ],
   "source": [
    "enet_cv_model.alpha_"
   ]
  },
  {
   "cell_type": "code",
   "execution_count": 633,
   "id": "954e3421",
   "metadata": {},
   "outputs": [
    {
     "data": {
      "text/html": [
       "<style>#sk-container-id-14 {color: black;background-color: white;}#sk-container-id-14 pre{padding: 0;}#sk-container-id-14 div.sk-toggleable {background-color: white;}#sk-container-id-14 label.sk-toggleable__label {cursor: pointer;display: block;width: 100%;margin-bottom: 0;padding: 0.3em;box-sizing: border-box;text-align: center;}#sk-container-id-14 label.sk-toggleable__label-arrow:before {content: \"▸\";float: left;margin-right: 0.25em;color: #696969;}#sk-container-id-14 label.sk-toggleable__label-arrow:hover:before {color: black;}#sk-container-id-14 div.sk-estimator:hover label.sk-toggleable__label-arrow:before {color: black;}#sk-container-id-14 div.sk-toggleable__content {max-height: 0;max-width: 0;overflow: hidden;text-align: left;background-color: #f0f8ff;}#sk-container-id-14 div.sk-toggleable__content pre {margin: 0.2em;color: black;border-radius: 0.25em;background-color: #f0f8ff;}#sk-container-id-14 input.sk-toggleable__control:checked~div.sk-toggleable__content {max-height: 200px;max-width: 100%;overflow: auto;}#sk-container-id-14 input.sk-toggleable__control:checked~label.sk-toggleable__label-arrow:before {content: \"▾\";}#sk-container-id-14 div.sk-estimator input.sk-toggleable__control:checked~label.sk-toggleable__label {background-color: #d4ebff;}#sk-container-id-14 div.sk-label input.sk-toggleable__control:checked~label.sk-toggleable__label {background-color: #d4ebff;}#sk-container-id-14 input.sk-hidden--visually {border: 0;clip: rect(1px 1px 1px 1px);clip: rect(1px, 1px, 1px, 1px);height: 1px;margin: -1px;overflow: hidden;padding: 0;position: absolute;width: 1px;}#sk-container-id-14 div.sk-estimator {font-family: monospace;background-color: #f0f8ff;border: 1px dotted black;border-radius: 0.25em;box-sizing: border-box;margin-bottom: 0.5em;}#sk-container-id-14 div.sk-estimator:hover {background-color: #d4ebff;}#sk-container-id-14 div.sk-parallel-item::after {content: \"\";width: 100%;border-bottom: 1px solid gray;flex-grow: 1;}#sk-container-id-14 div.sk-label:hover label.sk-toggleable__label {background-color: #d4ebff;}#sk-container-id-14 div.sk-serial::before {content: \"\";position: absolute;border-left: 1px solid gray;box-sizing: border-box;top: 0;bottom: 0;left: 50%;z-index: 0;}#sk-container-id-14 div.sk-serial {display: flex;flex-direction: column;align-items: center;background-color: white;padding-right: 0.2em;padding-left: 0.2em;position: relative;}#sk-container-id-14 div.sk-item {position: relative;z-index: 1;}#sk-container-id-14 div.sk-parallel {display: flex;align-items: stretch;justify-content: center;background-color: white;position: relative;}#sk-container-id-14 div.sk-item::before, #sk-container-id-14 div.sk-parallel-item::before {content: \"\";position: absolute;border-left: 1px solid gray;box-sizing: border-box;top: 0;bottom: 0;left: 50%;z-index: -1;}#sk-container-id-14 div.sk-parallel-item {display: flex;flex-direction: column;z-index: 1;position: relative;background-color: white;}#sk-container-id-14 div.sk-parallel-item:first-child::after {align-self: flex-end;width: 50%;}#sk-container-id-14 div.sk-parallel-item:last-child::after {align-self: flex-start;width: 50%;}#sk-container-id-14 div.sk-parallel-item:only-child::after {width: 0;}#sk-container-id-14 div.sk-dashed-wrapped {border: 1px dashed gray;margin: 0 0.4em 0.5em 0.4em;box-sizing: border-box;padding-bottom: 0.4em;background-color: white;}#sk-container-id-14 div.sk-label label {font-family: monospace;font-weight: bold;display: inline-block;line-height: 1.2em;}#sk-container-id-14 div.sk-label-container {text-align: center;}#sk-container-id-14 div.sk-container {/* jupyter's `normalize.less` sets `[hidden] { display: none; }` but bootstrap.min.css set `[hidden] { display: none !important; }` so we also need the `!important` here to be able to override the default hidden behavior on the sphinx rendered scikit-learn.org. See: https://github.com/scikit-learn/scikit-learn/issues/21755 */display: inline-block !important;position: relative;}#sk-container-id-14 div.sk-text-repr-fallback {display: none;}</style><div id=\"sk-container-id-14\" class=\"sk-top-container\"><div class=\"sk-text-repr-fallback\"><pre>ElasticNetCV(cv=10, random_state=0)</pre><b>In a Jupyter environment, please rerun this cell to show the HTML representation or trust the notebook. <br />On GitHub, the HTML representation is unable to render, please try loading this page with nbviewer.org.</b></div><div class=\"sk-container\" hidden><div class=\"sk-item\"><div class=\"sk-estimator sk-toggleable\"><input class=\"sk-toggleable__control sk-hidden--visually\" id=\"sk-estimator-id-14\" type=\"checkbox\" checked><label for=\"sk-estimator-id-14\" class=\"sk-toggleable__label sk-toggleable__label-arrow\">ElasticNetCV</label><div class=\"sk-toggleable__content\"><pre>ElasticNetCV(cv=10, random_state=0)</pre></div></div></div></div></div>"
      ],
      "text/plain": [
       "ElasticNetCV(cv=10, random_state=0)"
      ]
     },
     "execution_count": 633,
     "metadata": {},
     "output_type": "execute_result"
    }
   ],
   "source": [
    "enet_cv_model"
   ]
  },
  {
   "cell_type": "code",
   "execution_count": 634,
   "id": "1fc786b4",
   "metadata": {},
   "outputs": [],
   "source": [
    "enet_tuned = ElasticNet(alpha = enet_cv_model.alpha_).fit(X_train,y_train)"
   ]
  },
  {
   "cell_type": "code",
   "execution_count": 635,
   "id": "fb7d81b9",
   "metadata": {},
   "outputs": [],
   "source": [
    "y_pred = enet_tuned.predict(X_test)"
   ]
  },
  {
   "cell_type": "code",
   "execution_count": 636,
   "id": "7d5b1b78",
   "metadata": {},
   "outputs": [
    {
     "name": "stdout",
     "output_type": "stream",
     "text": [
      "RMSE:  15.030807679874725\n"
     ]
    }
   ],
   "source": [
    "print(\"RMSE: \", np.sqrt(mean_squared_error(y_test, y_pred)))"
   ]
  },
  {
   "cell_type": "markdown",
   "id": "77dabbd8",
   "metadata": {},
   "source": [
    "Sonuç: Doğrusal regresyon işlemlerinden yapılam modellerin en iyisi PLS (Kısmi En Küçük Kareler Regresyonu) regresyonu olarak gözlemlendi."
   ]
  },
  {
   "cell_type": "markdown",
   "id": "db69bdc1",
   "metadata": {},
   "source": [
    "## Doğrusal Olmayan Reresyon"
   ]
  },
  {
   "cell_type": "code",
   "execution_count": 791,
   "id": "69c346c0",
   "metadata": {},
   "outputs": [],
   "source": [
    "import numpy as np\n",
    "import pandas as pd \n",
    "from sklearn.model_selection import train_test_split, GridSearchCV,cross_val_score\n",
    "from sklearn.metrics import mean_squared_error, r2_score\n",
    "from sklearn.svm import SVR\n",
    "from sklearn.linear_model import LinearRegression\n",
    "import matplotlib.pyplot as plt\n",
    "from sklearn.preprocessing import scale \n",
    "from sklearn import model_selection\n",
    "from sklearn.tree import DecisionTreeRegressor, DecisionTreeClassifier\n",
    "from sklearn.neighbors import KNeighborsRegressor\n",
    "from sklearn.ensemble import BaggingRegressor\n",
    "from sklearn.neural_network import MLPRegressor\n",
    "from sklearn.ensemble import RandomForestRegressor\n",
    "from sklearn.ensemble import GradientBoostingRegressor\n",
    "from sklearn.svm import LinearSVR\n",
    "from sklearn.preprocessing import StandardScaler\n",
    "\n",
    "\n",
    "from skompiler import skompile\n",
    "import xgboost as xgb\n",
    "from xgboost import XGBRegressor\n",
    "from catboost import CatBoostRegressor\n",
    "from lightgbm import LGBMRegressor\n",
    "from lightgbm import LGBMRegressor\n",
    "\n",
    "from warnings import filterwarnings\n",
    "filterwarnings('ignore')\n",
    "\n",
    "from datetime import datetime"
   ]
  },
  {
   "cell_type": "markdown",
   "id": "3b93d018",
   "metadata": {},
   "source": [
    "### KNN"
   ]
  },
  {
   "cell_type": "markdown",
   "id": "e7ed908f",
   "metadata": {},
   "source": [
    "***Model***"
   ]
  },
  {
   "cell_type": "code",
   "execution_count": 792,
   "id": "c4216bba",
   "metadata": {},
   "outputs": [],
   "source": [
    "y = df[\"Score\"]\n",
    "X = df_one_hot.drop(['Score'], axis=1)\n",
    "X_train, X_test, y_train, y_test = train_test_split(X, y, \n",
    "                                                    test_size=0.25, \n",
    "                                                    random_state=42)\n",
    "\n",
    "knn_model = KNeighborsRegressor().fit(X_train, y_train)"
   ]
  },
  {
   "cell_type": "markdown",
   "id": "9028efd9",
   "metadata": {},
   "source": [
    "***Tahimn***"
   ]
  },
  {
   "cell_type": "code",
   "execution_count": 793,
   "id": "8681c3c5",
   "metadata": {},
   "outputs": [
    {
     "name": "stdout",
     "output_type": "stream",
     "text": [
      "test hatası: 17.932775703845863\n",
      "k = 1 için RMSE değeri:  16.968743960733754\n",
      "k = 2 için RMSE değeri:  14.85017770189225\n",
      "k = 3 için RMSE değeri:  13.85781709542328\n",
      "k = 4 için RMSE değeri:  13.737690898930865\n",
      "k = 5 için RMSE değeri:  13.856495557528335\n",
      "k = 6 için RMSE değeri:  13.762897679548551\n",
      "k = 7 için RMSE değeri:  13.784606237053245\n",
      "k = 8 için RMSE değeri:  13.84854209133783\n",
      "k = 9 için RMSE değeri:  14.162788947223746\n",
      "k = 10 için RMSE değeri:  14.315951993544875\n"
     ]
    }
   ],
   "source": [
    "y_pred = knn_model.predict(X_test)\n",
    "\n",
    "print(\"test hatası:\" , np.sqrt(mean_squared_error(y_test, y_pred)))\n",
    "\n",
    "RMSE = [] \n",
    "#cross validation yapmadan hatalara bir bakalim\n",
    "for k in range(10):\n",
    "    k = k+1\n",
    "    knn_model = KNeighborsRegressor(n_neighbors = k).fit(X_train, y_train)\n",
    "    y_pred = knn_model.predict(X_train) \n",
    "    rmse = np.sqrt(mean_squared_error(y_train,y_pred)) \n",
    "    RMSE.append(rmse) \n",
    "    print(\"k =\" , k , \"için RMSE değeri: \", rmse)\n",
    "# Görüldüğü üzere en iyi komşu değeri k=4"
   ]
  },
  {
   "cell_type": "markdown",
   "id": "7563e7b1",
   "metadata": {},
   "source": [
    "***Model Tuning***"
   ]
  },
  {
   "cell_type": "code",
   "execution_count": 794,
   "id": "b6b1c99f",
   "metadata": {},
   "outputs": [
    {
     "data": {
      "text/html": [
       "<style>#sk-container-id-30 {color: black;background-color: white;}#sk-container-id-30 pre{padding: 0;}#sk-container-id-30 div.sk-toggleable {background-color: white;}#sk-container-id-30 label.sk-toggleable__label {cursor: pointer;display: block;width: 100%;margin-bottom: 0;padding: 0.3em;box-sizing: border-box;text-align: center;}#sk-container-id-30 label.sk-toggleable__label-arrow:before {content: \"▸\";float: left;margin-right: 0.25em;color: #696969;}#sk-container-id-30 label.sk-toggleable__label-arrow:hover:before {color: black;}#sk-container-id-30 div.sk-estimator:hover label.sk-toggleable__label-arrow:before {color: black;}#sk-container-id-30 div.sk-toggleable__content {max-height: 0;max-width: 0;overflow: hidden;text-align: left;background-color: #f0f8ff;}#sk-container-id-30 div.sk-toggleable__content pre {margin: 0.2em;color: black;border-radius: 0.25em;background-color: #f0f8ff;}#sk-container-id-30 input.sk-toggleable__control:checked~div.sk-toggleable__content {max-height: 200px;max-width: 100%;overflow: auto;}#sk-container-id-30 input.sk-toggleable__control:checked~label.sk-toggleable__label-arrow:before {content: \"▾\";}#sk-container-id-30 div.sk-estimator input.sk-toggleable__control:checked~label.sk-toggleable__label {background-color: #d4ebff;}#sk-container-id-30 div.sk-label input.sk-toggleable__control:checked~label.sk-toggleable__label {background-color: #d4ebff;}#sk-container-id-30 input.sk-hidden--visually {border: 0;clip: rect(1px 1px 1px 1px);clip: rect(1px, 1px, 1px, 1px);height: 1px;margin: -1px;overflow: hidden;padding: 0;position: absolute;width: 1px;}#sk-container-id-30 div.sk-estimator {font-family: monospace;background-color: #f0f8ff;border: 1px dotted black;border-radius: 0.25em;box-sizing: border-box;margin-bottom: 0.5em;}#sk-container-id-30 div.sk-estimator:hover {background-color: #d4ebff;}#sk-container-id-30 div.sk-parallel-item::after {content: \"\";width: 100%;border-bottom: 1px solid gray;flex-grow: 1;}#sk-container-id-30 div.sk-label:hover label.sk-toggleable__label {background-color: #d4ebff;}#sk-container-id-30 div.sk-serial::before {content: \"\";position: absolute;border-left: 1px solid gray;box-sizing: border-box;top: 0;bottom: 0;left: 50%;z-index: 0;}#sk-container-id-30 div.sk-serial {display: flex;flex-direction: column;align-items: center;background-color: white;padding-right: 0.2em;padding-left: 0.2em;position: relative;}#sk-container-id-30 div.sk-item {position: relative;z-index: 1;}#sk-container-id-30 div.sk-parallel {display: flex;align-items: stretch;justify-content: center;background-color: white;position: relative;}#sk-container-id-30 div.sk-item::before, #sk-container-id-30 div.sk-parallel-item::before {content: \"\";position: absolute;border-left: 1px solid gray;box-sizing: border-box;top: 0;bottom: 0;left: 50%;z-index: -1;}#sk-container-id-30 div.sk-parallel-item {display: flex;flex-direction: column;z-index: 1;position: relative;background-color: white;}#sk-container-id-30 div.sk-parallel-item:first-child::after {align-self: flex-end;width: 50%;}#sk-container-id-30 div.sk-parallel-item:last-child::after {align-self: flex-start;width: 50%;}#sk-container-id-30 div.sk-parallel-item:only-child::after {width: 0;}#sk-container-id-30 div.sk-dashed-wrapped {border: 1px dashed gray;margin: 0 0.4em 0.5em 0.4em;box-sizing: border-box;padding-bottom: 0.4em;background-color: white;}#sk-container-id-30 div.sk-label label {font-family: monospace;font-weight: bold;display: inline-block;line-height: 1.2em;}#sk-container-id-30 div.sk-label-container {text-align: center;}#sk-container-id-30 div.sk-container {/* jupyter's `normalize.less` sets `[hidden] { display: none; }` but bootstrap.min.css set `[hidden] { display: none !important; }` so we also need the `!important` here to be able to override the default hidden behavior on the sphinx rendered scikit-learn.org. See: https://github.com/scikit-learn/scikit-learn/issues/21755 */display: inline-block !important;position: relative;}#sk-container-id-30 div.sk-text-repr-fallback {display: none;}</style><div id=\"sk-container-id-30\" class=\"sk-top-container\"><div class=\"sk-text-repr-fallback\"><pre>GridSearchCV(cv=10, estimator=KNeighborsRegressor(),\n",
       "             param_grid={&#x27;n_neighbors&#x27;: array([ 1,  2,  3,  4,  5,  6,  7,  8,  9, 10, 11, 12, 13, 14, 15, 16, 17,\n",
       "       18, 19, 20, 21, 22, 23, 24, 25, 26, 27, 28, 29])})</pre><b>In a Jupyter environment, please rerun this cell to show the HTML representation or trust the notebook. <br />On GitHub, the HTML representation is unable to render, please try loading this page with nbviewer.org.</b></div><div class=\"sk-container\" hidden><div class=\"sk-item sk-dashed-wrapped\"><div class=\"sk-label-container\"><div class=\"sk-label sk-toggleable\"><input class=\"sk-toggleable__control sk-hidden--visually\" id=\"sk-estimator-id-44\" type=\"checkbox\" ><label for=\"sk-estimator-id-44\" class=\"sk-toggleable__label sk-toggleable__label-arrow\">GridSearchCV</label><div class=\"sk-toggleable__content\"><pre>GridSearchCV(cv=10, estimator=KNeighborsRegressor(),\n",
       "             param_grid={&#x27;n_neighbors&#x27;: array([ 1,  2,  3,  4,  5,  6,  7,  8,  9, 10, 11, 12, 13, 14, 15, 16, 17,\n",
       "       18, 19, 20, 21, 22, 23, 24, 25, 26, 27, 28, 29])})</pre></div></div></div><div class=\"sk-parallel\"><div class=\"sk-parallel-item\"><div class=\"sk-item\"><div class=\"sk-label-container\"><div class=\"sk-label sk-toggleable\"><input class=\"sk-toggleable__control sk-hidden--visually\" id=\"sk-estimator-id-45\" type=\"checkbox\" ><label for=\"sk-estimator-id-45\" class=\"sk-toggleable__label sk-toggleable__label-arrow\">estimator: KNeighborsRegressor</label><div class=\"sk-toggleable__content\"><pre>KNeighborsRegressor()</pre></div></div></div><div class=\"sk-serial\"><div class=\"sk-item\"><div class=\"sk-estimator sk-toggleable\"><input class=\"sk-toggleable__control sk-hidden--visually\" id=\"sk-estimator-id-46\" type=\"checkbox\" ><label for=\"sk-estimator-id-46\" class=\"sk-toggleable__label sk-toggleable__label-arrow\">KNeighborsRegressor</label><div class=\"sk-toggleable__content\"><pre>KNeighborsRegressor()</pre></div></div></div></div></div></div></div></div></div></div>"
      ],
      "text/plain": [
       "GridSearchCV(cv=10, estimator=KNeighborsRegressor(),\n",
       "             param_grid={'n_neighbors': array([ 1,  2,  3,  4,  5,  6,  7,  8,  9, 10, 11, 12, 13, 14, 15, 16, 17,\n",
       "       18, 19, 20, 21, 22, 23, 24, 25, 26, 27, 28, 29])})"
      ]
     },
     "execution_count": 794,
     "metadata": {},
     "output_type": "execute_result"
    }
   ],
   "source": [
    "#GridSearchCV ile optimum k sayisinin belirlenmesi\n",
    "knn_params = {'n_neighbors': np.arange(1,30,1)}\n",
    "knn = KNeighborsRegressor()\n",
    "knn_cv_model = GridSearchCV(knn, knn_params, cv = 10)\n",
    "knn_cv_model.fit(X_train, y_train)"
   ]
  },
  {
   "cell_type": "code",
   "execution_count": 795,
   "id": "a74e250c",
   "metadata": {},
   "outputs": [
    {
     "data": {
      "text/plain": [
       "29"
      ]
     },
     "execution_count": 795,
     "metadata": {},
     "output_type": "execute_result"
    }
   ],
   "source": [
    "knn_cv_model.best_params_[\"n_neighbors\"]# Crossvalidation ile optimum k 29 çıktı"
   ]
  },
  {
   "cell_type": "code",
   "execution_count": 649,
   "id": "51a68c81",
   "metadata": {},
   "outputs": [
    {
     "name": "stdout",
     "output_type": "stream",
     "text": [
      "k = 1 için RMSE değeri:  16.968743960733754 RMSE_CV değeri:  20.182403518032878\n",
      "k = 2 için RMSE değeri:  14.85017770189225 RMSE_CV değeri:  18.75947064739803\n",
      "k = 3 için RMSE değeri:  13.85781709542328 RMSE_CV değeri:  17.72342667040368\n",
      "k = 4 için RMSE değeri:  13.737690898930865 RMSE_CV değeri:  17.18156715785845\n",
      "k = 5 için RMSE değeri:  13.856495557528335 RMSE_CV değeri:  16.55739527326971\n",
      "k = 6 için RMSE değeri:  13.762897679548551 RMSE_CV değeri:  15.875113542386401\n",
      "k = 7 için RMSE değeri:  13.784606237053245 RMSE_CV değeri:  16.04118536303164\n",
      "k = 8 için RMSE değeri:  13.84854209133783 RMSE_CV değeri:  15.799621659305828\n",
      "k = 9 için RMSE değeri:  14.162788947223746 RMSE_CV değeri:  15.73990451770847\n",
      "k = 10 için RMSE değeri:  14.315951993544875 RMSE_CV değeri:  15.635570189380967\n",
      "k = 11 için RMSE değeri:  14.284244425672858 RMSE_CV değeri:  15.586842421099428\n",
      "k = 12 için RMSE değeri:  14.452056102264146 RMSE_CV değeri:  15.6742514623579\n",
      "k = 13 için RMSE değeri:  14.409864793778345 RMSE_CV değeri:  15.539577459817092\n",
      "k = 14 için RMSE değeri:  14.563308246753108 RMSE_CV değeri:  15.449006743112632\n",
      "k = 15 için RMSE değeri:  14.59997087393979 RMSE_CV değeri:  15.390328269675278\n",
      "k = 16 için RMSE değeri:  14.496776860800882 RMSE_CV değeri:  15.395417055923726\n",
      "k = 17 için RMSE değeri:  14.444712090502337 RMSE_CV değeri:  15.335034351011831\n",
      "k = 18 için RMSE değeri:  14.580163284693416 RMSE_CV değeri:  15.363169264901657\n",
      "k = 19 için RMSE değeri:  14.50433342990832 RMSE_CV değeri:  15.4341172244784\n",
      "k = 20 için RMSE değeri:  14.556417489322598 RMSE_CV değeri:  15.217274946634518\n",
      "k = 21 için RMSE değeri:  14.569084990189301 RMSE_CV değeri:  15.107448929979391\n",
      "k = 22 için RMSE değeri:  14.638371152870212 RMSE_CV değeri:  15.277460492524012\n",
      "k = 23 için RMSE değeri:  14.598904330626588 RMSE_CV değeri:  15.195488050184073\n",
      "k = 24 için RMSE değeri:  14.778470683073152 RMSE_CV değeri:  15.092222077227387\n",
      "k = 25 için RMSE değeri:  14.634786564134707 RMSE_CV değeri:  15.1480248372713\n",
      "k = 26 için RMSE değeri:  14.710858316214491 RMSE_CV değeri:  14.99628799136106\n",
      "k = 27 için RMSE değeri:  14.771727179305918 RMSE_CV değeri:  15.030890403556642\n",
      "k = 28 için RMSE değeri:  14.702656210605834 RMSE_CV değeri:  15.07441268585212\n",
      "k = 29 için RMSE değeri:  14.64197487542811 RMSE_CV değeri:  14.921276789594279\n",
      "k = 30 için RMSE değeri:  14.70806260607231 RMSE_CV değeri:  15.069472357734455\n"
     ]
    }
   ],
   "source": [
    "RMSE = [] \n",
    "RMSE_CV = []\n",
    "for k in range(30):\n",
    "    k = k+1\n",
    "    knn_model = KNeighborsRegressor(n_neighbors = k).fit(X_train, y_train)\n",
    "    y_pred = knn_model.predict(X_train) \n",
    "    rmse = np.sqrt(mean_squared_error(y_train,y_pred)) \n",
    "    rmse_cv = np.sqrt(-1*cross_val_score(knn_model, X_train, y_train, cv=10, \n",
    "                                         scoring = \"neg_mean_squared_error\").mean())\n",
    "    #cross validation olmadan hatalar\n",
    "    RMSE.append(rmse) \n",
    "    #cross validation kullanilarak alindan hatalar\n",
    "    RMSE_CV.append(rmse_cv)\n",
    "    print(\"k =\" , k , \"için RMSE değeri: \", rmse, \"RMSE_CV değeri: \", rmse_cv )\n"
   ]
  },
  {
   "cell_type": "code",
   "execution_count": 796,
   "id": "edab8bc2",
   "metadata": {},
   "outputs": [
    {
     "data": {
      "text/plain": [
       "18.552228577321518"
      ]
     },
     "execution_count": 796,
     "metadata": {},
     "output_type": "execute_result"
    }
   ],
   "source": [
    "#k=2 için train degil test setini denediğimizde\n",
    "knn_tuned = KNeighborsRegressor(n_neighbors =2)\n",
    "knn_tuned.fit(X_train, y_train)\n",
    "np.sqrt(mean_squared_error(y_test, knn_tuned.predict(X_test)))"
   ]
  },
  {
   "cell_type": "code",
   "execution_count": 797,
   "id": "e803d9a3",
   "metadata": {},
   "outputs": [
    {
     "data": {
      "text/html": [
       "<style>#sk-container-id-31 {color: black;background-color: white;}#sk-container-id-31 pre{padding: 0;}#sk-container-id-31 div.sk-toggleable {background-color: white;}#sk-container-id-31 label.sk-toggleable__label {cursor: pointer;display: block;width: 100%;margin-bottom: 0;padding: 0.3em;box-sizing: border-box;text-align: center;}#sk-container-id-31 label.sk-toggleable__label-arrow:before {content: \"▸\";float: left;margin-right: 0.25em;color: #696969;}#sk-container-id-31 label.sk-toggleable__label-arrow:hover:before {color: black;}#sk-container-id-31 div.sk-estimator:hover label.sk-toggleable__label-arrow:before {color: black;}#sk-container-id-31 div.sk-toggleable__content {max-height: 0;max-width: 0;overflow: hidden;text-align: left;background-color: #f0f8ff;}#sk-container-id-31 div.sk-toggleable__content pre {margin: 0.2em;color: black;border-radius: 0.25em;background-color: #f0f8ff;}#sk-container-id-31 input.sk-toggleable__control:checked~div.sk-toggleable__content {max-height: 200px;max-width: 100%;overflow: auto;}#sk-container-id-31 input.sk-toggleable__control:checked~label.sk-toggleable__label-arrow:before {content: \"▾\";}#sk-container-id-31 div.sk-estimator input.sk-toggleable__control:checked~label.sk-toggleable__label {background-color: #d4ebff;}#sk-container-id-31 div.sk-label input.sk-toggleable__control:checked~label.sk-toggleable__label {background-color: #d4ebff;}#sk-container-id-31 input.sk-hidden--visually {border: 0;clip: rect(1px 1px 1px 1px);clip: rect(1px, 1px, 1px, 1px);height: 1px;margin: -1px;overflow: hidden;padding: 0;position: absolute;width: 1px;}#sk-container-id-31 div.sk-estimator {font-family: monospace;background-color: #f0f8ff;border: 1px dotted black;border-radius: 0.25em;box-sizing: border-box;margin-bottom: 0.5em;}#sk-container-id-31 div.sk-estimator:hover {background-color: #d4ebff;}#sk-container-id-31 div.sk-parallel-item::after {content: \"\";width: 100%;border-bottom: 1px solid gray;flex-grow: 1;}#sk-container-id-31 div.sk-label:hover label.sk-toggleable__label {background-color: #d4ebff;}#sk-container-id-31 div.sk-serial::before {content: \"\";position: absolute;border-left: 1px solid gray;box-sizing: border-box;top: 0;bottom: 0;left: 50%;z-index: 0;}#sk-container-id-31 div.sk-serial {display: flex;flex-direction: column;align-items: center;background-color: white;padding-right: 0.2em;padding-left: 0.2em;position: relative;}#sk-container-id-31 div.sk-item {position: relative;z-index: 1;}#sk-container-id-31 div.sk-parallel {display: flex;align-items: stretch;justify-content: center;background-color: white;position: relative;}#sk-container-id-31 div.sk-item::before, #sk-container-id-31 div.sk-parallel-item::before {content: \"\";position: absolute;border-left: 1px solid gray;box-sizing: border-box;top: 0;bottom: 0;left: 50%;z-index: -1;}#sk-container-id-31 div.sk-parallel-item {display: flex;flex-direction: column;z-index: 1;position: relative;background-color: white;}#sk-container-id-31 div.sk-parallel-item:first-child::after {align-self: flex-end;width: 50%;}#sk-container-id-31 div.sk-parallel-item:last-child::after {align-self: flex-start;width: 50%;}#sk-container-id-31 div.sk-parallel-item:only-child::after {width: 0;}#sk-container-id-31 div.sk-dashed-wrapped {border: 1px dashed gray;margin: 0 0.4em 0.5em 0.4em;box-sizing: border-box;padding-bottom: 0.4em;background-color: white;}#sk-container-id-31 div.sk-label label {font-family: monospace;font-weight: bold;display: inline-block;line-height: 1.2em;}#sk-container-id-31 div.sk-label-container {text-align: center;}#sk-container-id-31 div.sk-container {/* jupyter's `normalize.less` sets `[hidden] { display: none; }` but bootstrap.min.css set `[hidden] { display: none !important; }` so we also need the `!important` here to be able to override the default hidden behavior on the sphinx rendered scikit-learn.org. See: https://github.com/scikit-learn/scikit-learn/issues/21755 */display: inline-block !important;position: relative;}#sk-container-id-31 div.sk-text-repr-fallback {display: none;}</style><div id=\"sk-container-id-31\" class=\"sk-top-container\"><div class=\"sk-text-repr-fallback\"><pre>KNeighborsRegressor(n_neighbors=29)</pre><b>In a Jupyter environment, please rerun this cell to show the HTML representation or trust the notebook. <br />On GitHub, the HTML representation is unable to render, please try loading this page with nbviewer.org.</b></div><div class=\"sk-container\" hidden><div class=\"sk-item\"><div class=\"sk-estimator sk-toggleable\"><input class=\"sk-toggleable__control sk-hidden--visually\" id=\"sk-estimator-id-47\" type=\"checkbox\" checked><label for=\"sk-estimator-id-47\" class=\"sk-toggleable__label sk-toggleable__label-arrow\">KNeighborsRegressor</label><div class=\"sk-toggleable__content\"><pre>KNeighborsRegressor(n_neighbors=29)</pre></div></div></div></div></div>"
      ],
      "text/plain": [
       "KNeighborsRegressor(n_neighbors=29)"
      ]
     },
     "execution_count": 797,
     "metadata": {},
     "output_type": "execute_result"
    }
   ],
   "source": [
    "knn_tuned = KNeighborsRegressor(n_neighbors = knn_cv_model.best_params_[\"n_neighbors\"])\n",
    "knn_tuned.fit(X_train, y_train)"
   ]
  },
  {
   "cell_type": "code",
   "execution_count": 798,
   "id": "4012140e",
   "metadata": {},
   "outputs": [
    {
     "name": "stdout",
     "output_type": "stream",
     "text": [
      "RMSE:  15.084193625926156\n"
     ]
    }
   ],
   "source": [
    "print(\"RMSE: \",np.sqrt(mean_squared_error(y_test, knn_tuned.predict(X_test))))"
   ]
  },
  {
   "cell_type": "markdown",
   "id": "a7e4b4e9",
   "metadata": {},
   "source": [
    "### Destek Vektör Regresyonu (SVR)\n"
   ]
  },
  {
   "cell_type": "markdown",
   "id": "f6f9f725",
   "metadata": {},
   "source": [
    "***Model (Doğrusal SVR)***"
   ]
  },
  {
   "cell_type": "code",
   "execution_count": 799,
   "id": "1690aa02",
   "metadata": {},
   "outputs": [],
   "source": [
    "y = df[\"Score\"]\n",
    "X = df_one_hot.drop(['Score'], axis=1)\n",
    "X_train, X_test, y_train, y_test = train_test_split(X, y, \n",
    "                                                    test_size=0.25, \n",
    "                                                    random_state=42)"
   ]
  },
  {
   "cell_type": "code",
   "execution_count": 800,
   "id": "8f2bd96b",
   "metadata": {},
   "outputs": [],
   "source": [
    "svr_model = LinearSVR().fit(X_train, y_train)"
   ]
  },
  {
   "cell_type": "code",
   "execution_count": 801,
   "id": "9dbffa2e",
   "metadata": {},
   "outputs": [
    {
     "data": {
      "text/plain": [
       "array([71.34406244, 54.31616521, 53.36047642, 53.36047642, 66.40222162])"
      ]
     },
     "execution_count": 801,
     "metadata": {},
     "output_type": "execute_result"
    }
   ],
   "source": [
    "svr_model.predict(X_train)[0:5]\n",
    "#ilk değer için modelimizi deneyebiliriz"
   ]
  },
  {
   "cell_type": "code",
   "execution_count": 802,
   "id": "517abdfb",
   "metadata": {},
   "outputs": [
    {
     "data": {
      "text/html": [
       "<div>\n",
       "<style scoped>\n",
       "    .dataframe tbody tr th:only-of-type {\n",
       "        vertical-align: middle;\n",
       "    }\n",
       "\n",
       "    .dataframe tbody tr th {\n",
       "        vertical-align: top;\n",
       "    }\n",
       "\n",
       "    .dataframe thead th {\n",
       "        text-align: right;\n",
       "    }\n",
       "</style>\n",
       "<table border=\"1\" class=\"dataframe\">\n",
       "  <thead>\n",
       "    <tr style=\"text-align: right;\">\n",
       "      <th></th>\n",
       "      <th>Teacher_Smith</th>\n",
       "      <th>Teacher_Wesson</th>\n",
       "      <th>Gender_Male</th>\n",
       "      <th>Ethnic_Asian</th>\n",
       "      <th>Ethnic_Caucasian</th>\n",
       "      <th>Ethnic_Hispanic</th>\n",
       "      <th>Freeredu_Paid lunch</th>\n",
       "      <th>Method_Traditional</th>\n",
       "    </tr>\n",
       "    <tr>\n",
       "      <th>Student</th>\n",
       "      <th></th>\n",
       "      <th></th>\n",
       "      <th></th>\n",
       "      <th></th>\n",
       "      <th></th>\n",
       "      <th></th>\n",
       "      <th></th>\n",
       "      <th></th>\n",
       "    </tr>\n",
       "  </thead>\n",
       "  <tbody>\n",
       "    <tr>\n",
       "      <th>121</th>\n",
       "      <td>1</td>\n",
       "      <td>0</td>\n",
       "      <td>1</td>\n",
       "      <td>0</td>\n",
       "      <td>0</td>\n",
       "      <td>1</td>\n",
       "      <td>1</td>\n",
       "      <td>0</td>\n",
       "    </tr>\n",
       "  </tbody>\n",
       "</table>\n",
       "</div>"
      ],
      "text/plain": [
       "         Teacher_Smith  Teacher_Wesson  Gender_Male  Ethnic_Asian  \\\n",
       "Student                                                             \n",
       "121                  1               0            1             0   \n",
       "\n",
       "         Ethnic_Caucasian  Ethnic_Hispanic  Freeredu_Paid lunch  \\\n",
       "Student                                                           \n",
       "121                     0                1                    1   \n",
       "\n",
       "         Method_Traditional  \n",
       "Student                      \n",
       "121                       0  "
      ]
     },
     "execution_count": 802,
     "metadata": {},
     "output_type": "execute_result"
    }
   ],
   "source": [
    "X_train[0:1]"
   ]
  },
  {
   "cell_type": "code",
   "execution_count": 803,
   "id": "be735ae7",
   "metadata": {},
   "outputs": [
    {
     "name": "stdout",
     "output_type": "stream",
     "text": [
      "[37.66425667]\n",
      "[13.04174521 10.01504179  5.33185585  3.03196308  3.98765188  7.9738039\n",
      "  7.33240081 10.01504179]\n"
     ]
    }
   ],
   "source": [
    "print(svr_model.intercept_) # Formülün katsayıları\n",
    "print(svr_model.coef_)"
   ]
  },
  {
   "cell_type": "code",
   "execution_count": 804,
   "id": "9b8c4dc0",
   "metadata": {},
   "outputs": [],
   "source": [
    "#değerleri formulde yerine yazip sonucu aldigimizda dogru y degerine ulastigimizi goruyosruz. \n",
    "score =svr_model.predict([[1,0,1,0,0,1,1,0]])"
   ]
  },
  {
   "cell_type": "code",
   "execution_count": 805,
   "id": "f1f61c17",
   "metadata": {},
   "outputs": [
    {
     "name": "stdout",
     "output_type": "stream",
     "text": [
      "[71.34406244]\n"
     ]
    }
   ],
   "source": [
    "print(score)# Gerçek skor 79"
   ]
  },
  {
   "cell_type": "code",
   "execution_count": 806,
   "id": "a70a69ec",
   "metadata": {},
   "outputs": [],
   "source": [
    "y_pred = svr_model.predict(X_train)"
   ]
  },
  {
   "cell_type": "markdown",
   "id": "80ce5543",
   "metadata": {},
   "source": [
    "***lineer regresyon modeliyle svm modelini karsilastirma***\n"
   ]
  },
  {
   "cell_type": "code",
   "execution_count": 807,
   "id": "67a9b0da",
   "metadata": {},
   "outputs": [
    {
     "name": "stdout",
     "output_type": "stream",
     "text": [
      "60.33243775256834 [15.57758064  8.03317355 -4.20174142 -3.28275855 -4.3099415  -1.89013033\n",
      " -1.40069391  8.03317355]\n"
     ]
    }
   ],
   "source": [
    "#lineer regresyon modeliyle svm modelini karsilastiralim\n",
    "lm_model = LinearRegression().fit(X_train, y_train)\n",
    "lm_pred  = lm_model.predict(X_train)\n",
    "print(lm_model.intercept_, lm_model.coef_)"
   ]
  },
  {
   "cell_type": "code",
   "execution_count": 808,
   "id": "326e02d1",
   "metadata": {},
   "outputs": [],
   "source": [
    "score = lm_model.predict([[1,0,1,0,0,1,1,0]])"
   ]
  },
  {
   "cell_type": "code",
   "execution_count": 809,
   "id": "d5333555",
   "metadata": {},
   "outputs": [
    {
     "name": "stdout",
     "output_type": "stream",
     "text": [
      "[68.41745273]\n"
     ]
    }
   ],
   "source": [
    "print(score)#Gerçeği 79 svr 71 lineer 68"
   ]
  },
  {
   "cell_type": "markdown",
   "id": "50b511db",
   "metadata": {},
   "source": [
    "***Tahmin (Doğrusal SVR)***"
   ]
  },
  {
   "cell_type": "code",
   "execution_count": 810,
   "id": "0d22c9d8",
   "metadata": {},
   "outputs": [
    {
     "data": {
      "text/plain": [
       "array([71.34406244])"
      ]
     },
     "execution_count": 810,
     "metadata": {},
     "output_type": "execute_result"
    }
   ],
   "source": [
    "svr_model.predict([[1,0,1,0,0,1,1,0]])"
   ]
  },
  {
   "cell_type": "code",
   "execution_count": 811,
   "id": "cb465257",
   "metadata": {},
   "outputs": [],
   "source": [
    "y_pred = svr_model.predict(X_test)"
   ]
  },
  {
   "cell_type": "code",
   "execution_count": 812,
   "id": "acd9c306",
   "metadata": {},
   "outputs": [
    {
     "name": "stdout",
     "output_type": "stream",
     "text": [
      "RMSE:  17.228646900660454\n"
     ]
    }
   ],
   "source": [
    "print(\"RMSE: \",np.sqrt(mean_squared_error(y_test, y_pred)))"
   ]
  },
  {
   "cell_type": "markdown",
   "id": "1e6fcb8b",
   "metadata": {},
   "source": [
    "***Model Tuning (Doğrusal SVR)***"
   ]
  },
  {
   "cell_type": "code",
   "execution_count": 813,
   "id": "896bb369",
   "metadata": {},
   "outputs": [],
   "source": [
    "svr_params = {\"C\": np.arange(0.1,2,0.1)}\n",
    "svr_cv_model = GridSearchCV(svr_model, svr_params, cv = 10).fit(X_train,y_train)"
   ]
  },
  {
   "cell_type": "code",
   "execution_count": 814,
   "id": "fb7c9bd4",
   "metadata": {},
   "outputs": [
    {
     "data": {
      "text/plain": [
       "1.9000000000000001"
      ]
     },
     "execution_count": 814,
     "metadata": {},
     "output_type": "execute_result"
    }
   ],
   "source": [
    "pd.Series(svr_cv_model.best_params_)[0]"
   ]
  },
  {
   "cell_type": "code",
   "execution_count": 815,
   "id": "36ecca10",
   "metadata": {},
   "outputs": [],
   "source": [
    "svr_tuned = LinearSVR(C = pd.Series(svr_cv_model.best_params_)[0]).fit(X_train, y_train)"
   ]
  },
  {
   "cell_type": "code",
   "execution_count": 816,
   "id": "2ca9416d",
   "metadata": {},
   "outputs": [],
   "source": [
    "y_pred = svr_tuned.predict(X_test)"
   ]
  },
  {
   "cell_type": "code",
   "execution_count": 817,
   "id": "cd9f8744",
   "metadata": {},
   "outputs": [
    {
     "name": "stdout",
     "output_type": "stream",
     "text": [
      "RMSE:  15.840921887101569\n"
     ]
    }
   ],
   "source": [
    "print(\"RMSE: \",np.sqrt(mean_squared_error(y_test, y_pred)))"
   ]
  },
  {
   "cell_type": "markdown",
   "id": "d5395ab4",
   "metadata": {},
   "source": [
    "### Doğrusal olmayan"
   ]
  },
  {
   "cell_type": "markdown",
   "id": "84b2b652",
   "metadata": {},
   "source": [
    "***Model (Doğrusal Olmayan SVR)***"
   ]
  },
  {
   "cell_type": "code",
   "execution_count": 818,
   "id": "620e45ad",
   "metadata": {},
   "outputs": [],
   "source": [
    "y = df[\"Score\"]\n",
    "X = df_one_hot.drop(['Score'], axis=1)\n",
    "X_train, X_test, y_train, y_test = train_test_split(X, y, \n",
    "                                                    test_size=0.25, \n",
    "                                                    random_state=42)"
   ]
  },
  {
   "cell_type": "code",
   "execution_count": 819,
   "id": "66ad816a",
   "metadata": {},
   "outputs": [],
   "source": [
    "svr_rbf = SVR(kernel=\"rbf\").fit(X_train, y_train)"
   ]
  },
  {
   "cell_type": "markdown",
   "id": "dfd47a90",
   "metadata": {},
   "source": [
    "***Tahmin (Doğrusal Olmayan SVR)***"
   ]
  },
  {
   "cell_type": "code",
   "execution_count": 820,
   "id": "e7a5eabf",
   "metadata": {},
   "outputs": [],
   "source": [
    "y_pred = svr_rbf.predict(X_test)"
   ]
  },
  {
   "cell_type": "code",
   "execution_count": 821,
   "id": "680ca337",
   "metadata": {},
   "outputs": [
    {
     "name": "stdout",
     "output_type": "stream",
     "text": [
      "RMSE:  15.714263121918986\n"
     ]
    }
   ],
   "source": [
    "print(\"RMSE: \",np.sqrt(mean_squared_error(y_test, y_pred)))"
   ]
  },
  {
   "cell_type": "markdown",
   "id": "c8ef6d9f",
   "metadata": {},
   "source": [
    "***Model Tuning (Doğrusal Olmayan SVR)***"
   ]
  },
  {
   "cell_type": "code",
   "execution_count": 822,
   "id": "b50d1425",
   "metadata": {},
   "outputs": [
    {
     "data": {
      "text/html": [
       "<style>#sk-container-id-32 {color: black;background-color: white;}#sk-container-id-32 pre{padding: 0;}#sk-container-id-32 div.sk-toggleable {background-color: white;}#sk-container-id-32 label.sk-toggleable__label {cursor: pointer;display: block;width: 100%;margin-bottom: 0;padding: 0.3em;box-sizing: border-box;text-align: center;}#sk-container-id-32 label.sk-toggleable__label-arrow:before {content: \"▸\";float: left;margin-right: 0.25em;color: #696969;}#sk-container-id-32 label.sk-toggleable__label-arrow:hover:before {color: black;}#sk-container-id-32 div.sk-estimator:hover label.sk-toggleable__label-arrow:before {color: black;}#sk-container-id-32 div.sk-toggleable__content {max-height: 0;max-width: 0;overflow: hidden;text-align: left;background-color: #f0f8ff;}#sk-container-id-32 div.sk-toggleable__content pre {margin: 0.2em;color: black;border-radius: 0.25em;background-color: #f0f8ff;}#sk-container-id-32 input.sk-toggleable__control:checked~div.sk-toggleable__content {max-height: 200px;max-width: 100%;overflow: auto;}#sk-container-id-32 input.sk-toggleable__control:checked~label.sk-toggleable__label-arrow:before {content: \"▾\";}#sk-container-id-32 div.sk-estimator input.sk-toggleable__control:checked~label.sk-toggleable__label {background-color: #d4ebff;}#sk-container-id-32 div.sk-label input.sk-toggleable__control:checked~label.sk-toggleable__label {background-color: #d4ebff;}#sk-container-id-32 input.sk-hidden--visually {border: 0;clip: rect(1px 1px 1px 1px);clip: rect(1px, 1px, 1px, 1px);height: 1px;margin: -1px;overflow: hidden;padding: 0;position: absolute;width: 1px;}#sk-container-id-32 div.sk-estimator {font-family: monospace;background-color: #f0f8ff;border: 1px dotted black;border-radius: 0.25em;box-sizing: border-box;margin-bottom: 0.5em;}#sk-container-id-32 div.sk-estimator:hover {background-color: #d4ebff;}#sk-container-id-32 div.sk-parallel-item::after {content: \"\";width: 100%;border-bottom: 1px solid gray;flex-grow: 1;}#sk-container-id-32 div.sk-label:hover label.sk-toggleable__label {background-color: #d4ebff;}#sk-container-id-32 div.sk-serial::before {content: \"\";position: absolute;border-left: 1px solid gray;box-sizing: border-box;top: 0;bottom: 0;left: 50%;z-index: 0;}#sk-container-id-32 div.sk-serial {display: flex;flex-direction: column;align-items: center;background-color: white;padding-right: 0.2em;padding-left: 0.2em;position: relative;}#sk-container-id-32 div.sk-item {position: relative;z-index: 1;}#sk-container-id-32 div.sk-parallel {display: flex;align-items: stretch;justify-content: center;background-color: white;position: relative;}#sk-container-id-32 div.sk-item::before, #sk-container-id-32 div.sk-parallel-item::before {content: \"\";position: absolute;border-left: 1px solid gray;box-sizing: border-box;top: 0;bottom: 0;left: 50%;z-index: -1;}#sk-container-id-32 div.sk-parallel-item {display: flex;flex-direction: column;z-index: 1;position: relative;background-color: white;}#sk-container-id-32 div.sk-parallel-item:first-child::after {align-self: flex-end;width: 50%;}#sk-container-id-32 div.sk-parallel-item:last-child::after {align-self: flex-start;width: 50%;}#sk-container-id-32 div.sk-parallel-item:only-child::after {width: 0;}#sk-container-id-32 div.sk-dashed-wrapped {border: 1px dashed gray;margin: 0 0.4em 0.5em 0.4em;box-sizing: border-box;padding-bottom: 0.4em;background-color: white;}#sk-container-id-32 div.sk-label label {font-family: monospace;font-weight: bold;display: inline-block;line-height: 1.2em;}#sk-container-id-32 div.sk-label-container {text-align: center;}#sk-container-id-32 div.sk-container {/* jupyter's `normalize.less` sets `[hidden] { display: none; }` but bootstrap.min.css set `[hidden] { display: none !important; }` so we also need the `!important` here to be able to override the default hidden behavior on the sphinx rendered scikit-learn.org. See: https://github.com/scikit-learn/scikit-learn/issues/21755 */display: inline-block !important;position: relative;}#sk-container-id-32 div.sk-text-repr-fallback {display: none;}</style><div id=\"sk-container-id-32\" class=\"sk-top-container\"><div class=\"sk-text-repr-fallback\"><pre>GridSearchCV(cv=10, estimator=SVR(),\n",
       "             param_grid={&#x27;C&#x27;: [0.01, 0.1, 0.4, 5, 10, 20, 30, 40, 50, 60, 70,\n",
       "                               80, 90, 100, 110, 120, 130, 140, 200, 300, 400,\n",
       "                               500, 600, 700, 800, 900, 1000, 2000, 3000, 4000, ...]})</pre><b>In a Jupyter environment, please rerun this cell to show the HTML representation or trust the notebook. <br />On GitHub, the HTML representation is unable to render, please try loading this page with nbviewer.org.</b></div><div class=\"sk-container\" hidden><div class=\"sk-item sk-dashed-wrapped\"><div class=\"sk-label-container\"><div class=\"sk-label sk-toggleable\"><input class=\"sk-toggleable__control sk-hidden--visually\" id=\"sk-estimator-id-48\" type=\"checkbox\" ><label for=\"sk-estimator-id-48\" class=\"sk-toggleable__label sk-toggleable__label-arrow\">GridSearchCV</label><div class=\"sk-toggleable__content\"><pre>GridSearchCV(cv=10, estimator=SVR(),\n",
       "             param_grid={&#x27;C&#x27;: [0.01, 0.1, 0.4, 5, 10, 20, 30, 40, 50, 60, 70,\n",
       "                               80, 90, 100, 110, 120, 130, 140, 200, 300, 400,\n",
       "                               500, 600, 700, 800, 900, 1000, 2000, 3000, 4000, ...]})</pre></div></div></div><div class=\"sk-parallel\"><div class=\"sk-parallel-item\"><div class=\"sk-item\"><div class=\"sk-label-container\"><div class=\"sk-label sk-toggleable\"><input class=\"sk-toggleable__control sk-hidden--visually\" id=\"sk-estimator-id-49\" type=\"checkbox\" ><label for=\"sk-estimator-id-49\" class=\"sk-toggleable__label sk-toggleable__label-arrow\">estimator: SVR</label><div class=\"sk-toggleable__content\"><pre>SVR()</pre></div></div></div><div class=\"sk-serial\"><div class=\"sk-item\"><div class=\"sk-estimator sk-toggleable\"><input class=\"sk-toggleable__control sk-hidden--visually\" id=\"sk-estimator-id-50\" type=\"checkbox\" ><label for=\"sk-estimator-id-50\" class=\"sk-toggleable__label sk-toggleable__label-arrow\">SVR</label><div class=\"sk-toggleable__content\"><pre>SVR()</pre></div></div></div></div></div></div></div></div></div></div>"
      ],
      "text/plain": [
       "GridSearchCV(cv=10, estimator=SVR(),\n",
       "             param_grid={'C': [0.01, 0.1, 0.4, 5, 10, 20, 30, 40, 50, 60, 70,\n",
       "                               80, 90, 100, 110, 120, 130, 140, 200, 300, 400,\n",
       "                               500, 600, 700, 800, 900, 1000, 2000, 3000, 4000, ...]})"
      ]
     },
     "execution_count": 822,
     "metadata": {},
     "output_type": "execute_result"
    }
   ],
   "source": [
    "svr_params = {\"C\": [0.01, 0.1,0.4,5,10,20,30,40,50,60,70,80,90,100,110,120,130,140,200,300,400,500,600,700,800,900,1000,2000,3000,4000,5000,6000]}\n",
    "svr_cv_model = GridSearchCV(svr_rbf,svr_params, cv = 10)\n",
    "svr_cv_model.fit(X_train, y_train)"
   ]
  },
  {
   "cell_type": "code",
   "execution_count": 823,
   "id": "c87c0872",
   "metadata": {},
   "outputs": [
    {
     "data": {
      "text/plain": [
       "{'C': 5}"
      ]
     },
     "execution_count": 823,
     "metadata": {},
     "output_type": "execute_result"
    }
   ],
   "source": [
    "svr_cv_model.best_params_"
   ]
  },
  {
   "cell_type": "code",
   "execution_count": 824,
   "id": "28e7f553",
   "metadata": {},
   "outputs": [],
   "source": [
    "svr_tuned = SVR(kernel=\"rbf\", C = pd.Series(svr_cv_model.best_params_)[0]).fit(X_train, \n",
    "                                                                        y_train)\n"
   ]
  },
  {
   "cell_type": "code",
   "execution_count": 825,
   "id": "54cf2eaa",
   "metadata": {},
   "outputs": [
    {
     "name": "stdout",
     "output_type": "stream",
     "text": [
      "RMSE:  15.803948497549648\n"
     ]
    }
   ],
   "source": [
    "y_pred = svr_tuned.predict(X_test)\n",
    "\n",
    "print(\"RMSE: \",np.sqrt(mean_squared_error(y_test, y_pred)))"
   ]
  },
  {
   "cell_type": "markdown",
   "id": "1f25dff6",
   "metadata": {},
   "source": [
    "## Çok Katmanlı Algılayıcı (Yapay Sinir Ağları YSA)"
   ]
  },
  {
   "cell_type": "code",
   "execution_count": 826,
   "id": "d520248c",
   "metadata": {},
   "outputs": [],
   "source": [
    "y = df[\"Score\"]\n",
    "X = df_one_hot.drop(['Score'], axis=1)\n",
    "X_train, X_test, y_train, y_test = train_test_split(X, y, \n",
    "                                                    test_size=0.25, \n",
    "                                                    random_state=42)"
   ]
  },
  {
   "cell_type": "code",
   "execution_count": 827,
   "id": "d7161957",
   "metadata": {},
   "outputs": [],
   "source": [
    "#değişken standartlaştırması\n",
    "scaler = StandardScaler()\n",
    "scaler.fit(X_train)\n",
    "X_train_scaled = scaler.transform(X_train)\n",
    "X_test_scaled = scaler.transform(X_test)"
   ]
  },
  {
   "cell_type": "code",
   "execution_count": 828,
   "id": "10d16c4d",
   "metadata": {},
   "outputs": [
    {
     "name": "stdout",
     "output_type": "stream",
     "text": [
      "MLPRegressor(hidden_layer_sizes=(100, 20))\n",
      "4\n",
      "(100, 20)\n"
     ]
    }
   ],
   "source": [
    "mlp_model = MLPRegressor(hidden_layer_sizes = (100,20)).fit(X_train_scaled, y_train)\n",
    "print(mlp_model)\n",
    "print(mlp_model.n_layers_)\n",
    "print(mlp_model.hidden_layer_sizes)"
   ]
  },
  {
   "cell_type": "markdown",
   "id": "c27338fd",
   "metadata": {},
   "source": [
    "***Tahmin***"
   ]
  },
  {
   "cell_type": "code",
   "execution_count": 829,
   "id": "9e2d34b1",
   "metadata": {},
   "outputs": [
    {
     "name": "stdout",
     "output_type": "stream",
     "text": [
      "RMSE:  18.194658844327837\n"
     ]
    }
   ],
   "source": [
    "y_pred = mlp_model.predict(X_test_scaled)\n",
    "print(\"RMSE: \",np.sqrt(mean_squared_error(y_test, y_pred)))"
   ]
  },
  {
   "cell_type": "markdown",
   "id": "521f8da1",
   "metadata": {},
   "source": [
    "***Model Tuning***"
   ]
  },
  {
   "cell_type": "code",
   "execution_count": 830,
   "id": "27164a2f",
   "metadata": {},
   "outputs": [
    {
     "data": {
      "text/html": [
       "<style>#sk-container-id-33 {color: black;background-color: white;}#sk-container-id-33 pre{padding: 0;}#sk-container-id-33 div.sk-toggleable {background-color: white;}#sk-container-id-33 label.sk-toggleable__label {cursor: pointer;display: block;width: 100%;margin-bottom: 0;padding: 0.3em;box-sizing: border-box;text-align: center;}#sk-container-id-33 label.sk-toggleable__label-arrow:before {content: \"▸\";float: left;margin-right: 0.25em;color: #696969;}#sk-container-id-33 label.sk-toggleable__label-arrow:hover:before {color: black;}#sk-container-id-33 div.sk-estimator:hover label.sk-toggleable__label-arrow:before {color: black;}#sk-container-id-33 div.sk-toggleable__content {max-height: 0;max-width: 0;overflow: hidden;text-align: left;background-color: #f0f8ff;}#sk-container-id-33 div.sk-toggleable__content pre {margin: 0.2em;color: black;border-radius: 0.25em;background-color: #f0f8ff;}#sk-container-id-33 input.sk-toggleable__control:checked~div.sk-toggleable__content {max-height: 200px;max-width: 100%;overflow: auto;}#sk-container-id-33 input.sk-toggleable__control:checked~label.sk-toggleable__label-arrow:before {content: \"▾\";}#sk-container-id-33 div.sk-estimator input.sk-toggleable__control:checked~label.sk-toggleable__label {background-color: #d4ebff;}#sk-container-id-33 div.sk-label input.sk-toggleable__control:checked~label.sk-toggleable__label {background-color: #d4ebff;}#sk-container-id-33 input.sk-hidden--visually {border: 0;clip: rect(1px 1px 1px 1px);clip: rect(1px, 1px, 1px, 1px);height: 1px;margin: -1px;overflow: hidden;padding: 0;position: absolute;width: 1px;}#sk-container-id-33 div.sk-estimator {font-family: monospace;background-color: #f0f8ff;border: 1px dotted black;border-radius: 0.25em;box-sizing: border-box;margin-bottom: 0.5em;}#sk-container-id-33 div.sk-estimator:hover {background-color: #d4ebff;}#sk-container-id-33 div.sk-parallel-item::after {content: \"\";width: 100%;border-bottom: 1px solid gray;flex-grow: 1;}#sk-container-id-33 div.sk-label:hover label.sk-toggleable__label {background-color: #d4ebff;}#sk-container-id-33 div.sk-serial::before {content: \"\";position: absolute;border-left: 1px solid gray;box-sizing: border-box;top: 0;bottom: 0;left: 50%;z-index: 0;}#sk-container-id-33 div.sk-serial {display: flex;flex-direction: column;align-items: center;background-color: white;padding-right: 0.2em;padding-left: 0.2em;position: relative;}#sk-container-id-33 div.sk-item {position: relative;z-index: 1;}#sk-container-id-33 div.sk-parallel {display: flex;align-items: stretch;justify-content: center;background-color: white;position: relative;}#sk-container-id-33 div.sk-item::before, #sk-container-id-33 div.sk-parallel-item::before {content: \"\";position: absolute;border-left: 1px solid gray;box-sizing: border-box;top: 0;bottom: 0;left: 50%;z-index: -1;}#sk-container-id-33 div.sk-parallel-item {display: flex;flex-direction: column;z-index: 1;position: relative;background-color: white;}#sk-container-id-33 div.sk-parallel-item:first-child::after {align-self: flex-end;width: 50%;}#sk-container-id-33 div.sk-parallel-item:last-child::after {align-self: flex-start;width: 50%;}#sk-container-id-33 div.sk-parallel-item:only-child::after {width: 0;}#sk-container-id-33 div.sk-dashed-wrapped {border: 1px dashed gray;margin: 0 0.4em 0.5em 0.4em;box-sizing: border-box;padding-bottom: 0.4em;background-color: white;}#sk-container-id-33 div.sk-label label {font-family: monospace;font-weight: bold;display: inline-block;line-height: 1.2em;}#sk-container-id-33 div.sk-label-container {text-align: center;}#sk-container-id-33 div.sk-container {/* jupyter's `normalize.less` sets `[hidden] { display: none; }` but bootstrap.min.css set `[hidden] { display: none !important; }` so we also need the `!important` here to be able to override the default hidden behavior on the sphinx rendered scikit-learn.org. See: https://github.com/scikit-learn/scikit-learn/issues/21755 */display: inline-block !important;position: relative;}#sk-container-id-33 div.sk-text-repr-fallback {display: none;}</style><div id=\"sk-container-id-33\" class=\"sk-top-container\"><div class=\"sk-text-repr-fallback\"><pre>MLPRegressor(hidden_layer_sizes=(100, 20))</pre><b>In a Jupyter environment, please rerun this cell to show the HTML representation or trust the notebook. <br />On GitHub, the HTML representation is unable to render, please try loading this page with nbviewer.org.</b></div><div class=\"sk-container\" hidden><div class=\"sk-item\"><div class=\"sk-estimator sk-toggleable\"><input class=\"sk-toggleable__control sk-hidden--visually\" id=\"sk-estimator-id-51\" type=\"checkbox\" checked><label for=\"sk-estimator-id-51\" class=\"sk-toggleable__label sk-toggleable__label-arrow\">MLPRegressor</label><div class=\"sk-toggleable__content\"><pre>MLPRegressor(hidden_layer_sizes=(100, 20))</pre></div></div></div></div></div>"
      ],
      "text/plain": [
       "MLPRegressor(hidden_layer_sizes=(100, 20))"
      ]
     },
     "execution_count": 830,
     "metadata": {},
     "output_type": "execute_result"
    }
   ],
   "source": [
    "mlp_model"
   ]
  },
  {
   "cell_type": "code",
   "execution_count": 831,
   "id": "f6be49be",
   "metadata": {},
   "outputs": [],
   "source": [
    "mlp_params = {'alpha': [0.1, 0.01,0.02,0.005],\n",
    "             'hidden_layer_sizes': [(20,20),(100,50,150),(300,200,150)],\n",
    "             'activation': ['relu','logistic']}"
   ]
  },
  {
   "cell_type": "code",
   "execution_count": 832,
   "id": "22d21921",
   "metadata": {},
   "outputs": [
    {
     "data": {
      "text/html": [
       "<style>#sk-container-id-34 {color: black;background-color: white;}#sk-container-id-34 pre{padding: 0;}#sk-container-id-34 div.sk-toggleable {background-color: white;}#sk-container-id-34 label.sk-toggleable__label {cursor: pointer;display: block;width: 100%;margin-bottom: 0;padding: 0.3em;box-sizing: border-box;text-align: center;}#sk-container-id-34 label.sk-toggleable__label-arrow:before {content: \"▸\";float: left;margin-right: 0.25em;color: #696969;}#sk-container-id-34 label.sk-toggleable__label-arrow:hover:before {color: black;}#sk-container-id-34 div.sk-estimator:hover label.sk-toggleable__label-arrow:before {color: black;}#sk-container-id-34 div.sk-toggleable__content {max-height: 0;max-width: 0;overflow: hidden;text-align: left;background-color: #f0f8ff;}#sk-container-id-34 div.sk-toggleable__content pre {margin: 0.2em;color: black;border-radius: 0.25em;background-color: #f0f8ff;}#sk-container-id-34 input.sk-toggleable__control:checked~div.sk-toggleable__content {max-height: 200px;max-width: 100%;overflow: auto;}#sk-container-id-34 input.sk-toggleable__control:checked~label.sk-toggleable__label-arrow:before {content: \"▾\";}#sk-container-id-34 div.sk-estimator input.sk-toggleable__control:checked~label.sk-toggleable__label {background-color: #d4ebff;}#sk-container-id-34 div.sk-label input.sk-toggleable__control:checked~label.sk-toggleable__label {background-color: #d4ebff;}#sk-container-id-34 input.sk-hidden--visually {border: 0;clip: rect(1px 1px 1px 1px);clip: rect(1px, 1px, 1px, 1px);height: 1px;margin: -1px;overflow: hidden;padding: 0;position: absolute;width: 1px;}#sk-container-id-34 div.sk-estimator {font-family: monospace;background-color: #f0f8ff;border: 1px dotted black;border-radius: 0.25em;box-sizing: border-box;margin-bottom: 0.5em;}#sk-container-id-34 div.sk-estimator:hover {background-color: #d4ebff;}#sk-container-id-34 div.sk-parallel-item::after {content: \"\";width: 100%;border-bottom: 1px solid gray;flex-grow: 1;}#sk-container-id-34 div.sk-label:hover label.sk-toggleable__label {background-color: #d4ebff;}#sk-container-id-34 div.sk-serial::before {content: \"\";position: absolute;border-left: 1px solid gray;box-sizing: border-box;top: 0;bottom: 0;left: 50%;z-index: 0;}#sk-container-id-34 div.sk-serial {display: flex;flex-direction: column;align-items: center;background-color: white;padding-right: 0.2em;padding-left: 0.2em;position: relative;}#sk-container-id-34 div.sk-item {position: relative;z-index: 1;}#sk-container-id-34 div.sk-parallel {display: flex;align-items: stretch;justify-content: center;background-color: white;position: relative;}#sk-container-id-34 div.sk-item::before, #sk-container-id-34 div.sk-parallel-item::before {content: \"\";position: absolute;border-left: 1px solid gray;box-sizing: border-box;top: 0;bottom: 0;left: 50%;z-index: -1;}#sk-container-id-34 div.sk-parallel-item {display: flex;flex-direction: column;z-index: 1;position: relative;background-color: white;}#sk-container-id-34 div.sk-parallel-item:first-child::after {align-self: flex-end;width: 50%;}#sk-container-id-34 div.sk-parallel-item:last-child::after {align-self: flex-start;width: 50%;}#sk-container-id-34 div.sk-parallel-item:only-child::after {width: 0;}#sk-container-id-34 div.sk-dashed-wrapped {border: 1px dashed gray;margin: 0 0.4em 0.5em 0.4em;box-sizing: border-box;padding-bottom: 0.4em;background-color: white;}#sk-container-id-34 div.sk-label label {font-family: monospace;font-weight: bold;display: inline-block;line-height: 1.2em;}#sk-container-id-34 div.sk-label-container {text-align: center;}#sk-container-id-34 div.sk-container {/* jupyter's `normalize.less` sets `[hidden] { display: none; }` but bootstrap.min.css set `[hidden] { display: none !important; }` so we also need the `!important` here to be able to override the default hidden behavior on the sphinx rendered scikit-learn.org. See: https://github.com/scikit-learn/scikit-learn/issues/21755 */display: inline-block !important;position: relative;}#sk-container-id-34 div.sk-text-repr-fallback {display: none;}</style><div id=\"sk-container-id-34\" class=\"sk-top-container\"><div class=\"sk-text-repr-fallback\"><pre>GridSearchCV(cv=10, estimator=MLPRegressor(hidden_layer_sizes=(100, 20)),\n",
       "             param_grid={&#x27;activation&#x27;: [&#x27;relu&#x27;, &#x27;logistic&#x27;],\n",
       "                         &#x27;alpha&#x27;: [0.1, 0.01, 0.02, 0.005],\n",
       "                         &#x27;hidden_layer_sizes&#x27;: [(20, 20), (100, 50, 150),\n",
       "                                                (300, 200, 150)]})</pre><b>In a Jupyter environment, please rerun this cell to show the HTML representation or trust the notebook. <br />On GitHub, the HTML representation is unable to render, please try loading this page with nbviewer.org.</b></div><div class=\"sk-container\" hidden><div class=\"sk-item sk-dashed-wrapped\"><div class=\"sk-label-container\"><div class=\"sk-label sk-toggleable\"><input class=\"sk-toggleable__control sk-hidden--visually\" id=\"sk-estimator-id-52\" type=\"checkbox\" ><label for=\"sk-estimator-id-52\" class=\"sk-toggleable__label sk-toggleable__label-arrow\">GridSearchCV</label><div class=\"sk-toggleable__content\"><pre>GridSearchCV(cv=10, estimator=MLPRegressor(hidden_layer_sizes=(100, 20)),\n",
       "             param_grid={&#x27;activation&#x27;: [&#x27;relu&#x27;, &#x27;logistic&#x27;],\n",
       "                         &#x27;alpha&#x27;: [0.1, 0.01, 0.02, 0.005],\n",
       "                         &#x27;hidden_layer_sizes&#x27;: [(20, 20), (100, 50, 150),\n",
       "                                                (300, 200, 150)]})</pre></div></div></div><div class=\"sk-parallel\"><div class=\"sk-parallel-item\"><div class=\"sk-item\"><div class=\"sk-label-container\"><div class=\"sk-label sk-toggleable\"><input class=\"sk-toggleable__control sk-hidden--visually\" id=\"sk-estimator-id-53\" type=\"checkbox\" ><label for=\"sk-estimator-id-53\" class=\"sk-toggleable__label sk-toggleable__label-arrow\">estimator: MLPRegressor</label><div class=\"sk-toggleable__content\"><pre>MLPRegressor(hidden_layer_sizes=(100, 20))</pre></div></div></div><div class=\"sk-serial\"><div class=\"sk-item\"><div class=\"sk-estimator sk-toggleable\"><input class=\"sk-toggleable__control sk-hidden--visually\" id=\"sk-estimator-id-54\" type=\"checkbox\" ><label for=\"sk-estimator-id-54\" class=\"sk-toggleable__label sk-toggleable__label-arrow\">MLPRegressor</label><div class=\"sk-toggleable__content\"><pre>MLPRegressor(hidden_layer_sizes=(100, 20))</pre></div></div></div></div></div></div></div></div></div></div>"
      ],
      "text/plain": [
       "GridSearchCV(cv=10, estimator=MLPRegressor(hidden_layer_sizes=(100, 20)),\n",
       "             param_grid={'activation': ['relu', 'logistic'],\n",
       "                         'alpha': [0.1, 0.01, 0.02, 0.005],\n",
       "                         'hidden_layer_sizes': [(20, 20), (100, 50, 150),\n",
       "                                                (300, 200, 150)]})"
      ]
     },
     "execution_count": 832,
     "metadata": {},
     "output_type": "execute_result"
    }
   ],
   "source": [
    "mlp_cv_model = GridSearchCV(mlp_model, mlp_params, cv = 10)\n",
    "mlp_cv_model.fit(X_train_scaled, y_train)"
   ]
  },
  {
   "cell_type": "code",
   "execution_count": 833,
   "id": "b10b04cf",
   "metadata": {},
   "outputs": [
    {
     "data": {
      "text/plain": [
       "{'activation': 'relu', 'alpha': 0.01, 'hidden_layer_sizes': (300, 200, 150)}"
      ]
     },
     "execution_count": 833,
     "metadata": {},
     "output_type": "execute_result"
    }
   ],
   "source": [
    "mlp_cv_model.best_params_"
   ]
  },
  {
   "cell_type": "code",
   "execution_count": 834,
   "id": "01756a4f",
   "metadata": {},
   "outputs": [
    {
     "name": "stdout",
     "output_type": "stream",
     "text": [
      "MLPRegressor(alpha=0.01, hidden_layer_sizes=(300, 200, 150))\n",
      "relu\n"
     ]
    }
   ],
   "source": [
    "mlp_tuned = MLPRegressor(activation=mlp_cv_model.best_params_['activation'],\n",
    "                         alpha = mlp_cv_model.best_params_['alpha'], \n",
    "                         hidden_layer_sizes = mlp_cv_model.best_params_['hidden_layer_sizes'])\n",
    "print(mlp_tuned)\n",
    "print(mlp_tuned.activation)"
   ]
  },
  {
   "cell_type": "code",
   "execution_count": 835,
   "id": "6c2770d0",
   "metadata": {},
   "outputs": [
    {
     "data": {
      "text/html": [
       "<style>#sk-container-id-35 {color: black;background-color: white;}#sk-container-id-35 pre{padding: 0;}#sk-container-id-35 div.sk-toggleable {background-color: white;}#sk-container-id-35 label.sk-toggleable__label {cursor: pointer;display: block;width: 100%;margin-bottom: 0;padding: 0.3em;box-sizing: border-box;text-align: center;}#sk-container-id-35 label.sk-toggleable__label-arrow:before {content: \"▸\";float: left;margin-right: 0.25em;color: #696969;}#sk-container-id-35 label.sk-toggleable__label-arrow:hover:before {color: black;}#sk-container-id-35 div.sk-estimator:hover label.sk-toggleable__label-arrow:before {color: black;}#sk-container-id-35 div.sk-toggleable__content {max-height: 0;max-width: 0;overflow: hidden;text-align: left;background-color: #f0f8ff;}#sk-container-id-35 div.sk-toggleable__content pre {margin: 0.2em;color: black;border-radius: 0.25em;background-color: #f0f8ff;}#sk-container-id-35 input.sk-toggleable__control:checked~div.sk-toggleable__content {max-height: 200px;max-width: 100%;overflow: auto;}#sk-container-id-35 input.sk-toggleable__control:checked~label.sk-toggleable__label-arrow:before {content: \"▾\";}#sk-container-id-35 div.sk-estimator input.sk-toggleable__control:checked~label.sk-toggleable__label {background-color: #d4ebff;}#sk-container-id-35 div.sk-label input.sk-toggleable__control:checked~label.sk-toggleable__label {background-color: #d4ebff;}#sk-container-id-35 input.sk-hidden--visually {border: 0;clip: rect(1px 1px 1px 1px);clip: rect(1px, 1px, 1px, 1px);height: 1px;margin: -1px;overflow: hidden;padding: 0;position: absolute;width: 1px;}#sk-container-id-35 div.sk-estimator {font-family: monospace;background-color: #f0f8ff;border: 1px dotted black;border-radius: 0.25em;box-sizing: border-box;margin-bottom: 0.5em;}#sk-container-id-35 div.sk-estimator:hover {background-color: #d4ebff;}#sk-container-id-35 div.sk-parallel-item::after {content: \"\";width: 100%;border-bottom: 1px solid gray;flex-grow: 1;}#sk-container-id-35 div.sk-label:hover label.sk-toggleable__label {background-color: #d4ebff;}#sk-container-id-35 div.sk-serial::before {content: \"\";position: absolute;border-left: 1px solid gray;box-sizing: border-box;top: 0;bottom: 0;left: 50%;z-index: 0;}#sk-container-id-35 div.sk-serial {display: flex;flex-direction: column;align-items: center;background-color: white;padding-right: 0.2em;padding-left: 0.2em;position: relative;}#sk-container-id-35 div.sk-item {position: relative;z-index: 1;}#sk-container-id-35 div.sk-parallel {display: flex;align-items: stretch;justify-content: center;background-color: white;position: relative;}#sk-container-id-35 div.sk-item::before, #sk-container-id-35 div.sk-parallel-item::before {content: \"\";position: absolute;border-left: 1px solid gray;box-sizing: border-box;top: 0;bottom: 0;left: 50%;z-index: -1;}#sk-container-id-35 div.sk-parallel-item {display: flex;flex-direction: column;z-index: 1;position: relative;background-color: white;}#sk-container-id-35 div.sk-parallel-item:first-child::after {align-self: flex-end;width: 50%;}#sk-container-id-35 div.sk-parallel-item:last-child::after {align-self: flex-start;width: 50%;}#sk-container-id-35 div.sk-parallel-item:only-child::after {width: 0;}#sk-container-id-35 div.sk-dashed-wrapped {border: 1px dashed gray;margin: 0 0.4em 0.5em 0.4em;box-sizing: border-box;padding-bottom: 0.4em;background-color: white;}#sk-container-id-35 div.sk-label label {font-family: monospace;font-weight: bold;display: inline-block;line-height: 1.2em;}#sk-container-id-35 div.sk-label-container {text-align: center;}#sk-container-id-35 div.sk-container {/* jupyter's `normalize.less` sets `[hidden] { display: none; }` but bootstrap.min.css set `[hidden] { display: none !important; }` so we also need the `!important` here to be able to override the default hidden behavior on the sphinx rendered scikit-learn.org. See: https://github.com/scikit-learn/scikit-learn/issues/21755 */display: inline-block !important;position: relative;}#sk-container-id-35 div.sk-text-repr-fallback {display: none;}</style><div id=\"sk-container-id-35\" class=\"sk-top-container\"><div class=\"sk-text-repr-fallback\"><pre>MLPRegressor(alpha=0.01, hidden_layer_sizes=(300, 200, 150))</pre><b>In a Jupyter environment, please rerun this cell to show the HTML representation or trust the notebook. <br />On GitHub, the HTML representation is unable to render, please try loading this page with nbviewer.org.</b></div><div class=\"sk-container\" hidden><div class=\"sk-item\"><div class=\"sk-estimator sk-toggleable\"><input class=\"sk-toggleable__control sk-hidden--visually\" id=\"sk-estimator-id-55\" type=\"checkbox\" checked><label for=\"sk-estimator-id-55\" class=\"sk-toggleable__label sk-toggleable__label-arrow\">MLPRegressor</label><div class=\"sk-toggleable__content\"><pre>MLPRegressor(alpha=0.01, hidden_layer_sizes=(300, 200, 150))</pre></div></div></div></div></div>"
      ],
      "text/plain": [
       "MLPRegressor(alpha=0.01, hidden_layer_sizes=(300, 200, 150))"
      ]
     },
     "execution_count": 835,
     "metadata": {},
     "output_type": "execute_result"
    }
   ],
   "source": [
    "mlp_tuned.fit(X_train_scaled, y_train)"
   ]
  },
  {
   "cell_type": "code",
   "execution_count": 836,
   "id": "d2f1bf72",
   "metadata": {},
   "outputs": [
    {
     "name": "stdout",
     "output_type": "stream",
     "text": [
      "RMSE:  16.978962435226343\n"
     ]
    }
   ],
   "source": [
    "y_pred = mlp_tuned.predict(X_test_scaled)\n",
    "print(\"RMSE: \",np.sqrt(mean_squared_error(y_test, y_pred)))"
   ]
  },
  {
   "cell_type": "markdown",
   "id": "98c8e974",
   "metadata": {},
   "source": [
    "## Karar Ağaçları / Classification and Regression Trees (CART)"
   ]
  },
  {
   "cell_type": "markdown",
   "id": "26bfd3dc",
   "metadata": {},
   "source": [
    "***Model***"
   ]
  },
  {
   "cell_type": "code",
   "execution_count": 837,
   "id": "20a318ff",
   "metadata": {},
   "outputs": [],
   "source": [
    "y = df[\"Score\"]\n",
    "X = df_one_hot.drop(['Score'], axis=1)\n",
    "X_train, X_test, y_train, y_test = train_test_split(X, y, \n",
    "                                                    test_size=0.25, \n",
    "                                                    random_state=42)"
   ]
  },
  {
   "cell_type": "code",
   "execution_count": 838,
   "id": "f4437e86",
   "metadata": {},
   "outputs": [
    {
     "data": {
      "text/html": [
       "<style>#sk-container-id-36 {color: black;background-color: white;}#sk-container-id-36 pre{padding: 0;}#sk-container-id-36 div.sk-toggleable {background-color: white;}#sk-container-id-36 label.sk-toggleable__label {cursor: pointer;display: block;width: 100%;margin-bottom: 0;padding: 0.3em;box-sizing: border-box;text-align: center;}#sk-container-id-36 label.sk-toggleable__label-arrow:before {content: \"▸\";float: left;margin-right: 0.25em;color: #696969;}#sk-container-id-36 label.sk-toggleable__label-arrow:hover:before {color: black;}#sk-container-id-36 div.sk-estimator:hover label.sk-toggleable__label-arrow:before {color: black;}#sk-container-id-36 div.sk-toggleable__content {max-height: 0;max-width: 0;overflow: hidden;text-align: left;background-color: #f0f8ff;}#sk-container-id-36 div.sk-toggleable__content pre {margin: 0.2em;color: black;border-radius: 0.25em;background-color: #f0f8ff;}#sk-container-id-36 input.sk-toggleable__control:checked~div.sk-toggleable__content {max-height: 200px;max-width: 100%;overflow: auto;}#sk-container-id-36 input.sk-toggleable__control:checked~label.sk-toggleable__label-arrow:before {content: \"▾\";}#sk-container-id-36 div.sk-estimator input.sk-toggleable__control:checked~label.sk-toggleable__label {background-color: #d4ebff;}#sk-container-id-36 div.sk-label input.sk-toggleable__control:checked~label.sk-toggleable__label {background-color: #d4ebff;}#sk-container-id-36 input.sk-hidden--visually {border: 0;clip: rect(1px 1px 1px 1px);clip: rect(1px, 1px, 1px, 1px);height: 1px;margin: -1px;overflow: hidden;padding: 0;position: absolute;width: 1px;}#sk-container-id-36 div.sk-estimator {font-family: monospace;background-color: #f0f8ff;border: 1px dotted black;border-radius: 0.25em;box-sizing: border-box;margin-bottom: 0.5em;}#sk-container-id-36 div.sk-estimator:hover {background-color: #d4ebff;}#sk-container-id-36 div.sk-parallel-item::after {content: \"\";width: 100%;border-bottom: 1px solid gray;flex-grow: 1;}#sk-container-id-36 div.sk-label:hover label.sk-toggleable__label {background-color: #d4ebff;}#sk-container-id-36 div.sk-serial::before {content: \"\";position: absolute;border-left: 1px solid gray;box-sizing: border-box;top: 0;bottom: 0;left: 50%;z-index: 0;}#sk-container-id-36 div.sk-serial {display: flex;flex-direction: column;align-items: center;background-color: white;padding-right: 0.2em;padding-left: 0.2em;position: relative;}#sk-container-id-36 div.sk-item {position: relative;z-index: 1;}#sk-container-id-36 div.sk-parallel {display: flex;align-items: stretch;justify-content: center;background-color: white;position: relative;}#sk-container-id-36 div.sk-item::before, #sk-container-id-36 div.sk-parallel-item::before {content: \"\";position: absolute;border-left: 1px solid gray;box-sizing: border-box;top: 0;bottom: 0;left: 50%;z-index: -1;}#sk-container-id-36 div.sk-parallel-item {display: flex;flex-direction: column;z-index: 1;position: relative;background-color: white;}#sk-container-id-36 div.sk-parallel-item:first-child::after {align-self: flex-end;width: 50%;}#sk-container-id-36 div.sk-parallel-item:last-child::after {align-self: flex-start;width: 50%;}#sk-container-id-36 div.sk-parallel-item:only-child::after {width: 0;}#sk-container-id-36 div.sk-dashed-wrapped {border: 1px dashed gray;margin: 0 0.4em 0.5em 0.4em;box-sizing: border-box;padding-bottom: 0.4em;background-color: white;}#sk-container-id-36 div.sk-label label {font-family: monospace;font-weight: bold;display: inline-block;line-height: 1.2em;}#sk-container-id-36 div.sk-label-container {text-align: center;}#sk-container-id-36 div.sk-container {/* jupyter's `normalize.less` sets `[hidden] { display: none; }` but bootstrap.min.css set `[hidden] { display: none !important; }` so we also need the `!important` here to be able to override the default hidden behavior on the sphinx rendered scikit-learn.org. See: https://github.com/scikit-learn/scikit-learn/issues/21755 */display: inline-block !important;position: relative;}#sk-container-id-36 div.sk-text-repr-fallback {display: none;}</style><div id=\"sk-container-id-36\" class=\"sk-top-container\"><div class=\"sk-text-repr-fallback\"><pre>DecisionTreeRegressor()</pre><b>In a Jupyter environment, please rerun this cell to show the HTML representation or trust the notebook. <br />On GitHub, the HTML representation is unable to render, please try loading this page with nbviewer.org.</b></div><div class=\"sk-container\" hidden><div class=\"sk-item\"><div class=\"sk-estimator sk-toggleable\"><input class=\"sk-toggleable__control sk-hidden--visually\" id=\"sk-estimator-id-56\" type=\"checkbox\" checked><label for=\"sk-estimator-id-56\" class=\"sk-toggleable__label sk-toggleable__label-arrow\">DecisionTreeRegressor</label><div class=\"sk-toggleable__content\"><pre>DecisionTreeRegressor()</pre></div></div></div></div></div>"
      ],
      "text/plain": [
       "DecisionTreeRegressor()"
      ]
     },
     "execution_count": 838,
     "metadata": {},
     "output_type": "execute_result"
    }
   ],
   "source": [
    "cart_model = DecisionTreeRegressor()\n",
    "cart_model.fit(X_train, y_train)"
   ]
  },
  {
   "cell_type": "markdown",
   "id": "865935ed",
   "metadata": {},
   "source": [
    "***Tahmin***"
   ]
  },
  {
   "cell_type": "code",
   "execution_count": 839,
   "id": "c3116a21",
   "metadata": {},
   "outputs": [
    {
     "name": "stdout",
     "output_type": "stream",
     "text": [
      "(((((((57.8 if x[3] <= 0.5 else 56.6) if x[6] <= 0.5 else 56.75 if x[3] <= \n",
      "    0.5 else 65.33333333333333) if x[4] <= 0.5 else 66.0) if x[5] <= 0.5 else\n",
      "    57.25 if x[6] <= 0.5 else 53.166666666666664) if x[2] <= 0.5 else (((\n",
      "    48.0 if x[6] <= 0.5 else 51.0) if x[4] <= 0.5 else 54.0 if x[6] <= 0.5 else\n",
      "    55.4) if x[5] <= 0.5 else 57.2 if x[6] <= 0.5 else 56.375) if x[3] <= \n",
      "    0.5 else 57.5 if x[6] <= 0.5 else 38.333333333333336) if x[0] <= 0.5 else\n",
      "    (((70.0 if x[4] <= 0.5 else 74.5) if x[6] <= 0.5 else (79.5 if x[4] <= \n",
      "    0.5 else 77.5) if x[3] <= 0.5 else 77.5) if x[5] <= 0.5 else 75.5 if x[\n",
      "    6] <= 0.5 else 67.75) if x[2] <= 0.5 else (((81.33333333333333 if x[6] <=\n",
      "    0.5 else 66.25) if x[5] <= 0.5 else 65.5 if x[6] <= 0.5 else 73.5) if x\n",
      "    [3] <= 0.5 else 70.5 if x[6] <= 0.5 else 63.375) if x[4] <= 0.5 else \n",
      "    60.0 if x[6] <= 0.5 else 53.5) if x[7] <= 0.5 else ((((81.25 if x[2] <=\n",
      "    0.5 else 86.0) if x[5] <= 0.5 else 67.83333333333333 if x[2] <= 0.5 else\n",
      "    82.5) if x[6] <= 0.5 else (59.0 if x[2] <= 0.5 else 70.75) if x[5] <= \n",
      "    0.5 else 81.0 if x[2] <= 0.5 else 68.33333333333333) if x[3] <= 0.5 else\n",
      "    (67.5 if x[2] <= 0.5 else 67.83333333333333) if x[6] <= 0.5 else 79.75) if\n",
      "    x[4] <= 0.5 else (59.5 if x[6] <= 0.5 else 76.5) if x[2] <= 0.5 else \n",
      "    65.66666666666667 if x[6] <= 0.5 else 59.4)\n",
      "\n"
     ]
    }
   ],
   "source": [
    "#skompiler kutuphanesi ile karar agacinin karar modelini python koduna ceviriyoruz\n",
    "print(skompile(cart_model.predict).to('python/code'))"
   ]
  },
  {
   "cell_type": "code",
   "execution_count": 840,
   "id": "a4457b6a",
   "metadata": {},
   "outputs": [
    {
     "data": {
      "text/html": [
       "<div>\n",
       "<style scoped>\n",
       "    .dataframe tbody tr th:only-of-type {\n",
       "        vertical-align: middle;\n",
       "    }\n",
       "\n",
       "    .dataframe tbody tr th {\n",
       "        vertical-align: top;\n",
       "    }\n",
       "\n",
       "    .dataframe thead th {\n",
       "        text-align: right;\n",
       "    }\n",
       "</style>\n",
       "<table border=\"1\" class=\"dataframe\">\n",
       "  <thead>\n",
       "    <tr style=\"text-align: right;\">\n",
       "      <th></th>\n",
       "      <th>Teacher_Smith</th>\n",
       "      <th>Teacher_Wesson</th>\n",
       "      <th>Gender_Male</th>\n",
       "      <th>Ethnic_Asian</th>\n",
       "      <th>Ethnic_Caucasian</th>\n",
       "      <th>Ethnic_Hispanic</th>\n",
       "      <th>Freeredu_Paid lunch</th>\n",
       "      <th>Method_Traditional</th>\n",
       "    </tr>\n",
       "    <tr>\n",
       "      <th>Student</th>\n",
       "      <th></th>\n",
       "      <th></th>\n",
       "      <th></th>\n",
       "      <th></th>\n",
       "      <th></th>\n",
       "      <th></th>\n",
       "      <th></th>\n",
       "      <th></th>\n",
       "    </tr>\n",
       "  </thead>\n",
       "  <tbody>\n",
       "    <tr>\n",
       "      <th>202</th>\n",
       "      <td>0</td>\n",
       "      <td>1</td>\n",
       "      <td>1</td>\n",
       "      <td>0</td>\n",
       "      <td>1</td>\n",
       "      <td>0</td>\n",
       "      <td>1</td>\n",
       "      <td>1</td>\n",
       "    </tr>\n",
       "    <tr>\n",
       "      <th>214</th>\n",
       "      <td>0</td>\n",
       "      <td>1</td>\n",
       "      <td>1</td>\n",
       "      <td>0</td>\n",
       "      <td>0</td>\n",
       "      <td>1</td>\n",
       "      <td>1</td>\n",
       "      <td>1</td>\n",
       "    </tr>\n",
       "    <tr>\n",
       "      <th>139</th>\n",
       "      <td>1</td>\n",
       "      <td>0</td>\n",
       "      <td>0</td>\n",
       "      <td>1</td>\n",
       "      <td>0</td>\n",
       "      <td>0</td>\n",
       "      <td>1</td>\n",
       "      <td>0</td>\n",
       "    </tr>\n",
       "    <tr>\n",
       "      <th>178</th>\n",
       "      <td>0</td>\n",
       "      <td>1</td>\n",
       "      <td>0</td>\n",
       "      <td>1</td>\n",
       "      <td>0</td>\n",
       "      <td>0</td>\n",
       "      <td>0</td>\n",
       "      <td>1</td>\n",
       "    </tr>\n",
       "    <tr>\n",
       "      <th>16</th>\n",
       "      <td>0</td>\n",
       "      <td>0</td>\n",
       "      <td>1</td>\n",
       "      <td>1</td>\n",
       "      <td>0</td>\n",
       "      <td>0</td>\n",
       "      <td>0</td>\n",
       "      <td>0</td>\n",
       "    </tr>\n",
       "  </tbody>\n",
       "</table>\n",
       "</div>"
      ],
      "text/plain": [
       "         Teacher_Smith  Teacher_Wesson  Gender_Male  Ethnic_Asian  \\\n",
       "Student                                                             \n",
       "202                  0               1            1             0   \n",
       "214                  0               1            1             0   \n",
       "139                  1               0            0             1   \n",
       "178                  0               1            0             1   \n",
       "16                   0               0            1             1   \n",
       "\n",
       "         Ethnic_Caucasian  Ethnic_Hispanic  Freeredu_Paid lunch  \\\n",
       "Student                                                           \n",
       "202                     1                0                    1   \n",
       "214                     0                1                    1   \n",
       "139                     0                0                    1   \n",
       "178                     0                0                    0   \n",
       "16                      0                0                    0   \n",
       "\n",
       "         Method_Traditional  \n",
       "Student                      \n",
       "202                       1  \n",
       "214                       1  \n",
       "139                       0  \n",
       "178                       1  \n",
       "16                        0  "
      ]
     },
     "execution_count": 840,
     "metadata": {},
     "output_type": "execute_result"
    }
   ],
   "source": [
    "X_test[0:5]"
   ]
  },
  {
   "cell_type": "code",
   "execution_count": 841,
   "id": "d4614fe6",
   "metadata": {},
   "outputs": [
    {
     "data": {
      "text/plain": [
       "array([59.4       , 68.33333333, 77.5       , 67.5       , 57.5       ])"
      ]
     },
     "execution_count": 841,
     "metadata": {},
     "output_type": "execute_result"
    }
   ],
   "source": [
    "cart_model.predict(X_test)[0:5]"
   ]
  },
  {
   "cell_type": "code",
   "execution_count": 842,
   "id": "807ef245",
   "metadata": {},
   "outputs": [
    {
     "name": "stdout",
     "output_type": "stream",
     "text": [
      "79.0\n",
      "91.0\n",
      "71.0\n",
      "82.0\n",
      "68.0\n"
     ]
    }
   ],
   "source": [
    "print(df.Score[202])#59\n",
    "print(df.Score[214])#68\n",
    "print(df.Score[139])#77\n",
    "print(df.Score[178])#67\n",
    "print(df.Score[16])#57\n",
    "\n"
   ]
  },
  {
   "cell_type": "code",
   "execution_count": 843,
   "id": "61204abb",
   "metadata": {},
   "outputs": [
    {
     "data": {
      "text/plain": [
       "array([73.5])"
      ]
     },
     "execution_count": 843,
     "metadata": {},
     "output_type": "execute_result"
    }
   ],
   "source": [
    "cart_model.predict([[1,0,1,0,0,1,1,0]])#Gerçeği 79"
   ]
  },
  {
   "cell_type": "code",
   "execution_count": 844,
   "id": "a88e9d08",
   "metadata": {},
   "outputs": [
    {
     "name": "stdout",
     "output_type": "stream",
     "text": [
      "RMSE:  16.908677186507845\n"
     ]
    }
   ],
   "source": [
    "y_pred =cart_model.predict(X_test)\n",
    "print(\"RMSE: \",np.sqrt(mean_squared_error(y_test, y_pred)))"
   ]
  },
  {
   "cell_type": "markdown",
   "id": "b8a13cee",
   "metadata": {},
   "source": [
    "***Model Tuning***"
   ]
  },
  {
   "cell_type": "code",
   "execution_count": 845,
   "id": "9f8eff34",
   "metadata": {},
   "outputs": [],
   "source": [
    "cart_model = DecisionTreeRegressor()\n",
    "cart_model.fit(X_train, y_train)\n",
    "y_pred = cart_model.predict(X_test)"
   ]
  },
  {
   "cell_type": "code",
   "execution_count": 846,
   "id": "e358dfac",
   "metadata": {},
   "outputs": [
    {
     "name": "stdout",
     "output_type": "stream",
     "text": [
      "RMSE:  16.908677186507845\n"
     ]
    }
   ],
   "source": [
    "print(\"RMSE: \",np.sqrt(mean_squared_error(y_test, y_pred)))"
   ]
  },
  {
   "cell_type": "code",
   "execution_count": 847,
   "id": "7e3588b0",
   "metadata": {},
   "outputs": [],
   "source": [
    "cart_params = {\"min_samples_split\": range(2,100),\n",
    "               \"max_leaf_nodes\": range(2,10)}"
   ]
  },
  {
   "cell_type": "code",
   "execution_count": 848,
   "id": "31c2ae16",
   "metadata": {},
   "outputs": [
    {
     "data": {
      "text/html": [
       "<style>#sk-container-id-37 {color: black;background-color: white;}#sk-container-id-37 pre{padding: 0;}#sk-container-id-37 div.sk-toggleable {background-color: white;}#sk-container-id-37 label.sk-toggleable__label {cursor: pointer;display: block;width: 100%;margin-bottom: 0;padding: 0.3em;box-sizing: border-box;text-align: center;}#sk-container-id-37 label.sk-toggleable__label-arrow:before {content: \"▸\";float: left;margin-right: 0.25em;color: #696969;}#sk-container-id-37 label.sk-toggleable__label-arrow:hover:before {color: black;}#sk-container-id-37 div.sk-estimator:hover label.sk-toggleable__label-arrow:before {color: black;}#sk-container-id-37 div.sk-toggleable__content {max-height: 0;max-width: 0;overflow: hidden;text-align: left;background-color: #f0f8ff;}#sk-container-id-37 div.sk-toggleable__content pre {margin: 0.2em;color: black;border-radius: 0.25em;background-color: #f0f8ff;}#sk-container-id-37 input.sk-toggleable__control:checked~div.sk-toggleable__content {max-height: 200px;max-width: 100%;overflow: auto;}#sk-container-id-37 input.sk-toggleable__control:checked~label.sk-toggleable__label-arrow:before {content: \"▾\";}#sk-container-id-37 div.sk-estimator input.sk-toggleable__control:checked~label.sk-toggleable__label {background-color: #d4ebff;}#sk-container-id-37 div.sk-label input.sk-toggleable__control:checked~label.sk-toggleable__label {background-color: #d4ebff;}#sk-container-id-37 input.sk-hidden--visually {border: 0;clip: rect(1px 1px 1px 1px);clip: rect(1px, 1px, 1px, 1px);height: 1px;margin: -1px;overflow: hidden;padding: 0;position: absolute;width: 1px;}#sk-container-id-37 div.sk-estimator {font-family: monospace;background-color: #f0f8ff;border: 1px dotted black;border-radius: 0.25em;box-sizing: border-box;margin-bottom: 0.5em;}#sk-container-id-37 div.sk-estimator:hover {background-color: #d4ebff;}#sk-container-id-37 div.sk-parallel-item::after {content: \"\";width: 100%;border-bottom: 1px solid gray;flex-grow: 1;}#sk-container-id-37 div.sk-label:hover label.sk-toggleable__label {background-color: #d4ebff;}#sk-container-id-37 div.sk-serial::before {content: \"\";position: absolute;border-left: 1px solid gray;box-sizing: border-box;top: 0;bottom: 0;left: 50%;z-index: 0;}#sk-container-id-37 div.sk-serial {display: flex;flex-direction: column;align-items: center;background-color: white;padding-right: 0.2em;padding-left: 0.2em;position: relative;}#sk-container-id-37 div.sk-item {position: relative;z-index: 1;}#sk-container-id-37 div.sk-parallel {display: flex;align-items: stretch;justify-content: center;background-color: white;position: relative;}#sk-container-id-37 div.sk-item::before, #sk-container-id-37 div.sk-parallel-item::before {content: \"\";position: absolute;border-left: 1px solid gray;box-sizing: border-box;top: 0;bottom: 0;left: 50%;z-index: -1;}#sk-container-id-37 div.sk-parallel-item {display: flex;flex-direction: column;z-index: 1;position: relative;background-color: white;}#sk-container-id-37 div.sk-parallel-item:first-child::after {align-self: flex-end;width: 50%;}#sk-container-id-37 div.sk-parallel-item:last-child::after {align-self: flex-start;width: 50%;}#sk-container-id-37 div.sk-parallel-item:only-child::after {width: 0;}#sk-container-id-37 div.sk-dashed-wrapped {border: 1px dashed gray;margin: 0 0.4em 0.5em 0.4em;box-sizing: border-box;padding-bottom: 0.4em;background-color: white;}#sk-container-id-37 div.sk-label label {font-family: monospace;font-weight: bold;display: inline-block;line-height: 1.2em;}#sk-container-id-37 div.sk-label-container {text-align: center;}#sk-container-id-37 div.sk-container {/* jupyter's `normalize.less` sets `[hidden] { display: none; }` but bootstrap.min.css set `[hidden] { display: none !important; }` so we also need the `!important` here to be able to override the default hidden behavior on the sphinx rendered scikit-learn.org. See: https://github.com/scikit-learn/scikit-learn/issues/21755 */display: inline-block !important;position: relative;}#sk-container-id-37 div.sk-text-repr-fallback {display: none;}</style><div id=\"sk-container-id-37\" class=\"sk-top-container\"><div class=\"sk-text-repr-fallback\"><pre>GridSearchCV(cv=10, estimator=DecisionTreeRegressor(),\n",
       "             param_grid={&#x27;max_leaf_nodes&#x27;: range(2, 10),\n",
       "                         &#x27;min_samples_split&#x27;: range(2, 100)})</pre><b>In a Jupyter environment, please rerun this cell to show the HTML representation or trust the notebook. <br />On GitHub, the HTML representation is unable to render, please try loading this page with nbviewer.org.</b></div><div class=\"sk-container\" hidden><div class=\"sk-item sk-dashed-wrapped\"><div class=\"sk-label-container\"><div class=\"sk-label sk-toggleable\"><input class=\"sk-toggleable__control sk-hidden--visually\" id=\"sk-estimator-id-57\" type=\"checkbox\" ><label for=\"sk-estimator-id-57\" class=\"sk-toggleable__label sk-toggleable__label-arrow\">GridSearchCV</label><div class=\"sk-toggleable__content\"><pre>GridSearchCV(cv=10, estimator=DecisionTreeRegressor(),\n",
       "             param_grid={&#x27;max_leaf_nodes&#x27;: range(2, 10),\n",
       "                         &#x27;min_samples_split&#x27;: range(2, 100)})</pre></div></div></div><div class=\"sk-parallel\"><div class=\"sk-parallel-item\"><div class=\"sk-item\"><div class=\"sk-label-container\"><div class=\"sk-label sk-toggleable\"><input class=\"sk-toggleable__control sk-hidden--visually\" id=\"sk-estimator-id-58\" type=\"checkbox\" ><label for=\"sk-estimator-id-58\" class=\"sk-toggleable__label sk-toggleable__label-arrow\">estimator: DecisionTreeRegressor</label><div class=\"sk-toggleable__content\"><pre>DecisionTreeRegressor()</pre></div></div></div><div class=\"sk-serial\"><div class=\"sk-item\"><div class=\"sk-estimator sk-toggleable\"><input class=\"sk-toggleable__control sk-hidden--visually\" id=\"sk-estimator-id-59\" type=\"checkbox\" ><label for=\"sk-estimator-id-59\" class=\"sk-toggleable__label sk-toggleable__label-arrow\">DecisionTreeRegressor</label><div class=\"sk-toggleable__content\"><pre>DecisionTreeRegressor()</pre></div></div></div></div></div></div></div></div></div></div>"
      ],
      "text/plain": [
       "GridSearchCV(cv=10, estimator=DecisionTreeRegressor(),\n",
       "             param_grid={'max_leaf_nodes': range(2, 10),\n",
       "                         'min_samples_split': range(2, 100)})"
      ]
     },
     "execution_count": 848,
     "metadata": {},
     "output_type": "execute_result"
    }
   ],
   "source": [
    "cart_cv_model = GridSearchCV(cart_model, cart_params, cv = 10)\n",
    "cart_cv_model.fit(X_train, y_train)"
   ]
  },
  {
   "cell_type": "code",
   "execution_count": 849,
   "id": "7d18bbe8",
   "metadata": {},
   "outputs": [
    {
     "data": {
      "text/plain": [
       "{'max_leaf_nodes': 4, 'min_samples_split': 47}"
      ]
     },
     "execution_count": 849,
     "metadata": {},
     "output_type": "execute_result"
    }
   ],
   "source": [
    "cart_cv_model.best_params_"
   ]
  },
  {
   "cell_type": "code",
   "execution_count": 850,
   "id": "44a9ccc6",
   "metadata": {},
   "outputs": [],
   "source": [
    "cart_tuned = DecisionTreeRegressor(max_leaf_nodes = 4, min_samples_split = 47)"
   ]
  },
  {
   "cell_type": "code",
   "execution_count": 851,
   "id": "3e26d207",
   "metadata": {},
   "outputs": [
    {
     "data": {
      "text/html": [
       "<style>#sk-container-id-38 {color: black;background-color: white;}#sk-container-id-38 pre{padding: 0;}#sk-container-id-38 div.sk-toggleable {background-color: white;}#sk-container-id-38 label.sk-toggleable__label {cursor: pointer;display: block;width: 100%;margin-bottom: 0;padding: 0.3em;box-sizing: border-box;text-align: center;}#sk-container-id-38 label.sk-toggleable__label-arrow:before {content: \"▸\";float: left;margin-right: 0.25em;color: #696969;}#sk-container-id-38 label.sk-toggleable__label-arrow:hover:before {color: black;}#sk-container-id-38 div.sk-estimator:hover label.sk-toggleable__label-arrow:before {color: black;}#sk-container-id-38 div.sk-toggleable__content {max-height: 0;max-width: 0;overflow: hidden;text-align: left;background-color: #f0f8ff;}#sk-container-id-38 div.sk-toggleable__content pre {margin: 0.2em;color: black;border-radius: 0.25em;background-color: #f0f8ff;}#sk-container-id-38 input.sk-toggleable__control:checked~div.sk-toggleable__content {max-height: 200px;max-width: 100%;overflow: auto;}#sk-container-id-38 input.sk-toggleable__control:checked~label.sk-toggleable__label-arrow:before {content: \"▾\";}#sk-container-id-38 div.sk-estimator input.sk-toggleable__control:checked~label.sk-toggleable__label {background-color: #d4ebff;}#sk-container-id-38 div.sk-label input.sk-toggleable__control:checked~label.sk-toggleable__label {background-color: #d4ebff;}#sk-container-id-38 input.sk-hidden--visually {border: 0;clip: rect(1px 1px 1px 1px);clip: rect(1px, 1px, 1px, 1px);height: 1px;margin: -1px;overflow: hidden;padding: 0;position: absolute;width: 1px;}#sk-container-id-38 div.sk-estimator {font-family: monospace;background-color: #f0f8ff;border: 1px dotted black;border-radius: 0.25em;box-sizing: border-box;margin-bottom: 0.5em;}#sk-container-id-38 div.sk-estimator:hover {background-color: #d4ebff;}#sk-container-id-38 div.sk-parallel-item::after {content: \"\";width: 100%;border-bottom: 1px solid gray;flex-grow: 1;}#sk-container-id-38 div.sk-label:hover label.sk-toggleable__label {background-color: #d4ebff;}#sk-container-id-38 div.sk-serial::before {content: \"\";position: absolute;border-left: 1px solid gray;box-sizing: border-box;top: 0;bottom: 0;left: 50%;z-index: 0;}#sk-container-id-38 div.sk-serial {display: flex;flex-direction: column;align-items: center;background-color: white;padding-right: 0.2em;padding-left: 0.2em;position: relative;}#sk-container-id-38 div.sk-item {position: relative;z-index: 1;}#sk-container-id-38 div.sk-parallel {display: flex;align-items: stretch;justify-content: center;background-color: white;position: relative;}#sk-container-id-38 div.sk-item::before, #sk-container-id-38 div.sk-parallel-item::before {content: \"\";position: absolute;border-left: 1px solid gray;box-sizing: border-box;top: 0;bottom: 0;left: 50%;z-index: -1;}#sk-container-id-38 div.sk-parallel-item {display: flex;flex-direction: column;z-index: 1;position: relative;background-color: white;}#sk-container-id-38 div.sk-parallel-item:first-child::after {align-self: flex-end;width: 50%;}#sk-container-id-38 div.sk-parallel-item:last-child::after {align-self: flex-start;width: 50%;}#sk-container-id-38 div.sk-parallel-item:only-child::after {width: 0;}#sk-container-id-38 div.sk-dashed-wrapped {border: 1px dashed gray;margin: 0 0.4em 0.5em 0.4em;box-sizing: border-box;padding-bottom: 0.4em;background-color: white;}#sk-container-id-38 div.sk-label label {font-family: monospace;font-weight: bold;display: inline-block;line-height: 1.2em;}#sk-container-id-38 div.sk-label-container {text-align: center;}#sk-container-id-38 div.sk-container {/* jupyter's `normalize.less` sets `[hidden] { display: none; }` but bootstrap.min.css set `[hidden] { display: none !important; }` so we also need the `!important` here to be able to override the default hidden behavior on the sphinx rendered scikit-learn.org. See: https://github.com/scikit-learn/scikit-learn/issues/21755 */display: inline-block !important;position: relative;}#sk-container-id-38 div.sk-text-repr-fallback {display: none;}</style><div id=\"sk-container-id-38\" class=\"sk-top-container\"><div class=\"sk-text-repr-fallback\"><pre>DecisionTreeRegressor(max_leaf_nodes=4, min_samples_split=47)</pre><b>In a Jupyter environment, please rerun this cell to show the HTML representation or trust the notebook. <br />On GitHub, the HTML representation is unable to render, please try loading this page with nbviewer.org.</b></div><div class=\"sk-container\" hidden><div class=\"sk-item\"><div class=\"sk-estimator sk-toggleable\"><input class=\"sk-toggleable__control sk-hidden--visually\" id=\"sk-estimator-id-60\" type=\"checkbox\" checked><label for=\"sk-estimator-id-60\" class=\"sk-toggleable__label sk-toggleable__label-arrow\">DecisionTreeRegressor</label><div class=\"sk-toggleable__content\"><pre>DecisionTreeRegressor(max_leaf_nodes=4, min_samples_split=47)</pre></div></div></div></div></div>"
      ],
      "text/plain": [
       "DecisionTreeRegressor(max_leaf_nodes=4, min_samples_split=47)"
      ]
     },
     "execution_count": 851,
     "metadata": {},
     "output_type": "execute_result"
    }
   ],
   "source": [
    "cart_tuned.fit(X_train, y_train)"
   ]
  },
  {
   "cell_type": "code",
   "execution_count": 852,
   "id": "26ace7ea",
   "metadata": {},
   "outputs": [],
   "source": [
    "y_pred = cart_tuned.predict(X_test)"
   ]
  },
  {
   "cell_type": "code",
   "execution_count": 853,
   "id": "9eddb7a8",
   "metadata": {},
   "outputs": [
    {
     "name": "stdout",
     "output_type": "stream",
     "text": [
      "RMSE:  15.475116678947494\n"
     ]
    }
   ],
   "source": [
    "print(\"RMSE: \",np.sqrt(mean_squared_error(y_test, y_pred)))"
   ]
  },
  {
   "cell_type": "markdown",
   "id": "aaab3ca1",
   "metadata": {},
   "source": [
    "## Bagged Trees Regresyon"
   ]
  },
  {
   "cell_type": "markdown",
   "id": "0158da49",
   "metadata": {},
   "source": [
    "***Model***"
   ]
  },
  {
   "cell_type": "code",
   "execution_count": 854,
   "id": "4b5739d2",
   "metadata": {},
   "outputs": [],
   "source": [
    "y = df[\"Score\"]\n",
    "X = df_one_hot.drop(['Score'], axis=1)\n",
    "X_train, X_test, y_train, y_test = train_test_split(X, y, \n",
    "                                                    test_size=0.25, \n",
    "                                                    random_state=42)"
   ]
  },
  {
   "cell_type": "code",
   "execution_count": 855,
   "id": "f524df6b",
   "metadata": {},
   "outputs": [
    {
     "data": {
      "text/html": [
       "<style>#sk-container-id-39 {color: black;background-color: white;}#sk-container-id-39 pre{padding: 0;}#sk-container-id-39 div.sk-toggleable {background-color: white;}#sk-container-id-39 label.sk-toggleable__label {cursor: pointer;display: block;width: 100%;margin-bottom: 0;padding: 0.3em;box-sizing: border-box;text-align: center;}#sk-container-id-39 label.sk-toggleable__label-arrow:before {content: \"▸\";float: left;margin-right: 0.25em;color: #696969;}#sk-container-id-39 label.sk-toggleable__label-arrow:hover:before {color: black;}#sk-container-id-39 div.sk-estimator:hover label.sk-toggleable__label-arrow:before {color: black;}#sk-container-id-39 div.sk-toggleable__content {max-height: 0;max-width: 0;overflow: hidden;text-align: left;background-color: #f0f8ff;}#sk-container-id-39 div.sk-toggleable__content pre {margin: 0.2em;color: black;border-radius: 0.25em;background-color: #f0f8ff;}#sk-container-id-39 input.sk-toggleable__control:checked~div.sk-toggleable__content {max-height: 200px;max-width: 100%;overflow: auto;}#sk-container-id-39 input.sk-toggleable__control:checked~label.sk-toggleable__label-arrow:before {content: \"▾\";}#sk-container-id-39 div.sk-estimator input.sk-toggleable__control:checked~label.sk-toggleable__label {background-color: #d4ebff;}#sk-container-id-39 div.sk-label input.sk-toggleable__control:checked~label.sk-toggleable__label {background-color: #d4ebff;}#sk-container-id-39 input.sk-hidden--visually {border: 0;clip: rect(1px 1px 1px 1px);clip: rect(1px, 1px, 1px, 1px);height: 1px;margin: -1px;overflow: hidden;padding: 0;position: absolute;width: 1px;}#sk-container-id-39 div.sk-estimator {font-family: monospace;background-color: #f0f8ff;border: 1px dotted black;border-radius: 0.25em;box-sizing: border-box;margin-bottom: 0.5em;}#sk-container-id-39 div.sk-estimator:hover {background-color: #d4ebff;}#sk-container-id-39 div.sk-parallel-item::after {content: \"\";width: 100%;border-bottom: 1px solid gray;flex-grow: 1;}#sk-container-id-39 div.sk-label:hover label.sk-toggleable__label {background-color: #d4ebff;}#sk-container-id-39 div.sk-serial::before {content: \"\";position: absolute;border-left: 1px solid gray;box-sizing: border-box;top: 0;bottom: 0;left: 50%;z-index: 0;}#sk-container-id-39 div.sk-serial {display: flex;flex-direction: column;align-items: center;background-color: white;padding-right: 0.2em;padding-left: 0.2em;position: relative;}#sk-container-id-39 div.sk-item {position: relative;z-index: 1;}#sk-container-id-39 div.sk-parallel {display: flex;align-items: stretch;justify-content: center;background-color: white;position: relative;}#sk-container-id-39 div.sk-item::before, #sk-container-id-39 div.sk-parallel-item::before {content: \"\";position: absolute;border-left: 1px solid gray;box-sizing: border-box;top: 0;bottom: 0;left: 50%;z-index: -1;}#sk-container-id-39 div.sk-parallel-item {display: flex;flex-direction: column;z-index: 1;position: relative;background-color: white;}#sk-container-id-39 div.sk-parallel-item:first-child::after {align-self: flex-end;width: 50%;}#sk-container-id-39 div.sk-parallel-item:last-child::after {align-self: flex-start;width: 50%;}#sk-container-id-39 div.sk-parallel-item:only-child::after {width: 0;}#sk-container-id-39 div.sk-dashed-wrapped {border: 1px dashed gray;margin: 0 0.4em 0.5em 0.4em;box-sizing: border-box;padding-bottom: 0.4em;background-color: white;}#sk-container-id-39 div.sk-label label {font-family: monospace;font-weight: bold;display: inline-block;line-height: 1.2em;}#sk-container-id-39 div.sk-label-container {text-align: center;}#sk-container-id-39 div.sk-container {/* jupyter's `normalize.less` sets `[hidden] { display: none; }` but bootstrap.min.css set `[hidden] { display: none !important; }` so we also need the `!important` here to be able to override the default hidden behavior on the sphinx rendered scikit-learn.org. See: https://github.com/scikit-learn/scikit-learn/issues/21755 */display: inline-block !important;position: relative;}#sk-container-id-39 div.sk-text-repr-fallback {display: none;}</style><div id=\"sk-container-id-39\" class=\"sk-top-container\"><div class=\"sk-text-repr-fallback\"><pre>BaggingRegressor(bootstrap_features=True)</pre><b>In a Jupyter environment, please rerun this cell to show the HTML representation or trust the notebook. <br />On GitHub, the HTML representation is unable to render, please try loading this page with nbviewer.org.</b></div><div class=\"sk-container\" hidden><div class=\"sk-item\"><div class=\"sk-estimator sk-toggleable\"><input class=\"sk-toggleable__control sk-hidden--visually\" id=\"sk-estimator-id-61\" type=\"checkbox\" checked><label for=\"sk-estimator-id-61\" class=\"sk-toggleable__label sk-toggleable__label-arrow\">BaggingRegressor</label><div class=\"sk-toggleable__content\"><pre>BaggingRegressor(bootstrap_features=True)</pre></div></div></div></div></div>"
      ],
      "text/plain": [
       "BaggingRegressor(bootstrap_features=True)"
      ]
     },
     "execution_count": 855,
     "metadata": {},
     "output_type": "execute_result"
    }
   ],
   "source": [
    "#bootstrap_features default degeri false, bootstrap orneklerini gozlemlemek icin true verdik\n",
    "bag_model = BaggingRegressor(bootstrap_features = True)\n",
    "bag_model.fit(X_train, y_train)"
   ]
  },
  {
   "cell_type": "code",
   "execution_count": 856,
   "id": "fd156121",
   "metadata": {},
   "outputs": [
    {
     "data": {
      "text/plain": [
       "10"
      ]
     },
     "execution_count": 856,
     "metadata": {},
     "output_type": "execute_result"
    }
   ],
   "source": [
    "#tahminci sayisi\n",
    "bag_model.n_estimators"
   ]
  },
  {
   "cell_type": "code",
   "execution_count": 857,
   "id": "41cd0eac",
   "metadata": {},
   "outputs": [
    {
     "data": {
      "text/plain": [
       "[DecisionTreeRegressor(random_state=1115697137),\n",
       " DecisionTreeRegressor(random_state=1437743744),\n",
       " DecisionTreeRegressor(random_state=507867140),\n",
       " DecisionTreeRegressor(random_state=2033343252),\n",
       " DecisionTreeRegressor(random_state=1197485315),\n",
       " DecisionTreeRegressor(random_state=587693396),\n",
       " DecisionTreeRegressor(random_state=163701513),\n",
       " DecisionTreeRegressor(random_state=1521233034),\n",
       " DecisionTreeRegressor(random_state=1790641966),\n",
       " DecisionTreeRegressor(random_state=1923258134)]"
      ]
     },
     "execution_count": 857,
     "metadata": {},
     "output_type": "execute_result"
    }
   ],
   "source": [
    "#10 adet agac\n",
    "bag_model.estimators_"
   ]
  },
  {
   "cell_type": "code",
   "execution_count": 858,
   "id": "65b828b9",
   "metadata": {},
   "outputs": [
    {
     "data": {
      "text/plain": [
       "[array([113, 132, 152, 101,  43,  71, 109,  22,  41, 111,  75, 160,   0,\n",
       "        153,  42,  71,  57,  62, 160,  88,  67, 143,  23,  43,  54,  97,\n",
       "         87, 112, 137,  97,  40,  16,  81, 103,  42,  74,  91, 160,  44,\n",
       "         89, 107, 107, 126,  41,  33,  56,  74,  35, 136,  65,  24, 125,\n",
       "        124,  76,  83, 131, 111, 115,  91,  74, 114,   3,  92, 123,  42,\n",
       "         22,  71,  86,  17,  61, 113,  32, 152, 139,  71, 119, 112,  74,\n",
       "         36,  68, 111,  54,  51, 145,   0, 119, 141, 117, 114,  33,   3,\n",
       "        104,  50, 105,  34,   7,  25, 128, 139,   2, 130,  62,  49,  10,\n",
       "         43,  14,  76,  26, 127, 139,  25, 119,  76, 107,  78, 155, 120,\n",
       "        104, 151,  63,  70,  10,  10,  93, 122, 108,  94,  80, 127, 145,\n",
       "        123, 157, 160,  43,   5, 142, 131, 104, 136,  51,  21,  75, 152,\n",
       "        126,  40,  32, 115,  49, 123,  35,  91,  48, 136, 134, 126,  30,\n",
       "         65,  24, 122, 158,  36, 145]),\n",
       " array([ 39,  94, 100,  58, 113, 134,  49,  83, 135,  27, 151,  61,  68,\n",
       "        112, 129,  99,  36, 131, 123,  31,  56,  52, 136, 149, 109,   3,\n",
       "         61,  90, 129, 132,  81,  98,  84, 120,  39, 112,  35,  55, 132,\n",
       "         79, 110, 141,  67,  48, 119,  28,   3,  18,  26, 114,  27,   9,\n",
       "         64, 128,  48, 133,  20,  86,   2, 158, 113,   4,  82, 151, 138,\n",
       "        148, 127,  40, 146,  87,  15, 143, 142, 107,   3,  87,   8,  95,\n",
       "        115,  53,   2,   4, 120,  94, 141,  14, 117, 104, 108,  20,  58,\n",
       "         22,  99,   8, 125,   7,  97, 119,  85, 126,  42,  44, 112,  57,\n",
       "        103,  83,  39,  38, 144,  13,  46,  21, 110,  62,  43,  15, 148,\n",
       "        154, 137, 128, 131, 114, 112,  97, 140,  89,  88,   1,  43,  53,\n",
       "        128, 149,  66,  34, 117,  49,  74,  84, 112, 135, 113, 150,  25,\n",
       "         93,  86,  83, 154, 139,  48, 161,  81, 140, 131, 148,  35, 143,\n",
       "         89, 128, 138, 131,  31,   0]),\n",
       " array([157, 123, 115,  75,  91, 113,   6,  54,  92,  63,  20,  38,  49,\n",
       "         66,  84,  51, 109,  11,  92, 136, 110, 153,  37, 100,  23,  36,\n",
       "         91, 101, 150, 115, 157,  46, 151, 111,   5,  47,  79, 136,   7,\n",
       "         71, 149,  98,  16,  79,  42,  15,  10,  50, 137, 126,  52, 157,\n",
       "         43, 131,  93, 106, 132,  55,  96,  33, 132, 133, 145, 150,  15,\n",
       "         53, 120,  74,  46,  83, 109,  22, 114,  36, 155,  27,   6, 122,\n",
       "        143, 138,  79,   0,  78, 122, 109,  62,  62,  82,  78,  18,   8,\n",
       "         17, 105,  74,  92,  32,  28,  75,  80,   4, 150,  87,  85,  39,\n",
       "         48, 150, 153, 101,  90,  63,  48, 139,  87,  19,  91, 128,  15,\n",
       "        138,  14, 160,  51,  58,   7,  74,  90, 120, 159,  91,  10,  15,\n",
       "          8, 148,  45, 111,  43,  55, 126,   5, 159,  93,  10, 149, 131,\n",
       "         90, 161, 146, 127,  36,  78, 140,  64, 118, 109, 153,  91,  17,\n",
       "         62,  12,  36, 107, 104,  83]),\n",
       " array([133,  18,  53, 111,  16,  56,   2,  51, 103,   3, 156,  49,  56,\n",
       "         41, 101,  13,  37,  44, 104, 127, 132, 152,  30,  43, 105, 130,\n",
       "        128,  40,  47,  70,  25,  21,  77,  42,  92,  36,   2,  92,  43,\n",
       "          1,  38, 152, 125,  29, 144,  52, 142,  88,  87,  69, 124, 146,\n",
       "        120, 126, 115, 148,  24,  49, 159,   7, 107,  23,  93, 156, 101,\n",
       "          5,  46,  74,  71,  51,  22,  44,  14,  15, 138,   2, 133,  71,\n",
       "        141,  97,  16,   2, 124,  30,  77, 125,  16,   2, 147,  20,  58,\n",
       "        117,  89,  27,  86,  68,  92, 139,  11,  39,  61,  84, 157,  84,\n",
       "        147,  85, 101,  34,  15,  32,  99,  24,  11,  36,  46, 154,   7,\n",
       "         34,  90,  51, 105, 121, 115,  29,  83, 128,  35,  10,  46,  70,\n",
       "         95,  80,  58,  17, 161, 111,  85,  51,  41,   6, 151,  30,  64,\n",
       "         84,  59,  23,  42,  32,  10,   7, 136, 132, 136, 151, 152, 109,\n",
       "        148, 105,  17, 160, 104,  84]),\n",
       " array([ 40,  70, 142, 136, 122,  76,   1, 142,  35, 125, 138,  20, 136,\n",
       "        107,  75, 111,  10,  31,  23,  27,  14, 101, 121, 102,  48,  27,\n",
       "        159,  30, 104,  37,  66, 160, 105, 112, 155,  43,  88, 114,  78,\n",
       "         31,  28,   2,  82,  85,  81,  80,  90,  82,  96, 148,  79,  47,\n",
       "         92,  28, 117, 110,  14, 138,  14,  56,  38, 102, 101, 108, 117,\n",
       "        151,  76,  96,   6,  53, 113,  63, 104,  21, 138,  89, 133,  16,\n",
       "         22, 107, 134, 119, 160, 146,  86, 161,  29,  75, 151,  37,  39,\n",
       "        127, 113,  77, 137, 150, 152,   5,   6, 160, 106,   5,  63, 110,\n",
       "        160,  86, 118,  66,  77,  99,  85,  78, 138,  78,  72,  91,  55,\n",
       "        113,  17,  38,  92, 150, 143,  69, 101, 118, 120, 158, 141,  39,\n",
       "        112, 161,   3, 101,  22,   1,   5, 107,  16, 122, 112, 158, 148,\n",
       "        114,  47,  68,  13,  52,  31,  88, 157,  96,   9,  69,  14,  58,\n",
       "        147, 115, 103,  54,  29,  71]),\n",
       " array([ 95,  78,   1,  99,  20,  93, 131, 100,  46, 136, 100,  70,  21,\n",
       "         63,  99, 140,  50, 138, 104,  97,  99, 127,  68, 104,  69, 127,\n",
       "        143, 153, 153,  41, 124, 147,  47,  64, 133, 137,  64, 161,  89,\n",
       "        124, 152,  66, 152,  79,  35,   6,  68, 158, 110,  18, 126,  47,\n",
       "        117, 132,  71,  98,   8, 129,  42,  20, 107,   9, 131,  47,  82,\n",
       "         90,  47,  87, 101,  99,  73,  98,  22,  41,  84,  10, 158, 154,\n",
       "         62,  39, 138,  16, 106,  38, 134,  26,  84, 113,  89, 110, 150,\n",
       "         50,  20,  95,   9,  30,  23,  84, 148,  26, 119,  23, 112,   8,\n",
       "         12,  72,  90, 159,  98,  40,  71, 135, 109,   8, 118, 117,  75,\n",
       "        123, 151, 146,  25,  13,  97,  33,  22,  97,  68,  37, 157, 126,\n",
       "         52,  45,   5,  34,  36,  96, 137, 128,  32,  51,  40,  50,  90,\n",
       "         67,   1, 114,  55, 116, 102,   4,  39,  36, 129,  48, 134, 140,\n",
       "         60, 127, 111,  33,  86, 146]),\n",
       " array([ 21,   4,  98, 140,  25,  44, 149,  62, 139,   3,  11,  32, 156,\n",
       "         61,  78,  77,  99,  68,  10,  69, 152, 134,  69, 158, 109, 122,\n",
       "         10, 137, 101,  26,  51,   0,  65,   4, 154,  51,  57, 138,  92,\n",
       "         13, 111, 150,  37,  51,  38,  46,  57,  14,  67, 154, 118,  51,\n",
       "         11,  85,  68, 108,  34, 139,  52,  98,  64, 144,  64, 102, 115,\n",
       "         86,  50,  14,  47, 117, 118,  31, 118,  20,  96, 144, 136,  14,\n",
       "        124,  26,  17, 112, 101, 129,  57,  10,  38,  23, 112, 101,  49,\n",
       "        131, 124,  18,  16,  44,  40, 159,  82,  18,  68,  81, 156,   4,\n",
       "        106, 157, 100,  70, 103,  43,  10, 126,  29,   2, 144, 158,  97,\n",
       "        154,  48,  61,  37,  14, 156, 127, 148, 161,  20, 122, 153,  56,\n",
       "        158,  78,  27, 149, 129, 108,  18, 113,  37,  31, 130, 108,  12,\n",
       "         97,  74, 152,  65,  89,  21,  19,  79, 149, 137,  60,  59, 119,\n",
       "          7,  45, 107,  24, 114,   3]),\n",
       " array([158,  30, 146,  95,   8, 135,  95,   4,  64,  85,  88, 158,  38,\n",
       "        133, 122,  52,  29,  64,  33,  88,  24, 138,  34,  74,  78,  95,\n",
       "         27, 128, 116, 129,  42,   4,  32,   4,  49,  55,  14,  64,  66,\n",
       "        135,  96,  63,  96, 113,  47,  32,  63,  13, 109,   7,  90, 133,\n",
       "        142,  95,  23, 158, 120, 150,  43,  31, 122,  31,  87, 100, 108,\n",
       "        107, 150,  65,  96,  88,   7,  20, 141,  17, 111,  80, 137,  85,\n",
       "         93,  53, 143,   4, 143,  92,  30, 136, 159, 107,  53,  10,   6,\n",
       "        124,  92,  48, 119,  94, 142,  71,  94,  47,  47, 102, 104,  86,\n",
       "         12, 133,  47, 130,  28, 133,  51, 138, 141, 140,  88,  85,  43,\n",
       "        144,  26,  78, 109,  97,  76,  37, 136, 101,  32,  34,  94,  55,\n",
       "         55, 116,  70,  10,  98, 134,  72, 108, 117,  26, 135,  80, 152,\n",
       "        136,  10,  68,  30, 159,  75,  72,  66, 122, 148,  42,  65,  84,\n",
       "        131, 152,  41,  50, 157,  10]),\n",
       " array([132, 103, 118, 132, 129,  19, 122, 143,  59, 118, 161,  86,  14,\n",
       "        156,  69,   2, 156, 109,  57, 161,  54,  50, 157,  31,  98, 113,\n",
       "         71,  92,  71, 147, 159, 154,  62, 133, 154, 146,  28,   5,  85,\n",
       "        133,  87,  19,  16, 106,  46,  60,  92,   8, 116, 125,  36,  58,\n",
       "         49, 135,   0, 108,  29,  57, 102,  76,  69,  77,  83, 157,  72,\n",
       "        119,   5,  83, 139, 135,  26, 107, 128,  11,  96,  38, 127,  90,\n",
       "        146, 149,  78,  90, 131,  79, 135,  35,  88, 103,  59, 159, 151,\n",
       "        131, 139,  16,  51, 160, 156,  87, 126, 150,  19,  22, 151, 133,\n",
       "        105, 109,  11, 138, 111,  60, 119,  50, 152,  67,  33,  61, 141,\n",
       "         31,  79, 152, 122, 156, 115,  94,   6,  38, 132,  20,  18,  52,\n",
       "          0,  81, 149,  52,  78, 137,   5, 116,   8,  32,  27,  20,  82,\n",
       "        114, 158,  72,  73,  56,  93,  33,  62,  53, 101,  66, 105,  32,\n",
       "         65,   8,  78, 153, 142,  23]),\n",
       " array([ 72, 111, 156, 161, 123,  78,  34,  14, 108, 159,  83, 126, 110,\n",
       "        127, 120,  39,  10,   8,  29, 100,   4,  83, 106, 102,  42, 140,\n",
       "        118, 101,  13, 130,  40, 108,   3, 145, 107,   8,  90, 157,  63,\n",
       "         81,  77, 152, 139,  95,  24,  70, 145, 120, 126,   2, 131,  28,\n",
       "         60,  61, 160, 101,  68,  77,  93,  99, 128,  94,  30,  50,  62,\n",
       "        116, 120,  30, 114,  30,  69, 107, 115,  85, 152, 111, 147,  87,\n",
       "         40,  19,  67,  60,  83,  31, 130,  14,  53,  87,  86,  47,  88,\n",
       "         81, 150, 129,  78,  72,  98, 138, 157,  87,  59, 130,  94,  36,\n",
       "         26, 145, 100,  39, 108, 140, 138, 147,  45,  41,   7,  93, 105,\n",
       "        155,  72,  64,  46, 107, 151, 132, 143, 152,  24, 122, 151,  27,\n",
       "         99,   8,  67, 109,  79, 109, 124, 138,   2, 104, 102, 146,  56,\n",
       "         12, 142,  22, 137,  30,  48,  17,  66,   1,  48,  28,  76,  34,\n",
       "        132,  72,  27,  16,  93, 107])]"
      ]
     },
     "execution_count": 858,
     "metadata": {},
     "output_type": "execute_result"
    }
   ],
   "source": [
    "#her bir agacin ornekleri\n",
    "bag_model.estimators_samples_"
   ]
  },
  {
   "cell_type": "code",
   "execution_count": 859,
   "id": "3d876546",
   "metadata": {},
   "outputs": [
    {
     "data": {
      "text/plain": [
       "[array([1, 6, 2, 2, 3, 2, 0, 4]),\n",
       " array([0, 7, 4, 4, 6, 6, 5, 0]),\n",
       " array([4, 4, 7, 7, 4, 2, 4, 3]),\n",
       " array([4, 7, 6, 0, 6, 6, 1, 3]),\n",
       " array([3, 7, 6, 1, 4, 1, 7, 5]),\n",
       " array([4, 1, 1, 3, 2, 6, 1, 1]),\n",
       " array([1, 7, 6, 1, 6, 4, 0, 1]),\n",
       " array([2, 7, 3, 5, 0, 5, 3, 1]),\n",
       " array([6, 4, 1, 5, 1, 0, 0, 0]),\n",
       " array([6, 7, 4, 7, 5, 2, 2, 3])]"
      ]
     },
     "execution_count": 859,
     "metadata": {},
     "output_type": "execute_result"
    }
   ],
   "source": [
    "#her agacin bagimsiz degiskenleri\n",
    "bag_model.estimators_features_"
   ]
  },
  {
   "cell_type": "markdown",
   "id": "c6fa9742",
   "metadata": {},
   "source": [
    "***Tahmin***"
   ]
  },
  {
   "cell_type": "code",
   "execution_count": 860,
   "id": "cc78a6d3",
   "metadata": {},
   "outputs": [
    {
     "name": "stdout",
     "output_type": "stream",
     "text": [
      "RMSE:  15.578289013383845\n"
     ]
    }
   ],
   "source": [
    "y_pred = bag_model.predict(X_test)\n",
    "print(\"RMSE: \",np.sqrt(mean_squared_error(y_test, y_pred)))"
   ]
  },
  {
   "cell_type": "code",
   "execution_count": 861,
   "id": "c33188a5",
   "metadata": {},
   "outputs": [],
   "source": [
    "iki_y_pred = bag_model.estimators_[1].fit(X_train, y_train).predict(X_test)"
   ]
  },
  {
   "cell_type": "code",
   "execution_count": 862,
   "id": "3e4e98de",
   "metadata": {},
   "outputs": [
    {
     "name": "stdout",
     "output_type": "stream",
     "text": [
      "RMSE:  16.908677186507845\n"
     ]
    }
   ],
   "source": [
    "print(\"RMSE: \",np.sqrt(mean_squared_error(y_test, iki_y_pred)))"
   ]
  },
  {
   "cell_type": "code",
   "execution_count": 863,
   "id": "785f0182",
   "metadata": {},
   "outputs": [],
   "source": [
    "yedi_y_pred = bag_model.estimators_[6].fit(X_train, y_train).predict(X_test)"
   ]
  },
  {
   "cell_type": "code",
   "execution_count": 864,
   "id": "9395286c",
   "metadata": {},
   "outputs": [
    {
     "name": "stdout",
     "output_type": "stream",
     "text": [
      "RMSE:  16.908677186507845\n"
     ]
    }
   ],
   "source": [
    "print(\"RMSE: \",np.sqrt(mean_squared_error(y_test, yedi_y_pred)))"
   ]
  },
  {
   "cell_type": "markdown",
   "id": "37fed933",
   "metadata": {},
   "source": [
    "***Model Tuning***"
   ]
  },
  {
   "cell_type": "code",
   "execution_count": 865,
   "id": "c7896e04",
   "metadata": {},
   "outputs": [
    {
     "data": {
      "text/html": [
       "<style>#sk-container-id-40 {color: black;background-color: white;}#sk-container-id-40 pre{padding: 0;}#sk-container-id-40 div.sk-toggleable {background-color: white;}#sk-container-id-40 label.sk-toggleable__label {cursor: pointer;display: block;width: 100%;margin-bottom: 0;padding: 0.3em;box-sizing: border-box;text-align: center;}#sk-container-id-40 label.sk-toggleable__label-arrow:before {content: \"▸\";float: left;margin-right: 0.25em;color: #696969;}#sk-container-id-40 label.sk-toggleable__label-arrow:hover:before {color: black;}#sk-container-id-40 div.sk-estimator:hover label.sk-toggleable__label-arrow:before {color: black;}#sk-container-id-40 div.sk-toggleable__content {max-height: 0;max-width: 0;overflow: hidden;text-align: left;background-color: #f0f8ff;}#sk-container-id-40 div.sk-toggleable__content pre {margin: 0.2em;color: black;border-radius: 0.25em;background-color: #f0f8ff;}#sk-container-id-40 input.sk-toggleable__control:checked~div.sk-toggleable__content {max-height: 200px;max-width: 100%;overflow: auto;}#sk-container-id-40 input.sk-toggleable__control:checked~label.sk-toggleable__label-arrow:before {content: \"▾\";}#sk-container-id-40 div.sk-estimator input.sk-toggleable__control:checked~label.sk-toggleable__label {background-color: #d4ebff;}#sk-container-id-40 div.sk-label input.sk-toggleable__control:checked~label.sk-toggleable__label {background-color: #d4ebff;}#sk-container-id-40 input.sk-hidden--visually {border: 0;clip: rect(1px 1px 1px 1px);clip: rect(1px, 1px, 1px, 1px);height: 1px;margin: -1px;overflow: hidden;padding: 0;position: absolute;width: 1px;}#sk-container-id-40 div.sk-estimator {font-family: monospace;background-color: #f0f8ff;border: 1px dotted black;border-radius: 0.25em;box-sizing: border-box;margin-bottom: 0.5em;}#sk-container-id-40 div.sk-estimator:hover {background-color: #d4ebff;}#sk-container-id-40 div.sk-parallel-item::after {content: \"\";width: 100%;border-bottom: 1px solid gray;flex-grow: 1;}#sk-container-id-40 div.sk-label:hover label.sk-toggleable__label {background-color: #d4ebff;}#sk-container-id-40 div.sk-serial::before {content: \"\";position: absolute;border-left: 1px solid gray;box-sizing: border-box;top: 0;bottom: 0;left: 50%;z-index: 0;}#sk-container-id-40 div.sk-serial {display: flex;flex-direction: column;align-items: center;background-color: white;padding-right: 0.2em;padding-left: 0.2em;position: relative;}#sk-container-id-40 div.sk-item {position: relative;z-index: 1;}#sk-container-id-40 div.sk-parallel {display: flex;align-items: stretch;justify-content: center;background-color: white;position: relative;}#sk-container-id-40 div.sk-item::before, #sk-container-id-40 div.sk-parallel-item::before {content: \"\";position: absolute;border-left: 1px solid gray;box-sizing: border-box;top: 0;bottom: 0;left: 50%;z-index: -1;}#sk-container-id-40 div.sk-parallel-item {display: flex;flex-direction: column;z-index: 1;position: relative;background-color: white;}#sk-container-id-40 div.sk-parallel-item:first-child::after {align-self: flex-end;width: 50%;}#sk-container-id-40 div.sk-parallel-item:last-child::after {align-self: flex-start;width: 50%;}#sk-container-id-40 div.sk-parallel-item:only-child::after {width: 0;}#sk-container-id-40 div.sk-dashed-wrapped {border: 1px dashed gray;margin: 0 0.4em 0.5em 0.4em;box-sizing: border-box;padding-bottom: 0.4em;background-color: white;}#sk-container-id-40 div.sk-label label {font-family: monospace;font-weight: bold;display: inline-block;line-height: 1.2em;}#sk-container-id-40 div.sk-label-container {text-align: center;}#sk-container-id-40 div.sk-container {/* jupyter's `normalize.less` sets `[hidden] { display: none; }` but bootstrap.min.css set `[hidden] { display: none !important; }` so we also need the `!important` here to be able to override the default hidden behavior on the sphinx rendered scikit-learn.org. See: https://github.com/scikit-learn/scikit-learn/issues/21755 */display: inline-block !important;position: relative;}#sk-container-id-40 div.sk-text-repr-fallback {display: none;}</style><div id=\"sk-container-id-40\" class=\"sk-top-container\"><div class=\"sk-text-repr-fallback\"><pre>BaggingRegressor(bootstrap_features=True)</pre><b>In a Jupyter environment, please rerun this cell to show the HTML representation or trust the notebook. <br />On GitHub, the HTML representation is unable to render, please try loading this page with nbviewer.org.</b></div><div class=\"sk-container\" hidden><div class=\"sk-item\"><div class=\"sk-estimator sk-toggleable\"><input class=\"sk-toggleable__control sk-hidden--visually\" id=\"sk-estimator-id-62\" type=\"checkbox\" checked><label for=\"sk-estimator-id-62\" class=\"sk-toggleable__label sk-toggleable__label-arrow\">BaggingRegressor</label><div class=\"sk-toggleable__content\"><pre>BaggingRegressor(bootstrap_features=True)</pre></div></div></div></div></div>"
      ],
      "text/plain": [
       "BaggingRegressor(bootstrap_features=True)"
      ]
     },
     "execution_count": 865,
     "metadata": {},
     "output_type": "execute_result"
    }
   ],
   "source": [
    "bag_model = BaggingRegressor(bootstrap_features = True)\n",
    "bag_model.fit(X_train, y_train)"
   ]
  },
  {
   "cell_type": "code",
   "execution_count": 866,
   "id": "8b62ae9f",
   "metadata": {},
   "outputs": [],
   "source": [
    "bag_params = {\"n_estimators\": range(2,20)}"
   ]
  },
  {
   "cell_type": "code",
   "execution_count": 867,
   "id": "b8c6336b",
   "metadata": {},
   "outputs": [],
   "source": [
    "bag_cv_model = GridSearchCV(bag_model, bag_params, cv = 10)"
   ]
  },
  {
   "cell_type": "code",
   "execution_count": 868,
   "id": "0403cd53",
   "metadata": {},
   "outputs": [
    {
     "data": {
      "text/html": [
       "<style>#sk-container-id-41 {color: black;background-color: white;}#sk-container-id-41 pre{padding: 0;}#sk-container-id-41 div.sk-toggleable {background-color: white;}#sk-container-id-41 label.sk-toggleable__label {cursor: pointer;display: block;width: 100%;margin-bottom: 0;padding: 0.3em;box-sizing: border-box;text-align: center;}#sk-container-id-41 label.sk-toggleable__label-arrow:before {content: \"▸\";float: left;margin-right: 0.25em;color: #696969;}#sk-container-id-41 label.sk-toggleable__label-arrow:hover:before {color: black;}#sk-container-id-41 div.sk-estimator:hover label.sk-toggleable__label-arrow:before {color: black;}#sk-container-id-41 div.sk-toggleable__content {max-height: 0;max-width: 0;overflow: hidden;text-align: left;background-color: #f0f8ff;}#sk-container-id-41 div.sk-toggleable__content pre {margin: 0.2em;color: black;border-radius: 0.25em;background-color: #f0f8ff;}#sk-container-id-41 input.sk-toggleable__control:checked~div.sk-toggleable__content {max-height: 200px;max-width: 100%;overflow: auto;}#sk-container-id-41 input.sk-toggleable__control:checked~label.sk-toggleable__label-arrow:before {content: \"▾\";}#sk-container-id-41 div.sk-estimator input.sk-toggleable__control:checked~label.sk-toggleable__label {background-color: #d4ebff;}#sk-container-id-41 div.sk-label input.sk-toggleable__control:checked~label.sk-toggleable__label {background-color: #d4ebff;}#sk-container-id-41 input.sk-hidden--visually {border: 0;clip: rect(1px 1px 1px 1px);clip: rect(1px, 1px, 1px, 1px);height: 1px;margin: -1px;overflow: hidden;padding: 0;position: absolute;width: 1px;}#sk-container-id-41 div.sk-estimator {font-family: monospace;background-color: #f0f8ff;border: 1px dotted black;border-radius: 0.25em;box-sizing: border-box;margin-bottom: 0.5em;}#sk-container-id-41 div.sk-estimator:hover {background-color: #d4ebff;}#sk-container-id-41 div.sk-parallel-item::after {content: \"\";width: 100%;border-bottom: 1px solid gray;flex-grow: 1;}#sk-container-id-41 div.sk-label:hover label.sk-toggleable__label {background-color: #d4ebff;}#sk-container-id-41 div.sk-serial::before {content: \"\";position: absolute;border-left: 1px solid gray;box-sizing: border-box;top: 0;bottom: 0;left: 50%;z-index: 0;}#sk-container-id-41 div.sk-serial {display: flex;flex-direction: column;align-items: center;background-color: white;padding-right: 0.2em;padding-left: 0.2em;position: relative;}#sk-container-id-41 div.sk-item {position: relative;z-index: 1;}#sk-container-id-41 div.sk-parallel {display: flex;align-items: stretch;justify-content: center;background-color: white;position: relative;}#sk-container-id-41 div.sk-item::before, #sk-container-id-41 div.sk-parallel-item::before {content: \"\";position: absolute;border-left: 1px solid gray;box-sizing: border-box;top: 0;bottom: 0;left: 50%;z-index: -1;}#sk-container-id-41 div.sk-parallel-item {display: flex;flex-direction: column;z-index: 1;position: relative;background-color: white;}#sk-container-id-41 div.sk-parallel-item:first-child::after {align-self: flex-end;width: 50%;}#sk-container-id-41 div.sk-parallel-item:last-child::after {align-self: flex-start;width: 50%;}#sk-container-id-41 div.sk-parallel-item:only-child::after {width: 0;}#sk-container-id-41 div.sk-dashed-wrapped {border: 1px dashed gray;margin: 0 0.4em 0.5em 0.4em;box-sizing: border-box;padding-bottom: 0.4em;background-color: white;}#sk-container-id-41 div.sk-label label {font-family: monospace;font-weight: bold;display: inline-block;line-height: 1.2em;}#sk-container-id-41 div.sk-label-container {text-align: center;}#sk-container-id-41 div.sk-container {/* jupyter's `normalize.less` sets `[hidden] { display: none; }` but bootstrap.min.css set `[hidden] { display: none !important; }` so we also need the `!important` here to be able to override the default hidden behavior on the sphinx rendered scikit-learn.org. See: https://github.com/scikit-learn/scikit-learn/issues/21755 */display: inline-block !important;position: relative;}#sk-container-id-41 div.sk-text-repr-fallback {display: none;}</style><div id=\"sk-container-id-41\" class=\"sk-top-container\"><div class=\"sk-text-repr-fallback\"><pre>GridSearchCV(cv=10, estimator=BaggingRegressor(bootstrap_features=True),\n",
       "             param_grid={&#x27;n_estimators&#x27;: range(2, 20)})</pre><b>In a Jupyter environment, please rerun this cell to show the HTML representation or trust the notebook. <br />On GitHub, the HTML representation is unable to render, please try loading this page with nbviewer.org.</b></div><div class=\"sk-container\" hidden><div class=\"sk-item sk-dashed-wrapped\"><div class=\"sk-label-container\"><div class=\"sk-label sk-toggleable\"><input class=\"sk-toggleable__control sk-hidden--visually\" id=\"sk-estimator-id-63\" type=\"checkbox\" ><label for=\"sk-estimator-id-63\" class=\"sk-toggleable__label sk-toggleable__label-arrow\">GridSearchCV</label><div class=\"sk-toggleable__content\"><pre>GridSearchCV(cv=10, estimator=BaggingRegressor(bootstrap_features=True),\n",
       "             param_grid={&#x27;n_estimators&#x27;: range(2, 20)})</pre></div></div></div><div class=\"sk-parallel\"><div class=\"sk-parallel-item\"><div class=\"sk-item\"><div class=\"sk-label-container\"><div class=\"sk-label sk-toggleable\"><input class=\"sk-toggleable__control sk-hidden--visually\" id=\"sk-estimator-id-64\" type=\"checkbox\" ><label for=\"sk-estimator-id-64\" class=\"sk-toggleable__label sk-toggleable__label-arrow\">estimator: BaggingRegressor</label><div class=\"sk-toggleable__content\"><pre>BaggingRegressor(bootstrap_features=True)</pre></div></div></div><div class=\"sk-serial\"><div class=\"sk-item\"><div class=\"sk-estimator sk-toggleable\"><input class=\"sk-toggleable__control sk-hidden--visually\" id=\"sk-estimator-id-65\" type=\"checkbox\" ><label for=\"sk-estimator-id-65\" class=\"sk-toggleable__label sk-toggleable__label-arrow\">BaggingRegressor</label><div class=\"sk-toggleable__content\"><pre>BaggingRegressor(bootstrap_features=True)</pre></div></div></div></div></div></div></div></div></div></div>"
      ],
      "text/plain": [
       "GridSearchCV(cv=10, estimator=BaggingRegressor(bootstrap_features=True),\n",
       "             param_grid={'n_estimators': range(2, 20)})"
      ]
     },
     "execution_count": 868,
     "metadata": {},
     "output_type": "execute_result"
    }
   ],
   "source": [
    "bag_cv_model.fit(X_train, y_train)"
   ]
  },
  {
   "cell_type": "code",
   "execution_count": 869,
   "id": "49669d23",
   "metadata": {},
   "outputs": [
    {
     "data": {
      "text/plain": [
       "{'n_estimators': 15}"
      ]
     },
     "execution_count": 869,
     "metadata": {},
     "output_type": "execute_result"
    }
   ],
   "source": [
    "bag_cv_model.best_params_"
   ]
  },
  {
   "cell_type": "code",
   "execution_count": 870,
   "id": "3ee7a9a9",
   "metadata": {},
   "outputs": [],
   "source": [
    "bag_tuned = BaggingRegressor( n_estimators = 15, random_state = 45)"
   ]
  },
  {
   "cell_type": "code",
   "execution_count": 871,
   "id": "bd1ce655",
   "metadata": {},
   "outputs": [
    {
     "data": {
      "text/html": [
       "<style>#sk-container-id-42 {color: black;background-color: white;}#sk-container-id-42 pre{padding: 0;}#sk-container-id-42 div.sk-toggleable {background-color: white;}#sk-container-id-42 label.sk-toggleable__label {cursor: pointer;display: block;width: 100%;margin-bottom: 0;padding: 0.3em;box-sizing: border-box;text-align: center;}#sk-container-id-42 label.sk-toggleable__label-arrow:before {content: \"▸\";float: left;margin-right: 0.25em;color: #696969;}#sk-container-id-42 label.sk-toggleable__label-arrow:hover:before {color: black;}#sk-container-id-42 div.sk-estimator:hover label.sk-toggleable__label-arrow:before {color: black;}#sk-container-id-42 div.sk-toggleable__content {max-height: 0;max-width: 0;overflow: hidden;text-align: left;background-color: #f0f8ff;}#sk-container-id-42 div.sk-toggleable__content pre {margin: 0.2em;color: black;border-radius: 0.25em;background-color: #f0f8ff;}#sk-container-id-42 input.sk-toggleable__control:checked~div.sk-toggleable__content {max-height: 200px;max-width: 100%;overflow: auto;}#sk-container-id-42 input.sk-toggleable__control:checked~label.sk-toggleable__label-arrow:before {content: \"▾\";}#sk-container-id-42 div.sk-estimator input.sk-toggleable__control:checked~label.sk-toggleable__label {background-color: #d4ebff;}#sk-container-id-42 div.sk-label input.sk-toggleable__control:checked~label.sk-toggleable__label {background-color: #d4ebff;}#sk-container-id-42 input.sk-hidden--visually {border: 0;clip: rect(1px 1px 1px 1px);clip: rect(1px, 1px, 1px, 1px);height: 1px;margin: -1px;overflow: hidden;padding: 0;position: absolute;width: 1px;}#sk-container-id-42 div.sk-estimator {font-family: monospace;background-color: #f0f8ff;border: 1px dotted black;border-radius: 0.25em;box-sizing: border-box;margin-bottom: 0.5em;}#sk-container-id-42 div.sk-estimator:hover {background-color: #d4ebff;}#sk-container-id-42 div.sk-parallel-item::after {content: \"\";width: 100%;border-bottom: 1px solid gray;flex-grow: 1;}#sk-container-id-42 div.sk-label:hover label.sk-toggleable__label {background-color: #d4ebff;}#sk-container-id-42 div.sk-serial::before {content: \"\";position: absolute;border-left: 1px solid gray;box-sizing: border-box;top: 0;bottom: 0;left: 50%;z-index: 0;}#sk-container-id-42 div.sk-serial {display: flex;flex-direction: column;align-items: center;background-color: white;padding-right: 0.2em;padding-left: 0.2em;position: relative;}#sk-container-id-42 div.sk-item {position: relative;z-index: 1;}#sk-container-id-42 div.sk-parallel {display: flex;align-items: stretch;justify-content: center;background-color: white;position: relative;}#sk-container-id-42 div.sk-item::before, #sk-container-id-42 div.sk-parallel-item::before {content: \"\";position: absolute;border-left: 1px solid gray;box-sizing: border-box;top: 0;bottom: 0;left: 50%;z-index: -1;}#sk-container-id-42 div.sk-parallel-item {display: flex;flex-direction: column;z-index: 1;position: relative;background-color: white;}#sk-container-id-42 div.sk-parallel-item:first-child::after {align-self: flex-end;width: 50%;}#sk-container-id-42 div.sk-parallel-item:last-child::after {align-self: flex-start;width: 50%;}#sk-container-id-42 div.sk-parallel-item:only-child::after {width: 0;}#sk-container-id-42 div.sk-dashed-wrapped {border: 1px dashed gray;margin: 0 0.4em 0.5em 0.4em;box-sizing: border-box;padding-bottom: 0.4em;background-color: white;}#sk-container-id-42 div.sk-label label {font-family: monospace;font-weight: bold;display: inline-block;line-height: 1.2em;}#sk-container-id-42 div.sk-label-container {text-align: center;}#sk-container-id-42 div.sk-container {/* jupyter's `normalize.less` sets `[hidden] { display: none; }` but bootstrap.min.css set `[hidden] { display: none !important; }` so we also need the `!important` here to be able to override the default hidden behavior on the sphinx rendered scikit-learn.org. See: https://github.com/scikit-learn/scikit-learn/issues/21755 */display: inline-block !important;position: relative;}#sk-container-id-42 div.sk-text-repr-fallback {display: none;}</style><div id=\"sk-container-id-42\" class=\"sk-top-container\"><div class=\"sk-text-repr-fallback\"><pre>BaggingRegressor(n_estimators=15, random_state=45)</pre><b>In a Jupyter environment, please rerun this cell to show the HTML representation or trust the notebook. <br />On GitHub, the HTML representation is unable to render, please try loading this page with nbviewer.org.</b></div><div class=\"sk-container\" hidden><div class=\"sk-item\"><div class=\"sk-estimator sk-toggleable\"><input class=\"sk-toggleable__control sk-hidden--visually\" id=\"sk-estimator-id-66\" type=\"checkbox\" checked><label for=\"sk-estimator-id-66\" class=\"sk-toggleable__label sk-toggleable__label-arrow\">BaggingRegressor</label><div class=\"sk-toggleable__content\"><pre>BaggingRegressor(n_estimators=15, random_state=45)</pre></div></div></div></div></div>"
      ],
      "text/plain": [
       "BaggingRegressor(n_estimators=15, random_state=45)"
      ]
     },
     "execution_count": 871,
     "metadata": {},
     "output_type": "execute_result"
    }
   ],
   "source": [
    "bag_tuned.fit(X_train, y_train)"
   ]
  },
  {
   "cell_type": "code",
   "execution_count": 872,
   "id": "a3d7b860",
   "metadata": {},
   "outputs": [],
   "source": [
    "y_pred = bag_tuned.predict(X_test)"
   ]
  },
  {
   "cell_type": "code",
   "execution_count": 873,
   "id": "dfd5472b",
   "metadata": {},
   "outputs": [
    {
     "name": "stdout",
     "output_type": "stream",
     "text": [
      "RMSE:  16.612592455903425\n"
     ]
    }
   ],
   "source": [
    "print(\"RMSE: \",np.sqrt(mean_squared_error(y_test, y_pred)))"
   ]
  },
  {
   "cell_type": "markdown",
   "id": "a0b87683",
   "metadata": {},
   "source": [
    "## Random Forests"
   ]
  },
  {
   "cell_type": "code",
   "execution_count": 874,
   "id": "303259d4",
   "metadata": {},
   "outputs": [],
   "source": [
    "y = df[\"Score\"]\n",
    "X = df_one_hot.drop(['Score'], axis=1)\n",
    "X_train, X_test, y_train, y_test = train_test_split(X, y, \n",
    "                                                    test_size=0.25, \n",
    "                                                    random_state=42)"
   ]
  },
  {
   "cell_type": "code",
   "execution_count": 875,
   "id": "2d569cbb",
   "metadata": {},
   "outputs": [
    {
     "data": {
      "text/html": [
       "<style>#sk-container-id-43 {color: black;background-color: white;}#sk-container-id-43 pre{padding: 0;}#sk-container-id-43 div.sk-toggleable {background-color: white;}#sk-container-id-43 label.sk-toggleable__label {cursor: pointer;display: block;width: 100%;margin-bottom: 0;padding: 0.3em;box-sizing: border-box;text-align: center;}#sk-container-id-43 label.sk-toggleable__label-arrow:before {content: \"▸\";float: left;margin-right: 0.25em;color: #696969;}#sk-container-id-43 label.sk-toggleable__label-arrow:hover:before {color: black;}#sk-container-id-43 div.sk-estimator:hover label.sk-toggleable__label-arrow:before {color: black;}#sk-container-id-43 div.sk-toggleable__content {max-height: 0;max-width: 0;overflow: hidden;text-align: left;background-color: #f0f8ff;}#sk-container-id-43 div.sk-toggleable__content pre {margin: 0.2em;color: black;border-radius: 0.25em;background-color: #f0f8ff;}#sk-container-id-43 input.sk-toggleable__control:checked~div.sk-toggleable__content {max-height: 200px;max-width: 100%;overflow: auto;}#sk-container-id-43 input.sk-toggleable__control:checked~label.sk-toggleable__label-arrow:before {content: \"▾\";}#sk-container-id-43 div.sk-estimator input.sk-toggleable__control:checked~label.sk-toggleable__label {background-color: #d4ebff;}#sk-container-id-43 div.sk-label input.sk-toggleable__control:checked~label.sk-toggleable__label {background-color: #d4ebff;}#sk-container-id-43 input.sk-hidden--visually {border: 0;clip: rect(1px 1px 1px 1px);clip: rect(1px, 1px, 1px, 1px);height: 1px;margin: -1px;overflow: hidden;padding: 0;position: absolute;width: 1px;}#sk-container-id-43 div.sk-estimator {font-family: monospace;background-color: #f0f8ff;border: 1px dotted black;border-radius: 0.25em;box-sizing: border-box;margin-bottom: 0.5em;}#sk-container-id-43 div.sk-estimator:hover {background-color: #d4ebff;}#sk-container-id-43 div.sk-parallel-item::after {content: \"\";width: 100%;border-bottom: 1px solid gray;flex-grow: 1;}#sk-container-id-43 div.sk-label:hover label.sk-toggleable__label {background-color: #d4ebff;}#sk-container-id-43 div.sk-serial::before {content: \"\";position: absolute;border-left: 1px solid gray;box-sizing: border-box;top: 0;bottom: 0;left: 50%;z-index: 0;}#sk-container-id-43 div.sk-serial {display: flex;flex-direction: column;align-items: center;background-color: white;padding-right: 0.2em;padding-left: 0.2em;position: relative;}#sk-container-id-43 div.sk-item {position: relative;z-index: 1;}#sk-container-id-43 div.sk-parallel {display: flex;align-items: stretch;justify-content: center;background-color: white;position: relative;}#sk-container-id-43 div.sk-item::before, #sk-container-id-43 div.sk-parallel-item::before {content: \"\";position: absolute;border-left: 1px solid gray;box-sizing: border-box;top: 0;bottom: 0;left: 50%;z-index: -1;}#sk-container-id-43 div.sk-parallel-item {display: flex;flex-direction: column;z-index: 1;position: relative;background-color: white;}#sk-container-id-43 div.sk-parallel-item:first-child::after {align-self: flex-end;width: 50%;}#sk-container-id-43 div.sk-parallel-item:last-child::after {align-self: flex-start;width: 50%;}#sk-container-id-43 div.sk-parallel-item:only-child::after {width: 0;}#sk-container-id-43 div.sk-dashed-wrapped {border: 1px dashed gray;margin: 0 0.4em 0.5em 0.4em;box-sizing: border-box;padding-bottom: 0.4em;background-color: white;}#sk-container-id-43 div.sk-label label {font-family: monospace;font-weight: bold;display: inline-block;line-height: 1.2em;}#sk-container-id-43 div.sk-label-container {text-align: center;}#sk-container-id-43 div.sk-container {/* jupyter's `normalize.less` sets `[hidden] { display: none; }` but bootstrap.min.css set `[hidden] { display: none !important; }` so we also need the `!important` here to be able to override the default hidden behavior on the sphinx rendered scikit-learn.org. See: https://github.com/scikit-learn/scikit-learn/issues/21755 */display: inline-block !important;position: relative;}#sk-container-id-43 div.sk-text-repr-fallback {display: none;}</style><div id=\"sk-container-id-43\" class=\"sk-top-container\"><div class=\"sk-text-repr-fallback\"><pre>RandomForestRegressor(random_state=42)</pre><b>In a Jupyter environment, please rerun this cell to show the HTML representation or trust the notebook. <br />On GitHub, the HTML representation is unable to render, please try loading this page with nbviewer.org.</b></div><div class=\"sk-container\" hidden><div class=\"sk-item\"><div class=\"sk-estimator sk-toggleable\"><input class=\"sk-toggleable__control sk-hidden--visually\" id=\"sk-estimator-id-67\" type=\"checkbox\" checked><label for=\"sk-estimator-id-67\" class=\"sk-toggleable__label sk-toggleable__label-arrow\">RandomForestRegressor</label><div class=\"sk-toggleable__content\"><pre>RandomForestRegressor(random_state=42)</pre></div></div></div></div></div>"
      ],
      "text/plain": [
       "RandomForestRegressor(random_state=42)"
      ]
     },
     "execution_count": 875,
     "metadata": {},
     "output_type": "execute_result"
    }
   ],
   "source": [
    "rf_model = RandomForestRegressor(random_state = 42)\n",
    "rf_model.fit(X_train, y_train)"
   ]
  },
  {
   "cell_type": "markdown",
   "id": "e7040da4",
   "metadata": {},
   "source": [
    "***Tahmin***"
   ]
  },
  {
   "cell_type": "code",
   "execution_count": 877,
   "id": "8e3c2373",
   "metadata": {},
   "outputs": [
    {
     "data": {
      "text/plain": [
       "array([60.19849856, 69.4897619 , 76.59729582, 67.2189246 , 54.18430952])"
      ]
     },
     "execution_count": 877,
     "metadata": {},
     "output_type": "execute_result"
    }
   ],
   "source": [
    "rf_model.predict(X_test)[0:5]"
   ]
  },
  {
   "cell_type": "code",
   "execution_count": 878,
   "id": "a907e6a9",
   "metadata": {},
   "outputs": [],
   "source": [
    "y_pred = rf_model.predict(X_test)"
   ]
  },
  {
   "cell_type": "code",
   "execution_count": 880,
   "id": "e91e8b7f",
   "metadata": {},
   "outputs": [
    {
     "name": "stdout",
     "output_type": "stream",
     "text": [
      "RMSE:  16.877922127909912\n"
     ]
    }
   ],
   "source": [
    "print(\"RMSE: \",np.sqrt(mean_squared_error(y_test, y_pred)))"
   ]
  },
  {
   "cell_type": "markdown",
   "id": "7c5d21a3",
   "metadata": {},
   "source": [
    "***Model Tuning***"
   ]
  },
  {
   "cell_type": "code",
   "execution_count": 882,
   "id": "6b04847b",
   "metadata": {},
   "outputs": [],
   "source": [
    "rf_params = {'max_depth': list(range(1,10)),\n",
    "            'max_features': [3,5,10,15],\n",
    "            'n_estimators' : [100, 200, 500, 1000, 2000]}\n",
    "rf_model = RandomForestRegressor(random_state = 42)\n",
    "rf_cv_model = GridSearchCV(rf_model, \n",
    "                           rf_params, \n",
    "                           cv = 10, \n",
    "                            n_jobs = -1)\n",
    "# n_jobs = -1 yukarida yapılacak hesap sayisi her bir degerin kombinasyonu dusunuldugunde cok fazla olmaktadır.\n",
    "#n_jobs parametresi islemcinin paralel yurutebilecegi islemleri ayni anda yurutmesini saglamaktadır."
   ]
  },
  {
   "cell_type": "code",
   "execution_count": 883,
   "id": "227d288c",
   "metadata": {},
   "outputs": [
    {
     "data": {
      "text/plain": [
       "{'max_depth': 2, 'max_features': 10, 'n_estimators': 1000}"
      ]
     },
     "execution_count": 883,
     "metadata": {},
     "output_type": "execute_result"
    }
   ],
   "source": [
    "rf_cv_model.fit(X_train, y_train)\n",
    "rf_cv_model.best_params_"
   ]
  },
  {
   "cell_type": "code",
   "execution_count": 884,
   "id": "01381453",
   "metadata": {},
   "outputs": [],
   "source": [
    "rf_tuned = RandomForestRegressor(max_depth  = 2, \n",
    "                                 max_features = 10, \n",
    "                                 n_estimators =1000)"
   ]
  },
  {
   "cell_type": "code",
   "execution_count": 885,
   "id": "7810873e",
   "metadata": {},
   "outputs": [
    {
     "data": {
      "text/html": [
       "<style>#sk-container-id-44 {color: black;background-color: white;}#sk-container-id-44 pre{padding: 0;}#sk-container-id-44 div.sk-toggleable {background-color: white;}#sk-container-id-44 label.sk-toggleable__label {cursor: pointer;display: block;width: 100%;margin-bottom: 0;padding: 0.3em;box-sizing: border-box;text-align: center;}#sk-container-id-44 label.sk-toggleable__label-arrow:before {content: \"▸\";float: left;margin-right: 0.25em;color: #696969;}#sk-container-id-44 label.sk-toggleable__label-arrow:hover:before {color: black;}#sk-container-id-44 div.sk-estimator:hover label.sk-toggleable__label-arrow:before {color: black;}#sk-container-id-44 div.sk-toggleable__content {max-height: 0;max-width: 0;overflow: hidden;text-align: left;background-color: #f0f8ff;}#sk-container-id-44 div.sk-toggleable__content pre {margin: 0.2em;color: black;border-radius: 0.25em;background-color: #f0f8ff;}#sk-container-id-44 input.sk-toggleable__control:checked~div.sk-toggleable__content {max-height: 200px;max-width: 100%;overflow: auto;}#sk-container-id-44 input.sk-toggleable__control:checked~label.sk-toggleable__label-arrow:before {content: \"▾\";}#sk-container-id-44 div.sk-estimator input.sk-toggleable__control:checked~label.sk-toggleable__label {background-color: #d4ebff;}#sk-container-id-44 div.sk-label input.sk-toggleable__control:checked~label.sk-toggleable__label {background-color: #d4ebff;}#sk-container-id-44 input.sk-hidden--visually {border: 0;clip: rect(1px 1px 1px 1px);clip: rect(1px, 1px, 1px, 1px);height: 1px;margin: -1px;overflow: hidden;padding: 0;position: absolute;width: 1px;}#sk-container-id-44 div.sk-estimator {font-family: monospace;background-color: #f0f8ff;border: 1px dotted black;border-radius: 0.25em;box-sizing: border-box;margin-bottom: 0.5em;}#sk-container-id-44 div.sk-estimator:hover {background-color: #d4ebff;}#sk-container-id-44 div.sk-parallel-item::after {content: \"\";width: 100%;border-bottom: 1px solid gray;flex-grow: 1;}#sk-container-id-44 div.sk-label:hover label.sk-toggleable__label {background-color: #d4ebff;}#sk-container-id-44 div.sk-serial::before {content: \"\";position: absolute;border-left: 1px solid gray;box-sizing: border-box;top: 0;bottom: 0;left: 50%;z-index: 0;}#sk-container-id-44 div.sk-serial {display: flex;flex-direction: column;align-items: center;background-color: white;padding-right: 0.2em;padding-left: 0.2em;position: relative;}#sk-container-id-44 div.sk-item {position: relative;z-index: 1;}#sk-container-id-44 div.sk-parallel {display: flex;align-items: stretch;justify-content: center;background-color: white;position: relative;}#sk-container-id-44 div.sk-item::before, #sk-container-id-44 div.sk-parallel-item::before {content: \"\";position: absolute;border-left: 1px solid gray;box-sizing: border-box;top: 0;bottom: 0;left: 50%;z-index: -1;}#sk-container-id-44 div.sk-parallel-item {display: flex;flex-direction: column;z-index: 1;position: relative;background-color: white;}#sk-container-id-44 div.sk-parallel-item:first-child::after {align-self: flex-end;width: 50%;}#sk-container-id-44 div.sk-parallel-item:last-child::after {align-self: flex-start;width: 50%;}#sk-container-id-44 div.sk-parallel-item:only-child::after {width: 0;}#sk-container-id-44 div.sk-dashed-wrapped {border: 1px dashed gray;margin: 0 0.4em 0.5em 0.4em;box-sizing: border-box;padding-bottom: 0.4em;background-color: white;}#sk-container-id-44 div.sk-label label {font-family: monospace;font-weight: bold;display: inline-block;line-height: 1.2em;}#sk-container-id-44 div.sk-label-container {text-align: center;}#sk-container-id-44 div.sk-container {/* jupyter's `normalize.less` sets `[hidden] { display: none; }` but bootstrap.min.css set `[hidden] { display: none !important; }` so we also need the `!important` here to be able to override the default hidden behavior on the sphinx rendered scikit-learn.org. See: https://github.com/scikit-learn/scikit-learn/issues/21755 */display: inline-block !important;position: relative;}#sk-container-id-44 div.sk-text-repr-fallback {display: none;}</style><div id=\"sk-container-id-44\" class=\"sk-top-container\"><div class=\"sk-text-repr-fallback\"><pre>RandomForestRegressor(max_depth=2, max_features=10, n_estimators=1000)</pre><b>In a Jupyter environment, please rerun this cell to show the HTML representation or trust the notebook. <br />On GitHub, the HTML representation is unable to render, please try loading this page with nbviewer.org.</b></div><div class=\"sk-container\" hidden><div class=\"sk-item\"><div class=\"sk-estimator sk-toggleable\"><input class=\"sk-toggleable__control sk-hidden--visually\" id=\"sk-estimator-id-68\" type=\"checkbox\" checked><label for=\"sk-estimator-id-68\" class=\"sk-toggleable__label sk-toggleable__label-arrow\">RandomForestRegressor</label><div class=\"sk-toggleable__content\"><pre>RandomForestRegressor(max_depth=2, max_features=10, n_estimators=1000)</pre></div></div></div></div></div>"
      ],
      "text/plain": [
       "RandomForestRegressor(max_depth=2, max_features=10, n_estimators=1000)"
      ]
     },
     "execution_count": 885,
     "metadata": {},
     "output_type": "execute_result"
    }
   ],
   "source": [
    "rf_tuned.fit(X_train, y_train)"
   ]
  },
  {
   "cell_type": "code",
   "execution_count": 886,
   "id": "d18ddc56",
   "metadata": {},
   "outputs": [
    {
     "data": {
      "text/plain": [
       "15.21216178628981"
      ]
     },
     "execution_count": 886,
     "metadata": {},
     "output_type": "execute_result"
    }
   ],
   "source": [
    "y_pred = rf_tuned.predict(X_test)\n",
    "np.sqrt(mean_squared_error(y_test, y_pred))"
   ]
  },
  {
   "cell_type": "code",
   "execution_count": 887,
   "id": "4f4b7b60",
   "metadata": {},
   "outputs": [],
   "source": [
    "#degiskenlerin onem duzeyine bir bakalim.\n",
    "Importance = pd.DataFrame({\"Importance\": rf_tuned.feature_importances_*100},\n",
    "                         index = X_train.columns)"
   ]
  },
  {
   "cell_type": "code",
   "execution_count": 888,
   "id": "c2fe58e6",
   "metadata": {},
   "outputs": [
    {
     "data": {
      "text/plain": [
       "Text(0.5, 0, 'Değişken Önem Düzeyleri')"
      ]
     },
     "execution_count": 888,
     "metadata": {},
     "output_type": "execute_result"
    },
    {
     "data": {
      "image/png": "[encoded data removed]",
      "text/plain": [
       "<Figure size 432x288 with 1 Axes>"
      ]
     },
     "metadata": {
      "needs_background": "light"
     },
     "output_type": "display_data"
    }
   ],
   "source": [
    "Importance.sort_values(by = \"Importance\", \n",
    "                       axis = 0, \n",
    "                       ascending = True).plot(kind =\"barh\", color = \"r\")\n",
    "\n",
    "plt.xlabel(\"Değişken Önem Düzeyleri\")"
   ]
  },
  {
   "cell_type": "markdown",
   "id": "6303fcb3",
   "metadata": {},
   "source": [
    "## Gradient Boosting Machines (GBM)"
   ]
  },
  {
   "cell_type": "markdown",
   "id": "18518a19",
   "metadata": {},
   "source": [
    "***Model***"
   ]
  },
  {
   "cell_type": "code",
   "execution_count": 941,
   "id": "f9dfa88e",
   "metadata": {},
   "outputs": [],
   "source": [
    "y = df[\"Score\"]\n",
    "X = df_one_hot.drop(['Score'], axis=1)\n",
    "X_train, X_test, y_train, y_test = train_test_split(X, y, \n",
    "                                                    test_size=0.25, \n",
    "                                                    random_state=42)"
   ]
  },
  {
   "cell_type": "code",
   "execution_count": 942,
   "id": "708c0939",
   "metadata": {},
   "outputs": [
    {
     "data": {
      "text/html": [
       "<style>#sk-container-id-48 {color: black;background-color: white;}#sk-container-id-48 pre{padding: 0;}#sk-container-id-48 div.sk-toggleable {background-color: white;}#sk-container-id-48 label.sk-toggleable__label {cursor: pointer;display: block;width: 100%;margin-bottom: 0;padding: 0.3em;box-sizing: border-box;text-align: center;}#sk-container-id-48 label.sk-toggleable__label-arrow:before {content: \"▸\";float: left;margin-right: 0.25em;color: #696969;}#sk-container-id-48 label.sk-toggleable__label-arrow:hover:before {color: black;}#sk-container-id-48 div.sk-estimator:hover label.sk-toggleable__label-arrow:before {color: black;}#sk-container-id-48 div.sk-toggleable__content {max-height: 0;max-width: 0;overflow: hidden;text-align: left;background-color: #f0f8ff;}#sk-container-id-48 div.sk-toggleable__content pre {margin: 0.2em;color: black;border-radius: 0.25em;background-color: #f0f8ff;}#sk-container-id-48 input.sk-toggleable__control:checked~div.sk-toggleable__content {max-height: 200px;max-width: 100%;overflow: auto;}#sk-container-id-48 input.sk-toggleable__control:checked~label.sk-toggleable__label-arrow:before {content: \"▾\";}#sk-container-id-48 div.sk-estimator input.sk-toggleable__control:checked~label.sk-toggleable__label {background-color: #d4ebff;}#sk-container-id-48 div.sk-label input.sk-toggleable__control:checked~label.sk-toggleable__label {background-color: #d4ebff;}#sk-container-id-48 input.sk-hidden--visually {border: 0;clip: rect(1px 1px 1px 1px);clip: rect(1px, 1px, 1px, 1px);height: 1px;margin: -1px;overflow: hidden;padding: 0;position: absolute;width: 1px;}#sk-container-id-48 div.sk-estimator {font-family: monospace;background-color: #f0f8ff;border: 1px dotted black;border-radius: 0.25em;box-sizing: border-box;margin-bottom: 0.5em;}#sk-container-id-48 div.sk-estimator:hover {background-color: #d4ebff;}#sk-container-id-48 div.sk-parallel-item::after {content: \"\";width: 100%;border-bottom: 1px solid gray;flex-grow: 1;}#sk-container-id-48 div.sk-label:hover label.sk-toggleable__label {background-color: #d4ebff;}#sk-container-id-48 div.sk-serial::before {content: \"\";position: absolute;border-left: 1px solid gray;box-sizing: border-box;top: 0;bottom: 0;left: 50%;z-index: 0;}#sk-container-id-48 div.sk-serial {display: flex;flex-direction: column;align-items: center;background-color: white;padding-right: 0.2em;padding-left: 0.2em;position: relative;}#sk-container-id-48 div.sk-item {position: relative;z-index: 1;}#sk-container-id-48 div.sk-parallel {display: flex;align-items: stretch;justify-content: center;background-color: white;position: relative;}#sk-container-id-48 div.sk-item::before, #sk-container-id-48 div.sk-parallel-item::before {content: \"\";position: absolute;border-left: 1px solid gray;box-sizing: border-box;top: 0;bottom: 0;left: 50%;z-index: -1;}#sk-container-id-48 div.sk-parallel-item {display: flex;flex-direction: column;z-index: 1;position: relative;background-color: white;}#sk-container-id-48 div.sk-parallel-item:first-child::after {align-self: flex-end;width: 50%;}#sk-container-id-48 div.sk-parallel-item:last-child::after {align-self: flex-start;width: 50%;}#sk-container-id-48 div.sk-parallel-item:only-child::after {width: 0;}#sk-container-id-48 div.sk-dashed-wrapped {border: 1px dashed gray;margin: 0 0.4em 0.5em 0.4em;box-sizing: border-box;padding-bottom: 0.4em;background-color: white;}#sk-container-id-48 div.sk-label label {font-family: monospace;font-weight: bold;display: inline-block;line-height: 1.2em;}#sk-container-id-48 div.sk-label-container {text-align: center;}#sk-container-id-48 div.sk-container {/* jupyter's `normalize.less` sets `[hidden] { display: none; }` but bootstrap.min.css set `[hidden] { display: none !important; }` so we also need the `!important` here to be able to override the default hidden behavior on the sphinx rendered scikit-learn.org. See: https://github.com/scikit-learn/scikit-learn/issues/21755 */display: inline-block !important;position: relative;}#sk-container-id-48 div.sk-text-repr-fallback {display: none;}</style><div id=\"sk-container-id-48\" class=\"sk-top-container\"><div class=\"sk-text-repr-fallback\"><pre>GradientBoostingRegressor()</pre><b>In a Jupyter environment, please rerun this cell to show the HTML representation or trust the notebook. <br />On GitHub, the HTML representation is unable to render, please try loading this page with nbviewer.org.</b></div><div class=\"sk-container\" hidden><div class=\"sk-item\"><div class=\"sk-estimator sk-toggleable\"><input class=\"sk-toggleable__control sk-hidden--visually\" id=\"sk-estimator-id-72\" type=\"checkbox\" checked><label for=\"sk-estimator-id-72\" class=\"sk-toggleable__label sk-toggleable__label-arrow\">GradientBoostingRegressor</label><div class=\"sk-toggleable__content\"><pre>GradientBoostingRegressor()</pre></div></div></div></div></div>"
      ],
      "text/plain": [
       "GradientBoostingRegressor()"
      ]
     },
     "execution_count": 942,
     "metadata": {},
     "output_type": "execute_result"
    }
   ],
   "source": [
    "gbm_model = GradientBoostingRegressor()\n",
    "gbm_model.fit(X_train, y_train)"
   ]
  },
  {
   "cell_type": "markdown",
   "id": "acdde941",
   "metadata": {},
   "source": [
    "***Tahmin***"
   ]
  },
  {
   "cell_type": "code",
   "execution_count": 891,
   "id": "d17c388a",
   "metadata": {},
   "outputs": [
    {
     "name": "stdout",
     "output_type": "stream",
     "text": [
      "RMSE:  16.481549111227746\n"
     ]
    }
   ],
   "source": [
    "y_pred = gbm_model.predict(X_test)\n",
    "print(\"RMSE: \",np.sqrt(mean_squared_error(y_test, y_pred)))"
   ]
  },
  {
   "cell_type": "markdown",
   "id": "7d5ae4c1",
   "metadata": {},
   "source": [
    "***Model Tuning***"
   ]
  },
  {
   "cell_type": "code",
   "execution_count": 893,
   "id": "32d5b635",
   "metadata": {},
   "outputs": [],
   "source": [
    "gbm_params = {\n",
    "    'learning_rate': [0.001, 0.01, 0.1, 0.2],\n",
    "    'max_depth': [3, 5, 8,50,100],\n",
    "    'n_estimators': [200, 500, 1000, 2000],\n",
    "    'subsample': [1,0.5,0.75],\n",
    "}"
   ]
  },
  {
   "cell_type": "code",
   "execution_count": 894,
   "id": "14acd3a2",
   "metadata": {},
   "outputs": [
    {
     "name": "stdout",
     "output_type": "stream",
     "text": [
      "Fitting 10 folds for each of 240 candidates, totalling 2400 fits\n",
      "0:06:48.047335\n"
     ]
    }
   ],
   "source": [
    "#algoritmanın calisma zamanina da bir bakalim\n",
    "t1 =  datetime.now()\n",
    "gbm = GradientBoostingRegressor()\n",
    "gbm_cv_model = GridSearchCV(gbm, gbm_params, cv = 10, n_jobs = -1, verbose = 2)\n",
    "gbm_cv_model.fit(X_train, y_train)\n",
    "\n",
    "t2 =  datetime.now()\n",
    "print(t2-t1)"
   ]
  },
  {
   "cell_type": "code",
   "execution_count": 895,
   "id": "eb06142e",
   "metadata": {},
   "outputs": [
    {
     "data": {
      "text/plain": [
       "{'learning_rate': 0.001, 'max_depth': 3, 'n_estimators': 1000, 'subsample': 1}"
      ]
     },
     "execution_count": 895,
     "metadata": {},
     "output_type": "execute_result"
    }
   ],
   "source": [
    "gbm_cv_model.best_params_"
   ]
  },
  {
   "cell_type": "code",
   "execution_count": 943,
   "id": "96cb46ee",
   "metadata": {},
   "outputs": [],
   "source": [
    "gbm_tuned = GradientBoostingRegressor(learning_rate = 0.001,  \n",
    "                                      max_depth = 3, \n",
    "                                      n_estimators = 1000, \n",
    "                                      subsample = 1)\n",
    "\n",
    "gbm_tuned = gbm_tuned.fit(X_train,y_train)"
   ]
  },
  {
   "cell_type": "code",
   "execution_count": 944,
   "id": "69a243d2",
   "metadata": {},
   "outputs": [
    {
     "name": "stdout",
     "output_type": "stream",
     "text": [
      "RMSE:  15.445003778723628\n"
     ]
    }
   ],
   "source": [
    "y_pred = gbm_tuned.predict(X_test)\n",
    "print(\"RMSE: \",np.sqrt(mean_squared_error(y_test, y_pred)))"
   ]
  },
  {
   "cell_type": "code",
   "execution_count": 945,
   "id": "443bb156",
   "metadata": {},
   "outputs": [],
   "source": [
    "Importance = pd.DataFrame({\"Importance\": gbm_tuned.feature_importances_*100},\n",
    "                         index = X_train.columns)"
   ]
  },
  {
   "cell_type": "code",
   "execution_count": 946,
   "id": "842f2375",
   "metadata": {},
   "outputs": [
    {
     "data": {
      "text/plain": [
       "Text(0.5, 0, 'Değişken Önem Düzeyleri')"
      ]
     },
     "execution_count": 946,
     "metadata": {},
     "output_type": "execute_result"
    },
    {
     "data": {
      "image/png": "[encoded data removed]",
      "text/plain": [
       "<Figure size 432x288 with 1 Axes>"
      ]
     },
     "metadata": {
      "needs_background": "light"
     },
     "output_type": "display_data"
    }
   ],
   "source": [
    "Importance.sort_values(by = \"Importance\", \n",
    "                       axis = 0, \n",
    "                       ascending = True).plot(kind =\"barh\", color = \"r\")\n",
    "\n",
    "plt.xlabel(\"Değişken Önem Düzeyleri\")"
   ]
  },
  {
   "cell_type": "markdown",
   "id": "8f461b19",
   "metadata": {},
   "source": [
    "## XGBoost (eXtreme Gradient Boosting)"
   ]
  },
  {
   "cell_type": "markdown",
   "id": "494ed688",
   "metadata": {},
   "source": [
    "***Model***"
   ]
  },
  {
   "cell_type": "code",
   "execution_count": 902,
   "id": "1b0631ca",
   "metadata": {},
   "outputs": [],
   "source": [
    "y = df[\"Score\"]\n",
    "X = df_one_hot.drop(['Score'], axis=1)\n",
    "X_train, X_test, y_train, y_test = train_test_split(X, y, \n",
    "                                                    test_size=0.25, \n",
    "                                                    random_state=42)"
   ]
  },
  {
   "cell_type": "code",
   "execution_count": 903,
   "id": "f7289713",
   "metadata": {},
   "outputs": [],
   "source": [
    "#pandas ya da numpy yerine kendi dataframeini kullanırsaniz daha performanslı calıstigi soylenmis.\n",
    "DM_train = xgb.DMatrix(data = X_train, label = y_train)\n",
    "DM_test = xgb.DMatrix(data = X_test, label = y_test)"
   ]
  },
  {
   "cell_type": "code",
   "execution_count": 904,
   "id": "38b83fdc",
   "metadata": {},
   "outputs": [],
   "source": [
    "#pandas dataframei ile de kullanılabilir.\n",
    "xgb_model = XGBRegressor().fit(X_train, y_train)"
   ]
  },
  {
   "cell_type": "markdown",
   "id": "49162514",
   "metadata": {},
   "source": [
    "***Tahmin***"
   ]
  },
  {
   "cell_type": "code",
   "execution_count": 906,
   "id": "1d2318d5",
   "metadata": {},
   "outputs": [
    {
     "name": "stdout",
     "output_type": "stream",
     "text": [
      "RMSE:  16.940276277825646\n"
     ]
    }
   ],
   "source": [
    "y_pred = xgb_model.predict(X_test)\n",
    "print(\"RMSE: \",np.sqrt(mean_squared_error(y_test, y_pred)))"
   ]
  },
  {
   "cell_type": "markdown",
   "id": "91c8a62d",
   "metadata": {},
   "source": [
    "***Model Tuning***"
   ]
  },
  {
   "cell_type": "code",
   "execution_count": 908,
   "id": "2459edd2",
   "metadata": {},
   "outputs": [
    {
     "data": {
      "text/html": [
       "<style>#sk-container-id-46 {color: black;background-color: white;}#sk-container-id-46 pre{padding: 0;}#sk-container-id-46 div.sk-toggleable {background-color: white;}#sk-container-id-46 label.sk-toggleable__label {cursor: pointer;display: block;width: 100%;margin-bottom: 0;padding: 0.3em;box-sizing: border-box;text-align: center;}#sk-container-id-46 label.sk-toggleable__label-arrow:before {content: \"▸\";float: left;margin-right: 0.25em;color: #696969;}#sk-container-id-46 label.sk-toggleable__label-arrow:hover:before {color: black;}#sk-container-id-46 div.sk-estimator:hover label.sk-toggleable__label-arrow:before {color: black;}#sk-container-id-46 div.sk-toggleable__content {max-height: 0;max-width: 0;overflow: hidden;text-align: left;background-color: #f0f8ff;}#sk-container-id-46 div.sk-toggleable__content pre {margin: 0.2em;color: black;border-radius: 0.25em;background-color: #f0f8ff;}#sk-container-id-46 input.sk-toggleable__control:checked~div.sk-toggleable__content {max-height: 200px;max-width: 100%;overflow: auto;}#sk-container-id-46 input.sk-toggleable__control:checked~label.sk-toggleable__label-arrow:before {content: \"▾\";}#sk-container-id-46 div.sk-estimator input.sk-toggleable__control:checked~label.sk-toggleable__label {background-color: #d4ebff;}#sk-container-id-46 div.sk-label input.sk-toggleable__control:checked~label.sk-toggleable__label {background-color: #d4ebff;}#sk-container-id-46 input.sk-hidden--visually {border: 0;clip: rect(1px 1px 1px 1px);clip: rect(1px, 1px, 1px, 1px);height: 1px;margin: -1px;overflow: hidden;padding: 0;position: absolute;width: 1px;}#sk-container-id-46 div.sk-estimator {font-family: monospace;background-color: #f0f8ff;border: 1px dotted black;border-radius: 0.25em;box-sizing: border-box;margin-bottom: 0.5em;}#sk-container-id-46 div.sk-estimator:hover {background-color: #d4ebff;}#sk-container-id-46 div.sk-parallel-item::after {content: \"\";width: 100%;border-bottom: 1px solid gray;flex-grow: 1;}#sk-container-id-46 div.sk-label:hover label.sk-toggleable__label {background-color: #d4ebff;}#sk-container-id-46 div.sk-serial::before {content: \"\";position: absolute;border-left: 1px solid gray;box-sizing: border-box;top: 0;bottom: 0;left: 50%;z-index: 0;}#sk-container-id-46 div.sk-serial {display: flex;flex-direction: column;align-items: center;background-color: white;padding-right: 0.2em;padding-left: 0.2em;position: relative;}#sk-container-id-46 div.sk-item {position: relative;z-index: 1;}#sk-container-id-46 div.sk-parallel {display: flex;align-items: stretch;justify-content: center;background-color: white;position: relative;}#sk-container-id-46 div.sk-item::before, #sk-container-id-46 div.sk-parallel-item::before {content: \"\";position: absolute;border-left: 1px solid gray;box-sizing: border-box;top: 0;bottom: 0;left: 50%;z-index: -1;}#sk-container-id-46 div.sk-parallel-item {display: flex;flex-direction: column;z-index: 1;position: relative;background-color: white;}#sk-container-id-46 div.sk-parallel-item:first-child::after {align-self: flex-end;width: 50%;}#sk-container-id-46 div.sk-parallel-item:last-child::after {align-self: flex-start;width: 50%;}#sk-container-id-46 div.sk-parallel-item:only-child::after {width: 0;}#sk-container-id-46 div.sk-dashed-wrapped {border: 1px dashed gray;margin: 0 0.4em 0.5em 0.4em;box-sizing: border-box;padding-bottom: 0.4em;background-color: white;}#sk-container-id-46 div.sk-label label {font-family: monospace;font-weight: bold;display: inline-block;line-height: 1.2em;}#sk-container-id-46 div.sk-label-container {text-align: center;}#sk-container-id-46 div.sk-container {/* jupyter's `normalize.less` sets `[hidden] { display: none; }` but bootstrap.min.css set `[hidden] { display: none !important; }` so we also need the `!important` here to be able to override the default hidden behavior on the sphinx rendered scikit-learn.org. See: https://github.com/scikit-learn/scikit-learn/issues/21755 */display: inline-block !important;position: relative;}#sk-container-id-46 div.sk-text-repr-fallback {display: none;}</style><div id=\"sk-container-id-46\" class=\"sk-top-container\"><div class=\"sk-text-repr-fallback\"><pre>XGBRegressor(base_score=0.5, booster=&#x27;gbtree&#x27;, callbacks=None,\n",
       "             colsample_bylevel=1, colsample_bynode=1, colsample_bytree=1,\n",
       "             early_stopping_rounds=None, enable_categorical=False,\n",
       "             eval_metric=None, gamma=0, gpu_id=-1, grow_policy=&#x27;depthwise&#x27;,\n",
       "             importance_type=None, interaction_constraints=&#x27;&#x27;,\n",
       "             learning_rate=0.300000012, max_bin=256, max_cat_to_onehot=4,\n",
       "             max_delta_step=0, max_depth=6, max_leaves=0, min_child_weight=1,\n",
       "             missing=nan, monotone_constraints=&#x27;()&#x27;, n_estimators=100, n_jobs=0,\n",
       "             num_parallel_tree=1, predictor=&#x27;auto&#x27;, random_state=0, reg_alpha=0,\n",
       "             reg_lambda=1, ...)</pre><b>In a Jupyter environment, please rerun this cell to show the HTML representation or trust the notebook. <br />On GitHub, the HTML representation is unable to render, please try loading this page with nbviewer.org.</b></div><div class=\"sk-container\" hidden><div class=\"sk-item\"><div class=\"sk-estimator sk-toggleable\"><input class=\"sk-toggleable__control sk-hidden--visually\" id=\"sk-estimator-id-70\" type=\"checkbox\" checked><label for=\"sk-estimator-id-70\" class=\"sk-toggleable__label sk-toggleable__label-arrow\">XGBRegressor</label><div class=\"sk-toggleable__content\"><pre>XGBRegressor(base_score=0.5, booster=&#x27;gbtree&#x27;, callbacks=None,\n",
       "             colsample_bylevel=1, colsample_bynode=1, colsample_bytree=1,\n",
       "             early_stopping_rounds=None, enable_categorical=False,\n",
       "             eval_metric=None, gamma=0, gpu_id=-1, grow_policy=&#x27;depthwise&#x27;,\n",
       "             importance_type=None, interaction_constraints=&#x27;&#x27;,\n",
       "             learning_rate=0.300000012, max_bin=256, max_cat_to_onehot=4,\n",
       "             max_delta_step=0, max_depth=6, max_leaves=0, min_child_weight=1,\n",
       "             missing=nan, monotone_constraints=&#x27;()&#x27;, n_estimators=100, n_jobs=0,\n",
       "             num_parallel_tree=1, predictor=&#x27;auto&#x27;, random_state=0, reg_alpha=0,\n",
       "             reg_lambda=1, ...)</pre></div></div></div></div></div>"
      ],
      "text/plain": [
       "XGBRegressor(base_score=0.5, booster='gbtree', callbacks=None,\n",
       "             colsample_bylevel=1, colsample_bynode=1, colsample_bytree=1,\n",
       "             early_stopping_rounds=None, enable_categorical=False,\n",
       "             eval_metric=None, gamma=0, gpu_id=-1, grow_policy='depthwise',\n",
       "             importance_type=None, interaction_constraints='',\n",
       "             learning_rate=0.300000012, max_bin=256, max_cat_to_onehot=4,\n",
       "             max_delta_step=0, max_depth=6, max_leaves=0, min_child_weight=1,\n",
       "             missing=nan, monotone_constraints='()', n_estimators=100, n_jobs=0,\n",
       "             num_parallel_tree=1, predictor='auto', random_state=0, reg_alpha=0,\n",
       "             reg_lambda=1, ...)"
      ]
     },
     "execution_count": 908,
     "metadata": {},
     "output_type": "execute_result"
    }
   ],
   "source": [
    "xgb_model"
   ]
  },
  {
   "cell_type": "code",
   "execution_count": 909,
   "id": "c7d9c610",
   "metadata": {},
   "outputs": [],
   "source": [
    "xgb_grid = {\n",
    "     'colsample_bytree': [0.4, 0.5,0.6,0.9,1], \n",
    "     'n_estimators':[100, 200, 500, 1000],\n",
    "     'max_depth': [2,3,4,5,6],\n",
    "     'learning_rate': [0.1, 0.01, 0.5]\n",
    "}\n"
   ]
  },
  {
   "cell_type": "code",
   "execution_count": 910,
   "id": "8eb00059",
   "metadata": {},
   "outputs": [
    {
     "name": "stdout",
     "output_type": "stream",
     "text": [
      "Fitting 10 folds for each of 300 candidates, totalling 3000 fits\n",
      "0:01:59.700200\n"
     ]
    }
   ],
   "source": [
    "t1 =  datetime.now()\n",
    "\n",
    "xgb = XGBRegressor()\n",
    "xgb_cv = GridSearchCV(xgb, \n",
    "                      param_grid = xgb_grid, \n",
    "                      cv = 10, \n",
    "                      n_jobs = -1,\n",
    "                      verbose = 2)\n",
    "\n",
    "xgb_cv.fit(X_train, y_train)\n",
    "\n",
    "t2 =  datetime.now()\n",
    "print(t2-t1)"
   ]
  },
  {
   "cell_type": "code",
   "execution_count": 912,
   "id": "761d19c7",
   "metadata": {},
   "outputs": [
    {
     "data": {
      "text/plain": [
       "{'colsample_bytree': 0.4,\n",
       " 'learning_rate': 0.01,\n",
       " 'max_depth': 2,\n",
       " 'n_estimators': 500}"
      ]
     },
     "execution_count": 912,
     "metadata": {},
     "output_type": "execute_result"
    }
   ],
   "source": [
    "xgb_cv.best_params_"
   ]
  },
  {
   "cell_type": "code",
   "execution_count": 914,
   "id": "23500389",
   "metadata": {},
   "outputs": [],
   "source": [
    "xgb_tuned = XGBRegressor(colsample_bytree = 0.4, \n",
    "                         learning_rate = 0.01, \n",
    "                         max_depth = 2, \n",
    "                         n_estimators = 500) \n",
    "\n",
    "xgb_tuned = xgb_tuned.fit(X_train,y_train)"
   ]
  },
  {
   "cell_type": "code",
   "execution_count": 915,
   "id": "6f6e969e",
   "metadata": {},
   "outputs": [
    {
     "name": "stdout",
     "output_type": "stream",
     "text": [
      "RMSE:  15.243291937646118\n"
     ]
    }
   ],
   "source": [
    "y_pred = xgb_tuned.predict(X_test)\n",
    "print(\"RMSE: \",np.sqrt(mean_squared_error(y_test, y_pred)))"
   ]
  },
  {
   "cell_type": "markdown",
   "id": "474a442d",
   "metadata": {},
   "source": [
    "## Light GBM"
   ]
  },
  {
   "cell_type": "markdown",
   "id": "560f81ef",
   "metadata": {},
   "source": [
    "***Model***"
   ]
  },
  {
   "cell_type": "code",
   "execution_count": 916,
   "id": "f4c1ae61",
   "metadata": {},
   "outputs": [],
   "source": [
    "y = df[\"Score\"]\n",
    "X = df_one_hot.drop(['Score'], axis=1)\n",
    "X_train, X_test, y_train, y_test = train_test_split(X, y, \n",
    "                                                    test_size=0.25, \n",
    "                                                    random_state=42)"
   ]
  },
  {
   "cell_type": "code",
   "execution_count": 917,
   "id": "d9cfc1e7",
   "metadata": {},
   "outputs": [],
   "source": [
    "lgbm = LGBMRegressor()\n",
    "lgbm_model = lgbm.fit(X_train, y_train)"
   ]
  },
  {
   "cell_type": "markdown",
   "id": "8d8b9ed4",
   "metadata": {},
   "source": [
    "***Tahmin***"
   ]
  },
  {
   "cell_type": "code",
   "execution_count": 919,
   "id": "3e134b18",
   "metadata": {},
   "outputs": [],
   "source": [
    "y_pred = lgbm_model.predict(X_test, \n",
    "                            num_iteration = lgbm_model.best_iteration_)"
   ]
  },
  {
   "cell_type": "code",
   "execution_count": 920,
   "id": "62cbdcab",
   "metadata": {},
   "outputs": [
    {
     "name": "stdout",
     "output_type": "stream",
     "text": [
      "RMSE:  16.203912177456143\n"
     ]
    }
   ],
   "source": [
    "print(\"RMSE: \",np.sqrt(mean_squared_error(y_test, y_pred)))"
   ]
  },
  {
   "cell_type": "markdown",
   "id": "184f290e",
   "metadata": {},
   "source": [
    "***Model Tuning***"
   ]
  },
  {
   "cell_type": "code",
   "execution_count": 921,
   "id": "3cbe66d4",
   "metadata": {},
   "outputs": [
    {
     "data": {
      "text/html": [
       "<style>#sk-container-id-47 {color: black;background-color: white;}#sk-container-id-47 pre{padding: 0;}#sk-container-id-47 div.sk-toggleable {background-color: white;}#sk-container-id-47 label.sk-toggleable__label {cursor: pointer;display: block;width: 100%;margin-bottom: 0;padding: 0.3em;box-sizing: border-box;text-align: center;}#sk-container-id-47 label.sk-toggleable__label-arrow:before {content: \"▸\";float: left;margin-right: 0.25em;color: #696969;}#sk-container-id-47 label.sk-toggleable__label-arrow:hover:before {color: black;}#sk-container-id-47 div.sk-estimator:hover label.sk-toggleable__label-arrow:before {color: black;}#sk-container-id-47 div.sk-toggleable__content {max-height: 0;max-width: 0;overflow: hidden;text-align: left;background-color: #f0f8ff;}#sk-container-id-47 div.sk-toggleable__content pre {margin: 0.2em;color: black;border-radius: 0.25em;background-color: #f0f8ff;}#sk-container-id-47 input.sk-toggleable__control:checked~div.sk-toggleable__content {max-height: 200px;max-width: 100%;overflow: auto;}#sk-container-id-47 input.sk-toggleable__control:checked~label.sk-toggleable__label-arrow:before {content: \"▾\";}#sk-container-id-47 div.sk-estimator input.sk-toggleable__control:checked~label.sk-toggleable__label {background-color: #d4ebff;}#sk-container-id-47 div.sk-label input.sk-toggleable__control:checked~label.sk-toggleable__label {background-color: #d4ebff;}#sk-container-id-47 input.sk-hidden--visually {border: 0;clip: rect(1px 1px 1px 1px);clip: rect(1px, 1px, 1px, 1px);height: 1px;margin: -1px;overflow: hidden;padding: 0;position: absolute;width: 1px;}#sk-container-id-47 div.sk-estimator {font-family: monospace;background-color: #f0f8ff;border: 1px dotted black;border-radius: 0.25em;box-sizing: border-box;margin-bottom: 0.5em;}#sk-container-id-47 div.sk-estimator:hover {background-color: #d4ebff;}#sk-container-id-47 div.sk-parallel-item::after {content: \"\";width: 100%;border-bottom: 1px solid gray;flex-grow: 1;}#sk-container-id-47 div.sk-label:hover label.sk-toggleable__label {background-color: #d4ebff;}#sk-container-id-47 div.sk-serial::before {content: \"\";position: absolute;border-left: 1px solid gray;box-sizing: border-box;top: 0;bottom: 0;left: 50%;z-index: 0;}#sk-container-id-47 div.sk-serial {display: flex;flex-direction: column;align-items: center;background-color: white;padding-right: 0.2em;padding-left: 0.2em;position: relative;}#sk-container-id-47 div.sk-item {position: relative;z-index: 1;}#sk-container-id-47 div.sk-parallel {display: flex;align-items: stretch;justify-content: center;background-color: white;position: relative;}#sk-container-id-47 div.sk-item::before, #sk-container-id-47 div.sk-parallel-item::before {content: \"\";position: absolute;border-left: 1px solid gray;box-sizing: border-box;top: 0;bottom: 0;left: 50%;z-index: -1;}#sk-container-id-47 div.sk-parallel-item {display: flex;flex-direction: column;z-index: 1;position: relative;background-color: white;}#sk-container-id-47 div.sk-parallel-item:first-child::after {align-self: flex-end;width: 50%;}#sk-container-id-47 div.sk-parallel-item:last-child::after {align-self: flex-start;width: 50%;}#sk-container-id-47 div.sk-parallel-item:only-child::after {width: 0;}#sk-container-id-47 div.sk-dashed-wrapped {border: 1px dashed gray;margin: 0 0.4em 0.5em 0.4em;box-sizing: border-box;padding-bottom: 0.4em;background-color: white;}#sk-container-id-47 div.sk-label label {font-family: monospace;font-weight: bold;display: inline-block;line-height: 1.2em;}#sk-container-id-47 div.sk-label-container {text-align: center;}#sk-container-id-47 div.sk-container {/* jupyter's `normalize.less` sets `[hidden] { display: none; }` but bootstrap.min.css set `[hidden] { display: none !important; }` so we also need the `!important` here to be able to override the default hidden behavior on the sphinx rendered scikit-learn.org. See: https://github.com/scikit-learn/scikit-learn/issues/21755 */display: inline-block !important;position: relative;}#sk-container-id-47 div.sk-text-repr-fallback {display: none;}</style><div id=\"sk-container-id-47\" class=\"sk-top-container\"><div class=\"sk-text-repr-fallback\"><pre>LGBMRegressor()</pre><b>In a Jupyter environment, please rerun this cell to show the HTML representation or trust the notebook. <br />On GitHub, the HTML representation is unable to render, please try loading this page with nbviewer.org.</b></div><div class=\"sk-container\" hidden><div class=\"sk-item\"><div class=\"sk-estimator sk-toggleable\"><input class=\"sk-toggleable__control sk-hidden--visually\" id=\"sk-estimator-id-71\" type=\"checkbox\" checked><label for=\"sk-estimator-id-71\" class=\"sk-toggleable__label sk-toggleable__label-arrow\">LGBMRegressor</label><div class=\"sk-toggleable__content\"><pre>LGBMRegressor()</pre></div></div></div></div></div>"
      ],
      "text/plain": [
       "LGBMRegressor()"
      ]
     },
     "execution_count": 921,
     "metadata": {},
     "output_type": "execute_result"
    }
   ],
   "source": [
    "lgbm_model"
   ]
  },
  {
   "cell_type": "code",
   "execution_count": 922,
   "id": "bc77fed8",
   "metadata": {},
   "outputs": [],
   "source": [
    "lgbm_grid = {\n",
    "    'colsample_bytree': [0.4, 0.5,0.6,0.9,1],\n",
    "    'learning_rate': [0.01, 0.1, 0.5,1],\n",
    "    'n_estimators': [20, 40, 100, 200, 500,1000],\n",
    "    'max_depth': [1,2,3,4,5,6,7,8] }\n",
    "\n",
    "lgbm = LGBMRegressor()\n",
    "lgbm_cv_model = GridSearchCV(lgbm, lgbm_grid, cv=10, n_jobs = -1, verbose = 2)"
   ]
  },
  {
   "cell_type": "code",
   "execution_count": 923,
   "id": "f7dc733e",
   "metadata": {},
   "outputs": [
    {
     "name": "stdout",
     "output_type": "stream",
     "text": [
      "Fitting 10 folds for each of 960 candidates, totalling 9600 fits\n",
      "0:02:04.975263\n"
     ]
    }
   ],
   "source": [
    "t1 =  datetime.now()\n",
    "lgbm_cv_model.fit(X_train, y_train)\n",
    "t2 =  datetime.now()\n",
    "print(t2-t1)"
   ]
  },
  {
   "cell_type": "code",
   "execution_count": 924,
   "id": "c89ed9c7",
   "metadata": {},
   "outputs": [
    {
     "data": {
      "text/plain": [
       "{'colsample_bytree': 0.9,\n",
       " 'learning_rate': 0.1,\n",
       " 'max_depth': 2,\n",
       " 'n_estimators': 20}"
      ]
     },
     "execution_count": 924,
     "metadata": {},
     "output_type": "execute_result"
    }
   ],
   "source": [
    "lgbm_cv_model.best_params_"
   ]
  },
  {
   "cell_type": "code",
   "execution_count": 925,
   "id": "9e574d69",
   "metadata": {},
   "outputs": [],
   "source": [
    "lgbm_tuned = LGBMRegressor(learning_rate = 0.1, \n",
    "                           max_depth = 2, \n",
    "                           n_estimators = 20,\n",
    "                          colsample_bytree = 0.9)\n",
    "\n",
    "lgbm_tuned = lgbm_tuned.fit(X_train,y_train)"
   ]
  },
  {
   "cell_type": "code",
   "execution_count": 926,
   "id": "0c7f73c2",
   "metadata": {},
   "outputs": [],
   "source": [
    "y_pred = lgbm_tuned.predict(X_test)"
   ]
  },
  {
   "cell_type": "code",
   "execution_count": 927,
   "id": "79da080f",
   "metadata": {},
   "outputs": [
    {
     "name": "stdout",
     "output_type": "stream",
     "text": [
      "RMSE:  15.265676248952508\n"
     ]
    }
   ],
   "source": [
    "print(\"RMSE: \",np.sqrt(mean_squared_error(y_test, y_pred)))"
   ]
  },
  {
   "cell_type": "markdown",
   "id": "54982eee",
   "metadata": {},
   "source": [
    "## CatBoost"
   ]
  },
  {
   "cell_type": "markdown",
   "id": "981c6f53",
   "metadata": {},
   "source": [
    "***Model***"
   ]
  },
  {
   "cell_type": "code",
   "execution_count": 929,
   "id": "9cbe3a2d",
   "metadata": {},
   "outputs": [],
   "source": [
    "y = df[\"Score\"]\n",
    "X = df_one_hot.drop(['Score'], axis=1)\n",
    "X_train, X_test, y_train, y_test = train_test_split(X, y, \n",
    "                                                    test_size=0.25, \n",
    "                                                    random_state=42)"
   ]
  },
  {
   "cell_type": "code",
   "execution_count": 930,
   "id": "3f349733",
   "metadata": {
    "collapsed": true
   },
   "outputs": [
    {
     "name": "stdout",
     "output_type": "stream",
     "text": [
      "Learning rate set to 0.03071\n",
      "0:\tlearn: 16.3047997\ttotal: 157ms\tremaining: 2m 37s\n",
      "1:\tlearn: 16.2109857\ttotal: 158ms\tremaining: 1m 18s\n",
      "2:\tlearn: 16.1143288\ttotal: 159ms\tremaining: 52.8s\n",
      "3:\tlearn: 16.0220597\ttotal: 160ms\tremaining: 39.8s\n",
      "4:\tlearn: 15.9455552\ttotal: 161ms\tremaining: 32s\n",
      "5:\tlearn: 15.8574543\ttotal: 162ms\tremaining: 26.8s\n",
      "6:\tlearn: 15.8120128\ttotal: 162ms\tremaining: 23s\n",
      "7:\tlearn: 15.7434749\ttotal: 163ms\tremaining: 20.2s\n",
      "8:\tlearn: 15.6671551\ttotal: 164ms\tremaining: 18.1s\n",
      "9:\tlearn: 15.5944355\ttotal: 165ms\tremaining: 16.3s\n",
      "10:\tlearn: 15.5231914\ttotal: 166ms\tremaining: 14.9s\n",
      "11:\tlearn: 15.4633769\ttotal: 166ms\tremaining: 13.7s\n",
      "12:\tlearn: 15.4071827\ttotal: 167ms\tremaining: 12.6s\n",
      "13:\tlearn: 15.3883416\ttotal: 167ms\tremaining: 11.7s\n",
      "14:\tlearn: 15.3360148\ttotal: 167ms\tremaining: 11s\n",
      "15:\tlearn: 15.2852964\ttotal: 168ms\tremaining: 10.3s\n",
      "16:\tlearn: 15.2322633\ttotal: 169ms\tremaining: 9.78s\n",
      "17:\tlearn: 15.1701166\ttotal: 170ms\tremaining: 9.29s\n",
      "18:\tlearn: 15.1044510\ttotal: 172ms\tremaining: 8.87s\n",
      "19:\tlearn: 15.0572528\ttotal: 172ms\tremaining: 8.44s\n",
      "20:\tlearn: 15.0115452\ttotal: 173ms\tremaining: 8.05s\n",
      "21:\tlearn: 14.9515017\ttotal: 174ms\tremaining: 7.72s\n",
      "22:\tlearn: 14.9104236\ttotal: 174ms\tremaining: 7.39s\n",
      "23:\tlearn: 14.8704858\ttotal: 174ms\tremaining: 7.09s\n",
      "24:\tlearn: 14.8154677\ttotal: 175ms\tremaining: 6.84s\n",
      "25:\tlearn: 14.7839004\ttotal: 176ms\tremaining: 6.59s\n",
      "26:\tlearn: 14.7402377\ttotal: 177ms\tremaining: 6.37s\n",
      "27:\tlearn: 14.7310753\ttotal: 178ms\tremaining: 6.16s\n",
      "28:\tlearn: 14.6894989\ttotal: 179ms\tremaining: 5.99s\n",
      "29:\tlearn: 14.6495469\ttotal: 180ms\tremaining: 5.82s\n",
      "30:\tlearn: 14.6191799\ttotal: 180ms\tremaining: 5.64s\n",
      "31:\tlearn: 14.5939290\ttotal: 181ms\tremaining: 5.46s\n",
      "32:\tlearn: 14.5772342\ttotal: 181ms\tremaining: 5.31s\n",
      "33:\tlearn: 14.5715783\ttotal: 181ms\tremaining: 5.15s\n",
      "34:\tlearn: 14.5645166\ttotal: 182ms\tremaining: 5.01s\n",
      "35:\tlearn: 14.5511556\ttotal: 182ms\tremaining: 4.88s\n",
      "36:\tlearn: 14.5442498\ttotal: 182ms\tremaining: 4.75s\n",
      "37:\tlearn: 14.5183611\ttotal: 183ms\tremaining: 4.63s\n",
      "38:\tlearn: 14.4806560\ttotal: 184ms\tremaining: 4.53s\n",
      "39:\tlearn: 14.4460130\ttotal: 186ms\tremaining: 4.45s\n",
      "40:\tlearn: 14.4122686\ttotal: 187ms\tremaining: 4.37s\n",
      "41:\tlearn: 14.4091873\ttotal: 187ms\tremaining: 4.27s\n",
      "42:\tlearn: 14.4043420\ttotal: 187ms\tremaining: 4.17s\n",
      "43:\tlearn: 14.3987609\ttotal: 188ms\tremaining: 4.08s\n",
      "44:\tlearn: 14.3680130\ttotal: 189ms\tremaining: 4s\n",
      "45:\tlearn: 14.3503126\ttotal: 189ms\tremaining: 3.92s\n",
      "46:\tlearn: 14.3203285\ttotal: 190ms\tremaining: 3.85s\n",
      "47:\tlearn: 14.2953315\ttotal: 191ms\tremaining: 3.78s\n",
      "48:\tlearn: 14.2674721\ttotal: 192ms\tremaining: 3.72s\n",
      "49:\tlearn: 14.2498222\ttotal: 193ms\tremaining: 3.66s\n",
      "50:\tlearn: 14.2359991\ttotal: 193ms\tremaining: 3.59s\n",
      "51:\tlearn: 14.2199996\ttotal: 194ms\tremaining: 3.53s\n",
      "52:\tlearn: 14.2071892\ttotal: 194ms\tremaining: 3.46s\n",
      "53:\tlearn: 14.1748888\ttotal: 195ms\tremaining: 3.42s\n",
      "54:\tlearn: 14.1689050\ttotal: 195ms\tremaining: 3.36s\n",
      "55:\tlearn: 14.1546214\ttotal: 196ms\tremaining: 3.3s\n",
      "56:\tlearn: 14.1249666\ttotal: 197ms\tremaining: 3.26s\n",
      "57:\tlearn: 14.1123116\ttotal: 197ms\tremaining: 3.2s\n",
      "58:\tlearn: 14.1023810\ttotal: 198ms\tremaining: 3.15s\n",
      "59:\tlearn: 14.0804939\ttotal: 199ms\tremaining: 3.11s\n",
      "60:\tlearn: 14.0662172\ttotal: 199ms\tremaining: 3.07s\n",
      "61:\tlearn: 14.0444053\ttotal: 200ms\tremaining: 3.03s\n",
      "62:\tlearn: 14.0189680\ttotal: 202ms\tremaining: 3s\n",
      "63:\tlearn: 14.0040040\ttotal: 202ms\tremaining: 2.96s\n",
      "64:\tlearn: 13.9850451\ttotal: 203ms\tremaining: 2.92s\n",
      "65:\tlearn: 13.9711291\ttotal: 204ms\tremaining: 2.89s\n",
      "66:\tlearn: 13.9462140\ttotal: 205ms\tremaining: 2.86s\n",
      "67:\tlearn: 13.9423256\ttotal: 206ms\tremaining: 2.83s\n",
      "68:\tlearn: 13.9350951\ttotal: 207ms\tremaining: 2.79s\n",
      "69:\tlearn: 13.9260468\ttotal: 208ms\tremaining: 2.76s\n",
      "70:\tlearn: 13.9186842\ttotal: 208ms\tremaining: 2.72s\n",
      "71:\tlearn: 13.9023290\ttotal: 209ms\tremaining: 2.7s\n",
      "72:\tlearn: 13.8994559\ttotal: 210ms\tremaining: 2.66s\n",
      "73:\tlearn: 13.8938730\ttotal: 210ms\tremaining: 2.63s\n",
      "74:\tlearn: 13.8895719\ttotal: 211ms\tremaining: 2.6s\n",
      "75:\tlearn: 13.8683435\ttotal: 219ms\tremaining: 2.66s\n",
      "76:\tlearn: 13.8606099\ttotal: 219ms\tremaining: 2.63s\n",
      "77:\tlearn: 13.8402929\ttotal: 221ms\tremaining: 2.61s\n",
      "78:\tlearn: 13.8225499\ttotal: 222ms\tremaining: 2.58s\n",
      "79:\tlearn: 13.8178441\ttotal: 222ms\tremaining: 2.56s\n",
      "80:\tlearn: 13.8048981\ttotal: 224ms\tremaining: 2.54s\n",
      "81:\tlearn: 13.7916338\ttotal: 225ms\tremaining: 2.51s\n",
      "82:\tlearn: 13.7862351\ttotal: 225ms\tremaining: 2.49s\n",
      "83:\tlearn: 13.7780155\ttotal: 226ms\tremaining: 2.47s\n",
      "84:\tlearn: 13.7739546\ttotal: 227ms\tremaining: 2.44s\n",
      "85:\tlearn: 13.7700320\ttotal: 227ms\tremaining: 2.42s\n",
      "86:\tlearn: 13.7691905\ttotal: 227ms\tremaining: 2.39s\n",
      "87:\tlearn: 13.7656190\ttotal: 228ms\tremaining: 2.36s\n",
      "88:\tlearn: 13.7628979\ttotal: 228ms\tremaining: 2.34s\n",
      "89:\tlearn: 13.7520906\ttotal: 229ms\tremaining: 2.32s\n",
      "90:\tlearn: 13.7338782\ttotal: 230ms\tremaining: 2.3s\n",
      "91:\tlearn: 13.7332623\ttotal: 230ms\tremaining: 2.27s\n",
      "92:\tlearn: 13.7129234\ttotal: 231ms\tremaining: 2.26s\n",
      "93:\tlearn: 13.7099478\ttotal: 232ms\tremaining: 2.23s\n",
      "94:\tlearn: 13.7089689\ttotal: 232ms\tremaining: 2.21s\n",
      "95:\tlearn: 13.6921702\ttotal: 233ms\tremaining: 2.19s\n",
      "96:\tlearn: 13.6833639\ttotal: 234ms\tremaining: 2.17s\n",
      "97:\tlearn: 13.6765709\ttotal: 235ms\tremaining: 2.16s\n",
      "98:\tlearn: 13.6732111\ttotal: 236ms\tremaining: 2.15s\n",
      "99:\tlearn: 13.6611933\ttotal: 237ms\tremaining: 2.13s\n",
      "100:\tlearn: 13.6479977\ttotal: 238ms\tremaining: 2.12s\n",
      "101:\tlearn: 13.6324668\ttotal: 239ms\tremaining: 2.1s\n",
      "102:\tlearn: 13.6280874\ttotal: 240ms\tremaining: 2.09s\n",
      "103:\tlearn: 13.6274625\ttotal: 240ms\tremaining: 2.07s\n",
      "104:\tlearn: 13.6270012\ttotal: 240ms\tremaining: 2.05s\n",
      "105:\tlearn: 13.6146498\ttotal: 241ms\tremaining: 2.03s\n",
      "106:\tlearn: 13.5999668\ttotal: 242ms\tremaining: 2.02s\n",
      "107:\tlearn: 13.5857898\ttotal: 243ms\tremaining: 2.01s\n",
      "108:\tlearn: 13.5756856\ttotal: 244ms\tremaining: 2s\n",
      "109:\tlearn: 13.5594873\ttotal: 245ms\tremaining: 1.98s\n",
      "110:\tlearn: 13.5575455\ttotal: 246ms\tremaining: 1.97s\n",
      "111:\tlearn: 13.5441644\ttotal: 247ms\tremaining: 1.95s\n",
      "112:\tlearn: 13.5361685\ttotal: 247ms\tremaining: 1.94s\n",
      "113:\tlearn: 13.5295260\ttotal: 248ms\tremaining: 1.93s\n",
      "114:\tlearn: 13.5275846\ttotal: 248ms\tremaining: 1.91s\n",
      "115:\tlearn: 13.5175107\ttotal: 249ms\tremaining: 1.9s\n",
      "116:\tlearn: 13.5168664\ttotal: 250ms\tremaining: 1.88s\n",
      "117:\tlearn: 13.5161465\ttotal: 250ms\tremaining: 1.87s\n",
      "118:\tlearn: 13.5121176\ttotal: 250ms\tremaining: 1.85s\n",
      "119:\tlearn: 13.5114990\ttotal: 251ms\tremaining: 1.84s\n",
      "120:\tlearn: 13.5034364\ttotal: 252ms\tremaining: 1.83s\n",
      "121:\tlearn: 13.5031691\ttotal: 252ms\tremaining: 1.81s\n",
      "122:\tlearn: 13.5029172\ttotal: 252ms\tremaining: 1.8s\n",
      "123:\tlearn: 13.4910513\ttotal: 253ms\tremaining: 1.79s\n",
      "124:\tlearn: 13.4901030\ttotal: 254ms\tremaining: 1.77s\n",
      "125:\tlearn: 13.4890956\ttotal: 254ms\tremaining: 1.76s\n",
      "126:\tlearn: 13.4776841\ttotal: 255ms\tremaining: 1.75s\n",
      "127:\tlearn: 13.4731148\ttotal: 256ms\tremaining: 1.74s\n",
      "128:\tlearn: 13.4728786\ttotal: 256ms\tremaining: 1.73s\n",
      "129:\tlearn: 13.4693579\ttotal: 256ms\tremaining: 1.71s\n",
      "130:\tlearn: 13.4684758\ttotal: 256ms\tremaining: 1.7s\n",
      "131:\tlearn: 13.4628827\ttotal: 257ms\tremaining: 1.69s\n",
      "132:\tlearn: 13.4608362\ttotal: 258ms\tremaining: 1.68s\n",
      "133:\tlearn: 13.4601500\ttotal: 258ms\tremaining: 1.67s\n",
      "134:\tlearn: 13.4472484\ttotal: 259ms\tremaining: 1.66s\n",
      "135:\tlearn: 13.4455449\ttotal: 260ms\tremaining: 1.65s\n",
      "136:\tlearn: 13.4447785\ttotal: 260ms\tremaining: 1.64s\n",
      "137:\tlearn: 13.4434628\ttotal: 260ms\tremaining: 1.63s\n",
      "138:\tlearn: 13.4420047\ttotal: 261ms\tremaining: 1.61s\n",
      "139:\tlearn: 13.4389552\ttotal: 261ms\tremaining: 1.6s\n",
      "140:\tlearn: 13.4267604\ttotal: 262ms\tremaining: 1.6s\n",
      "141:\tlearn: 13.4149800\ttotal: 264ms\tremaining: 1.59s\n",
      "142:\tlearn: 13.4148246\ttotal: 264ms\tremaining: 1.58s\n",
      "143:\tlearn: 13.4146891\ttotal: 264ms\tremaining: 1.57s\n",
      "144:\tlearn: 13.4048150\ttotal: 265ms\tremaining: 1.56s\n",
      "145:\tlearn: 13.4031933\ttotal: 265ms\tremaining: 1.55s\n",
      "146:\tlearn: 13.4022235\ttotal: 266ms\tremaining: 1.54s\n",
      "147:\tlearn: 13.4011943\ttotal: 266ms\tremaining: 1.53s\n",
      "148:\tlearn: 13.3998839\ttotal: 266ms\tremaining: 1.52s\n",
      "149:\tlearn: 13.3888030\ttotal: 267ms\tremaining: 1.51s\n",
      "150:\tlearn: 13.3878647\ttotal: 268ms\tremaining: 1.5s\n",
      "151:\tlearn: 13.3786650\ttotal: 269ms\tremaining: 1.5s\n",
      "152:\tlearn: 13.3697405\ttotal: 270ms\tremaining: 1.49s\n",
      "153:\tlearn: 13.3611258\ttotal: 271ms\tremaining: 1.49s\n",
      "154:\tlearn: 13.3510286\ttotal: 272ms\tremaining: 1.48s\n",
      "155:\tlearn: 13.3435027\ttotal: 273ms\tremaining: 1.47s\n",
      "156:\tlearn: 13.3350516\ttotal: 274ms\tremaining: 1.47s\n",
      "157:\tlearn: 13.3299041\ttotal: 274ms\tremaining: 1.46s\n",
      "158:\tlearn: 13.3206739\ttotal: 275ms\tremaining: 1.46s\n",
      "159:\tlearn: 13.3127584\ttotal: 276ms\tremaining: 1.45s\n",
      "160:\tlearn: 13.3039914\ttotal: 277ms\tremaining: 1.45s\n",
      "161:\tlearn: 13.2995719\ttotal: 278ms\tremaining: 1.44s\n",
      "162:\tlearn: 13.2975932\ttotal: 279ms\tremaining: 1.43s\n",
      "163:\tlearn: 13.2902809\ttotal: 280ms\tremaining: 1.43s\n",
      "164:\tlearn: 13.2894227\ttotal: 280ms\tremaining: 1.42s\n",
      "165:\tlearn: 13.2821677\ttotal: 281ms\tremaining: 1.41s\n",
      "166:\tlearn: 13.2802814\ttotal: 282ms\tremaining: 1.41s\n",
      "167:\tlearn: 13.2796912\ttotal: 282ms\tremaining: 1.4s\n",
      "168:\tlearn: 13.2791348\ttotal: 283ms\tremaining: 1.39s\n",
      "169:\tlearn: 13.2714238\ttotal: 284ms\tremaining: 1.39s\n",
      "170:\tlearn: 13.2652773\ttotal: 285ms\tremaining: 1.38s\n",
      "171:\tlearn: 13.2621318\ttotal: 285ms\tremaining: 1.37s\n",
      "172:\tlearn: 13.2608071\ttotal: 286ms\tremaining: 1.37s\n",
      "173:\tlearn: 13.2541078\ttotal: 287ms\tremaining: 1.36s\n",
      "174:\tlearn: 13.2540447\ttotal: 287ms\tremaining: 1.35s\n",
      "175:\tlearn: 13.2539322\ttotal: 287ms\tremaining: 1.35s\n",
      "176:\tlearn: 13.2468647\ttotal: 288ms\tremaining: 1.34s\n",
      "177:\tlearn: 13.2462582\ttotal: 289ms\tremaining: 1.33s\n",
      "178:\tlearn: 13.2433013\ttotal: 290ms\tremaining: 1.33s\n",
      "179:\tlearn: 13.2365433\ttotal: 291ms\tremaining: 1.32s\n",
      "180:\tlearn: 13.2306992\ttotal: 292ms\tremaining: 1.32s\n",
      "181:\tlearn: 13.2305304\ttotal: 292ms\tremaining: 1.31s\n",
      "182:\tlearn: 13.2245419\ttotal: 293ms\tremaining: 1.31s\n",
      "183:\tlearn: 13.2189998\ttotal: 294ms\tremaining: 1.3s\n",
      "184:\tlearn: 13.2181736\ttotal: 294ms\tremaining: 1.3s\n",
      "185:\tlearn: 13.2167835\ttotal: 295ms\tremaining: 1.29s\n",
      "186:\tlearn: 13.2111215\ttotal: 296ms\tremaining: 1.29s\n",
      "187:\tlearn: 13.2045608\ttotal: 297ms\tremaining: 1.28s\n",
      "188:\tlearn: 13.2015711\ttotal: 298ms\tremaining: 1.28s\n",
      "189:\tlearn: 13.1988841\ttotal: 299ms\tremaining: 1.27s\n",
      "190:\tlearn: 13.1934714\ttotal: 300ms\tremaining: 1.27s\n",
      "191:\tlearn: 13.1886102\ttotal: 301ms\tremaining: 1.27s\n",
      "192:\tlearn: 13.1835328\ttotal: 302ms\tremaining: 1.26s\n",
      "193:\tlearn: 13.1825661\ttotal: 302ms\tremaining: 1.26s\n",
      "194:\tlearn: 13.1814005\ttotal: 303ms\tremaining: 1.25s\n",
      "195:\tlearn: 13.1768602\ttotal: 304ms\tremaining: 1.25s\n",
      "196:\tlearn: 13.1764167\ttotal: 304ms\tremaining: 1.24s\n",
      "197:\tlearn: 13.1706217\ttotal: 305ms\tremaining: 1.24s\n",
      "198:\tlearn: 13.1650170\ttotal: 306ms\tremaining: 1.23s\n",
      "199:\tlearn: 13.1603901\ttotal: 307ms\tremaining: 1.23s\n",
      "200:\tlearn: 13.1598250\ttotal: 308ms\tremaining: 1.22s\n",
      "201:\tlearn: 13.1598193\ttotal: 308ms\tremaining: 1.22s\n",
      "202:\tlearn: 13.1555319\ttotal: 309ms\tremaining: 1.21s\n",
      "203:\tlearn: 13.1554682\ttotal: 309ms\tremaining: 1.21s\n",
      "204:\tlearn: 13.1513287\ttotal: 310ms\tremaining: 1.2s\n",
      "205:\tlearn: 13.1469819\ttotal: 311ms\tremaining: 1.2s\n",
      "206:\tlearn: 13.1419065\ttotal: 312ms\tremaining: 1.2s\n",
      "207:\tlearn: 13.1380501\ttotal: 313ms\tremaining: 1.19s\n",
      "208:\tlearn: 13.1339831\ttotal: 314ms\tremaining: 1.19s\n",
      "209:\tlearn: 13.1339256\ttotal: 314ms\tremaining: 1.18s\n",
      "210:\tlearn: 13.1302724\ttotal: 315ms\tremaining: 1.18s\n",
      "211:\tlearn: 13.1255954\ttotal: 316ms\tremaining: 1.18s\n",
      "212:\tlearn: 13.1213971\ttotal: 317ms\tremaining: 1.17s\n",
      "213:\tlearn: 13.1212123\ttotal: 318ms\tremaining: 1.17s\n",
      "214:\tlearn: 13.1211148\ttotal: 318ms\tremaining: 1.16s\n",
      "215:\tlearn: 13.1173649\ttotal: 319ms\tremaining: 1.16s\n",
      "216:\tlearn: 13.1129870\ttotal: 320ms\tremaining: 1.15s\n",
      "217:\tlearn: 13.1090684\ttotal: 321ms\tremaining: 1.15s\n",
      "218:\tlearn: 13.1090124\ttotal: 321ms\tremaining: 1.14s\n",
      "219:\tlearn: 13.1052275\ttotal: 322ms\tremaining: 1.14s\n",
      "220:\tlearn: 13.1010887\ttotal: 323ms\tremaining: 1.14s\n",
      "221:\tlearn: 13.0977163\ttotal: 324ms\tremaining: 1.13s\n",
      "222:\tlearn: 13.0937370\ttotal: 325ms\tremaining: 1.13s\n",
      "223:\tlearn: 13.0933305\ttotal: 325ms\tremaining: 1.13s\n",
      "224:\tlearn: 13.0902507\ttotal: 326ms\tremaining: 1.12s\n",
      "225:\tlearn: 13.0870881\ttotal: 327ms\tremaining: 1.12s\n",
      "226:\tlearn: 13.0869351\ttotal: 327ms\tremaining: 1.11s\n",
      "227:\tlearn: 13.0869184\ttotal: 328ms\tremaining: 1.11s\n",
      "228:\tlearn: 13.0858057\ttotal: 328ms\tremaining: 1.1s\n",
      "229:\tlearn: 13.0820822\ttotal: 329ms\tremaining: 1.1s\n",
      "230:\tlearn: 13.0787995\ttotal: 330ms\tremaining: 1.1s\n",
      "231:\tlearn: 13.0756259\ttotal: 331ms\tremaining: 1.1s\n",
      "232:\tlearn: 13.0728578\ttotal: 332ms\tremaining: 1.09s\n",
      "233:\tlearn: 13.0693656\ttotal: 333ms\tremaining: 1.09s\n",
      "234:\tlearn: 13.0665511\ttotal: 334ms\tremaining: 1.09s\n",
      "235:\tlearn: 13.0665315\ttotal: 334ms\tremaining: 1.08s\n",
      "236:\tlearn: 13.0639365\ttotal: 335ms\tremaining: 1.08s\n",
      "237:\tlearn: 13.0610242\ttotal: 336ms\tremaining: 1.08s\n",
      "238:\tlearn: 13.0585457\ttotal: 337ms\tremaining: 1.07s\n",
      "239:\tlearn: 13.0559263\ttotal: 338ms\tremaining: 1.07s\n",
      "240:\tlearn: 13.0527859\ttotal: 339ms\tremaining: 1.07s\n",
      "241:\tlearn: 13.0497452\ttotal: 340ms\tremaining: 1.06s\n",
      "242:\tlearn: 13.0474725\ttotal: 341ms\tremaining: 1.06s\n",
      "243:\tlearn: 13.0445727\ttotal: 342ms\tremaining: 1.06s\n",
      "244:\tlearn: 13.0419844\ttotal: 343ms\tremaining: 1.06s\n",
      "245:\tlearn: 13.0398549\ttotal: 344ms\tremaining: 1.05s\n",
      "246:\tlearn: 13.0371308\ttotal: 345ms\tremaining: 1.05s\n",
      "247:\tlearn: 13.0348393\ttotal: 346ms\tremaining: 1.05s\n",
      "248:\tlearn: 13.0320613\ttotal: 347ms\tremaining: 1.05s\n",
      "249:\tlearn: 13.0299078\ttotal: 348ms\tremaining: 1.04s\n",
      "250:\tlearn: 13.0272492\ttotal: 349ms\tremaining: 1.04s\n",
      "251:\tlearn: 13.0251559\ttotal: 350ms\tremaining: 1.04s\n",
      "252:\tlearn: 13.0226337\ttotal: 351ms\tremaining: 1.04s\n",
      "253:\tlearn: 13.0204036\ttotal: 352ms\tremaining: 1.03s\n",
      "254:\tlearn: 13.0180144\ttotal: 353ms\tremaining: 1.03s\n",
      "255:\tlearn: 13.0158939\ttotal: 354ms\tremaining: 1.03s\n",
      "256:\tlearn: 13.0136144\ttotal: 355ms\tremaining: 1.03s\n",
      "257:\tlearn: 13.0118797\ttotal: 356ms\tremaining: 1.02s\n",
      "258:\tlearn: 13.0117356\ttotal: 356ms\tremaining: 1.02s\n",
      "259:\tlearn: 13.0097406\ttotal: 357ms\tremaining: 1.02s\n",
      "260:\tlearn: 13.0078113\ttotal: 358ms\tremaining: 1.01s\n",
      "261:\tlearn: 13.0059454\ttotal: 359ms\tremaining: 1.01s\n",
      "262:\tlearn: 13.0043215\ttotal: 360ms\tremaining: 1.01s\n",
      "263:\tlearn: 13.0022670\ttotal: 361ms\tremaining: 1.01s\n",
      "264:\tlearn: 13.0005261\ttotal: 362ms\tremaining: 1s\n",
      "265:\tlearn: 12.9985607\ttotal: 363ms\tremaining: 1s\n",
      "266:\tlearn: 12.9965082\ttotal: 364ms\tremaining: 1000ms\n"
     ]
    },
    {
     "name": "stdout",
     "output_type": "stream",
     "text": [
      "267:\tlearn: 12.9945264\ttotal: 366ms\tremaining: 999ms\n",
      "268:\tlearn: 12.9926689\ttotal: 367ms\tremaining: 997ms\n",
      "269:\tlearn: 12.9907772\ttotal: 368ms\tremaining: 996ms\n",
      "270:\tlearn: 12.9889985\ttotal: 369ms\tremaining: 994ms\n",
      "271:\tlearn: 12.9871922\ttotal: 370ms\tremaining: 992ms\n",
      "272:\tlearn: 12.9858350\ttotal: 371ms\tremaining: 989ms\n",
      "273:\tlearn: 12.9845232\ttotal: 373ms\tremaining: 987ms\n",
      "274:\tlearn: 12.9830009\ttotal: 374ms\tremaining: 985ms\n",
      "275:\tlearn: 12.9817442\ttotal: 375ms\tremaining: 983ms\n",
      "276:\tlearn: 12.9803218\ttotal: 376ms\tremaining: 981ms\n",
      "277:\tlearn: 12.9787305\ttotal: 377ms\tremaining: 979ms\n",
      "278:\tlearn: 12.9771144\ttotal: 378ms\tremaining: 977ms\n",
      "279:\tlearn: 12.9755536\ttotal: 379ms\tremaining: 976ms\n",
      "280:\tlearn: 12.9740462\ttotal: 381ms\tremaining: 974ms\n",
      "281:\tlearn: 12.9729134\ttotal: 382ms\tremaining: 973ms\n",
      "282:\tlearn: 12.9714392\ttotal: 384ms\tremaining: 972ms\n",
      "283:\tlearn: 12.9700130\ttotal: 385ms\tremaining: 972ms\n",
      "284:\tlearn: 12.9685982\ttotal: 387ms\tremaining: 970ms\n",
      "285:\tlearn: 12.9675548\ttotal: 388ms\tremaining: 968ms\n",
      "286:\tlearn: 12.9662994\ttotal: 389ms\tremaining: 966ms\n",
      "287:\tlearn: 12.9649590\ttotal: 390ms\tremaining: 964ms\n",
      "288:\tlearn: 12.9636643\ttotal: 391ms\tremaining: 963ms\n",
      "289:\tlearn: 12.9624136\ttotal: 393ms\tremaining: 961ms\n",
      "290:\tlearn: 12.9612952\ttotal: 394ms\tremaining: 959ms\n",
      "291:\tlearn: 12.9600174\ttotal: 395ms\tremaining: 957ms\n",
      "292:\tlearn: 12.9589533\ttotal: 396ms\tremaining: 955ms\n",
      "293:\tlearn: 12.9579261\ttotal: 397ms\tremaining: 953ms\n",
      "294:\tlearn: 12.9567170\ttotal: 398ms\tremaining: 952ms\n",
      "295:\tlearn: 12.9555929\ttotal: 399ms\tremaining: 950ms\n",
      "296:\tlearn: 12.9545053\ttotal: 400ms\tremaining: 948ms\n",
      "297:\tlearn: 12.9533703\ttotal: 402ms\tremaining: 946ms\n",
      "298:\tlearn: 12.9524269\ttotal: 403ms\tremaining: 946ms\n",
      "299:\tlearn: 12.9514124\ttotal: 405ms\tremaining: 945ms\n",
      "300:\tlearn: 12.9505830\ttotal: 406ms\tremaining: 943ms\n",
      "301:\tlearn: 12.9495522\ttotal: 407ms\tremaining: 942ms\n",
      "302:\tlearn: 12.9486065\ttotal: 409ms\tremaining: 940ms\n",
      "303:\tlearn: 12.9475827\ttotal: 410ms\tremaining: 938ms\n",
      "304:\tlearn: 12.9465900\ttotal: 411ms\tremaining: 936ms\n",
      "305:\tlearn: 12.9457358\ttotal: 412ms\tremaining: 935ms\n",
      "306:\tlearn: 12.9448683\ttotal: 414ms\tremaining: 934ms\n",
      "307:\tlearn: 12.9440363\ttotal: 415ms\tremaining: 932ms\n",
      "308:\tlearn: 12.9432258\ttotal: 416ms\tremaining: 930ms\n",
      "309:\tlearn: 12.9423043\ttotal: 417ms\tremaining: 928ms\n",
      "310:\tlearn: 12.9413450\ttotal: 418ms\tremaining: 926ms\n",
      "311:\tlearn: 12.9404676\ttotal: 420ms\tremaining: 925ms\n",
      "312:\tlearn: 12.9395901\ttotal: 421ms\tremaining: 924ms\n",
      "313:\tlearn: 12.9387538\ttotal: 422ms\tremaining: 922ms\n",
      "314:\tlearn: 12.9380779\ttotal: 423ms\tremaining: 920ms\n",
      "315:\tlearn: 12.9371947\ttotal: 425ms\tremaining: 919ms\n",
      "316:\tlearn: 12.9364036\ttotal: 426ms\tremaining: 919ms\n",
      "317:\tlearn: 12.9355943\ttotal: 427ms\tremaining: 917ms\n",
      "318:\tlearn: 12.9349639\ttotal: 428ms\tremaining: 915ms\n",
      "319:\tlearn: 12.9343541\ttotal: 430ms\tremaining: 913ms\n",
      "320:\tlearn: 12.9336670\ttotal: 431ms\tremaining: 911ms\n",
      "321:\tlearn: 12.9329122\ttotal: 432ms\tremaining: 909ms\n",
      "322:\tlearn: 12.9321051\ttotal: 433ms\tremaining: 907ms\n",
      "323:\tlearn: 12.9313890\ttotal: 434ms\tremaining: 906ms\n",
      "324:\tlearn: 12.9306960\ttotal: 435ms\tremaining: 904ms\n",
      "325:\tlearn: 12.9300474\ttotal: 436ms\tremaining: 902ms\n",
      "326:\tlearn: 12.9293016\ttotal: 438ms\tremaining: 901ms\n",
      "327:\tlearn: 12.9286101\ttotal: 439ms\tremaining: 899ms\n",
      "328:\tlearn: 12.9279988\ttotal: 440ms\tremaining: 897ms\n",
      "329:\tlearn: 12.9273967\ttotal: 441ms\tremaining: 896ms\n",
      "330:\tlearn: 12.9267434\ttotal: 443ms\tremaining: 894ms\n",
      "331:\tlearn: 12.9260486\ttotal: 444ms\tremaining: 893ms\n",
      "332:\tlearn: 12.9254849\ttotal: 445ms\tremaining: 891ms\n",
      "333:\tlearn: 12.9248235\ttotal: 446ms\tremaining: 890ms\n",
      "334:\tlearn: 12.9242065\ttotal: 448ms\tremaining: 889ms\n",
      "335:\tlearn: 12.9236558\ttotal: 449ms\tremaining: 887ms\n",
      "336:\tlearn: 12.9230661\ttotal: 450ms\tremaining: 885ms\n",
      "337:\tlearn: 12.9225919\ttotal: 451ms\tremaining: 883ms\n",
      "338:\tlearn: 12.9220185\ttotal: 452ms\tremaining: 881ms\n",
      "339:\tlearn: 12.9214635\ttotal: 453ms\tremaining: 879ms\n",
      "340:\tlearn: 12.9209139\ttotal: 454ms\tremaining: 877ms\n",
      "341:\tlearn: 12.9203148\ttotal: 457ms\tremaining: 879ms\n",
      "342:\tlearn: 12.9198251\ttotal: 458ms\tremaining: 877ms\n",
      "343:\tlearn: 12.9192546\ttotal: 459ms\tremaining: 875ms\n",
      "344:\tlearn: 12.9188224\ttotal: 460ms\tremaining: 873ms\n",
      "345:\tlearn: 12.9183606\ttotal: 461ms\tremaining: 871ms\n",
      "346:\tlearn: 12.9179148\ttotal: 462ms\tremaining: 869ms\n",
      "347:\tlearn: 12.9174169\ttotal: 463ms\tremaining: 868ms\n",
      "348:\tlearn: 12.9170068\ttotal: 464ms\tremaining: 866ms\n",
      "349:\tlearn: 12.9164881\ttotal: 466ms\tremaining: 865ms\n",
      "350:\tlearn: 12.9160017\ttotal: 467ms\tremaining: 863ms\n",
      "351:\tlearn: 12.9156149\ttotal: 468ms\tremaining: 861ms\n",
      "352:\tlearn: 12.9152406\ttotal: 469ms\tremaining: 860ms\n",
      "353:\tlearn: 12.9148783\ttotal: 472ms\tremaining: 861ms\n",
      "354:\tlearn: 12.9143933\ttotal: 474ms\tremaining: 862ms\n",
      "355:\tlearn: 12.9139942\ttotal: 475ms\tremaining: 860ms\n",
      "356:\tlearn: 12.9135319\ttotal: 477ms\tremaining: 858ms\n",
      "357:\tlearn: 12.9130852\ttotal: 478ms\tremaining: 857ms\n",
      "358:\tlearn: 12.9126533\ttotal: 479ms\tremaining: 855ms\n",
      "359:\tlearn: 12.9122251\ttotal: 480ms\tremaining: 853ms\n",
      "360:\tlearn: 12.9118106\ttotal: 481ms\tremaining: 851ms\n",
      "361:\tlearn: 12.9113825\ttotal: 482ms\tremaining: 850ms\n",
      "362:\tlearn: 12.9110577\ttotal: 484ms\tremaining: 849ms\n",
      "363:\tlearn: 12.9106469\ttotal: 487ms\tremaining: 852ms\n",
      "364:\tlearn: 12.9102590\ttotal: 489ms\tremaining: 850ms\n",
      "365:\tlearn: 12.9098835\ttotal: 490ms\tremaining: 849ms\n",
      "366:\tlearn: 12.9094966\ttotal: 491ms\tremaining: 848ms\n",
      "367:\tlearn: 12.9091932\ttotal: 493ms\tremaining: 846ms\n",
      "368:\tlearn: 12.9088564\ttotal: 494ms\tremaining: 844ms\n",
      "369:\tlearn: 12.9084793\ttotal: 495ms\tremaining: 843ms\n",
      "370:\tlearn: 12.9081583\ttotal: 496ms\tremaining: 841ms\n",
      "371:\tlearn: 12.9078716\ttotal: 497ms\tremaining: 839ms\n",
      "372:\tlearn: 12.9075941\ttotal: 498ms\tremaining: 837ms\n",
      "373:\tlearn: 12.9072867\ttotal: 502ms\tremaining: 841ms\n",
      "374:\tlearn: 12.9069361\ttotal: 504ms\tremaining: 840ms\n",
      "375:\tlearn: 12.9066003\ttotal: 505ms\tremaining: 839ms\n",
      "376:\tlearn: 12.9062647\ttotal: 506ms\tremaining: 837ms\n",
      "377:\tlearn: 12.9060056\ttotal: 508ms\tremaining: 835ms\n",
      "378:\tlearn: 12.9056833\ttotal: 509ms\tremaining: 834ms\n",
      "379:\tlearn: 12.9054007\ttotal: 510ms\tremaining: 832ms\n",
      "380:\tlearn: 12.9050881\ttotal: 511ms\tremaining: 830ms\n",
      "381:\tlearn: 12.9047828\ttotal: 512ms\tremaining: 829ms\n",
      "382:\tlearn: 12.9044582\ttotal: 513ms\tremaining: 827ms\n",
      "383:\tlearn: 12.9041949\ttotal: 516ms\tremaining: 828ms\n",
      "384:\tlearn: 12.9039033\ttotal: 518ms\tremaining: 828ms\n",
      "385:\tlearn: 12.9036520\ttotal: 521ms\tremaining: 828ms\n",
      "386:\tlearn: 12.9033478\ttotal: 522ms\tremaining: 827ms\n",
      "387:\tlearn: 12.9031088\ttotal: 523ms\tremaining: 825ms\n",
      "388:\tlearn: 12.9028328\ttotal: 524ms\tremaining: 823ms\n",
      "389:\tlearn: 12.9026041\ttotal: 525ms\tremaining: 822ms\n",
      "390:\tlearn: 12.9023390\ttotal: 526ms\tremaining: 820ms\n",
      "391:\tlearn: 12.9021202\ttotal: 528ms\tremaining: 818ms\n",
      "392:\tlearn: 12.9018423\ttotal: 529ms\tremaining: 817ms\n",
      "393:\tlearn: 12.9015610\ttotal: 532ms\tremaining: 819ms\n",
      "394:\tlearn: 12.9013115\ttotal: 534ms\tremaining: 817ms\n",
      "395:\tlearn: 12.9010408\ttotal: 535ms\tremaining: 816ms\n",
      "396:\tlearn: 12.9007844\ttotal: 536ms\tremaining: 815ms\n",
      "397:\tlearn: 12.9005729\ttotal: 537ms\tremaining: 813ms\n",
      "398:\tlearn: 12.9003687\ttotal: 538ms\tremaining: 811ms\n",
      "399:\tlearn: 12.9001714\ttotal: 539ms\tremaining: 809ms\n",
      "400:\tlearn: 12.8999277\ttotal: 540ms\tremaining: 807ms\n",
      "401:\tlearn: 12.8997385\ttotal: 542ms\tremaining: 806ms\n",
      "402:\tlearn: 12.8994958\ttotal: 543ms\tremaining: 804ms\n",
      "403:\tlearn: 12.8993157\ttotal: 544ms\tremaining: 803ms\n",
      "404:\tlearn: 12.8990854\ttotal: 548ms\tremaining: 804ms\n",
      "405:\tlearn: 12.8988623\ttotal: 549ms\tremaining: 804ms\n",
      "406:\tlearn: 12.8986460\ttotal: 551ms\tremaining: 803ms\n",
      "407:\tlearn: 12.8984328\ttotal: 552ms\tremaining: 801ms\n",
      "408:\tlearn: 12.8982108\ttotal: 553ms\tremaining: 800ms\n",
      "409:\tlearn: 12.8980070\ttotal: 554ms\tremaining: 798ms\n",
      "410:\tlearn: 12.8978095\ttotal: 555ms\tremaining: 796ms\n",
      "411:\tlearn: 12.8976256\ttotal: 557ms\tremaining: 794ms\n",
      "412:\tlearn: 12.8974614\ttotal: 558ms\tremaining: 792ms\n",
      "413:\tlearn: 12.8972839\ttotal: 559ms\tremaining: 792ms\n",
      "414:\tlearn: 12.8970951\ttotal: 561ms\tremaining: 790ms\n",
      "415:\tlearn: 12.8969122\ttotal: 562ms\tremaining: 789ms\n",
      "416:\tlearn: 12.8967418\ttotal: 563ms\tremaining: 787ms\n",
      "417:\tlearn: 12.8965859\ttotal: 565ms\tremaining: 786ms\n",
      "418:\tlearn: 12.8964352\ttotal: 566ms\tremaining: 785ms\n",
      "419:\tlearn: 12.8962431\ttotal: 567ms\tremaining: 783ms\n",
      "420:\tlearn: 12.8960996\ttotal: 568ms\tremaining: 782ms\n",
      "421:\tlearn: 12.8959157\ttotal: 569ms\tremaining: 780ms\n",
      "422:\tlearn: 12.8957555\ttotal: 570ms\tremaining: 778ms\n",
      "423:\tlearn: 12.8955793\ttotal: 572ms\tremaining: 776ms\n",
      "424:\tlearn: 12.8954445\ttotal: 573ms\tremaining: 776ms\n",
      "425:\tlearn: 12.8953144\ttotal: 574ms\tremaining: 774ms\n",
      "426:\tlearn: 12.8951487\ttotal: 575ms\tremaining: 772ms\n",
      "427:\tlearn: 12.8949837\ttotal: 578ms\tremaining: 772ms\n",
      "428:\tlearn: 12.8947878\ttotal: 579ms\tremaining: 771ms\n",
      "429:\tlearn: 12.8946189\ttotal: 581ms\tremaining: 770ms\n",
      "430:\tlearn: 12.8944734\ttotal: 582ms\tremaining: 769ms\n",
      "431:\tlearn: 12.8943526\ttotal: 583ms\tremaining: 767ms\n",
      "432:\tlearn: 12.8941994\ttotal: 584ms\tremaining: 765ms\n",
      "433:\tlearn: 12.8940464\ttotal: 586ms\tremaining: 764ms\n",
      "434:\tlearn: 12.8938998\ttotal: 587ms\tremaining: 763ms\n",
      "435:\tlearn: 12.8937620\ttotal: 589ms\tremaining: 762ms\n",
      "436:\tlearn: 12.8936285\ttotal: 592ms\tremaining: 762ms\n",
      "437:\tlearn: 12.8934991\ttotal: 593ms\tremaining: 761ms\n",
      "438:\tlearn: 12.8933567\ttotal: 594ms\tremaining: 759ms\n",
      "439:\tlearn: 12.8932445\ttotal: 595ms\tremaining: 758ms\n",
      "440:\tlearn: 12.8930956\ttotal: 597ms\tremaining: 757ms\n",
      "441:\tlearn: 12.8929731\ttotal: 598ms\tremaining: 755ms\n",
      "442:\tlearn: 12.8928662\ttotal: 599ms\tremaining: 753ms\n",
      "443:\tlearn: 12.8927629\ttotal: 601ms\tremaining: 752ms\n",
      "444:\tlearn: 12.8926307\ttotal: 602ms\tremaining: 751ms\n",
      "445:\tlearn: 12.8925028\ttotal: 604ms\tremaining: 750ms\n",
      "446:\tlearn: 12.8923635\ttotal: 605ms\tremaining: 748ms\n",
      "447:\tlearn: 12.8922671\ttotal: 606ms\tremaining: 747ms\n",
      "448:\tlearn: 12.8921525\ttotal: 608ms\tremaining: 747ms\n",
      "449:\tlearn: 12.8920199\ttotal: 610ms\tremaining: 745ms\n",
      "450:\tlearn: 12.8919281\ttotal: 611ms\tremaining: 744ms\n",
      "451:\tlearn: 12.8918394\ttotal: 612ms\tremaining: 742ms\n",
      "452:\tlearn: 12.8917129\ttotal: 613ms\tremaining: 741ms\n",
      "453:\tlearn: 12.8915890\ttotal: 614ms\tremaining: 739ms\n",
      "454:\tlearn: 12.8915046\ttotal: 616ms\tremaining: 738ms\n",
      "455:\tlearn: 12.8913848\ttotal: 618ms\tremaining: 737ms\n",
      "456:\tlearn: 12.8912607\ttotal: 619ms\tremaining: 736ms\n",
      "457:\tlearn: 12.8911803\ttotal: 620ms\tremaining: 734ms\n",
      "458:\tlearn: 12.8910663\ttotal: 622ms\tremaining: 733ms\n",
      "459:\tlearn: 12.8909888\ttotal: 623ms\tremaining: 732ms\n",
      "460:\tlearn: 12.8908789\ttotal: 625ms\tremaining: 730ms\n",
      "461:\tlearn: 12.8907699\ttotal: 626ms\tremaining: 729ms\n",
      "462:\tlearn: 12.8906643\ttotal: 628ms\tremaining: 728ms\n",
      "463:\tlearn: 12.8905620\ttotal: 629ms\tremaining: 726ms\n",
      "464:\tlearn: 12.8904601\ttotal: 630ms\tremaining: 725ms\n",
      "465:\tlearn: 12.8903587\ttotal: 631ms\tremaining: 723ms\n",
      "466:\tlearn: 12.8902611\ttotal: 633ms\tremaining: 723ms\n",
      "467:\tlearn: 12.8901665\ttotal: 635ms\tremaining: 721ms\n",
      "468:\tlearn: 12.8900748\ttotal: 636ms\tremaining: 720ms\n",
      "469:\tlearn: 12.8899859\ttotal: 637ms\tremaining: 718ms\n",
      "470:\tlearn: 12.8898913\ttotal: 638ms\tremaining: 717ms\n",
      "471:\tlearn: 12.8898197\ttotal: 639ms\tremaining: 715ms\n",
      "472:\tlearn: 12.8897343\ttotal: 644ms\tremaining: 718ms\n",
      "473:\tlearn: 12.8896404\ttotal: 645ms\tremaining: 716ms\n",
      "474:\tlearn: 12.8895713\ttotal: 647ms\tremaining: 715ms\n",
      "475:\tlearn: 12.8894832\ttotal: 648ms\tremaining: 713ms\n",
      "476:\tlearn: 12.8893934\ttotal: 649ms\tremaining: 711ms\n",
      "477:\tlearn: 12.8893275\ttotal: 650ms\tremaining: 710ms\n",
      "478:\tlearn: 12.8892313\ttotal: 651ms\tremaining: 708ms\n",
      "479:\tlearn: 12.8891456\ttotal: 652ms\tremaining: 706ms\n",
      "480:\tlearn: 12.8890830\ttotal: 653ms\tremaining: 704ms\n",
      "481:\tlearn: 12.8890224\ttotal: 655ms\tremaining: 704ms\n",
      "482:\tlearn: 12.8889638\ttotal: 656ms\tremaining: 702ms\n",
      "483:\tlearn: 12.8889072\ttotal: 657ms\tremaining: 701ms\n",
      "484:\tlearn: 12.8888182\ttotal: 659ms\tremaining: 699ms\n",
      "485:\tlearn: 12.8887394\ttotal: 660ms\tremaining: 698ms\n",
      "486:\tlearn: 12.8886540\ttotal: 662ms\tremaining: 697ms\n",
      "487:\tlearn: 12.8885498\ttotal: 663ms\tremaining: 695ms\n",
      "488:\tlearn: 12.8884683\ttotal: 664ms\tremaining: 694ms\n",
      "489:\tlearn: 12.8883905\ttotal: 665ms\tremaining: 692ms\n",
      "490:\tlearn: 12.8883389\ttotal: 666ms\tremaining: 690ms\n",
      "491:\tlearn: 12.8882642\ttotal: 668ms\tremaining: 690ms\n",
      "492:\tlearn: 12.8882148\ttotal: 669ms\tremaining: 688ms\n",
      "493:\tlearn: 12.8881670\ttotal: 671ms\tremaining: 687ms\n",
      "494:\tlearn: 12.8880912\ttotal: 672ms\tremaining: 685ms\n",
      "495:\tlearn: 12.8880155\ttotal: 673ms\tremaining: 684ms\n",
      "496:\tlearn: 12.8879431\ttotal: 674ms\tremaining: 682ms\n",
      "497:\tlearn: 12.8878706\ttotal: 676ms\tremaining: 682ms\n",
      "498:\tlearn: 12.8878015\ttotal: 678ms\tremaining: 681ms\n",
      "499:\tlearn: 12.8877565\ttotal: 679ms\tremaining: 679ms\n",
      "500:\tlearn: 12.8876886\ttotal: 681ms\tremaining: 678ms\n",
      "501:\tlearn: 12.8876205\ttotal: 682ms\tremaining: 676ms\n",
      "502:\tlearn: 12.8875546\ttotal: 684ms\tremaining: 676ms\n",
      "503:\tlearn: 12.8875116\ttotal: 685ms\tremaining: 674ms\n",
      "504:\tlearn: 12.8874477\ttotal: 687ms\tremaining: 673ms\n",
      "505:\tlearn: 12.8874060\ttotal: 688ms\tremaining: 672ms\n",
      "506:\tlearn: 12.8873405\ttotal: 689ms\tremaining: 670ms\n",
      "507:\tlearn: 12.8872770\ttotal: 691ms\tremaining: 669ms\n",
      "508:\tlearn: 12.8872154\ttotal: 693ms\tremaining: 669ms\n",
      "509:\tlearn: 12.8871555\ttotal: 695ms\tremaining: 667ms\n",
      "510:\tlearn: 12.8871171\ttotal: 696ms\tremaining: 666ms\n",
      "511:\tlearn: 12.8870552\ttotal: 697ms\tremaining: 664ms\n",
      "512:\tlearn: 12.8869963\ttotal: 699ms\tremaining: 664ms\n",
      "513:\tlearn: 12.8869591\ttotal: 701ms\tremaining: 663ms\n",
      "514:\tlearn: 12.8868994\ttotal: 703ms\tremaining: 662ms\n",
      "515:\tlearn: 12.8868403\ttotal: 704ms\tremaining: 660ms\n",
      "516:\tlearn: 12.8868047\ttotal: 706ms\tremaining: 659ms\n",
      "517:\tlearn: 12.8867703\ttotal: 708ms\tremaining: 659ms\n",
      "518:\tlearn: 12.8867371\ttotal: 709ms\tremaining: 657ms\n",
      "519:\tlearn: 12.8867049\ttotal: 710ms\tremaining: 656ms\n",
      "520:\tlearn: 12.8866738\ttotal: 712ms\tremaining: 654ms\n",
      "521:\tlearn: 12.8866173\ttotal: 713ms\tremaining: 653ms\n",
      "522:\tlearn: 12.8865625\ttotal: 715ms\tremaining: 652ms\n",
      "523:\tlearn: 12.8865106\ttotal: 716ms\tremaining: 651ms\n",
      "524:\tlearn: 12.8864549\ttotal: 717ms\tremaining: 649ms\n",
      "525:\tlearn: 12.8864027\ttotal: 719ms\tremaining: 648ms\n",
      "526:\tlearn: 12.8863728\ttotal: 721ms\tremaining: 647ms\n",
      "527:\tlearn: 12.8863438\ttotal: 722ms\tremaining: 646ms\n",
      "528:\tlearn: 12.8863157\ttotal: 724ms\tremaining: 644ms\n"
     ]
    },
    {
     "name": "stdout",
     "output_type": "stream",
     "text": [
      "529:\tlearn: 12.8862620\ttotal: 725ms\tremaining: 642ms\n",
      "530:\tlearn: 12.8862115\ttotal: 726ms\tremaining: 641ms\n",
      "531:\tlearn: 12.8861606\ttotal: 727ms\tremaining: 640ms\n",
      "532:\tlearn: 12.8861337\ttotal: 729ms\tremaining: 639ms\n",
      "533:\tlearn: 12.8861076\ttotal: 730ms\tremaining: 637ms\n",
      "534:\tlearn: 12.8860588\ttotal: 732ms\tremaining: 636ms\n",
      "535:\tlearn: 12.8860084\ttotal: 733ms\tremaining: 634ms\n",
      "536:\tlearn: 12.8859618\ttotal: 734ms\tremaining: 633ms\n",
      "537:\tlearn: 12.8859146\ttotal: 737ms\tremaining: 633ms\n",
      "538:\tlearn: 12.8858698\ttotal: 738ms\tremaining: 631ms\n",
      "539:\tlearn: 12.8858453\ttotal: 742ms\tremaining: 632ms\n",
      "540:\tlearn: 12.8858215\ttotal: 743ms\tremaining: 631ms\n",
      "541:\tlearn: 12.8857774\ttotal: 744ms\tremaining: 629ms\n",
      "542:\tlearn: 12.8857545\ttotal: 745ms\tremaining: 627ms\n",
      "543:\tlearn: 12.8857325\ttotal: 747ms\tremaining: 626ms\n",
      "544:\tlearn: 12.8856856\ttotal: 748ms\tremaining: 624ms\n",
      "545:\tlearn: 12.8856440\ttotal: 749ms\tremaining: 623ms\n",
      "546:\tlearn: 12.8856229\ttotal: 750ms\tremaining: 621ms\n",
      "547:\tlearn: 12.8855827\ttotal: 752ms\tremaining: 620ms\n",
      "548:\tlearn: 12.8855383\ttotal: 753ms\tremaining: 618ms\n",
      "549:\tlearn: 12.8854999\ttotal: 754ms\tremaining: 617ms\n",
      "550:\tlearn: 12.8854569\ttotal: 755ms\tremaining: 615ms\n",
      "551:\tlearn: 12.8854368\ttotal: 756ms\tremaining: 614ms\n",
      "552:\tlearn: 12.8853967\ttotal: 757ms\tremaining: 612ms\n",
      "553:\tlearn: 12.8853550\ttotal: 758ms\tremaining: 611ms\n",
      "554:\tlearn: 12.8853356\ttotal: 760ms\tremaining: 609ms\n",
      "555:\tlearn: 12.8852998\ttotal: 761ms\tremaining: 608ms\n",
      "556:\tlearn: 12.8852592\ttotal: 762ms\tremaining: 606ms\n",
      "557:\tlearn: 12.8852406\ttotal: 763ms\tremaining: 604ms\n",
      "558:\tlearn: 12.8852032\ttotal: 764ms\tremaining: 603ms\n",
      "559:\tlearn: 12.8851692\ttotal: 766ms\tremaining: 601ms\n",
      "560:\tlearn: 12.8851303\ttotal: 767ms\tremaining: 600ms\n",
      "561:\tlearn: 12.8850926\ttotal: 768ms\tremaining: 598ms\n",
      "562:\tlearn: 12.8850561\ttotal: 769ms\tremaining: 597ms\n",
      "563:\tlearn: 12.8850383\ttotal: 770ms\tremaining: 595ms\n",
      "564:\tlearn: 12.8850211\ttotal: 771ms\tremaining: 594ms\n",
      "565:\tlearn: 12.8850044\ttotal: 773ms\tremaining: 592ms\n",
      "566:\tlearn: 12.8849883\ttotal: 774ms\tremaining: 591ms\n",
      "567:\tlearn: 12.8849727\ttotal: 775ms\tremaining: 590ms\n",
      "568:\tlearn: 12.8849368\ttotal: 776ms\tremaining: 588ms\n",
      "569:\tlearn: 12.8849216\ttotal: 777ms\tremaining: 586ms\n",
      "570:\tlearn: 12.8848840\ttotal: 779ms\tremaining: 585ms\n",
      "571:\tlearn: 12.8848693\ttotal: 781ms\tremaining: 584ms\n",
      "572:\tlearn: 12.8848550\ttotal: 782ms\tremaining: 582ms\n",
      "573:\tlearn: 12.8848185\ttotal: 783ms\tremaining: 581ms\n",
      "574:\tlearn: 12.8847860\ttotal: 784ms\tremaining: 579ms\n",
      "575:\tlearn: 12.8847520\ttotal: 785ms\tremaining: 578ms\n",
      "576:\tlearn: 12.8847382\ttotal: 786ms\tremaining: 576ms\n",
      "577:\tlearn: 12.8847034\ttotal: 787ms\tremaining: 574ms\n",
      "578:\tlearn: 12.8846590\ttotal: 787ms\tremaining: 573ms\n",
      "579:\tlearn: 12.8846269\ttotal: 788ms\tremaining: 571ms\n",
      "580:\tlearn: 12.8846135\ttotal: 789ms\tremaining: 569ms\n",
      "581:\tlearn: 12.8846006\ttotal: 790ms\tremaining: 568ms\n",
      "582:\tlearn: 12.8845677\ttotal: 791ms\tremaining: 566ms\n",
      "583:\tlearn: 12.8845367\ttotal: 792ms\tremaining: 564ms\n",
      "584:\tlearn: 12.8845051\ttotal: 793ms\tremaining: 563ms\n",
      "585:\tlearn: 12.8844924\ttotal: 795ms\tremaining: 561ms\n",
      "586:\tlearn: 12.8844667\ttotal: 796ms\tremaining: 560ms\n",
      "587:\tlearn: 12.8844363\ttotal: 797ms\tremaining: 558ms\n",
      "588:\tlearn: 12.8844070\ttotal: 798ms\tremaining: 557ms\n",
      "589:\tlearn: 12.8843948\ttotal: 799ms\tremaining: 555ms\n",
      "590:\tlearn: 12.8843663\ttotal: 800ms\tremaining: 554ms\n",
      "591:\tlearn: 12.8843287\ttotal: 801ms\tremaining: 552ms\n",
      "592:\tlearn: 12.8843169\ttotal: 802ms\tremaining: 550ms\n",
      "593:\tlearn: 12.8842884\ttotal: 803ms\tremaining: 549ms\n",
      "594:\tlearn: 12.8842609\ttotal: 804ms\tremaining: 547ms\n",
      "595:\tlearn: 12.8842260\ttotal: 805ms\tremaining: 545ms\n",
      "596:\tlearn: 12.8842146\ttotal: 806ms\tremaining: 544ms\n",
      "597:\tlearn: 12.8841882\ttotal: 806ms\tremaining: 542ms\n",
      "598:\tlearn: 12.8841626\ttotal: 808ms\tremaining: 541ms\n",
      "599:\tlearn: 12.8841514\ttotal: 809ms\tremaining: 539ms\n",
      "600:\tlearn: 12.8841299\ttotal: 810ms\tremaining: 538ms\n",
      "601:\tlearn: 12.8841090\ttotal: 811ms\tremaining: 536ms\n",
      "602:\tlearn: 12.8840985\ttotal: 812ms\tremaining: 535ms\n",
      "603:\tlearn: 12.8840668\ttotal: 813ms\tremaining: 533ms\n",
      "604:\tlearn: 12.8840420\ttotal: 814ms\tremaining: 531ms\n",
      "605:\tlearn: 12.8840318\ttotal: 815ms\tremaining: 530ms\n",
      "606:\tlearn: 12.8840076\ttotal: 816ms\tremaining: 528ms\n",
      "607:\tlearn: 12.8839977\ttotal: 817ms\tremaining: 527ms\n",
      "608:\tlearn: 12.8839742\ttotal: 818ms\tremaining: 525ms\n",
      "609:\tlearn: 12.8839553\ttotal: 819ms\tremaining: 523ms\n",
      "610:\tlearn: 12.8839268\ttotal: 820ms\tremaining: 522ms\n",
      "611:\tlearn: 12.8839173\ttotal: 821ms\tremaining: 520ms\n",
      "612:\tlearn: 12.8839082\ttotal: 822ms\tremaining: 519ms\n",
      "613:\tlearn: 12.8838852\ttotal: 823ms\tremaining: 517ms\n",
      "614:\tlearn: 12.8838630\ttotal: 824ms\tremaining: 516ms\n",
      "615:\tlearn: 12.8838540\ttotal: 825ms\tremaining: 514ms\n",
      "616:\tlearn: 12.8838324\ttotal: 826ms\tremaining: 513ms\n",
      "617:\tlearn: 12.8838106\ttotal: 827ms\tremaining: 511ms\n",
      "618:\tlearn: 12.8837895\ttotal: 829ms\tremaining: 510ms\n",
      "619:\tlearn: 12.8837808\ttotal: 830ms\tremaining: 509ms\n",
      "620:\tlearn: 12.8837723\ttotal: 832ms\tremaining: 507ms\n",
      "621:\tlearn: 12.8837517\ttotal: 833ms\tremaining: 506ms\n",
      "622:\tlearn: 12.8837354\ttotal: 834ms\tremaining: 505ms\n",
      "623:\tlearn: 12.8837273\ttotal: 835ms\tremaining: 503ms\n",
      "624:\tlearn: 12.8837069\ttotal: 836ms\tremaining: 502ms\n",
      "625:\tlearn: 12.8836989\ttotal: 838ms\tremaining: 500ms\n",
      "626:\tlearn: 12.8836791\ttotal: 839ms\tremaining: 499ms\n",
      "627:\tlearn: 12.8836639\ttotal: 840ms\tremaining: 498ms\n",
      "628:\tlearn: 12.8836448\ttotal: 841ms\tremaining: 496ms\n",
      "629:\tlearn: 12.8836371\ttotal: 842ms\tremaining: 495ms\n",
      "630:\tlearn: 12.8836297\ttotal: 843ms\tremaining: 493ms\n",
      "631:\tlearn: 12.8836225\ttotal: 844ms\tremaining: 492ms\n",
      "632:\tlearn: 12.8836032\ttotal: 845ms\tremaining: 490ms\n",
      "633:\tlearn: 12.8835848\ttotal: 847ms\tremaining: 489ms\n",
      "634:\tlearn: 12.8835662\ttotal: 848ms\tremaining: 487ms\n",
      "635:\tlearn: 12.8835484\ttotal: 849ms\tremaining: 486ms\n",
      "636:\tlearn: 12.8835298\ttotal: 850ms\tremaining: 484ms\n",
      "637:\tlearn: 12.8835117\ttotal: 851ms\tremaining: 483ms\n",
      "638:\tlearn: 12.8834949\ttotal: 852ms\tremaining: 481ms\n",
      "639:\tlearn: 12.8834776\ttotal: 853ms\tremaining: 480ms\n",
      "640:\tlearn: 12.8834643\ttotal: 855ms\tremaining: 479ms\n",
      "641:\tlearn: 12.8834484\ttotal: 856ms\tremaining: 477ms\n",
      "642:\tlearn: 12.8834356\ttotal: 857ms\tremaining: 476ms\n",
      "643:\tlearn: 12.8834288\ttotal: 858ms\tremaining: 474ms\n",
      "644:\tlearn: 12.8834121\ttotal: 859ms\tremaining: 473ms\n",
      "645:\tlearn: 12.8833960\ttotal: 860ms\tremaining: 471ms\n",
      "646:\tlearn: 12.8833893\ttotal: 861ms\tremaining: 470ms\n",
      "647:\tlearn: 12.8833736\ttotal: 863ms\tremaining: 469ms\n",
      "648:\tlearn: 12.8833672\ttotal: 864ms\tremaining: 467ms\n",
      "649:\tlearn: 12.8833609\ttotal: 865ms\tremaining: 466ms\n",
      "650:\tlearn: 12.8833418\ttotal: 867ms\tremaining: 465ms\n",
      "651:\tlearn: 12.8833270\ttotal: 870ms\tremaining: 464ms\n",
      "652:\tlearn: 12.8833210\ttotal: 872ms\tremaining: 463ms\n",
      "653:\tlearn: 12.8833097\ttotal: 874ms\tremaining: 462ms\n",
      "654:\tlearn: 12.8832954\ttotal: 876ms\tremaining: 461ms\n",
      "655:\tlearn: 12.8832804\ttotal: 877ms\tremaining: 460ms\n",
      "656:\tlearn: 12.8832660\ttotal: 879ms\tremaining: 459ms\n",
      "657:\tlearn: 12.8832524\ttotal: 880ms\tremaining: 457ms\n",
      "658:\tlearn: 12.8832466\ttotal: 881ms\tremaining: 456ms\n",
      "659:\tlearn: 12.8832362\ttotal: 882ms\tremaining: 454ms\n",
      "660:\tlearn: 12.8832306\ttotal: 886ms\tremaining: 455ms\n",
      "661:\tlearn: 12.8832205\ttotal: 888ms\tremaining: 453ms\n",
      "662:\tlearn: 12.8832108\ttotal: 889ms\tremaining: 452ms\n",
      "663:\tlearn: 12.8831971\ttotal: 891ms\tremaining: 451ms\n",
      "664:\tlearn: 12.8831839\ttotal: 893ms\tremaining: 450ms\n",
      "665:\tlearn: 12.8831786\ttotal: 894ms\tremaining: 448ms\n",
      "666:\tlearn: 12.8831651\ttotal: 895ms\tremaining: 447ms\n",
      "667:\tlearn: 12.8831526\ttotal: 896ms\tremaining: 445ms\n",
      "668:\tlearn: 12.8831396\ttotal: 898ms\tremaining: 444ms\n",
      "669:\tlearn: 12.8831271\ttotal: 902ms\tremaining: 444ms\n",
      "670:\tlearn: 12.8831147\ttotal: 903ms\tremaining: 443ms\n",
      "671:\tlearn: 12.8831097\ttotal: 905ms\tremaining: 442ms\n",
      "672:\tlearn: 12.8830977\ttotal: 906ms\tremaining: 440ms\n",
      "673:\tlearn: 12.8830829\ttotal: 910ms\tremaining: 440ms\n",
      "674:\tlearn: 12.8830715\ttotal: 911ms\tremaining: 439ms\n",
      "675:\tlearn: 12.8830604\ttotal: 914ms\tremaining: 438ms\n",
      "676:\tlearn: 12.8830555\ttotal: 915ms\tremaining: 436ms\n",
      "677:\tlearn: 12.8830508\ttotal: 916ms\tremaining: 435ms\n",
      "678:\tlearn: 12.8830395\ttotal: 918ms\tremaining: 434ms\n",
      "679:\tlearn: 12.8830287\ttotal: 920ms\tremaining: 433ms\n",
      "680:\tlearn: 12.8830206\ttotal: 922ms\tremaining: 432ms\n",
      "681:\tlearn: 12.8830160\ttotal: 923ms\tremaining: 431ms\n",
      "682:\tlearn: 12.8830050\ttotal: 924ms\tremaining: 429ms\n",
      "683:\tlearn: 12.8829920\ttotal: 927ms\tremaining: 428ms\n",
      "684:\tlearn: 12.8829876\ttotal: 928ms\tremaining: 427ms\n",
      "685:\tlearn: 12.8829834\ttotal: 929ms\tremaining: 425ms\n",
      "686:\tlearn: 12.8829729\ttotal: 931ms\tremaining: 424ms\n",
      "687:\tlearn: 12.8829689\ttotal: 933ms\tremaining: 423ms\n",
      "688:\tlearn: 12.8829586\ttotal: 934ms\tremaining: 422ms\n",
      "689:\tlearn: 12.8829547\ttotal: 936ms\tremaining: 420ms\n",
      "690:\tlearn: 12.8829508\ttotal: 937ms\tremaining: 419ms\n",
      "691:\tlearn: 12.8829407\ttotal: 939ms\tremaining: 418ms\n",
      "692:\tlearn: 12.8829309\ttotal: 940ms\tremaining: 416ms\n",
      "693:\tlearn: 12.8829272\ttotal: 941ms\tremaining: 415ms\n",
      "694:\tlearn: 12.8829177\ttotal: 942ms\tremaining: 414ms\n",
      "695:\tlearn: 12.8829080\ttotal: 943ms\tremaining: 412ms\n",
      "696:\tlearn: 12.8829045\ttotal: 945ms\tremaining: 411ms\n",
      "697:\tlearn: 12.8829011\ttotal: 946ms\tremaining: 409ms\n",
      "698:\tlearn: 12.8828978\ttotal: 947ms\tremaining: 408ms\n",
      "699:\tlearn: 12.8828882\ttotal: 949ms\tremaining: 407ms\n",
      "700:\tlearn: 12.8828850\ttotal: 950ms\tremaining: 405ms\n",
      "701:\tlearn: 12.8828757\ttotal: 952ms\tremaining: 404ms\n",
      "702:\tlearn: 12.8828664\ttotal: 954ms\tremaining: 403ms\n",
      "703:\tlearn: 12.8828574\ttotal: 955ms\tremaining: 402ms\n",
      "704:\tlearn: 12.8828542\ttotal: 956ms\tremaining: 400ms\n",
      "705:\tlearn: 12.8828511\ttotal: 958ms\tremaining: 399ms\n",
      "706:\tlearn: 12.8828422\ttotal: 961ms\tremaining: 398ms\n",
      "707:\tlearn: 12.8828317\ttotal: 963ms\tremaining: 397ms\n",
      "708:\tlearn: 12.8828231\ttotal: 964ms\tremaining: 396ms\n",
      "709:\tlearn: 12.8828147\ttotal: 968ms\tremaining: 395ms\n",
      "710:\tlearn: 12.8828117\ttotal: 969ms\tremaining: 394ms\n",
      "711:\tlearn: 12.8828088\ttotal: 971ms\tremaining: 393ms\n",
      "712:\tlearn: 12.8828005\ttotal: 972ms\tremaining: 391ms\n",
      "713:\tlearn: 12.8827945\ttotal: 973ms\tremaining: 390ms\n",
      "714:\tlearn: 12.8827866\ttotal: 974ms\tremaining: 388ms\n",
      "715:\tlearn: 12.8827788\ttotal: 979ms\tremaining: 388ms\n",
      "716:\tlearn: 12.8827760\ttotal: 980ms\tremaining: 387ms\n",
      "717:\tlearn: 12.8827733\ttotal: 983ms\tremaining: 386ms\n",
      "718:\tlearn: 12.8827707\ttotal: 984ms\tremaining: 384ms\n",
      "719:\tlearn: 12.8827681\ttotal: 985ms\tremaining: 383ms\n",
      "720:\tlearn: 12.8827601\ttotal: 986ms\tremaining: 382ms\n",
      "721:\tlearn: 12.8827524\ttotal: 987ms\tremaining: 380ms\n",
      "722:\tlearn: 12.8827499\ttotal: 989ms\tremaining: 379ms\n",
      "723:\tlearn: 12.8827423\ttotal: 990ms\tremaining: 377ms\n",
      "724:\tlearn: 12.8827399\ttotal: 999ms\tremaining: 379ms\n",
      "725:\tlearn: 12.8827325\ttotal: 1s\tremaining: 378ms\n",
      "726:\tlearn: 12.8827301\ttotal: 1s\tremaining: 376ms\n",
      "727:\tlearn: 12.8827278\ttotal: 1s\tremaining: 375ms\n",
      "728:\tlearn: 12.8827256\ttotal: 1s\tremaining: 374ms\n",
      "729:\tlearn: 12.8827204\ttotal: 1.01s\tremaining: 372ms\n",
      "730:\tlearn: 12.8827119\ttotal: 1.01s\tremaining: 371ms\n",
      "731:\tlearn: 12.8827098\ttotal: 1.01s\tremaining: 369ms\n",
      "732:\tlearn: 12.8827078\ttotal: 1.01s\tremaining: 369ms\n",
      "733:\tlearn: 12.8827007\ttotal: 1.02s\tremaining: 368ms\n",
      "734:\tlearn: 12.8826987\ttotal: 1.02s\tremaining: 367ms\n",
      "735:\tlearn: 12.8826915\ttotal: 1.02s\tremaining: 366ms\n",
      "736:\tlearn: 12.8826836\ttotal: 1.02s\tremaining: 364ms\n",
      "737:\tlearn: 12.8826816\ttotal: 1.02s\tremaining: 363ms\n",
      "738:\tlearn: 12.8826749\ttotal: 1.02s\tremaining: 361ms\n",
      "739:\tlearn: 12.8826731\ttotal: 1.02s\tremaining: 360ms\n",
      "740:\tlearn: 12.8826685\ttotal: 1.03s\tremaining: 359ms\n",
      "741:\tlearn: 12.8826620\ttotal: 1.03s\tremaining: 358ms\n",
      "742:\tlearn: 12.8826556\ttotal: 1.03s\tremaining: 357ms\n",
      "743:\tlearn: 12.8826483\ttotal: 1.03s\tremaining: 355ms\n",
      "744:\tlearn: 12.8826422\ttotal: 1.03s\tremaining: 354ms\n",
      "745:\tlearn: 12.8826404\ttotal: 1.03s\tremaining: 352ms\n",
      "746:\tlearn: 12.8826386\ttotal: 1.04s\tremaining: 351ms\n",
      "747:\tlearn: 12.8826370\ttotal: 1.04s\tremaining: 349ms\n",
      "748:\tlearn: 12.8826353\ttotal: 1.04s\tremaining: 348ms\n",
      "749:\tlearn: 12.8826311\ttotal: 1.04s\tremaining: 346ms\n",
      "750:\tlearn: 12.8826252\ttotal: 1.04s\tremaining: 345ms\n",
      "751:\tlearn: 12.8826236\ttotal: 1.04s\tremaining: 344ms\n",
      "752:\tlearn: 12.8826221\ttotal: 1.04s\tremaining: 342ms\n",
      "753:\tlearn: 12.8826158\ttotal: 1.04s\tremaining: 341ms\n",
      "754:\tlearn: 12.8826092\ttotal: 1.04s\tremaining: 339ms\n",
      "755:\tlearn: 12.8826077\ttotal: 1.05s\tremaining: 338ms\n",
      "756:\tlearn: 12.8826063\ttotal: 1.05s\tremaining: 337ms\n",
      "757:\tlearn: 12.8826005\ttotal: 1.05s\tremaining: 335ms\n",
      "758:\tlearn: 12.8825991\ttotal: 1.05s\tremaining: 334ms\n",
      "759:\tlearn: 12.8825978\ttotal: 1.05s\tremaining: 332ms\n",
      "760:\tlearn: 12.8825917\ttotal: 1.05s\tremaining: 331ms\n",
      "761:\tlearn: 12.8825861\ttotal: 1.05s\tremaining: 330ms\n",
      "762:\tlearn: 12.8825848\ttotal: 1.06s\tremaining: 328ms\n",
      "763:\tlearn: 12.8825790\ttotal: 1.06s\tremaining: 327ms\n",
      "764:\tlearn: 12.8825735\ttotal: 1.06s\tremaining: 326ms\n",
      "765:\tlearn: 12.8825722\ttotal: 1.06s\tremaining: 324ms\n",
      "766:\tlearn: 12.8825710\ttotal: 1.06s\tremaining: 323ms\n",
      "767:\tlearn: 12.8825657\ttotal: 1.06s\tremaining: 321ms\n",
      "768:\tlearn: 12.8825605\ttotal: 1.06s\tremaining: 320ms\n",
      "769:\tlearn: 12.8825592\ttotal: 1.06s\tremaining: 318ms\n",
      "770:\tlearn: 12.8825580\ttotal: 1.07s\tremaining: 317ms\n",
      "771:\tlearn: 12.8825546\ttotal: 1.07s\tremaining: 315ms\n",
      "772:\tlearn: 12.8825534\ttotal: 1.07s\tremaining: 314ms\n",
      "773:\tlearn: 12.8825523\ttotal: 1.07s\tremaining: 313ms\n",
      "774:\tlearn: 12.8825469\ttotal: 1.07s\tremaining: 311ms\n",
      "775:\tlearn: 12.8825419\ttotal: 1.07s\tremaining: 310ms\n",
      "776:\tlearn: 12.8825408\ttotal: 1.07s\tremaining: 309ms\n",
      "777:\tlearn: 12.8825356\ttotal: 1.08s\tremaining: 308ms\n",
      "778:\tlearn: 12.8825305\ttotal: 1.08s\tremaining: 307ms\n"
     ]
    },
    {
     "name": "stdout",
     "output_type": "stream",
     "text": [
      "779:\tlearn: 12.8825294\ttotal: 1.08s\tremaining: 306ms\n",
      "780:\tlearn: 12.8825263\ttotal: 1.09s\tremaining: 305ms\n",
      "781:\tlearn: 12.8825253\ttotal: 1.09s\tremaining: 303ms\n",
      "782:\tlearn: 12.8825243\ttotal: 1.09s\tremaining: 302ms\n",
      "783:\tlearn: 12.8825195\ttotal: 1.09s\tremaining: 300ms\n",
      "784:\tlearn: 12.8825185\ttotal: 1.09s\tremaining: 299ms\n",
      "785:\tlearn: 12.8825176\ttotal: 1.09s\tremaining: 298ms\n",
      "786:\tlearn: 12.8825146\ttotal: 1.09s\tremaining: 296ms\n",
      "787:\tlearn: 12.8825100\ttotal: 1.1s\tremaining: 295ms\n",
      "788:\tlearn: 12.8825071\ttotal: 1.1s\tremaining: 294ms\n",
      "789:\tlearn: 12.8825062\ttotal: 1.1s\tremaining: 293ms\n",
      "790:\tlearn: 12.8825015\ttotal: 1.1s\tremaining: 291ms\n",
      "791:\tlearn: 12.8824969\ttotal: 1.1s\tremaining: 290ms\n",
      "792:\tlearn: 12.8824960\ttotal: 1.1s\tremaining: 288ms\n",
      "793:\tlearn: 12.8824933\ttotal: 1.1s\tremaining: 287ms\n",
      "794:\tlearn: 12.8824925\ttotal: 1.11s\tremaining: 285ms\n",
      "795:\tlearn: 12.8824916\ttotal: 1.11s\tremaining: 284ms\n",
      "796:\tlearn: 12.8824891\ttotal: 1.11s\tremaining: 282ms\n",
      "797:\tlearn: 12.8824883\ttotal: 1.11s\tremaining: 281ms\n",
      "798:\tlearn: 12.8824838\ttotal: 1.11s\tremaining: 280ms\n",
      "799:\tlearn: 12.8824831\ttotal: 1.11s\tremaining: 278ms\n",
      "800:\tlearn: 12.8824789\ttotal: 1.11s\tremaining: 277ms\n",
      "801:\tlearn: 12.8824781\ttotal: 1.11s\tremaining: 275ms\n",
      "802:\tlearn: 12.8824739\ttotal: 1.11s\tremaining: 274ms\n",
      "803:\tlearn: 12.8824731\ttotal: 1.12s\tremaining: 272ms\n",
      "804:\tlearn: 12.8824708\ttotal: 1.12s\tremaining: 271ms\n",
      "805:\tlearn: 12.8824666\ttotal: 1.12s\tremaining: 269ms\n",
      "806:\tlearn: 12.8824625\ttotal: 1.12s\tremaining: 268ms\n",
      "807:\tlearn: 12.8824603\ttotal: 1.12s\tremaining: 267ms\n",
      "808:\tlearn: 12.8824563\ttotal: 1.12s\tremaining: 265ms\n",
      "809:\tlearn: 12.8824525\ttotal: 1.12s\tremaining: 264ms\n",
      "810:\tlearn: 12.8824504\ttotal: 1.13s\tremaining: 262ms\n",
      "811:\tlearn: 12.8824466\ttotal: 1.13s\tremaining: 261ms\n",
      "812:\tlearn: 12.8824458\ttotal: 1.13s\tremaining: 259ms\n",
      "813:\tlearn: 12.8824421\ttotal: 1.13s\tremaining: 258ms\n",
      "814:\tlearn: 12.8824414\ttotal: 1.13s\tremaining: 257ms\n",
      "815:\tlearn: 12.8824378\ttotal: 1.13s\tremaining: 255ms\n",
      "816:\tlearn: 12.8824341\ttotal: 1.13s\tremaining: 254ms\n",
      "817:\tlearn: 12.8824307\ttotal: 1.14s\tremaining: 253ms\n",
      "818:\tlearn: 12.8824273\ttotal: 1.14s\tremaining: 253ms\n",
      "819:\tlearn: 12.8824265\ttotal: 1.14s\tremaining: 251ms\n",
      "820:\tlearn: 12.8824258\ttotal: 1.15s\tremaining: 250ms\n",
      "821:\tlearn: 12.8824225\ttotal: 1.15s\tremaining: 249ms\n",
      "822:\tlearn: 12.8824206\ttotal: 1.15s\tremaining: 247ms\n",
      "823:\tlearn: 12.8824172\ttotal: 1.15s\tremaining: 246ms\n",
      "824:\tlearn: 12.8824139\ttotal: 1.15s\tremaining: 244ms\n",
      "825:\tlearn: 12.8824132\ttotal: 1.15s\tremaining: 243ms\n",
      "826:\tlearn: 12.8824126\ttotal: 1.15s\tremaining: 242ms\n",
      "827:\tlearn: 12.8824119\ttotal: 1.16s\tremaining: 240ms\n",
      "828:\tlearn: 12.8824087\ttotal: 1.16s\tremaining: 239ms\n",
      "829:\tlearn: 12.8824052\ttotal: 1.16s\tremaining: 237ms\n",
      "830:\tlearn: 12.8824022\ttotal: 1.16s\tremaining: 236ms\n",
      "831:\tlearn: 12.8824015\ttotal: 1.16s\tremaining: 234ms\n",
      "832:\tlearn: 12.8823985\ttotal: 1.16s\tremaining: 233ms\n",
      "833:\tlearn: 12.8823956\ttotal: 1.16s\tremaining: 232ms\n",
      "834:\tlearn: 12.8823928\ttotal: 1.16s\tremaining: 230ms\n",
      "835:\tlearn: 12.8823899\ttotal: 1.17s\tremaining: 229ms\n",
      "836:\tlearn: 12.8823893\ttotal: 1.17s\tremaining: 227ms\n",
      "837:\tlearn: 12.8823887\ttotal: 1.17s\tremaining: 226ms\n",
      "838:\tlearn: 12.8823881\ttotal: 1.17s\tremaining: 224ms\n",
      "839:\tlearn: 12.8823875\ttotal: 1.17s\tremaining: 223ms\n",
      "840:\tlearn: 12.8823848\ttotal: 1.17s\tremaining: 222ms\n",
      "841:\tlearn: 12.8823818\ttotal: 1.17s\tremaining: 220ms\n",
      "842:\tlearn: 12.8823803\ttotal: 1.18s\tremaining: 219ms\n",
      "843:\tlearn: 12.8823788\ttotal: 1.18s\tremaining: 217ms\n",
      "844:\tlearn: 12.8823760\ttotal: 1.18s\tremaining: 216ms\n",
      "845:\tlearn: 12.8823734\ttotal: 1.18s\tremaining: 215ms\n",
      "846:\tlearn: 12.8823729\ttotal: 1.18s\tremaining: 213ms\n",
      "847:\tlearn: 12.8823700\ttotal: 1.18s\tremaining: 212ms\n",
      "848:\tlearn: 12.8823672\ttotal: 1.18s\tremaining: 210ms\n",
      "849:\tlearn: 12.8823658\ttotal: 1.18s\tremaining: 209ms\n",
      "850:\tlearn: 12.8823633\ttotal: 1.18s\tremaining: 207ms\n",
      "851:\tlearn: 12.8823628\ttotal: 1.19s\tremaining: 206ms\n",
      "852:\tlearn: 12.8823602\ttotal: 1.19s\tremaining: 205ms\n",
      "853:\tlearn: 12.8823597\ttotal: 1.19s\tremaining: 203ms\n",
      "854:\tlearn: 12.8823592\ttotal: 1.19s\tremaining: 202ms\n",
      "855:\tlearn: 12.8823587\ttotal: 1.19s\tremaining: 200ms\n",
      "856:\tlearn: 12.8823582\ttotal: 1.19s\tremaining: 199ms\n",
      "857:\tlearn: 12.8823578\ttotal: 1.19s\tremaining: 198ms\n",
      "858:\tlearn: 12.8823573\ttotal: 1.2s\tremaining: 196ms\n",
      "859:\tlearn: 12.8823569\ttotal: 1.2s\tremaining: 195ms\n",
      "860:\tlearn: 12.8823557\ttotal: 1.2s\tremaining: 193ms\n",
      "861:\tlearn: 12.8823531\ttotal: 1.2s\tremaining: 192ms\n",
      "862:\tlearn: 12.8823527\ttotal: 1.2s\tremaining: 191ms\n",
      "863:\tlearn: 12.8823503\ttotal: 1.2s\tremaining: 189ms\n",
      "864:\tlearn: 12.8823480\ttotal: 1.2s\tremaining: 188ms\n",
      "865:\tlearn: 12.8823476\ttotal: 1.21s\tremaining: 187ms\n",
      "866:\tlearn: 12.8823453\ttotal: 1.21s\tremaining: 185ms\n",
      "867:\tlearn: 12.8823430\ttotal: 1.21s\tremaining: 184ms\n",
      "868:\tlearn: 12.8823407\ttotal: 1.21s\tremaining: 183ms\n",
      "869:\tlearn: 12.8823396\ttotal: 1.21s\tremaining: 181ms\n",
      "870:\tlearn: 12.8823392\ttotal: 1.21s\tremaining: 180ms\n",
      "871:\tlearn: 12.8823388\ttotal: 1.22s\tremaining: 178ms\n",
      "872:\tlearn: 12.8823367\ttotal: 1.22s\tremaining: 177ms\n",
      "873:\tlearn: 12.8823346\ttotal: 1.22s\tremaining: 176ms\n",
      "874:\tlearn: 12.8823325\ttotal: 1.22s\tremaining: 174ms\n",
      "875:\tlearn: 12.8823321\ttotal: 1.22s\tremaining: 173ms\n",
      "876:\tlearn: 12.8823311\ttotal: 1.22s\tremaining: 171ms\n",
      "877:\tlearn: 12.8823289\ttotal: 1.22s\tremaining: 170ms\n",
      "878:\tlearn: 12.8823268\ttotal: 1.23s\tremaining: 169ms\n",
      "879:\tlearn: 12.8823264\ttotal: 1.23s\tremaining: 167ms\n",
      "880:\tlearn: 12.8823244\ttotal: 1.23s\tremaining: 166ms\n",
      "881:\tlearn: 12.8823240\ttotal: 1.23s\tremaining: 164ms\n",
      "882:\tlearn: 12.8823231\ttotal: 1.23s\tremaining: 163ms\n",
      "883:\tlearn: 12.8823211\ttotal: 1.23s\tremaining: 162ms\n",
      "884:\tlearn: 12.8823208\ttotal: 1.23s\tremaining: 160ms\n",
      "885:\tlearn: 12.8823205\ttotal: 1.24s\tremaining: 159ms\n",
      "886:\tlearn: 12.8823185\ttotal: 1.24s\tremaining: 158ms\n",
      "887:\tlearn: 12.8823167\ttotal: 1.24s\tremaining: 157ms\n",
      "888:\tlearn: 12.8823164\ttotal: 1.24s\tremaining: 155ms\n",
      "889:\tlearn: 12.8823160\ttotal: 1.24s\tremaining: 154ms\n",
      "890:\tlearn: 12.8823157\ttotal: 1.25s\tremaining: 153ms\n",
      "891:\tlearn: 12.8823154\ttotal: 1.25s\tremaining: 152ms\n",
      "892:\tlearn: 12.8823145\ttotal: 1.25s\tremaining: 150ms\n",
      "893:\tlearn: 12.8823137\ttotal: 1.26s\tremaining: 149ms\n",
      "894:\tlearn: 12.8823118\ttotal: 1.26s\tremaining: 148ms\n",
      "895:\tlearn: 12.8823100\ttotal: 1.26s\tremaining: 146ms\n",
      "896:\tlearn: 12.8823082\ttotal: 1.26s\tremaining: 145ms\n",
      "897:\tlearn: 12.8823079\ttotal: 1.26s\tremaining: 144ms\n",
      "898:\tlearn: 12.8823076\ttotal: 1.26s\tremaining: 142ms\n",
      "899:\tlearn: 12.8823074\ttotal: 1.27s\tremaining: 141ms\n",
      "900:\tlearn: 12.8823057\ttotal: 1.27s\tremaining: 139ms\n",
      "901:\tlearn: 12.8823039\ttotal: 1.27s\tremaining: 138ms\n",
      "902:\tlearn: 12.8823037\ttotal: 1.27s\tremaining: 136ms\n",
      "903:\tlearn: 12.8823029\ttotal: 1.27s\tremaining: 135ms\n",
      "904:\tlearn: 12.8823026\ttotal: 1.27s\tremaining: 134ms\n",
      "905:\tlearn: 12.8823024\ttotal: 1.27s\tremaining: 132ms\n",
      "906:\tlearn: 12.8823021\ttotal: 1.27s\tremaining: 131ms\n",
      "907:\tlearn: 12.8823019\ttotal: 1.27s\tremaining: 129ms\n",
      "908:\tlearn: 12.8823012\ttotal: 1.28s\tremaining: 128ms\n",
      "909:\tlearn: 12.8823009\ttotal: 1.28s\tremaining: 126ms\n",
      "910:\tlearn: 12.8822992\ttotal: 1.28s\tremaining: 125ms\n",
      "911:\tlearn: 12.8822976\ttotal: 1.28s\tremaining: 124ms\n",
      "912:\tlearn: 12.8822973\ttotal: 1.28s\tremaining: 122ms\n",
      "913:\tlearn: 12.8822966\ttotal: 1.28s\tremaining: 121ms\n",
      "914:\tlearn: 12.8822964\ttotal: 1.28s\tremaining: 119ms\n",
      "915:\tlearn: 12.8822957\ttotal: 1.28s\tremaining: 118ms\n",
      "916:\tlearn: 12.8822941\ttotal: 1.28s\tremaining: 116ms\n",
      "917:\tlearn: 12.8822925\ttotal: 1.29s\tremaining: 115ms\n",
      "918:\tlearn: 12.8822919\ttotal: 1.29s\tremaining: 114ms\n",
      "919:\tlearn: 12.8822917\ttotal: 1.29s\tremaining: 112ms\n",
      "920:\tlearn: 12.8822902\ttotal: 1.29s\tremaining: 111ms\n",
      "921:\tlearn: 12.8822899\ttotal: 1.29s\tremaining: 109ms\n",
      "922:\tlearn: 12.8822897\ttotal: 1.29s\tremaining: 108ms\n",
      "923:\tlearn: 12.8822895\ttotal: 1.29s\tremaining: 106ms\n",
      "924:\tlearn: 12.8822880\ttotal: 1.29s\tremaining: 105ms\n",
      "925:\tlearn: 12.8822878\ttotal: 1.3s\tremaining: 104ms\n",
      "926:\tlearn: 12.8822876\ttotal: 1.3s\tremaining: 102ms\n",
      "927:\tlearn: 12.8822875\ttotal: 1.3s\tremaining: 101ms\n",
      "928:\tlearn: 12.8822873\ttotal: 1.3s\tremaining: 99.4ms\n",
      "929:\tlearn: 12.8822858\ttotal: 1.3s\tremaining: 98ms\n",
      "930:\tlearn: 12.8822843\ttotal: 1.3s\tremaining: 96.6ms\n",
      "931:\tlearn: 12.8822841\ttotal: 1.3s\tremaining: 95.2ms\n",
      "932:\tlearn: 12.8822836\ttotal: 1.31s\tremaining: 93.8ms\n",
      "933:\tlearn: 12.8822821\ttotal: 1.31s\tremaining: 92.4ms\n",
      "934:\tlearn: 12.8822819\ttotal: 1.31s\tremaining: 91ms\n",
      "935:\tlearn: 12.8822806\ttotal: 1.31s\tremaining: 89.5ms\n",
      "936:\tlearn: 12.8822804\ttotal: 1.31s\tremaining: 88.1ms\n",
      "937:\tlearn: 12.8822790\ttotal: 1.31s\tremaining: 86.7ms\n",
      "938:\tlearn: 12.8822788\ttotal: 1.31s\tremaining: 85.3ms\n",
      "939:\tlearn: 12.8822787\ttotal: 1.31s\tremaining: 83.8ms\n",
      "940:\tlearn: 12.8822773\ttotal: 1.31s\tremaining: 82.4ms\n",
      "941:\tlearn: 12.8822760\ttotal: 1.31s\tremaining: 81ms\n",
      "942:\tlearn: 12.8822747\ttotal: 1.32s\tremaining: 79.6ms\n",
      "943:\tlearn: 12.8822734\ttotal: 1.32s\tremaining: 78.2ms\n",
      "944:\tlearn: 12.8822721\ttotal: 1.32s\tremaining: 76.8ms\n",
      "945:\tlearn: 12.8822709\ttotal: 1.32s\tremaining: 75.4ms\n",
      "946:\tlearn: 12.8822696\ttotal: 1.32s\tremaining: 74ms\n",
      "947:\tlearn: 12.8822694\ttotal: 1.32s\tremaining: 72.6ms\n",
      "948:\tlearn: 12.8822693\ttotal: 1.32s\tremaining: 71.2ms\n",
      "949:\tlearn: 12.8822681\ttotal: 1.33s\tremaining: 69.8ms\n",
      "950:\tlearn: 12.8822680\ttotal: 1.33s\tremaining: 68.4ms\n",
      "951:\tlearn: 12.8822678\ttotal: 1.33s\tremaining: 67ms\n",
      "952:\tlearn: 12.8822677\ttotal: 1.33s\tremaining: 65.6ms\n",
      "953:\tlearn: 12.8822665\ttotal: 1.33s\tremaining: 64.2ms\n",
      "954:\tlearn: 12.8822653\ttotal: 1.33s\tremaining: 62.7ms\n",
      "955:\tlearn: 12.8822643\ttotal: 1.33s\tremaining: 61.3ms\n",
      "956:\tlearn: 12.8822631\ttotal: 1.33s\tremaining: 60ms\n",
      "957:\tlearn: 12.8822621\ttotal: 1.33s\tremaining: 58.6ms\n",
      "958:\tlearn: 12.8822616\ttotal: 1.34s\tremaining: 57.1ms\n",
      "959:\tlearn: 12.8822615\ttotal: 1.34s\tremaining: 55.7ms\n",
      "960:\tlearn: 12.8822610\ttotal: 1.34s\tremaining: 54.3ms\n",
      "961:\tlearn: 12.8822600\ttotal: 1.34s\tremaining: 52.9ms\n",
      "962:\tlearn: 12.8822598\ttotal: 1.34s\tremaining: 51.5ms\n",
      "963:\tlearn: 12.8822597\ttotal: 1.34s\tremaining: 50.1ms\n",
      "964:\tlearn: 12.8822596\ttotal: 1.34s\tremaining: 48.7ms\n",
      "965:\tlearn: 12.8822591\ttotal: 1.34s\tremaining: 47.3ms\n",
      "966:\tlearn: 12.8822590\ttotal: 1.34s\tremaining: 45.9ms\n",
      "967:\tlearn: 12.8822589\ttotal: 1.34s\tremaining: 44.5ms\n",
      "968:\tlearn: 12.8822585\ttotal: 1.35s\tremaining: 43.1ms\n",
      "969:\tlearn: 12.8822584\ttotal: 1.35s\tremaining: 41.7ms\n",
      "970:\tlearn: 12.8822580\ttotal: 1.35s\tremaining: 40.3ms\n",
      "971:\tlearn: 12.8822569\ttotal: 1.35s\tremaining: 38.9ms\n",
      "972:\tlearn: 12.8822559\ttotal: 1.35s\tremaining: 37.5ms\n",
      "973:\tlearn: 12.8822555\ttotal: 1.35s\tremaining: 36.1ms\n",
      "974:\tlearn: 12.8822554\ttotal: 1.35s\tremaining: 34.7ms\n",
      "975:\tlearn: 12.8822551\ttotal: 1.35s\tremaining: 33.3ms\n",
      "976:\tlearn: 12.8822549\ttotal: 1.35s\tremaining: 31.9ms\n",
      "977:\tlearn: 12.8822546\ttotal: 1.36s\tremaining: 30.5ms\n",
      "978:\tlearn: 12.8822545\ttotal: 1.36s\tremaining: 29.1ms\n",
      "979:\tlearn: 12.8822535\ttotal: 1.36s\tremaining: 27.7ms\n",
      "980:\tlearn: 12.8822525\ttotal: 1.36s\tremaining: 26.3ms\n",
      "981:\tlearn: 12.8822515\ttotal: 1.36s\tremaining: 25ms\n",
      "982:\tlearn: 12.8822505\ttotal: 1.36s\tremaining: 23.6ms\n",
      "983:\tlearn: 12.8822496\ttotal: 1.37s\tremaining: 22.2ms\n",
      "984:\tlearn: 12.8822495\ttotal: 1.37s\tremaining: 20.8ms\n",
      "985:\tlearn: 12.8822486\ttotal: 1.37s\tremaining: 19.4ms\n",
      "986:\tlearn: 12.8822477\ttotal: 1.37s\tremaining: 18ms\n",
      "987:\tlearn: 12.8822468\ttotal: 1.37s\tremaining: 16.6ms\n",
      "988:\tlearn: 12.8822467\ttotal: 1.37s\tremaining: 15.3ms\n",
      "989:\tlearn: 12.8822466\ttotal: 1.37s\tremaining: 13.9ms\n",
      "990:\tlearn: 12.8822465\ttotal: 1.37s\tremaining: 12.5ms\n",
      "991:\tlearn: 12.8822456\ttotal: 1.37s\tremaining: 11.1ms\n",
      "992:\tlearn: 12.8822455\ttotal: 1.38s\tremaining: 9.7ms\n",
      "993:\tlearn: 12.8822453\ttotal: 1.38s\tremaining: 8.31ms\n",
      "994:\tlearn: 12.8822444\ttotal: 1.38s\tremaining: 6.92ms\n",
      "995:\tlearn: 12.8822435\ttotal: 1.38s\tremaining: 5.54ms\n",
      "996:\tlearn: 12.8822434\ttotal: 1.38s\tremaining: 4.15ms\n",
      "997:\tlearn: 12.8822432\ttotal: 1.38s\tremaining: 2.77ms\n",
      "998:\tlearn: 12.8822431\ttotal: 1.38s\tremaining: 1.38ms\n",
      "999:\tlearn: 12.8822422\ttotal: 1.38s\tremaining: 0us\n"
     ]
    }
   ],
   "source": [
    "catb = CatBoostRegressor()\n",
    "catb_model = catb.fit(X_train, y_train)"
   ]
  },
  {
   "cell_type": "markdown",
   "id": "d76c9003",
   "metadata": {},
   "source": [
    "***Tahmin***"
   ]
  },
  {
   "cell_type": "code",
   "execution_count": 933,
   "id": "b3879a07",
   "metadata": {},
   "outputs": [
    {
     "name": "stdout",
     "output_type": "stream",
     "text": [
      "RMSE:  16.888321464267445\n"
     ]
    }
   ],
   "source": [
    "y_pred = catb_model.predict(X_test)\n",
    "print(\"RMSE: \",np.sqrt(mean_squared_error(y_test, y_pred)))"
   ]
  },
  {
   "cell_type": "markdown",
   "id": "f2c3db4b",
   "metadata": {},
   "source": [
    "***Model Tuning***"
   ]
  },
  {
   "cell_type": "code",
   "execution_count": 934,
   "id": "9de33e9c",
   "metadata": {},
   "outputs": [],
   "source": [
    "catb_grid = {\n",
    "    'iterations': [200,500,1000,2000],\n",
    "    'learning_rate': [0.01, 0.03, 0.05, 0.1],\n",
    "    'depth': [3,4,5,6,7,8] }"
   ]
  },
  {
   "cell_type": "code",
   "execution_count": 935,
   "id": "82a1b0da",
   "metadata": {},
   "outputs": [],
   "source": [
    "catb = CatBoostRegressor()\n",
    "catb_cv_model = GridSearchCV(catb, catb_grid, cv=5, n_jobs = -1, verbose = 2)"
   ]
  },
  {
   "cell_type": "code",
   "execution_count": 936,
   "id": "d853cdeb",
   "metadata": {
    "collapsed": true
   },
   "outputs": [
    {
     "name": "stdout",
     "output_type": "stream",
     "text": [
      "Fitting 5 folds for each of 96 candidates, totalling 480 fits\n",
      "0:\tlearn: 16.3742885\ttotal: 425us\tremaining: 84.7ms\n",
      "1:\tlearn: 16.3438303\ttotal: 1.03ms\tremaining: 102ms\n",
      "2:\tlearn: 16.3135531\ttotal: 1.33ms\tremaining: 87.3ms\n",
      "3:\tlearn: 16.2840717\ttotal: 1.64ms\tremaining: 80.4ms\n",
      "4:\tlearn: 16.2547600\ttotal: 1.93ms\tremaining: 75.4ms\n",
      "5:\tlearn: 16.2442253\ttotal: 2.14ms\tremaining: 69.1ms\n",
      "6:\tlearn: 16.2145682\ttotal: 2.39ms\tremaining: 65.9ms\n",
      "7:\tlearn: 16.1866913\ttotal: 2.67ms\tremaining: 64.2ms\n",
      "8:\tlearn: 16.1590562\ttotal: 2.97ms\tremaining: 63ms\n",
      "9:\tlearn: 16.1291129\ttotal: 3.25ms\tremaining: 61.8ms\n",
      "10:\tlearn: 16.1013655\ttotal: 3.52ms\tremaining: 60.5ms\n",
      "11:\tlearn: 16.0750782\ttotal: 3.8ms\tremaining: 59.5ms\n",
      "12:\tlearn: 16.0464911\ttotal: 4.11ms\tremaining: 59.1ms\n",
      "13:\tlearn: 16.0209387\ttotal: 4.39ms\tremaining: 58.4ms\n",
      "14:\tlearn: 15.9949872\ttotal: 4.66ms\tremaining: 57.5ms\n",
      "15:\tlearn: 15.9702817\ttotal: 4.94ms\tremaining: 56.8ms\n",
      "16:\tlearn: 15.9460916\ttotal: 5.21ms\tremaining: 56.1ms\n",
      "17:\tlearn: 15.9195867\ttotal: 5.5ms\tremaining: 55.6ms\n",
      "18:\tlearn: 15.8953240\ttotal: 5.78ms\tremaining: 55ms\n",
      "19:\tlearn: 15.8722062\ttotal: 6.05ms\tremaining: 54.4ms\n",
      "20:\tlearn: 15.8572314\ttotal: 6.33ms\tremaining: 54ms\n",
      "21:\tlearn: 15.8324170\ttotal: 6.62ms\tremaining: 53.6ms\n",
      "22:\tlearn: 15.8095099\ttotal: 6.92ms\tremaining: 53.2ms\n",
      "23:\tlearn: 15.7870035\ttotal: 7.2ms\tremaining: 52.8ms\n",
      "24:\tlearn: 15.7633711\ttotal: 7.49ms\tremaining: 52.4ms\n",
      "25:\tlearn: 15.7425531\ttotal: 7.93ms\tremaining: 53.1ms\n",
      "26:\tlearn: 15.7217923\ttotal: 8.28ms\tremaining: 53ms\n",
      "27:\tlearn: 15.7007729\ttotal: 8.56ms\tremaining: 52.6ms\n",
      "28:\tlearn: 15.6807101\ttotal: 8.83ms\tremaining: 52.1ms\n",
      "29:\tlearn: 15.6610855\ttotal: 9.08ms\tremaining: 51.4ms\n",
      "30:\tlearn: 15.6542155\ttotal: 9.27ms\tremaining: 50.5ms\n",
      "31:\tlearn: 15.6474734\ttotal: 9.45ms\tremaining: 49.6ms\n",
      "32:\tlearn: 15.6257110\ttotal: 9.72ms\tremaining: 49.2ms\n",
      "33:\tlearn: 15.6145764\ttotal: 9.99ms\tremaining: 48.8ms\n",
      "34:\tlearn: 15.5933098\ttotal: 10.3ms\tremaining: 48.3ms\n",
      "35:\tlearn: 15.5870183\ttotal: 10.5ms\tremaining: 47.7ms\n",
      "36:\tlearn: 15.5774429\ttotal: 10.8ms\tremaining: 47.4ms\n",
      "37:\tlearn: 15.5592825\ttotal: 11ms\tremaining: 47.1ms\n",
      "38:\tlearn: 15.5388998\ttotal: 11.3ms\tremaining: 46.7ms\n",
      "39:\tlearn: 15.5330297\ttotal: 11.5ms\tremaining: 45.9ms\n",
      "40:\tlearn: 15.5155728\ttotal: 11.8ms\tremaining: 45.6ms\n",
      "41:\tlearn: 15.5079737\ttotal: 12ms\tremaining: 45.2ms\n",
      "42:\tlearn: 15.4908999\ttotal: 12.3ms\tremaining: 44.8ms\n",
      "43:\tlearn: 15.4742563\ttotal: 12.5ms\tremaining: 44.4ms\n",
      "44:\tlearn: 15.4552899\ttotal: 12.8ms\tremaining: 44.1ms\n",
      "45:\tlearn: 15.4366405\ttotal: 13.1ms\tremaining: 43.8ms\n",
      "46:\tlearn: 15.4280927\ttotal: 13.4ms\tremaining: 43.6ms\n",
      "47:\tlearn: 15.4120675\ttotal: 13.7ms\tremaining: 43.3ms\n",
      "48:\tlearn: 15.4007918\ttotal: 14ms\tremaining: 43.1ms\n",
      "49:\tlearn: 15.3830377\ttotal: 14.3ms\tremaining: 42.8ms\n",
      "50:\tlearn: 15.3672667\ttotal: 14.5ms\tremaining: 42.5ms\n",
      "51:\tlearn: 15.3517780\ttotal: 14.8ms\tremaining: 42.2ms\n",
      "52:\tlearn: 15.3365668\ttotal: 15.1ms\tremaining: 41.9ms\n",
      "53:\tlearn: 15.3197684\ttotal: 15.4ms\tremaining: 41.6ms\n",
      "54:\tlearn: 15.3050822\ttotal: 15.7ms\tremaining: 41.3ms\n",
      "55:\tlearn: 15.2906597\ttotal: 16ms\tremaining: 41ms\n",
      "56:\tlearn: 15.2764966\ttotal: 16.2ms\tremaining: 40.7ms\n",
      "57:\tlearn: 15.2628725\ttotal: 16.5ms\tremaining: 40.4ms\n",
      "58:\tlearn: 15.2541296\ttotal: 16.8ms\tremaining: 40.1ms\n",
      "59:\tlearn: 15.2387646\ttotal: 17ms\tremaining: 39.8ms\n",
      "60:\tlearn: 15.2317802\ttotal: 17.3ms\tremaining: 39.5ms\n",
      "61:\tlearn: 15.2184625\ttotal: 17.6ms\tremaining: 39.1ms\n",
      "62:\tlearn: 15.2053851\ttotal: 17.8ms\tremaining: 38.8ms\n",
      "63:\tlearn: 15.1906780\ttotal: 18.1ms\tremaining: 38.5ms\n",
      "64:\tlearn: 15.1780552\ttotal: 18.5ms\tremaining: 38.3ms\n",
      "65:\tlearn: 15.1638124\ttotal: 18.8ms\tremaining: 38.1ms\n",
      "66:\tlearn: 15.1558921\ttotal: 19.1ms\tremaining: 37.9ms\n",
      "67:\tlearn: 15.1440525\ttotal: 19.4ms\tremaining: 37.6ms\n",
      "68:\tlearn: 15.1320801\ttotal: 19.7ms\tremaining: 37.3ms\n",
      "69:\tlearn: 15.1251123\ttotal: 20ms\tremaining: 37.2ms\n",
      "70:\tlearn: 15.1116368\ttotal: 20.3ms\tremaining: 37ms\n",
      "71:\tlearn: 15.0983201\ttotal: 20.6ms\tremaining: 36.7ms\n",
      "72:\tlearn: 15.0874397\ttotal: 20.9ms\tremaining: 36.3ms\n",
      "73:\tlearn: 15.0766291\ttotal: 21.2ms\tremaining: 36ms\n",
      "74:\tlearn: 15.0639371\ttotal: 21.4ms\tremaining: 35.7ms\n",
      "75:\tlearn: 15.0514052\ttotal: 21.7ms\tremaining: 35.4ms\n",
      "76:\tlearn: 15.0426554\ttotal: 22ms\tremaining: 35.1ms\n",
      "77:\tlearn: 15.0350584\ttotal: 22.3ms\tremaining: 34.9ms\n",
      "78:\tlearn: 15.0247275\ttotal: 22.6ms\tremaining: 34.6ms\n",
      "79:\tlearn: 15.0162269\ttotal: 23ms\tremaining: 34.4ms\n",
      "80:\tlearn: 15.0115772\ttotal: 23.3ms\tremaining: 34.2ms\n",
      "81:\tlearn: 14.9996509\ttotal: 23.6ms\tremaining: 33.9ms\n",
      "82:\tlearn: 14.9913829\ttotal: 23.9ms\tremaining: 33.6ms\n",
      "83:\tlearn: 14.9832463\ttotal: 24.2ms\tremaining: 33.4ms\n",
      "84:\tlearn: 14.9717554\ttotal: 24.5ms\tremaining: 33.2ms\n",
      "85:\tlearn: 14.9604614\ttotal: 24.9ms\tremaining: 33ms\n",
      "86:\tlearn: 14.9509092\ttotal: 25.2ms\tremaining: 32.7ms\n",
      "87:\tlearn: 14.9415315\ttotal: 25.5ms\tremaining: 32.4ms\n",
      "88:\tlearn: 14.9325441\ttotal: 25.7ms\tremaining: 32.1ms\n",
      "89:\tlearn: 14.9253165\ttotal: 26ms\tremaining: 31.8ms\n",
      "90:\tlearn: 14.9199160\ttotal: 26.3ms\tremaining: 31.5ms\n",
      "91:\tlearn: 14.9109963\ttotal: 26.6ms\tremaining: 31.2ms\n",
      "92:\tlearn: 14.9034419\ttotal: 26.8ms\tremaining: 30.9ms\n",
      "93:\tlearn: 14.8949516\ttotal: 27.1ms\tremaining: 30.6ms\n",
      "94:\tlearn: 14.8863025\ttotal: 27.4ms\tremaining: 30.3ms\n",
      "95:\tlearn: 14.8778875\ttotal: 27.8ms\tremaining: 30.1ms\n",
      "96:\tlearn: 14.8695448\ttotal: 28ms\tremaining: 29.8ms\n",
      "97:\tlearn: 14.8623158\ttotal: 28.3ms\tremaining: 29.5ms\n",
      "98:\tlearn: 14.8552017\ttotal: 28.6ms\tremaining: 29.2ms\n",
      "99:\tlearn: 14.8529912\ttotal: 28.9ms\tremaining: 28.9ms\n",
      "100:\tlearn: 14.8467407\ttotal: 29.1ms\tremaining: 28.6ms\n",
      "101:\tlearn: 14.8419751\ttotal: 29.4ms\tremaining: 28.3ms\n",
      "102:\tlearn: 14.8339885\ttotal: 29.7ms\tremaining: 28ms\n",
      "103:\tlearn: 14.8244696\ttotal: 30ms\tremaining: 27.7ms\n",
      "104:\tlearn: 14.8151205\ttotal: 30.4ms\tremaining: 27.5ms\n",
      "105:\tlearn: 14.8075577\ttotal: 30.7ms\tremaining: 27.2ms\n",
      "106:\tlearn: 14.8003845\ttotal: 31ms\tremaining: 27ms\n",
      "107:\tlearn: 14.7984944\ttotal: 31.2ms\tremaining: 26.6ms\n",
      "108:\tlearn: 14.7936009\ttotal: 31.5ms\tremaining: 26.3ms\n",
      "109:\tlearn: 14.7912369\ttotal: 31.8ms\tremaining: 26ms\n",
      "110:\tlearn: 14.7846165\ttotal: 32.2ms\tremaining: 25.8ms\n",
      "111:\tlearn: 14.7798290\ttotal: 32.5ms\tremaining: 25.5ms\n",
      "112:\tlearn: 14.7729441\ttotal: 32.8ms\tremaining: 25.2ms\n",
      "113:\tlearn: 14.7695823\ttotal: 33ms\tremaining: 24.9ms\n",
      "114:\tlearn: 14.7626147\ttotal: 33.3ms\tremaining: 24.6ms\n",
      "115:\tlearn: 14.7562603\ttotal: 33.6ms\tremaining: 24.3ms\n",
      "116:\tlearn: 14.7494625\ttotal: 33.8ms\tremaining: 24ms\n",
      "117:\tlearn: 14.7411775\ttotal: 34.1ms\tremaining: 23.7ms\n",
      "118:\tlearn: 14.7393178\ttotal: 34.4ms\tremaining: 23.4ms\n",
      "119:\tlearn: 14.7330117\ttotal: 34.8ms\tremaining: 23.2ms\n",
      "120:\tlearn: 14.7274691\ttotal: 35.1ms\tremaining: 22.9ms\n",
      "121:\tlearn: 14.7243873\ttotal: 35.4ms\tremaining: 22.6ms\n",
      "122:\tlearn: 14.7240470\ttotal: 35.7ms\tremaining: 22.3ms\n",
      "123:\tlearn: 14.7180387\ttotal: 36ms\tremaining: 22ms\n",
      "124:\tlearn: 14.7117268\ttotal: 36.3ms\tremaining: 21.8ms\n",
      "125:\tlearn: 14.7055314\ttotal: 36.6ms\tremaining: 21.5ms\n",
      "126:\tlearn: 14.7000783\ttotal: 36.9ms\tremaining: 21.2ms\n",
      "127:\tlearn: 14.6926903\ttotal: 37.2ms\tremaining: 20.9ms\n",
      "128:\tlearn: 14.6869552\ttotal: 37.5ms\tremaining: 20.6ms\n",
      "129:\tlearn: 14.6810959\ttotal: 37.8ms\tremaining: 20.4ms\n",
      "130:\tlearn: 14.6779226\ttotal: 38.1ms\tremaining: 20.1ms\n",
      "131:\tlearn: 14.6708342\ttotal: 38.4ms\tremaining: 19.8ms\n",
      "132:\tlearn: 14.6651031\ttotal: 38.7ms\tremaining: 19.5ms\n",
      "133:\tlearn: 14.6594551\ttotal: 39ms\tremaining: 19.2ms\n",
      "134:\tlearn: 14.6539829\ttotal: 39.3ms\tremaining: 18.9ms\n",
      "135:\tlearn: 14.6484894\ttotal: 39.6ms\tremaining: 18.6ms\n",
      "136:\tlearn: 14.6432631\ttotal: 39.9ms\tremaining: 18.4ms\n",
      "137:\tlearn: 14.6430182\ttotal: 40.2ms\tremaining: 18ms\n",
      "138:\tlearn: 14.6378619\ttotal: 40.5ms\tremaining: 17.8ms\n",
      "139:\tlearn: 14.6336906\ttotal: 40.8ms\tremaining: 17.5ms\n",
      "140:\tlearn: 14.6317466\ttotal: 41.1ms\tremaining: 17.2ms\n",
      "141:\tlearn: 14.6253041\ttotal: 41.4ms\tremaining: 16.9ms\n",
      "142:\tlearn: 14.6239387\ttotal: 41.6ms\tremaining: 16.6ms\n",
      "143:\tlearn: 14.6176329\ttotal: 41.9ms\tremaining: 16.3ms\n",
      "144:\tlearn: 14.6126447\ttotal: 42.2ms\tremaining: 16ms\n",
      "145:\tlearn: 14.6060261\ttotal: 42.5ms\tremaining: 15.7ms\n",
      "146:\tlearn: 14.6010844\ttotal: 42.8ms\tremaining: 15.4ms\n",
      "147:\tlearn: 14.5976053\ttotal: 43.2ms\tremaining: 15.2ms\n",
      "148:\tlearn: 14.5916239\ttotal: 43.5ms\tremaining: 14.9ms\n",
      "149:\tlearn: 14.5884587\ttotal: 43.8ms\tremaining: 14.6ms\n",
      "150:\tlearn: 14.5825316\ttotal: 44.1ms\tremaining: 14.3ms\n",
      "151:\tlearn: 14.5762116\ttotal: 44.4ms\tremaining: 14ms\n",
      "152:\tlearn: 14.5715696\ttotal: 44.9ms\tremaining: 13.8ms\n",
      "153:\tlearn: 14.5668262\ttotal: 45.2ms\tremaining: 13.5ms\n",
      "154:\tlearn: 14.5611870\ttotal: 45.4ms\tremaining: 13.2ms\n",
      "155:\tlearn: 14.5575538\ttotal: 45.8ms\tremaining: 12.9ms\n",
      "156:\tlearn: 14.5563766\ttotal: 46ms\tremaining: 12.6ms\n",
      "157:\tlearn: 14.5527854\ttotal: 46.2ms\tremaining: 12.3ms\n",
      "158:\tlearn: 14.5491331\ttotal: 46.6ms\tremaining: 12ms\n",
      "159:\tlearn: 14.5446955\ttotal: 46.9ms\tremaining: 11.7ms\n",
      "160:\tlearn: 14.5434469\ttotal: 47.1ms\tremaining: 11.4ms\n",
      "161:\tlearn: 14.5422805\ttotal: 47.3ms\tremaining: 11.1ms\n",
      "162:\tlearn: 14.5368671\ttotal: 47.6ms\tremaining: 10.8ms\n",
      "163:\tlearn: 14.5324753\ttotal: 47.9ms\tremaining: 10.5ms\n",
      "164:\tlearn: 14.5282110\ttotal: 48.2ms\tremaining: 10.2ms\n",
      "165:\tlearn: 14.5226753\ttotal: 48.5ms\tremaining: 9.93ms\n",
      "166:\tlearn: 14.5173209\ttotal: 48.8ms\tremaining: 9.64ms\n",
      "167:\tlearn: 14.5144243\ttotal: 49.1ms\tremaining: 9.35ms\n",
      "168:\tlearn: 14.5099607\ttotal: 49.4ms\tremaining: 9.07ms\n",
      "169:\tlearn: 14.5071890\ttotal: 49.7ms\tremaining: 8.78ms\n",
      "170:\tlearn: 14.5021236\ttotal: 50.1ms\tremaining: 8.49ms\n",
      "171:\tlearn: 14.4980415\ttotal: 50.3ms\tremaining: 8.19ms\n",
      "172:\tlearn: 14.4940920\ttotal: 50.6ms\tremaining: 7.9ms\n",
      "173:\tlearn: 14.4901162\ttotal: 50.9ms\tremaining: 7.61ms\n",
      "174:\tlearn: 14.4858674\ttotal: 51.2ms\tremaining: 7.32ms\n",
      "175:\tlearn: 14.4816650\ttotal: 51.5ms\tremaining: 7.03ms\n",
      "176:\tlearn: 14.4769801\ttotal: 51.8ms\tremaining: 6.73ms\n",
      "177:\tlearn: 14.4737053\ttotal: 52.1ms\tremaining: 6.43ms\n",
      "178:\tlearn: 14.4699387\ttotal: 52.3ms\tremaining: 6.14ms\n",
      "179:\tlearn: 14.4652919\ttotal: 52.6ms\tremaining: 5.85ms\n",
      "180:\tlearn: 14.4616561\ttotal: 52.9ms\tremaining: 5.55ms\n",
      "181:\tlearn: 14.4564541\ttotal: 53.2ms\tremaining: 5.26ms\n",
      "182:\tlearn: 14.4526980\ttotal: 53.4ms\tremaining: 4.96ms\n",
      "183:\tlearn: 14.4518181\ttotal: 53.6ms\tremaining: 4.67ms\n",
      "184:\tlearn: 14.4474272\ttotal: 53.9ms\tremaining: 4.37ms\n",
      "185:\tlearn: 14.4431132\ttotal: 54.2ms\tremaining: 4.08ms\n",
      "186:\tlearn: 14.4410080\ttotal: 54.5ms\tremaining: 3.79ms\n",
      "187:\tlearn: 14.4376667\ttotal: 54.8ms\tremaining: 3.5ms\n",
      "188:\tlearn: 14.4340512\ttotal: 55.1ms\tremaining: 3.21ms\n",
      "189:\tlearn: 14.4310004\ttotal: 55.4ms\tremaining: 2.92ms\n",
      "190:\tlearn: 14.4299427\ttotal: 55.7ms\tremaining: 2.63ms\n",
      "191:\tlearn: 14.4291266\ttotal: 56ms\tremaining: 2.33ms\n",
      "192:\tlearn: 14.4261604\ttotal: 56.3ms\tremaining: 2.04ms\n",
      "193:\tlearn: 14.4237139\ttotal: 56.5ms\tremaining: 1.75ms\n",
      "194:\tlearn: 14.4200886\ttotal: 56.8ms\tremaining: 1.46ms\n",
      "195:\tlearn: 14.4163539\ttotal: 57.2ms\tremaining: 1.17ms\n",
      "196:\tlearn: 14.4155887\ttotal: 57.4ms\tremaining: 874us\n",
      "197:\tlearn: 14.4145952\ttotal: 57.6ms\tremaining: 582us\n",
      "198:\tlearn: 14.4099048\ttotal: 57.9ms\tremaining: 291us\n",
      "199:\tlearn: 14.4073813\ttotal: 58.2ms\tremaining: 0us\n",
      "0:03:04.458305\n"
     ]
    }
   ],
   "source": [
    "t1 =  datetime.now()\n",
    "catb_cv_model.fit(X_train, y_train)\n",
    "t2 =  datetime.now()\n",
    "print(t2-t1)"
   ]
  },
  {
   "cell_type": "code",
   "execution_count": 937,
   "id": "63d7e39c",
   "metadata": {},
   "outputs": [
    {
     "data": {
      "text/plain": [
       "{'depth': 3, 'iterations': 200, 'learning_rate': 0.01}"
      ]
     },
     "execution_count": 937,
     "metadata": {},
     "output_type": "execute_result"
    }
   ],
   "source": [
    "catb_cv_model.best_params_"
   ]
  },
  {
   "cell_type": "code",
   "execution_count": 939,
   "id": "1a93e2cb",
   "metadata": {
    "collapsed": true
   },
   "outputs": [
    {
     "name": "stdout",
     "output_type": "stream",
     "text": [
      "0:\tlearn: 16.3742885\ttotal: 369us\tremaining: 73.5ms\n",
      "1:\tlearn: 16.3438303\ttotal: 845us\tremaining: 83.7ms\n",
      "2:\tlearn: 16.3135531\ttotal: 1.1ms\tremaining: 72.5ms\n",
      "3:\tlearn: 16.2840717\ttotal: 1.37ms\tremaining: 67ms\n",
      "4:\tlearn: 16.2547600\ttotal: 1.63ms\tremaining: 63.5ms\n",
      "5:\tlearn: 16.2442253\ttotal: 1.81ms\tremaining: 58.6ms\n",
      "6:\tlearn: 16.2145682\ttotal: 2.08ms\tremaining: 57.4ms\n",
      "7:\tlearn: 16.1866913\ttotal: 2.34ms\tremaining: 56.2ms\n",
      "8:\tlearn: 16.1590562\ttotal: 2.6ms\tremaining: 55.2ms\n",
      "9:\tlearn: 16.1291129\ttotal: 2.87ms\tremaining: 54.4ms\n",
      "10:\tlearn: 16.1013655\ttotal: 3.12ms\tremaining: 53.7ms\n",
      "11:\tlearn: 16.0750782\ttotal: 3.4ms\tremaining: 53.3ms\n",
      "12:\tlearn: 16.0464911\ttotal: 3.67ms\tremaining: 52.8ms\n",
      "13:\tlearn: 16.0209387\ttotal: 3.92ms\tremaining: 52.1ms\n",
      "14:\tlearn: 15.9949872\ttotal: 4.15ms\tremaining: 51.2ms\n",
      "15:\tlearn: 15.9702817\ttotal: 4.42ms\tremaining: 50.9ms\n",
      "16:\tlearn: 15.9460916\ttotal: 4.68ms\tremaining: 50.4ms\n",
      "17:\tlearn: 15.9195867\ttotal: 4.96ms\tremaining: 50.1ms\n",
      "18:\tlearn: 15.8953240\ttotal: 5.22ms\tremaining: 49.7ms\n",
      "19:\tlearn: 15.8722062\ttotal: 5.47ms\tremaining: 49.3ms\n",
      "20:\tlearn: 15.8572314\ttotal: 5.72ms\tremaining: 48.8ms\n",
      "21:\tlearn: 15.8324170\ttotal: 5.98ms\tremaining: 48.4ms\n",
      "22:\tlearn: 15.8095099\ttotal: 6.22ms\tremaining: 47.9ms\n",
      "23:\tlearn: 15.7870035\ttotal: 6.48ms\tremaining: 47.5ms\n",
      "24:\tlearn: 15.7633711\ttotal: 6.74ms\tremaining: 47.2ms\n",
      "25:\tlearn: 15.7425531\ttotal: 7ms\tremaining: 46.8ms\n",
      "26:\tlearn: 15.7217923\ttotal: 7.26ms\tremaining: 46.5ms\n",
      "27:\tlearn: 15.7007729\ttotal: 7.52ms\tremaining: 46.2ms\n",
      "28:\tlearn: 15.6807101\ttotal: 7.79ms\tremaining: 45.9ms\n",
      "29:\tlearn: 15.6610855\ttotal: 8.04ms\tremaining: 45.6ms\n",
      "30:\tlearn: 15.6542155\ttotal: 8.23ms\tremaining: 44.9ms\n",
      "31:\tlearn: 15.6474734\ttotal: 8.41ms\tremaining: 44.2ms\n",
      "32:\tlearn: 15.6257110\ttotal: 8.67ms\tremaining: 43.9ms\n",
      "33:\tlearn: 15.6145764\ttotal: 8.94ms\tremaining: 43.6ms\n",
      "34:\tlearn: 15.5933098\ttotal: 9.19ms\tremaining: 43.3ms\n",
      "35:\tlearn: 15.5870183\ttotal: 9.38ms\tremaining: 42.8ms\n",
      "36:\tlearn: 15.5774429\ttotal: 9.64ms\tremaining: 42.5ms\n",
      "37:\tlearn: 15.5592825\ttotal: 9.89ms\tremaining: 42.2ms\n",
      "38:\tlearn: 15.5388998\ttotal: 10.1ms\tremaining: 41.8ms\n",
      "39:\tlearn: 15.5330297\ttotal: 10.3ms\tremaining: 41.3ms\n",
      "40:\tlearn: 15.5155728\ttotal: 10.7ms\tremaining: 41.5ms\n",
      "41:\tlearn: 15.5079737\ttotal: 11ms\tremaining: 41.3ms\n",
      "42:\tlearn: 15.4908999\ttotal: 11.2ms\tremaining: 41ms\n",
      "43:\tlearn: 15.4742563\ttotal: 11.5ms\tremaining: 40.8ms\n",
      "44:\tlearn: 15.4552899\ttotal: 11.8ms\tremaining: 40.6ms\n",
      "45:\tlearn: 15.4366405\ttotal: 12.1ms\tremaining: 40.3ms\n",
      "46:\tlearn: 15.4280927\ttotal: 12.3ms\tremaining: 40.1ms\n",
      "47:\tlearn: 15.4120675\ttotal: 12.6ms\tremaining: 39.9ms\n",
      "48:\tlearn: 15.4007918\ttotal: 12.9ms\tremaining: 39.7ms\n",
      "49:\tlearn: 15.3830377\ttotal: 13.1ms\tremaining: 39.4ms\n",
      "50:\tlearn: 15.3672667\ttotal: 13.4ms\tremaining: 39.2ms\n",
      "51:\tlearn: 15.3517780\ttotal: 13.7ms\tremaining: 39ms\n",
      "52:\tlearn: 15.3365668\ttotal: 13.9ms\tremaining: 38.6ms\n",
      "53:\tlearn: 15.3197684\ttotal: 14.2ms\tremaining: 38.4ms\n",
      "54:\tlearn: 15.3050822\ttotal: 14.5ms\tremaining: 38.1ms\n",
      "55:\tlearn: 15.2906597\ttotal: 14.7ms\tremaining: 37.9ms\n",
      "56:\tlearn: 15.2764966\ttotal: 15ms\tremaining: 37.5ms\n",
      "57:\tlearn: 15.2628725\ttotal: 15.2ms\tremaining: 37.3ms\n",
      "58:\tlearn: 15.2541296\ttotal: 15.5ms\tremaining: 37ms\n",
      "59:\tlearn: 15.2387646\ttotal: 15.7ms\tremaining: 36.7ms\n",
      "60:\tlearn: 15.2317802\ttotal: 16ms\tremaining: 36.5ms\n",
      "61:\tlearn: 15.2184625\ttotal: 16.2ms\tremaining: 36.1ms\n",
      "62:\tlearn: 15.2053851\ttotal: 16.5ms\tremaining: 35.8ms\n",
      "63:\tlearn: 15.1906780\ttotal: 16.8ms\tremaining: 35.6ms\n",
      "64:\tlearn: 15.1780552\ttotal: 17ms\tremaining: 35.3ms\n",
      "65:\tlearn: 15.1638124\ttotal: 17.3ms\tremaining: 35.1ms\n",
      "66:\tlearn: 15.1558921\ttotal: 17.5ms\tremaining: 34.8ms\n",
      "67:\tlearn: 15.1440525\ttotal: 17.8ms\tremaining: 34.5ms\n",
      "68:\tlearn: 15.1320801\ttotal: 18.1ms\tremaining: 34.3ms\n",
      "69:\tlearn: 15.1251123\ttotal: 18.3ms\tremaining: 34.1ms\n",
      "70:\tlearn: 15.1116368\ttotal: 18.6ms\tremaining: 33.8ms\n",
      "71:\tlearn: 15.0983201\ttotal: 18.9ms\tremaining: 33.5ms\n",
      "72:\tlearn: 15.0874397\ttotal: 19.1ms\tremaining: 33.3ms\n",
      "73:\tlearn: 15.0766291\ttotal: 19.4ms\tremaining: 33ms\n",
      "74:\tlearn: 15.0639371\ttotal: 19.6ms\tremaining: 32.7ms\n",
      "75:\tlearn: 15.0514052\ttotal: 19.8ms\tremaining: 32.4ms\n",
      "76:\tlearn: 15.0426554\ttotal: 20.1ms\tremaining: 32.2ms\n",
      "77:\tlearn: 15.0350584\ttotal: 20.4ms\tremaining: 31.9ms\n",
      "78:\tlearn: 15.0247275\ttotal: 20.6ms\tremaining: 31.6ms\n",
      "79:\tlearn: 15.0162269\ttotal: 20.9ms\tremaining: 31.3ms\n",
      "80:\tlearn: 15.0115772\ttotal: 21.1ms\tremaining: 31.1ms\n",
      "81:\tlearn: 14.9996509\ttotal: 21.4ms\tremaining: 30.8ms\n",
      "82:\tlearn: 14.9913829\ttotal: 21.6ms\tremaining: 30.5ms\n",
      "83:\tlearn: 14.9832463\ttotal: 21.9ms\tremaining: 30.2ms\n",
      "84:\tlearn: 14.9717554\ttotal: 22.1ms\tremaining: 30ms\n",
      "85:\tlearn: 14.9604614\ttotal: 22.4ms\tremaining: 29.7ms\n",
      "86:\tlearn: 14.9509092\ttotal: 22.8ms\tremaining: 29.6ms\n",
      "87:\tlearn: 14.9415315\ttotal: 23.1ms\tremaining: 29.5ms\n",
      "88:\tlearn: 14.9325441\ttotal: 23.4ms\tremaining: 29.2ms\n",
      "89:\tlearn: 14.9253165\ttotal: 23.7ms\tremaining: 29ms\n",
      "90:\tlearn: 14.9199160\ttotal: 24ms\tremaining: 28.8ms\n",
      "91:\tlearn: 14.9109963\ttotal: 24.3ms\tremaining: 28.6ms\n",
      "92:\tlearn: 14.9034419\ttotal: 24.6ms\tremaining: 28.3ms\n",
      "93:\tlearn: 14.8949516\ttotal: 24.9ms\tremaining: 28.1ms\n",
      "94:\tlearn: 14.8863025\ttotal: 25.2ms\tremaining: 27.9ms\n",
      "95:\tlearn: 14.8778875\ttotal: 25.5ms\tremaining: 27.6ms\n",
      "96:\tlearn: 14.8695448\ttotal: 25.8ms\tremaining: 27.4ms\n",
      "97:\tlearn: 14.8623158\ttotal: 26.1ms\tremaining: 27.1ms\n",
      "98:\tlearn: 14.8552017\ttotal: 26.3ms\tremaining: 26.9ms\n",
      "99:\tlearn: 14.8529912\ttotal: 26.6ms\tremaining: 26.6ms\n",
      "100:\tlearn: 14.8467407\ttotal: 26.9ms\tremaining: 26.3ms\n",
      "101:\tlearn: 14.8419751\ttotal: 27.1ms\tremaining: 26ms\n",
      "102:\tlearn: 14.8339885\ttotal: 27.4ms\tremaining: 25.8ms\n",
      "103:\tlearn: 14.8244696\ttotal: 27.6ms\tremaining: 25.5ms\n",
      "104:\tlearn: 14.8151205\ttotal: 27.8ms\tremaining: 25.2ms\n",
      "105:\tlearn: 14.8075577\ttotal: 28.1ms\tremaining: 24.9ms\n",
      "106:\tlearn: 14.8003845\ttotal: 28.4ms\tremaining: 24.6ms\n",
      "107:\tlearn: 14.7984944\ttotal: 28.5ms\tremaining: 24.3ms\n",
      "108:\tlearn: 14.7936009\ttotal: 28.8ms\tremaining: 24ms\n",
      "109:\tlearn: 14.7912369\ttotal: 29.1ms\tremaining: 23.8ms\n",
      "110:\tlearn: 14.7846165\ttotal: 29.3ms\tremaining: 23.5ms\n",
      "111:\tlearn: 14.7798290\ttotal: 29.6ms\tremaining: 23.3ms\n",
      "112:\tlearn: 14.7729441\ttotal: 29.9ms\tremaining: 23ms\n",
      "113:\tlearn: 14.7695823\ttotal: 30.2ms\tremaining: 22.8ms\n",
      "114:\tlearn: 14.7626147\ttotal: 30.4ms\tremaining: 22.5ms\n",
      "115:\tlearn: 14.7562603\ttotal: 30.7ms\tremaining: 22.2ms\n",
      "116:\tlearn: 14.7494625\ttotal: 30.9ms\tremaining: 21.9ms\n",
      "117:\tlearn: 14.7411775\ttotal: 31.2ms\tremaining: 21.7ms\n",
      "118:\tlearn: 14.7393178\ttotal: 31.4ms\tremaining: 21.4ms\n",
      "119:\tlearn: 14.7330117\ttotal: 31.7ms\tremaining: 21.1ms\n",
      "120:\tlearn: 14.7274691\ttotal: 31.9ms\tremaining: 20.8ms\n",
      "121:\tlearn: 14.7243873\ttotal: 32.2ms\tremaining: 20.6ms\n",
      "122:\tlearn: 14.7240470\ttotal: 32.4ms\tremaining: 20.3ms\n",
      "123:\tlearn: 14.7180387\ttotal: 32.6ms\tremaining: 20ms\n",
      "124:\tlearn: 14.7117268\ttotal: 32.9ms\tremaining: 19.7ms\n",
      "125:\tlearn: 14.7055314\ttotal: 33.2ms\tremaining: 19.5ms\n",
      "126:\tlearn: 14.7000783\ttotal: 33.5ms\tremaining: 19.2ms\n",
      "127:\tlearn: 14.6926903\ttotal: 33.8ms\tremaining: 19ms\n",
      "128:\tlearn: 14.6869552\ttotal: 34.1ms\tremaining: 18.8ms\n",
      "129:\tlearn: 14.6810959\ttotal: 34.4ms\tremaining: 18.5ms\n",
      "130:\tlearn: 14.6779226\ttotal: 34.7ms\tremaining: 18.3ms\n",
      "131:\tlearn: 14.6708342\ttotal: 35.3ms\tremaining: 18.2ms\n",
      "132:\tlearn: 14.6651031\ttotal: 35.7ms\tremaining: 18ms\n",
      "133:\tlearn: 14.6594551\ttotal: 35.9ms\tremaining: 17.7ms\n",
      "134:\tlearn: 14.6539829\ttotal: 36.3ms\tremaining: 17.5ms\n",
      "135:\tlearn: 14.6484894\ttotal: 36.6ms\tremaining: 17.2ms\n",
      "136:\tlearn: 14.6432631\ttotal: 36.9ms\tremaining: 16.9ms\n",
      "137:\tlearn: 14.6430182\ttotal: 37.1ms\tremaining: 16.7ms\n",
      "138:\tlearn: 14.6378619\ttotal: 37.4ms\tremaining: 16.4ms\n",
      "139:\tlearn: 14.6336906\ttotal: 37.7ms\tremaining: 16.2ms\n",
      "140:\tlearn: 14.6317466\ttotal: 37.9ms\tremaining: 15.9ms\n",
      "141:\tlearn: 14.6253041\ttotal: 38.2ms\tremaining: 15.6ms\n",
      "142:\tlearn: 14.6239387\ttotal: 38.4ms\tremaining: 15.3ms\n",
      "143:\tlearn: 14.6176329\ttotal: 38.6ms\tremaining: 15ms\n",
      "144:\tlearn: 14.6126447\ttotal: 38.9ms\tremaining: 14.7ms\n",
      "145:\tlearn: 14.6060261\ttotal: 39.1ms\tremaining: 14.5ms\n",
      "146:\tlearn: 14.6010844\ttotal: 39.4ms\tremaining: 14.2ms\n",
      "147:\tlearn: 14.5976053\ttotal: 39.7ms\tremaining: 13.9ms\n",
      "148:\tlearn: 14.5916239\ttotal: 39.9ms\tremaining: 13.7ms\n",
      "149:\tlearn: 14.5884587\ttotal: 40.2ms\tremaining: 13.4ms\n",
      "150:\tlearn: 14.5825316\ttotal: 40.4ms\tremaining: 13.1ms\n",
      "151:\tlearn: 14.5762116\ttotal: 40.7ms\tremaining: 12.9ms\n",
      "152:\tlearn: 14.5715696\ttotal: 41ms\tremaining: 12.6ms\n",
      "153:\tlearn: 14.5668262\ttotal: 41.2ms\tremaining: 12.3ms\n",
      "154:\tlearn: 14.5611870\ttotal: 41.5ms\tremaining: 12ms\n",
      "155:\tlearn: 14.5575538\ttotal: 41.7ms\tremaining: 11.8ms\n",
      "156:\tlearn: 14.5563766\ttotal: 42ms\tremaining: 11.5ms\n",
      "157:\tlearn: 14.5527854\ttotal: 42.2ms\tremaining: 11.2ms\n",
      "158:\tlearn: 14.5491331\ttotal: 42.5ms\tremaining: 11ms\n",
      "159:\tlearn: 14.5446955\ttotal: 42.7ms\tremaining: 10.7ms\n",
      "160:\tlearn: 14.5434469\ttotal: 42.9ms\tremaining: 10.4ms\n",
      "161:\tlearn: 14.5422805\ttotal: 43.1ms\tremaining: 10.1ms\n",
      "162:\tlearn: 14.5368671\ttotal: 43.4ms\tremaining: 9.85ms\n",
      "163:\tlearn: 14.5324753\ttotal: 43.7ms\tremaining: 9.58ms\n",
      "164:\tlearn: 14.5282110\ttotal: 43.9ms\tremaining: 9.32ms\n",
      "165:\tlearn: 14.5226753\ttotal: 44.2ms\tremaining: 9.05ms\n",
      "166:\tlearn: 14.5173209\ttotal: 44.5ms\tremaining: 8.79ms\n",
      "167:\tlearn: 14.5144243\ttotal: 44.9ms\tremaining: 8.55ms\n",
      "168:\tlearn: 14.5099607\ttotal: 45.2ms\tremaining: 8.29ms\n",
      "169:\tlearn: 14.5071890\ttotal: 45.5ms\tremaining: 8.03ms\n",
      "170:\tlearn: 14.5021236\ttotal: 45.8ms\tremaining: 7.77ms\n",
      "171:\tlearn: 14.4980415\ttotal: 46.1ms\tremaining: 7.5ms\n",
      "172:\tlearn: 14.4940920\ttotal: 46.4ms\tremaining: 7.24ms\n",
      "173:\tlearn: 14.4901162\ttotal: 46.6ms\tremaining: 6.97ms\n",
      "174:\tlearn: 14.4858674\ttotal: 46.9ms\tremaining: 6.7ms\n",
      "175:\tlearn: 14.4816650\ttotal: 47.5ms\tremaining: 6.48ms\n",
      "176:\tlearn: 14.4769801\ttotal: 47.9ms\tremaining: 6.22ms\n",
      "177:\tlearn: 14.4737053\ttotal: 48.5ms\tremaining: 5.99ms\n",
      "178:\tlearn: 14.4699387\ttotal: 48.8ms\tremaining: 5.72ms\n",
      "179:\tlearn: 14.4652919\ttotal: 49ms\tremaining: 5.45ms\n",
      "180:\tlearn: 14.4616561\ttotal: 49.3ms\tremaining: 5.17ms\n",
      "181:\tlearn: 14.4564541\ttotal: 49.5ms\tremaining: 4.9ms\n",
      "182:\tlearn: 14.4526980\ttotal: 49.8ms\tremaining: 4.62ms\n",
      "183:\tlearn: 14.4518181\ttotal: 49.9ms\tremaining: 4.34ms\n",
      "184:\tlearn: 14.4474272\ttotal: 50.2ms\tremaining: 4.07ms\n",
      "185:\tlearn: 14.4431132\ttotal: 50.5ms\tremaining: 3.8ms\n",
      "186:\tlearn: 14.4410080\ttotal: 50.8ms\tremaining: 3.53ms\n",
      "187:\tlearn: 14.4376667\ttotal: 51ms\tremaining: 3.26ms\n",
      "188:\tlearn: 14.4340512\ttotal: 51.3ms\tremaining: 2.99ms\n",
      "189:\tlearn: 14.4310004\ttotal: 51.6ms\tremaining: 2.72ms\n",
      "190:\tlearn: 14.4299427\ttotal: 52.1ms\tremaining: 2.45ms\n",
      "191:\tlearn: 14.4291266\ttotal: 52.3ms\tremaining: 2.18ms\n",
      "192:\tlearn: 14.4261604\ttotal: 52.6ms\tremaining: 1.91ms\n",
      "193:\tlearn: 14.4237139\ttotal: 52.9ms\tremaining: 1.64ms\n",
      "194:\tlearn: 14.4200886\ttotal: 53.2ms\tremaining: 1.36ms\n",
      "195:\tlearn: 14.4163539\ttotal: 53.5ms\tremaining: 1.09ms\n",
      "196:\tlearn: 14.4155887\ttotal: 53.7ms\tremaining: 818us\n",
      "197:\tlearn: 14.4145952\ttotal: 53.9ms\tremaining: 544us\n",
      "198:\tlearn: 14.4099048\ttotal: 54.2ms\tremaining: 272us\n",
      "199:\tlearn: 14.4073813\ttotal: 54.5ms\tremaining: 0us\n"
     ]
    }
   ],
   "source": [
    "catb_tuned = CatBoostRegressor(iterations = 200, \n",
    "                               learning_rate = 0.01, \n",
    "                               depth = 3)\n",
    "\n",
    "catb_tuned = catb_tuned.fit(X_train,y_train)"
   ]
  },
  {
   "cell_type": "code",
   "execution_count": 940,
   "id": "b75870b2",
   "metadata": {},
   "outputs": [
    {
     "name": "stdout",
     "output_type": "stream",
     "text": [
      "RMSE:  15.218603379607593\n"
     ]
    }
   ],
   "source": [
    "y_pred = catb_tuned.predict(X_test)\n",
    "print(\"RMSE: \",np.sqrt(mean_squared_error(y_test, y_pred)))"
   ]
  },
  {
   "cell_type": "markdown",
   "id": "5936ad1a",
   "metadata": {},
   "source": [
    " Doğrusal olmayan regresyon işlemlerinde en iyi sonucu KNN Verdi o yüzden onun üzerinde biraz daha yoğunlaşıyoruz"
   ]
  },
  {
   "cell_type": "markdown",
   "id": "3c559f10",
   "metadata": {},
   "source": [
    "## Yoğun KNN"
   ]
  },
  {
   "cell_type": "code",
   "execution_count": 957,
   "id": "f05eb7ca",
   "metadata": {},
   "outputs": [],
   "source": [
    "\n",
    "y = df[\"Score\"]\n",
    "X = df_one_hot.drop(['Score'], axis=1)\n",
    "X_train, X_test, y_train, y_test = train_test_split(X, y, \n",
    "                                                    test_size=0.25, \n",
    "                                                    random_state=42)"
   ]
  },
  {
   "cell_type": "code",
   "execution_count": 1028,
   "id": "c07dd847",
   "metadata": {},
   "outputs": [],
   "source": [
    "\n",
    "knn_grid = {\n",
    "    'weights' : ['uniform', 'distance'],\n",
    "    'algorithm' : ['auto', 'ball_tree', 'kd_tree', 'brute'],\n",
    "    'leaf_size' : [1, 2, 3, 4, 5, 6, 7, 8, 9, 10, 11, 12, 13, 14, 15, 16, 17, 18, 19, 20, 21, 22, 23, 24, 25, 26, 27, 28, 29, 30, 31, 32, 33, 34, 35, 36, 37, 38, 39, 40, 41, 42, 43, 44, 45, 46, 47, 48, 49],\n",
    "    'p' : [1,2],\n",
    "    'metric' : ['minkowski','euclidean','manhattan'],\n",
    "    'n_jobs':[0.5,1,1.5,2]}"
   ]
  },
  {
   "cell_type": "code",
   "execution_count": 1029,
   "id": "2f70ed51",
   "metadata": {},
   "outputs": [
    {
     "name": "stdout",
     "output_type": "stream",
     "text": [
      "Fitting 10 folds for each of 9408 candidates, totalling 94080 fits\n"
     ]
    },
    {
     "data": {
      "text/html": [
       "<style>#sk-container-id-56 {color: black;background-color: white;}#sk-container-id-56 pre{padding: 0;}#sk-container-id-56 div.sk-toggleable {background-color: white;}#sk-container-id-56 label.sk-toggleable__label {cursor: pointer;display: block;width: 100%;margin-bottom: 0;padding: 0.3em;box-sizing: border-box;text-align: center;}#sk-container-id-56 label.sk-toggleable__label-arrow:before {content: \"▸\";float: left;margin-right: 0.25em;color: #696969;}#sk-container-id-56 label.sk-toggleable__label-arrow:hover:before {color: black;}#sk-container-id-56 div.sk-estimator:hover label.sk-toggleable__label-arrow:before {color: black;}#sk-container-id-56 div.sk-toggleable__content {max-height: 0;max-width: 0;overflow: hidden;text-align: left;background-color: #f0f8ff;}#sk-container-id-56 div.sk-toggleable__content pre {margin: 0.2em;color: black;border-radius: 0.25em;background-color: #f0f8ff;}#sk-container-id-56 input.sk-toggleable__control:checked~div.sk-toggleable__content {max-height: 200px;max-width: 100%;overflow: auto;}#sk-container-id-56 input.sk-toggleable__control:checked~label.sk-toggleable__label-arrow:before {content: \"▾\";}#sk-container-id-56 div.sk-estimator input.sk-toggleable__control:checked~label.sk-toggleable__label {background-color: #d4ebff;}#sk-container-id-56 div.sk-label input.sk-toggleable__control:checked~label.sk-toggleable__label {background-color: #d4ebff;}#sk-container-id-56 input.sk-hidden--visually {border: 0;clip: rect(1px 1px 1px 1px);clip: rect(1px, 1px, 1px, 1px);height: 1px;margin: -1px;overflow: hidden;padding: 0;position: absolute;width: 1px;}#sk-container-id-56 div.sk-estimator {font-family: monospace;background-color: #f0f8ff;border: 1px dotted black;border-radius: 0.25em;box-sizing: border-box;margin-bottom: 0.5em;}#sk-container-id-56 div.sk-estimator:hover {background-color: #d4ebff;}#sk-container-id-56 div.sk-parallel-item::after {content: \"\";width: 100%;border-bottom: 1px solid gray;flex-grow: 1;}#sk-container-id-56 div.sk-label:hover label.sk-toggleable__label {background-color: #d4ebff;}#sk-container-id-56 div.sk-serial::before {content: \"\";position: absolute;border-left: 1px solid gray;box-sizing: border-box;top: 0;bottom: 0;left: 50%;z-index: 0;}#sk-container-id-56 div.sk-serial {display: flex;flex-direction: column;align-items: center;background-color: white;padding-right: 0.2em;padding-left: 0.2em;position: relative;}#sk-container-id-56 div.sk-item {position: relative;z-index: 1;}#sk-container-id-56 div.sk-parallel {display: flex;align-items: stretch;justify-content: center;background-color: white;position: relative;}#sk-container-id-56 div.sk-item::before, #sk-container-id-56 div.sk-parallel-item::before {content: \"\";position: absolute;border-left: 1px solid gray;box-sizing: border-box;top: 0;bottom: 0;left: 50%;z-index: -1;}#sk-container-id-56 div.sk-parallel-item {display: flex;flex-direction: column;z-index: 1;position: relative;background-color: white;}#sk-container-id-56 div.sk-parallel-item:first-child::after {align-self: flex-end;width: 50%;}#sk-container-id-56 div.sk-parallel-item:last-child::after {align-self: flex-start;width: 50%;}#sk-container-id-56 div.sk-parallel-item:only-child::after {width: 0;}#sk-container-id-56 div.sk-dashed-wrapped {border: 1px dashed gray;margin: 0 0.4em 0.5em 0.4em;box-sizing: border-box;padding-bottom: 0.4em;background-color: white;}#sk-container-id-56 div.sk-label label {font-family: monospace;font-weight: bold;display: inline-block;line-height: 1.2em;}#sk-container-id-56 div.sk-label-container {text-align: center;}#sk-container-id-56 div.sk-container {/* jupyter's `normalize.less` sets `[hidden] { display: none; }` but bootstrap.min.css set `[hidden] { display: none !important; }` so we also need the `!important` here to be able to override the default hidden behavior on the sphinx rendered scikit-learn.org. See: https://github.com/scikit-learn/scikit-learn/issues/21755 */display: inline-block !important;position: relative;}#sk-container-id-56 div.sk-text-repr-fallback {display: none;}</style><div id=\"sk-container-id-56\" class=\"sk-top-container\"><div class=\"sk-text-repr-fallback\"><pre>GridSearchCV(cv=10, estimator=KNeighborsRegressor(), n_jobs=-1,\n",
       "             param_grid={&#x27;algorithm&#x27;: [&#x27;auto&#x27;, &#x27;ball_tree&#x27;, &#x27;kd_tree&#x27;, &#x27;brute&#x27;],\n",
       "                         &#x27;leaf_size&#x27;: [1, 2, 3, 4, 5, 6, 7, 8, 9, 10, 11, 12,\n",
       "                                       13, 14, 15, 16, 17, 18, 19, 20, 21, 22,\n",
       "                                       23, 24, 25, 26, 27, 28, 29, 30, ...],\n",
       "                         &#x27;metric&#x27;: [&#x27;minkowski&#x27;, &#x27;euclidean&#x27;, &#x27;manhattan&#x27;],\n",
       "                         &#x27;n_jobs&#x27;: [0.5, 1, 1.5, 2], &#x27;p&#x27;: [1, 2],\n",
       "                         &#x27;weights&#x27;: [&#x27;uniform&#x27;, &#x27;distance&#x27;]},\n",
       "             verbose=3)</pre><b>In a Jupyter environment, please rerun this cell to show the HTML representation or trust the notebook. <br />On GitHub, the HTML representation is unable to render, please try loading this page with nbviewer.org.</b></div><div class=\"sk-container\" hidden><div class=\"sk-item sk-dashed-wrapped\"><div class=\"sk-label-container\"><div class=\"sk-label sk-toggleable\"><input class=\"sk-toggleable__control sk-hidden--visually\" id=\"sk-estimator-id-94\" type=\"checkbox\" ><label for=\"sk-estimator-id-94\" class=\"sk-toggleable__label sk-toggleable__label-arrow\">GridSearchCV</label><div class=\"sk-toggleable__content\"><pre>GridSearchCV(cv=10, estimator=KNeighborsRegressor(), n_jobs=-1,\n",
       "             param_grid={&#x27;algorithm&#x27;: [&#x27;auto&#x27;, &#x27;ball_tree&#x27;, &#x27;kd_tree&#x27;, &#x27;brute&#x27;],\n",
       "                         &#x27;leaf_size&#x27;: [1, 2, 3, 4, 5, 6, 7, 8, 9, 10, 11, 12,\n",
       "                                       13, 14, 15, 16, 17, 18, 19, 20, 21, 22,\n",
       "                                       23, 24, 25, 26, 27, 28, 29, 30, ...],\n",
       "                         &#x27;metric&#x27;: [&#x27;minkowski&#x27;, &#x27;euclidean&#x27;, &#x27;manhattan&#x27;],\n",
       "                         &#x27;n_jobs&#x27;: [0.5, 1, 1.5, 2], &#x27;p&#x27;: [1, 2],\n",
       "                         &#x27;weights&#x27;: [&#x27;uniform&#x27;, &#x27;distance&#x27;]},\n",
       "             verbose=3)</pre></div></div></div><div class=\"sk-parallel\"><div class=\"sk-parallel-item\"><div class=\"sk-item\"><div class=\"sk-label-container\"><div class=\"sk-label sk-toggleable\"><input class=\"sk-toggleable__control sk-hidden--visually\" id=\"sk-estimator-id-95\" type=\"checkbox\" ><label for=\"sk-estimator-id-95\" class=\"sk-toggleable__label sk-toggleable__label-arrow\">estimator: KNeighborsRegressor</label><div class=\"sk-toggleable__content\"><pre>KNeighborsRegressor()</pre></div></div></div><div class=\"sk-serial\"><div class=\"sk-item\"><div class=\"sk-estimator sk-toggleable\"><input class=\"sk-toggleable__control sk-hidden--visually\" id=\"sk-estimator-id-96\" type=\"checkbox\" ><label for=\"sk-estimator-id-96\" class=\"sk-toggleable__label sk-toggleable__label-arrow\">KNeighborsRegressor</label><div class=\"sk-toggleable__content\"><pre>KNeighborsRegressor()</pre></div></div></div></div></div></div></div></div></div></div>"
      ],
      "text/plain": [
       "GridSearchCV(cv=10, estimator=KNeighborsRegressor(), n_jobs=-1,\n",
       "             param_grid={'algorithm': ['auto', 'ball_tree', 'kd_tree', 'brute'],\n",
       "                         'leaf_size': [1, 2, 3, 4, 5, 6, 7, 8, 9, 10, 11, 12,\n",
       "                                       13, 14, 15, 16, 17, 18, 19, 20, 21, 22,\n",
       "                                       23, 24, 25, 26, 27, 28, 29, 30, ...],\n",
       "                         'metric': ['minkowski', 'euclidean', 'manhattan'],\n",
       "                         'n_jobs': [0.5, 1, 1.5, 2], 'p': [1, 2],\n",
       "                         'weights': ['uniform', 'distance']},\n",
       "             verbose=3)"
      ]
     },
     "execution_count": 1029,
     "metadata": {},
     "output_type": "execute_result"
    }
   ],
   "source": [
    "#GridSearchCV ile optimum k sayisinin belirlenmesi\n",
    "knn = KNeighborsRegressor()\n",
    "knn_cv_model = GridSearchCV(knn, knn_grid, verbose = 3, cv=10, n_jobs = -1)\n",
    "knn_cv_model.fit(X_train, y_train)"
   ]
  },
  {
   "cell_type": "code",
   "execution_count": 1030,
   "id": "60dc9d20",
   "metadata": {},
   "outputs": [
    {
     "data": {
      "text/plain": [
       "{'algorithm': 'auto',\n",
       " 'leaf_size': 37,\n",
       " 'metric': 'minkowski',\n",
       " 'n_jobs': 1,\n",
       " 'p': 1,\n",
       " 'weights': 'uniform'}"
      ]
     },
     "execution_count": 1030,
     "metadata": {},
     "output_type": "execute_result"
    }
   ],
   "source": [
    "knn_cv_model.best_params_"
   ]
  },
  {
   "cell_type": "code",
   "execution_count": 1038,
   "id": "ad486e98",
   "metadata": {},
   "outputs": [],
   "source": [
    "knn_tuned = KNeighborsRegressor(algorithm = 'auto', \n",
    "                                leaf_size =  37, \n",
    "                                 p = 1,\n",
    "                                 metric= 'minkowski',\n",
    "                               weights = 'uniform', \n",
    "                               n_neighbors = 29,\n",
    "                               n_jobs = 1)\n",
    "\n",
    "knn_tuned = knn_tuned.fit(X_train,y_train)"
   ]
  },
  {
   "cell_type": "code",
   "execution_count": 1039,
   "id": "e479ff11",
   "metadata": {},
   "outputs": [
    {
     "name": "stdout",
     "output_type": "stream",
     "text": [
      "RMSE:  15.084193625926156\n"
     ]
    }
   ],
   "source": [
    "y_pred = knn_tuned.predict(X_test)\n",
    "print(\"RMSE: \",np.sqrt(mean_squared_error(y_test, y_pred)))# Eski RMSE:  15.084193625926156\n",
    "# Bir önceki sonuç ile aynı"
   ]
  },
  {
   "cell_type": "code",
   "execution_count": 1018,
   "id": "a1c35882",
   "metadata": {},
   "outputs": [
    {
     "name": "stdout",
     "output_type": "stream",
     "text": [
      "RMSE:  17.932775703845863\n"
     ]
    }
   ],
   "source": [
    "#Sıfır parametreli hali\n",
    "knn_tuned = KNeighborsRegressor()\n",
    "\n",
    "knn_tuned = knn_tuned.fit(X_train,y_train)\n",
    "y_pred = knn_tuned.predict(X_test)\n",
    "print(\"RMSE: \",np.sqrt(mean_squared_error(y_test, y_pred)))# Eski RMSE:  15.084193625926156"
   ]
  },
  {
   "cell_type": "code",
   "execution_count": 1019,
   "id": "b0f3d53f",
   "metadata": {},
   "outputs": [
    {
     "name": "stdout",
     "output_type": "stream",
     "text": [
      "RMSE:  15.084193625926156\n"
     ]
    }
   ],
   "source": [
    "#Sadece komuşu sayısının değiştirilmiş hali\n",
    "knn_tuned = KNeighborsRegressor(n_neighbors = 29)\n",
    "\n",
    "knn_tuned = knn_tuned.fit(X_train,y_train)\n",
    "y_pred = knn_tuned.predict(X_test)\n",
    "print(\"RMSE: \",np.sqrt(mean_squared_error(y_test, y_pred)))# Eski RMSE:  15.084193625926156"
   ]
  },
  {
   "cell_type": "code",
   "execution_count": 980,
   "id": "e92ac1c7",
   "metadata": {},
   "outputs": [],
   "source": [
    "knn_tuned = KNeighborsRegressor(algorithm = 'auto', \n",
    "                                leaf_size =  7, \n",
    "                               p = 1,\n",
    "                               weights = 'uniform', \n",
    "                               n_neighbors = 29)\n",
    "\n",
    "knn_tuned = knn_tuned.fit(X_train,y_train)"
   ]
  },
  {
   "cell_type": "code",
   "execution_count": 981,
   "id": "2f8be84b",
   "metadata": {},
   "outputs": [
    {
     "name": "stdout",
     "output_type": "stream",
     "text": [
      "RMSE:  15.243270341475524\n"
     ]
    }
   ],
   "source": [
    "y_pred = knn_tuned.predict(X_test)\n",
    "print(\"RMSE: \",np.sqrt(mean_squared_error(y_test, y_pred)))# Eski RMSE:  15.084193625926156\n",
    "# Leaf sizeı değiştirmek o kadar etkilemedi"
   ]
  },
  {
   "cell_type": "code",
   "execution_count": 983,
   "id": "8b2b331f",
   "metadata": {},
   "outputs": [],
   "source": [
    "knn_tuned = KNeighborsRegressor(algorithm = 'auto', \n",
    "                                leaf_size =  37, \n",
    "                               p = 1,\n",
    "                               weights = 'uniform', \n",
    "                               n_neighbors = 9)\n",
    "\n",
    "knn_tuned = knn_tuned.fit(X_train,y_train)"
   ]
  },
  {
   "cell_type": "code",
   "execution_count": 984,
   "id": "55103a34",
   "metadata": {},
   "outputs": [
    {
     "name": "stdout",
     "output_type": "stream",
     "text": [
      "RMSE:  16.838367960519378\n"
     ]
    }
   ],
   "source": [
    "y_pred = knn_tuned.predict(X_test)\n",
    "print(\"RMSE: \",np.sqrt(mean_squared_error(y_test, y_pred)))# Eski RMSE:  15.084193625926156\n",
    "# Komşu sayısını değiştirmek etkiledi"
   ]
  },
  {
   "cell_type": "code",
   "execution_count": 986,
   "id": "9407b280",
   "metadata": {},
   "outputs": [
    {
     "name": "stdout",
     "output_type": "stream",
     "text": [
      "RMSE:  16.879811138205202\n"
     ]
    }
   ],
   "source": [
    "\n",
    "knn_tuned = KNeighborsRegressor(algorithm = 'auto', \n",
    "                                leaf_size =  37, \n",
    "                               p = 1,\n",
    "                               weights = 'distance', \n",
    "                               n_neighbors = 29)\n",
    "\n",
    "knn_tuned = knn_tuned.fit(X_train,y_train)\n",
    "y_pred = knn_tuned.predict(X_test)\n",
    "print(\"RMSE: \",np.sqrt(mean_squared_error(y_test, y_pred)))# Eski RMSE:  15.084193625926156\n",
    "# Weighti değiştirmek de etkiledi"
   ]
  },
  {
   "cell_type": "code",
   "execution_count": 987,
   "id": "a569cf4b",
   "metadata": {
    "scrolled": true
   },
   "outputs": [
    {
     "name": "stdout",
     "output_type": "stream",
     "text": [
      "RMSE:  16.96813977693819\n"
     ]
    }
   ],
   "source": [
    "\n",
    "knn_tuned = KNeighborsRegressor(algorithm = 'ball_tree', \n",
    "                                leaf_size =  37, \n",
    "                               p = 1,\n",
    "                               weights = 'distance', \n",
    "                               n_neighbors = 9)\n",
    "\n",
    "knn_tuned = knn_tuned.fit(X_train,y_train)\n",
    "y_pred = knn_tuned.predict(X_test)\n",
    "print(\"RMSE: \",np.sqrt(mean_squared_error(y_test, y_pred)))# Eski RMSE:  15.084193625926156\n",
    "# Algorithimi değiştirmek de etkiledi"
   ]
  },
  {
   "cell_type": "markdown",
   "id": "b14102da",
   "metadata": {},
   "source": [
    "***Sonuç:*** Bu KNN modelinde en önemli parametre komşu sayısını belirlemek. Otomatik verilen diğer parametreler zaten modelin en iyi sonuş verdiği parametreler"
   ]
  },
  {
   "cell_type": "code",
   "execution_count": 1072,
   "id": "f6781410",
   "metadata": {},
   "outputs": [
    {
     "data": {
      "text/html": [
       "<div>\n",
       "<style scoped>\n",
       "    .dataframe tbody tr th:only-of-type {\n",
       "        vertical-align: middle;\n",
       "    }\n",
       "\n",
       "    .dataframe tbody tr th {\n",
       "        vertical-align: top;\n",
       "    }\n",
       "\n",
       "    .dataframe thead th {\n",
       "        text-align: right;\n",
       "    }\n",
       "</style>\n",
       "<table border=\"1\" class=\"dataframe\">\n",
       "  <thead>\n",
       "    <tr style=\"text-align: right;\">\n",
       "      <th></th>\n",
       "      <th>Models</th>\n",
       "      <th>SONUÇ</th>\n",
       "    </tr>\n",
       "  </thead>\n",
       "  <tbody>\n",
       "    <tr>\n",
       "      <th>0</th>\n",
       "      <td>Doğrusal Regresyon</td>\n",
       "      <td>15.180481</td>\n",
       "    </tr>\n",
       "    <tr>\n",
       "      <th>1</th>\n",
       "      <td>Çoklu Doğrusal Regresyon</td>\n",
       "      <td>17.052479</td>\n",
       "    </tr>\n",
       "    <tr>\n",
       "      <th>2</th>\n",
       "      <td>PCR</td>\n",
       "      <td>16.064783</td>\n",
       "    </tr>\n",
       "    <tr>\n",
       "      <th>3</th>\n",
       "      <td>PLS</td>\n",
       "      <td>15.019673</td>\n",
       "    </tr>\n",
       "    <tr>\n",
       "      <th>4</th>\n",
       "      <td>Ridge Regresyon</td>\n",
       "      <td>15.063862</td>\n",
       "    </tr>\n",
       "    <tr>\n",
       "      <th>5</th>\n",
       "      <td>Lasso Regresyon</td>\n",
       "      <td>15.080611</td>\n",
       "    </tr>\n",
       "    <tr>\n",
       "      <th>6</th>\n",
       "      <td>eNet</td>\n",
       "      <td>15.030808</td>\n",
       "    </tr>\n",
       "    <tr>\n",
       "      <th>7</th>\n",
       "      <td>KNN</td>\n",
       "      <td>15.084194</td>\n",
       "    </tr>\n",
       "    <tr>\n",
       "      <th>8</th>\n",
       "      <td>SVR Doğrusal</td>\n",
       "      <td>15.840922</td>\n",
       "    </tr>\n",
       "    <tr>\n",
       "      <th>9</th>\n",
       "      <td>SVR Doğrusal Olmayan</td>\n",
       "      <td>15.803948</td>\n",
       "    </tr>\n",
       "    <tr>\n",
       "      <th>10</th>\n",
       "      <td>YSA</td>\n",
       "      <td>16.978962</td>\n",
       "    </tr>\n",
       "    <tr>\n",
       "      <th>11</th>\n",
       "      <td>Karar Ağaçları</td>\n",
       "      <td>15.475117</td>\n",
       "    </tr>\n",
       "    <tr>\n",
       "      <th>12</th>\n",
       "      <td>Bagged Trees</td>\n",
       "      <td>16.612592</td>\n",
       "    </tr>\n",
       "    <tr>\n",
       "      <th>13</th>\n",
       "      <td>Random Forests</td>\n",
       "      <td>15.212162</td>\n",
       "    </tr>\n",
       "    <tr>\n",
       "      <th>14</th>\n",
       "      <td>GBM</td>\n",
       "      <td>15.445004</td>\n",
       "    </tr>\n",
       "    <tr>\n",
       "      <th>15</th>\n",
       "      <td>XGBoost</td>\n",
       "      <td>15.243292</td>\n",
       "    </tr>\n",
       "    <tr>\n",
       "      <th>16</th>\n",
       "      <td>Light GBM</td>\n",
       "      <td>15.265676</td>\n",
       "    </tr>\n",
       "    <tr>\n",
       "      <th>17</th>\n",
       "      <td>CatBoost</td>\n",
       "      <td>15.218603</td>\n",
       "    </tr>\n",
       "  </tbody>\n",
       "</table>\n",
       "</div>"
      ],
      "text/plain": [
       "                      Models      SONUÇ\n",
       "0         Doğrusal Regresyon  15.180481\n",
       "1   Çoklu Doğrusal Regresyon  17.052479\n",
       "2                        PCR  16.064783\n",
       "3                        PLS  15.019673\n",
       "4            Ridge Regresyon  15.063862\n",
       "5            Lasso Regresyon  15.080611\n",
       "6                       eNet  15.030808\n",
       "7                        KNN  15.084194\n",
       "8               SVR Doğrusal  15.840922\n",
       "9       SVR Doğrusal Olmayan  15.803948\n",
       "10                       YSA  16.978962\n",
       "11            Karar Ağaçları  15.475117\n",
       "12              Bagged Trees  16.612592\n",
       "13            Random Forests  15.212162\n",
       "14                       GBM  15.445004\n",
       "15                   XGBoost  15.243292\n",
       "16                 Light GBM  15.265676\n",
       "17                  CatBoost  15.218603"
      ]
     },
     "metadata": {},
     "output_type": "display_data"
    },
    {
     "data": {
      "image/png": "[encoded data removed]",
      "text/plain": [
       "<Figure size 2160x720 with 1 Axes>"
      ]
     },
     "metadata": {
      "needs_background": "light"
     },
     "output_type": "display_data"
    }
   ],
   "source": [
    "data = {'Models': ['Doğrusal Regresyon','Çoklu Doğrusal Regresyon','PCR','PLS','Ridge Regresyon','Lasso Regresyon','eNet','KNN','SVR Doğrusal','SVR Doğrusal Olmayan','YSA','Karar Ağaçları','Bagged Trees','Random Forests','GBM','XGBoost','Light GBM','CatBoost'],\n",
    "       'SONUÇ': [15.180480552206452,17.05247918162859,16.064782759159666,15.019672703968041,15.063861535914585,15.080610615769983,15.030807679874725,15.084193625926156,15.840921887101569,15.803948497549648,16.978962435226343,15.475116678947494,16.612592455903425,15.21216178628981,15.445003778723628,15.243291937646118,15.265676248952508,15.218603379607593]}\n",
    "\n",
    "result = pd.DataFrame(data)\n",
    "display(result)\n",
    "\n",
    "dataResult = {'Doğrusal Regresyon': 15.180480552206452,\n",
    "'Çoklu Doğrusal Regresyon': 17.05247918162859,\n",
    " 'PCR':  16.064782759159666,\n",
    "'PLS': 15.019672703968041,\n",
    "'Ridge Regresyon': 15.063861535914585,\n",
    "'Lasso Regresyon': 15.080610615769983,\n",
    "'eNet': 15.030807679874725,\n",
    "'KNN': 15.084193625926156,\n",
    "'SVR Doğrusal': 15.840921887101569,\n",
    "'SVR Doğrusal Olmayan': 15.803948497549648,\n",
    "'YSA': 16.978962435226343,\n",
    "'Karar Ağaçları': 15.475116678947494,\n",
    "'Bagged Trees': 16.612592455903425,\n",
    "'Random Forests': 15.2121617862,\n",
    "'GBM': 15.445003778723628,\n",
    "'XGBoost': 15.243291937646118,\n",
    "'Light GBM': 15.265676248952508,\n",
    "'CatBoost': 15.218603379607593}\n",
    "models = list(dataResult.keys())\n",
    "values  = list(dataResult.values())\n",
    "fig = plt.figure(figsize = (30,10))\n",
    "\n",
    "plt.bar(models, values, color= 'maroon', width = 0.4)\n",
    "plt.xlabel('SONUÇ')\n",
    "plt.ylabel('MODELS')\n",
    "plt.title('SONUÇ GRAFİĞİ')\n",
    "plt.show()"
   ]
  },
  {
   "cell_type": "markdown",
   "id": "6038f2e5",
   "metadata": {},
   "source": []
  }
 ],
 "metadata": {
  "kernelspec": {
   "display_name": "Python 3",
   "language": "python",
   "name": "python3"
  },
  "language_info": {
   "codemirror_mode": {
    "name": "ipython",
    "version": 3
   },
   "file_extension": ".py",
   "mimetype": "text/x-python",
   "name": "python",
   "nbconvert_exporter": "python",
   "pygments_lexer": "ipython3",
   "version": "3.8.8"
  }
 },
 "nbformat": 4,
 "nbformat_minor": 5
}
